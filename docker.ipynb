{
 "cells": [
  {
   "cell_type": "code",
   "execution_count": null,
   "id": "6085ccbf-a89c-4a46-b73e-a1fb7cd106f3",
   "metadata": {},
   "outputs": [],
   "source": [
    "From python:3.12    # you have to take base image \n",
    "WORKDIR /app        # creating folder inside the container\n",
    "COPY ..             # copy local files to /app folder (1st . repesent local files 2nd . represnt copy to container )\n",
    "RUN pip install -r requirements.txt  #install dependencies \n",
    "CMD [\"python\",\"app.py\"]      #run the command \n"
   ]
  },
  {
   "cell_type": "code",
   "execution_count": null,
   "id": "c0424a9f-10e5-41b1-905b-10811f4f1531",
   "metadata": {},
   "outputs": [],
   "source": [
    "Which One Should You Use?\n",
    "✔️ Use COPY when you only need to copy files and folders (most cases).\n",
    "✔️ Use ADD when you need auto-extraction of .tar files or download files from URLs."
   ]
  },
  {
   "cell_type": "code",
   "execution_count": null,
   "id": "eefe66a6-ff99-4c30-b03a-32ec306b76e8",
   "metadata": {},
   "outputs": [],
   "source": [
    "CMD [\"python\", \"app.py\"]\n",
    "-- By default, this runs python app.py inside the container.\n",
    "-- But if you run:\n",
    "\n",
    "docker run my-container python other_script.py(you are overiding over here )\n"
   ]
  },
  {
   "cell_type": "code",
   "execution_count": null,
   "id": "b17b5254-222e-4171-adcd-458f9ab2cf94",
   "metadata": {},
   "outputs": [],
   "source": [
    "ENTRYPOINT [\"python\", \"app.py\"]\n",
    "it wont allow other scripts/files to override at runtime\n",
    "\n",
    "docker run my-container other_Script.py (it wont allow)\n"
   ]
  },
  {
   "cell_type": "code",
   "execution_count": null,
   "id": "840a9093-a025-4ded-bd31-1cd9502fe386",
   "metadata": {},
   "outputs": [],
   "source": [
    "After creatung file to create an image\n",
    "docker build -t my-app .\n"
   ]
  },
  {
   "cell_type": "code",
   "execution_count": null,
   "id": "820d0704-a3be-4670-8a4d-6d22f76d6e23",
   "metadata": {},
   "outputs": [],
   "source": [
    "to launch a container out of image \n",
    "docker run -d -p 8000:8000 my-app\n"
   ]
  },
  {
   "cell_type": "code",
   "execution_count": null,
   "id": "1eca0942-271e-4ff7-aa1e-1c1dd4bdb74e",
   "metadata": {},
   "outputs": [],
   "source": [
    "to get into the container \n",
    "docker "
   ]
  },
  {
   "cell_type": "code",
   "execution_count": null,
   "id": "194cdc58-f3b3-4056-90f5-1ceee8c9c008",
   "metadata": {},
   "outputs": [],
   "source": []
  }
 ],
 "metadata": {
  "kernelspec": {
   "display_name": "Python 3 (ipykernel)",
   "language": "python",
   "name": "python3"
  },
  "language_info": {
   "codemirror_mode": {
    "name": "ipython",
    "version": 3
   },
   "file_extension": ".py",
   "mimetype": "text/x-python",
   "name": "python",
   "nbconvert_exporter": "python",
   "pygments_lexer": "ipython3",
   "version": "3.10.11"
  }
 },
 "nbformat": 4,
 "nbformat_minor": 5
}
