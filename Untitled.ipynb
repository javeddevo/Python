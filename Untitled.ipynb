{
 "cells": [
  {
   "cell_type": "code",
   "execution_count": 6,
   "id": "7184f174-b03c-4dd2-be71-8842fd885150",
   "metadata": {},
   "outputs": [
    {
     "data": {
      "text/plain": [
       "('javeed', 23)"
      ]
     },
     "execution_count": 6,
     "metadata": {},
     "output_type": "execute_result"
    }
   ],
   "source": [
    "class hello:\n",
    "    def __init__(self,name,age):\n",
    "        self.name=name\n",
    "        self.age=age\n",
    "    def sub(self):\n",
    "        return self.name,self.age\n",
    "o=hello(\"javeed\",23)\n",
    "o.sub()"
   ]
  },
  {
   "cell_type": "code",
   "execution_count": 9,
   "id": "2efb3790-2eb8-4eec-9dfc-ac41ac748853",
   "metadata": {},
   "outputs": [
    {
     "data": {
      "text/plain": [
       "5"
      ]
     },
     "execution_count": 9,
     "metadata": {},
     "output_type": "execute_result"
    }
   ],
   "source": [
    "class add:\n",
    "    def __init__(self,a,b):\n",
    "        self.a=a\n",
    "        self.b=b\n",
    "    def addition(self):\n",
    "        return self.a+self.b\n",
    "o=add(2,3)\n",
    "o.addition()\n",
    "    "
   ]
  },
  {
   "cell_type": "markdown",
   "id": "aea4240e-f950-49ed-b571-08652f281fa1",
   "metadata": {},
   "source": [
    "## The four pillars of Object-Oriented Programming (OOP) in Python are:\n",
    "\n",
    "1. Encapsulation\n",
    "2. Abstraction\n",
    "3. Inheritance\n",
    "4. Polymorphism"
   ]
  },
  {
   "cell_type": "code",
   "execution_count": null,
   "id": "776be815-5490-49b3-9553-f69751ac322f",
   "metadata": {},
   "outputs": [],
   "source": []
  }
 ],
 "metadata": {
  "kernelspec": {
   "display_name": "Python 3 (ipykernel)",
   "language": "python",
   "name": "python3"
  },
  "language_info": {
   "codemirror_mode": {
    "name": "ipython",
    "version": 3
   },
   "file_extension": ".py",
   "mimetype": "text/x-python",
   "name": "python",
   "nbconvert_exporter": "python",
   "pygments_lexer": "ipython3",
   "version": "3.10.11"
  }
 },
 "nbformat": 4,
 "nbformat_minor": 5
}
