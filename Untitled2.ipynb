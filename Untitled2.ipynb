{
 "cells": [
  {
   "cell_type": "code",
   "execution_count": 54,
   "id": "9bd694fd-38c9-4b74-b698-132d8688bb38",
   "metadata": {},
   "outputs": [
    {
     "name": "stdout",
     "output_type": "stream",
     "text": [
      "5\n",
      "1\n",
      "22\n",
      "25\n",
      "6\n",
      "-1\n",
      "8\n",
      "10\n"
     ]
    }
   ],
   "source": [
    "A  = [5, 1, 22, 25, 6, -1, 8, 10]\n",
    "\n",
    "B = [1, 6, -1, 10]\n",
    "\n",
    "# True\n",
    "\n",
    "\n",
    "# 2 non empty array, check if the array ‘B’ is subset of the array ‘A’.\n",
    "\n",
    "# An array is called subsequent when all the elements of it is present in the root array with\n",
    "# the same order but doesn’t have to be adjacent."
   ]
  },
  {
   "cell_type": "code",
   "execution_count": null,
   "id": "b1a98439-a88b-4c67-b37d-30e93c30ed6e",
   "metadata": {},
   "outputs": [],
   "source": []
  },
  {
   "cell_type": "code",
   "execution_count": 51,
   "id": "56c67480-9d94-4034-bae0-df592dcb57fc",
   "metadata": {},
   "outputs": [
    {
     "name": "stdout",
     "output_type": "stream",
     "text": [
      "1\n",
      "---\n",
      "1\n",
      "4\n",
      "---\n",
      "4\n",
      "7\n",
      "---\n",
      "7\n",
      "6\n",
      "---\n",
      "6\n"
     ]
    }
   ],
   "source": [
    "a = [5, 1, 22, 25, 6,  8, 10, -1]\n",
    "b = [1, 6, -1, 10]\n",
    "\n",
    "def check (a,b):\n",
    "    postion=0 \n",
    "    for i in range(len(b)):  #step1 \n",
    "            if b[i] in a:\n",
    "                ind=a.index(b[i])\n",
    "                print(ind)\n",
    "                print(\"---\")\n",
    "                if postion < ind:\n",
    "                    position=ind\n",
    "                    print(position)\n",
    "                else:\n",
    "                    return \"it is not subsequent\"\n",
    "check(a,b)\n",
    "\n",
    "                "
   ]
  },
  {
   "cell_type": "code",
   "execution_count": 42,
   "id": "6900f9bf-96a1-42ff-ba4e-125afdc63e89",
   "metadata": {},
   "outputs": [
    {
     "data": {
      "text/plain": [
       "0"
      ]
     },
     "execution_count": 42,
     "metadata": {},
     "output_type": "execute_result"
    }
   ],
   "source": [
    "a = [5, 1, 22, 25, 6,  8, 10, -1]\n",
    "a.index(5)"
   ]
  },
  {
   "cell_type": "code",
   "execution_count": 47,
   "id": "69f4db51-eeaa-4f3a-a51f-c8e5e35a5188",
   "metadata": {},
   "outputs": [
    {
     "data": {
      "text/plain": [
       "[1, 2, 3, 4, 5, 6, 7, 8, 9, 10, 11, 12, 13, 14, 15, 16]"
      ]
     },
     "execution_count": 47,
     "metadata": {},
     "output_type": "execute_result"
    }
   ],
   "source": [
    "a = [\n",
    "\n",
    " [1, 2, 3, 4],\n",
    "\n",
    " [12, 13, 14, 5],\n",
    "\n",
    " [11, 16, 15, 6],\n",
    "\n",
    " [10, 9, 8, 7],\n",
    "\n",
    " ]\n",
    "\n",
    "# res=[]\n",
    "# for i in a:\n",
    "#     for j in i:\n",
    "#         res.append(j)\n",
    "# res=sorted(res)\n",
    "# res\n",
    "\n",
    "#O/p = [1,2,3,4,5,6,7,8,9,10,11,12,13,14,15,16]"
   ]
  },
  {
   "cell_type": "code",
   "execution_count": 55,
   "id": "f2c86442-29ae-4d58-948c-aa9cf01f7911",
   "metadata": {},
   "outputs": [
    {
     "ename": "SyntaxError",
     "evalue": "invalid syntax (3549499166.py, line 1)",
     "output_type": "error",
     "traceback": [
      "\u001b[1;36m  Cell \u001b[1;32mIn[55], line 1\u001b[1;36m\u001b[0m\n\u001b[1;33m    ------\u001b[0m\n\u001b[1;37m          ^\u001b[0m\n\u001b[1;31mSyntaxError\u001b[0m\u001b[1;31m:\u001b[0m invalid syntax\n"
     ]
    }
   ],
   "source": []
  },
  {
   "cell_type": "code",
   "execution_count": 60,
   "id": "ae454a5c-6928-436b-866f-1334a2a35a6b",
   "metadata": {},
   "outputs": [
    {
     "name": "stdout",
     "output_type": "stream",
     "text": [
      "flase\n",
      "flase\n",
      "flase\n"
     ]
    }
   ],
   "source": [
    "a=[1,2,3,4,5]\n",
    "b=[3,4,5]\n",
    "c=iter(a)\n",
    "for i in b:\n",
    "    if i not in c:\n",
    "        print(\"trut\")\n",
    "    else:\n",
    "        print(\"flase\")"
   ]
  },
  {
   "cell_type": "code",
   "execution_count": 62,
   "id": "d3e46672-d49e-491b-a19d-221b8a1168fa",
   "metadata": {},
   "outputs": [
    {
     "data": {
      "text/plain": [
       "[1, 2, 3, 4, 5, 3]"
      ]
     },
     "execution_count": 62,
     "metadata": {},
     "output_type": "execute_result"
    }
   ],
   "source": [
    "a=[1,2,2,3,4,5,5,3]\n",
    "b=[]\n",
    "for i in range(len(a)):\n",
    "    if a==0 or a[i]!=a[i-1]:\n",
    "        b.append(a[i])\n",
    "b\n",
    "        "
   ]
  },
  {
   "cell_type": "code",
   "execution_count": 71,
   "id": "b7470291-645c-4b77-8e59-d664d5637193",
   "metadata": {},
   "outputs": [
    {
     "name": "stdout",
     "output_type": "stream",
     "text": [
      "False\n"
     ]
    }
   ],
   "source": [
    "def is_subsequence(a, b):\n",
    "    it = iter(a) \n",
    "    for num in b:  \n",
    "        if num not in it:\n",
    "            return False\n",
    "    return True\n",
    "# Test case\n",
    "a = [5, 1, 22, 25, 6, 8, 10, -1]\n",
    "b = [1, 6, -1, 10]\n",
    "print(is_subsequence(a, b))  # Output: False"
   ]
  },
  {
   "cell_type": "code",
   "execution_count": null,
   "id": "723075f0-47a6-4a31-bab6-93f0fcc7469e",
   "metadata": {},
   "outputs": [],
   "source": []
  },
  {
   "cell_type": "code",
   "execution_count": null,
   "id": "0f94b9b2-93aa-4ef9-ab62-a8747b44a6ac",
   "metadata": {},
   "outputs": [],
   "source": []
  },
  {
   "cell_type": "code",
   "execution_count": null,
   "id": "e2455497-ba63-499c-94dc-048d55adbd72",
   "metadata": {},
   "outputs": [],
   "source": []
  },
  {
   "cell_type": "code",
   "execution_count": null,
   "id": "706213fc-af2a-4efc-928d-49c36a1e25d6",
   "metadata": {},
   "outputs": [],
   "source": []
  },
  {
   "cell_type": "code",
   "execution_count": 14,
   "id": "91948b8c-9b68-4dee-98ac-f0bd13744ac9",
   "metadata": {},
   "outputs": [
    {
     "name": "stdout",
     "output_type": "stream",
     "text": [
      "0\n",
      "1\n",
      "2\n",
      "3\n",
      "4\n",
      "5\n",
      "6\n",
      "7\n",
      "8\n",
      "9\n",
      "total execution time is 20.074596166610718\n"
     ]
    }
   ],
   "source": [
    "import time \n",
    "\n",
    "def main(fun):\n",
    "    def sub():\n",
    "        start=time.time()\n",
    "        fun()\n",
    "        end=time.time()\n",
    "        print(f\"total execution time is {end-start}\")\n",
    "    return sub\n",
    "        \n",
    "@main\n",
    "def sample():\n",
    "    for i in range(10):\n",
    "        time.sleep(2)\n",
    "        print(i)\n",
    "sample()"
   ]
  },
  {
   "cell_type": "code",
   "execution_count": null,
   "id": "9e4cc186-8fad-48d6-ac55-771f5ff31ac5",
   "metadata": {},
   "outputs": [],
   "source": []
  },
  {
   "cell_type": "code",
   "execution_count": 9,
   "id": "e8fef61a-7442-40be-8a1e-9ff2e8bac6d2",
   "metadata": {},
   "outputs": [
    {
     "data": {
      "text/plain": [
       "'a3b2d2t2a2e1u1'"
      ]
     },
     "execution_count": 9,
     "metadata": {},
     "output_type": "execute_result"
    }
   ],
   "source": [
    "ip='aaabbddttaaeu'\n",
    "#op: 'a3b2d2t2a2e1u1'\n",
    "\n",
    "f=ip[0]\n",
    "c=0\n",
    "d=\"\"\n",
    "for i in range(0,len(ip)):\n",
    "    if ip[i]==f:\n",
    "        c=c+1\n",
    "    else:\n",
    "        d=d+f+str(c)\n",
    "        f=ip[i]\n",
    "        c=1\n",
    "d=d+f+str(c)\n",
    "d"
   ]
  },
  {
   "cell_type": "code",
   "execution_count": 10,
   "id": "0f33281a-237c-4e9e-8277-3311326d19e0",
   "metadata": {},
   "outputs": [
    {
     "data": {
      "text/plain": [
       "[1, 2, 3, 'a', 'b', 4, 5]"
      ]
     },
     "execution_count": 10,
     "metadata": {},
     "output_type": "execute_result"
    }
   ],
   "source": [
    "#ip=[1,2,3,['a', 'b', [4,5]]]\n",
    "#op: [1,2,3,'a','b',4,5]\n",
    "def flatten(ip):\n",
    "    res=[]\n",
    "    def sub(ip):\n",
    "        for i in ip:\n",
    "            if type(i)!=list:\n",
    "                res.append(i)\n",
    "            else:\n",
    "                sub(i)\n",
    "    sub(ip)\n",
    "    return res\n",
    "\n",
    "ip=[1,2,3,['a', 'b', [4,5]]]\n",
    "flatten(ip)\n"
   ]
  },
  {
   "cell_type": "code",
   "execution_count": null,
   "id": "c85c4405-0195-4092-8abf-34ebb8f995a8",
   "metadata": {},
   "outputs": [],
   "source": []
  },
  {
   "cell_type": "code",
   "execution_count": null,
   "id": "1bc589aa-3bd4-4092-a305-e06421b4de00",
   "metadata": {},
   "outputs": [],
   "source": []
  },
  {
   "cell_type": "code",
   "execution_count": null,
   "id": "f8c5f736-2e54-4e11-aaf8-20f05a5b1ce4",
   "metadata": {},
   "outputs": [],
   "source": []
  },
  {
   "cell_type": "code",
   "execution_count": null,
   "id": "4a1f372b-a993-4374-a228-a969f6fe1152",
   "metadata": {},
   "outputs": [],
   "source": []
  },
  {
   "cell_type": "code",
   "execution_count": null,
   "id": "32b0fcb2-6698-4918-b7d9-8bf18a9df0f4",
   "metadata": {},
   "outputs": [],
   "source": []
  },
  {
   "cell_type": "code",
   "execution_count": null,
   "id": "460e978c-4feb-462b-8148-a1e393daf127",
   "metadata": {},
   "outputs": [],
   "source": []
  },
  {
   "cell_type": "code",
   "execution_count": null,
   "id": "018dee35-9165-416e-8f58-4f6c3db56e39",
   "metadata": {},
   "outputs": [],
   "source": []
  }
 ],
 "metadata": {
  "kernelspec": {
   "display_name": "Python 3 (ipykernel)",
   "language": "python",
   "name": "python3"
  },
  "language_info": {
   "codemirror_mode": {
    "name": "ipython",
    "version": 3
   },
   "file_extension": ".py",
   "mimetype": "text/x-python",
   "name": "python",
   "nbconvert_exporter": "python",
   "pygments_lexer": "ipython3",
   "version": "3.10.11"
  }
 },
 "nbformat": 4,
 "nbformat_minor": 5
}
