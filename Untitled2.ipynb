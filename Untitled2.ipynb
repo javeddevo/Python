{
 "cells": [
  {
   "cell_type": "code",
   "execution_count": 1,
   "id": "810b70ce-e8b1-44fb-af92-69d455149794",
   "metadata": {},
   "outputs": [
    {
     "name": "stdout",
     "output_type": "stream",
     "text": [
      "5\n",
      "4\n",
      "3\n",
      "2\n",
      "1\n"
     ]
    }
   ],
   "source": [
    "i=5\n",
    "while i>0:\n",
    "    print(i)\n",
    "    i=i-1\n"
   ]
  },
  {
   "cell_type": "code",
   "execution_count": 7,
   "id": "9023c86d-c4d3-49ce-a9a1-cfcdf035b7ec",
   "metadata": {},
   "outputs": [
    {
     "name": "stdin",
     "output_type": "stream",
     "text": [
      "Enter the password:  hello\n"
     ]
    },
    {
     "name": "stdout",
     "output_type": "stream",
     "text": [
      "access granted\n"
     ]
    }
   ],
   "source": [
    "\n",
    "count=3\n",
    "while count>0:\n",
    "    password = input(\"Enter the password: \")\n",
    "    if password==\"hello\":\n",
    "        print(\"access granted\")\n",
    "        break\n",
    "    else:\n",
    "        count=count-1\n",
    "    \n",
    "        if count>0:\n",
    "            print(f\"You have {count} more changes to try\")\n",
    "        else:\n",
    "            print(\"access denied\")\n"
   ]
  },
  {
   "cell_type": "code",
   "execution_count": 8,
   "id": "37ddb691-0e22-4bba-8def-2f44c9e92496",
   "metadata": {},
   "outputs": [
    {
     "name": "stdin",
     "output_type": "stream",
     "text": [
      "Enter a number (0 to stop):  4\n"
     ]
    },
    {
     "name": "stdout",
     "output_type": "stream",
     "text": [
      "You entered: 4\n"
     ]
    },
    {
     "name": "stdin",
     "output_type": "stream",
     "text": [
      "Enter a number (0 to stop):  34\n"
     ]
    },
    {
     "name": "stdout",
     "output_type": "stream",
     "text": [
      "You entered: 34\n"
     ]
    },
    {
     "name": "stdin",
     "output_type": "stream",
     "text": [
      "Enter a number (0 to stop):  34\n"
     ]
    },
    {
     "name": "stdout",
     "output_type": "stream",
     "text": [
      "You entered: 34\n"
     ]
    },
    {
     "name": "stdin",
     "output_type": "stream",
     "text": [
      "Enter a number (0 to stop):  0\n"
     ]
    },
    {
     "name": "stdout",
     "output_type": "stream",
     "text": [
      "Loop ended.\n"
     ]
    }
   ],
   "source": [
    "while True:  # Infinite loop\n",
    "    number = int(input(\"Enter a number (0 to stop): \"))\n",
    "    if number == 0:\n",
    "        break  # Exits the loop\n",
    "    print(f\"You entered: {number}\")\n",
    "print(\"Loop ended.\")"
   ]
  },
  {
   "cell_type": "code",
   "execution_count": 53,
   "id": "0f87b4a3-c75e-4bc1-9b02-8e364c712f4b",
   "metadata": {},
   "outputs": [
    {
     "name": "stdin",
     "output_type": "stream",
     "text": [
      "Enter the item from the shop:  shoes\n"
     ]
    },
    {
     "name": "stdout",
     "output_type": "stream",
     "text": [
      "shoes added to cart. It cost 700 points.\n",
      "Total checkout so far: 700\n",
      "Remaining points: 300\n"
     ]
    },
    {
     "name": "stdin",
     "output_type": "stream",
     "text": [
      "Enter the item from the shop:  shirt\n"
     ]
    },
    {
     "name": "stdout",
     "output_type": "stream",
     "text": [
      "shirt added to cart. It cost 100 points.\n",
      "Total checkout so far: 800\n",
      "Remaining points: 200\n"
     ]
    },
    {
     "name": "stdin",
     "output_type": "stream",
     "text": [
      "Enter the item from the shop:  shoes\n"
     ]
    },
    {
     "name": "stdout",
     "output_type": "stream",
     "text": [
      "Can't buy shoes with 200 points left. You've got these items in 1000 points:\n",
      "{'shoes': 700, 'shirt': 100}\n",
      "Final Cart: {'shoes': 700, 'shirt': 100}\n",
      "Remaining points: 200\n"
     ]
    }
   ],
   "source": [
    "points = 1000\n",
    "shop = {\"shirt\": 100, \"glasses\": 400, \"shoes\": 700, \"fridge\": 120, \"shorts\": 200, \"cream\": 170}\n",
    "cart = {}\n",
    "\n",
    "while points > 0:\n",
    "    user_item = input(\"Enter the item from the shop: \")\n",
    "\n",
    "    if user_item in shop:\n",
    "        item_cost = shop[user_item]\n",
    "\n",
    "        if item_cost <= points:  # Check if the user can afford the item\n",
    "            cart[user_item] = item_cost\n",
    "            points -= item_cost  # Deduct points\n",
    "            print(f\"{user_item} added to cart. It cost {item_cost} points.\")\n",
    "            print(f\"Total checkout so far: {sum(cart.values())}\")\n",
    "            print(f\"Remaining points: {points}\")\n",
    "        else:\n",
    "            print(f\"Can't buy {user_item} with {points} points left. You've got these items in 1000 points:\")\n",
    "            print(cart)\n",
    "            break  # Stop the loop if the user tries to overspend\n",
    "    else:\n",
    "        print(\"Item not available in shop. Try again.\")\n",
    "\n",
    "print(\"Final Cart:\", cart)\n",
    "print(f\"Remaining points: {points}\")\n"
   ]
  },
  {
   "cell_type": "code",
   "execution_count": 4,
   "id": "292729cf-9ca1-4fed-83d2-a9275de9764a",
   "metadata": {},
   "outputs": [
    {
     "name": "stdout",
     "output_type": "stream",
     "text": [
      "1\n",
      "2\n",
      "3\n",
      "4\n",
      "5\n",
      "6\n",
      "7\n",
      "8\n",
      "9\n"
     ]
    }
   ],
   "source": [
    "class NumberPrinter:\n",
    "    def __init__(self, start,end):\n",
    "        self.start = start\n",
    "        self.end=end\n",
    "    def print_numbers(self):\n",
    "        for num in range(self.start,self.end):\n",
    "            print(num)\n",
    "\n",
    "# Create an object and call the method\n",
    "printer = NumberPrinter(1,10)\n",
    "printer.print_numbers()\n"
   ]
  },
  {
   "cell_type": "code",
   "execution_count": 5,
   "id": "50cb6220-a7b7-401f-bdb9-483777a3b590",
   "metadata": {},
   "outputs": [
    {
     "data": {
      "text/plain": [
       "[2, 4, 6, 8, 10]"
      ]
     },
     "execution_count": 5,
     "metadata": {},
     "output_type": "execute_result"
    }
   ],
   "source": [
    "class hello:\n",
    "    def __init__(self,a):\n",
    "        self.a=a\n",
    "    def info(self):\n",
    "        return [i*2 for i in self.a]\n",
    "o=hello([1,2,3,4,5])\n",
    "o.info()"
   ]
  },
  {
   "cell_type": "code",
   "execution_count": 12,
   "id": "59a7f14f-ba1c-4f85-afa7-0c25f3f8441e",
   "metadata": {},
   "outputs": [
    {
     "name": "stdout",
     "output_type": "stream",
     "text": [
      "phone turn off\n",
      "phone is turn on\n"
     ]
    }
   ],
   "source": [
    "from abc import ABC,abstractmethod\n",
    "\n",
    "class Appliance(ABC):\n",
    "    @abstractmethod\n",
    "    def turn_on(self):\n",
    "        pass\n",
    "    @abstractmethod\n",
    "    def turn_off(self):\n",
    "        pass\n",
    "\n",
    "class phone(Appliance):\n",
    "    def turn_on(self):\n",
    "        return \"phone is turn on\"\n",
    "    def turn_off(self):\n",
    "        return \"phone turn off\"\n",
    "\n",
    "obj=phone()\n",
    "print(obj.turn_off())\n",
    "print(obj.turn_on())\n",
    "\n",
    "\n"
   ]
  },
  {
   "cell_type": "code",
   "execution_count": null,
   "id": "5feb3cfa-403a-4940-ad2d-24754f94cd0f",
   "metadata": {},
   "outputs": [],
   "source": []
  }
 ],
 "metadata": {
  "kernelspec": {
   "display_name": "Python 3 (ipykernel)",
   "language": "python",
   "name": "python3"
  },
  "language_info": {
   "codemirror_mode": {
    "name": "ipython",
    "version": 3
   },
   "file_extension": ".py",
   "mimetype": "text/x-python",
   "name": "python",
   "nbconvert_exporter": "python",
   "pygments_lexer": "ipython3",
   "version": "3.10.11"
  }
 },
 "nbformat": 4,
 "nbformat_minor": 5
}
