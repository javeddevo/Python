{
 "cells": [
  {
   "cell_type": "markdown",
   "id": "a2978a40-38cb-4d5a-8a29-d1229001393b",
   "metadata": {},
   "source": [
    "## 🧵 Multithreading Example: Sample"
   ]
  },
  {
   "cell_type": "code",
   "execution_count": 16,
   "id": "b99dd267-3f0c-478d-a7fd-6620bcfede2a",
   "metadata": {},
   "outputs": [
    {
     "name": "stdout",
     "output_type": "stream",
     "text": [
      "Hello!\n"
     ]
    }
   ],
   "source": [
    "import threading\n",
    "\n",
    "def say_hello():\n",
    "    print(\"Hello!\")\n",
    "\n",
    "# Create a thread\n",
    "thread = threading.Thread(target=say_hello)\n",
    "# Start the thread\n",
    "thread.start()"
   ]
  },
  {
   "cell_type": "markdown",
   "id": "4d954327-8f09-4748-abe8-235cd86f777f",
   "metadata": {},
   "source": [
    "## 🧵 Multithreading Example: Counting to Five in a Separate Thread\n",
    "\n",
    "### 📌 Description\n",
    "- This script demonstrates **basic multithreading** using Python's `threading` module.\n",
    "- A new thread is created to run the `count_to_five` function.\n",
    "- The `join()` method ensures the main thread **waits for the new thread to complete** before printing `\"Done!\"`."
   ]
  },
  {
   "cell_type": "code",
   "execution_count": 18,
   "id": "c1278fac-7f96-4de0-b1b5-d1554d8fa21a",
   "metadata": {},
   "outputs": [
    {
     "name": "stdout",
     "output_type": "stream",
     "text": [
      "1\n",
      "2\n",
      "3\n",
      "4\n",
      "5\n",
      "Done!\n"
     ]
    }
   ],
   "source": [
    "import threading\n",
    "\n",
    "def count_to_five():\n",
    "    for i in range(1, 6):\n",
    "        print(i)\n",
    "\n",
    "thread = threading.Thread(target=count_to_five)\n",
    "thread.start()  # Start the thread\n",
    "thread.join()   # Wait for it to finish and then the main thread get executed \n",
    "print(\"Done!\")   # this is teh main thread"
   ]
  },
  {
   "cell_type": "markdown",
   "id": "ef3d3ed4-33a1-4c08-8813-747a17d9722b",
   "metadata": {},
   "source": [
    "## 🧵 Multithreading Example: Running a Function in a Separate Thread\n",
    "\n",
    "### 📌 Description\n",
    "- This script demonstrates **basic multithreading** in Python.\n",
    "- A new thread is created to run the `say_hello` function.\n",
    "- While the thread **sleeps for 3 seconds**, the **main thread continues running** without waiting.\n",
    "- This shows how **threads execute concurrently**."
   ]
  },
  {
   "cell_type": "code",
   "execution_count": 4,
   "id": "9d798499-a0fc-4079-9251-02dbb39f766d",
   "metadata": {},
   "outputs": [
    {
     "name": "stdout",
     "output_type": "stream",
     "text": [
      "Hello, Alice!\n",
      "This is the main thread.\n",
      "Goodbye, Alice!\n"
     ]
    }
   ],
   "source": [
    "import threading\n",
    "import time\n",
    "\n",
    "# A simple task (function) to run in a thread\n",
    "def say_hello(name):\n",
    "    print(f\"Hello, {name}!\")\n",
    "    time.sleep(3)  # Pretend this is a slow task (e.g., waiting for a file)\n",
    "    print(f\"Goodbye, {name}!\")\n",
    "\n",
    "# Create a thread\n",
    "thread = threading.Thread(target=say_hello, args=(\"Alice\",))\n",
    "\n",
    "# Start the thread\n",
    "thread.start()\n",
    "\n",
    "# Main thread keeps going\n",
    "print(\"This is the main thread.\")"
   ]
  },
  {
   "cell_type": "markdown",
   "id": "b1c0ac7f-5ce3-47b3-ba80-afb536c91769",
   "metadata": {},
   "source": [
    "## 🧵 Multithreading Example in Python\n",
    "\n",
    "### Description\n",
    "- This script demonstrates **multithreading** in Python.\n",
    "- Two threads (`thread1` and `thread2`) are created to run the `sample` function **simultaneously**.\n",
    "- Each thread prints a greeting, **sleeps for 10 seconds**, and then prints a goodbye message.\n",
    "- `join()` ensures that the main thread waits **until both threads finish execution** before printing `\"the end\"`."
   ]
  },
  {
   "cell_type": "code",
   "execution_count": null,
   "id": "82b66455-4e6d-4bc7-b980-d95cd26daa2e",
   "metadata": {},
   "outputs": [
    {
     "name": "stdout",
     "output_type": "stream",
     "text": [
      "hello bob\n",
      "hello ali\n"
     ]
    }
   ],
   "source": [
    "import threading\n",
    "import time \n",
    "def sample(name):\n",
    "    print(f\"hello {name}\")\n",
    "    time.sleep(10)\n",
    "    print(f\"bye {name}\")\n",
    "thread1=threading.Thread(target=sample,args=(\"bob\",))\n",
    "thread2=threading.Thread(target=sample,args=(\"ali\",))\n",
    "\n",
    "thread1.start()\n",
    "thread2.start()\n",
    "\n",
    "thread1.join()\n",
    "thread2.join()  # make sure that it wait till all threads execution completes an then main thread will trigger\n",
    "\n",
    "\n",
    "print(\"the end\")"
   ]
  },
  {
   "cell_type": "markdown",
   "id": "6a7cc9df-71b5-48cf-8d8a-1d35d45e9e53",
   "metadata": {},
   "source": [
    "### 🔒 Thread Locks in Python\n",
    "\n",
    "- A **Lock** is like a key to a room—only **one thread** can hold it and enter at a time.\n",
    "- This **prevents threads from messing up shared data**.\n",
    "- When multiple threads modify the same data, **conflicts can occur**.\n",
    "- We use **Locks** to prevent this.\n"
   ]
  },
  {
   "cell_type": "code",
   "execution_count": 18,
   "id": "f854d135-7bf1-4362-83ed-cd1428c75fe5",
   "metadata": {},
   "outputs": [
    {
     "name": "stdout",
     "output_type": "stream",
     "text": [
      "2\n"
     ]
    }
   ],
   "source": [
    "import threading\n",
    "\n",
    "\n",
    "lock=threading.Lock()\n",
    "counter=0\n",
    "def increment():\n",
    "    global counter\n",
    "    with lock:\n",
    "        counter+=1\n",
    "thread1=threading.Thread(target=increment)\n",
    "thread2=threading.Thread(target=increment)\n",
    "    \n",
    "thread1.start()\n",
    "thread2.start()\n",
    "thread1.join()\n",
    "thread2.join()\n",
    "print(counter)"
   ]
  },
  {
   "cell_type": "markdown",
   "id": "5aae7e5d-fae1-4959-874a-7edcf0eb5d1c",
   "metadata": {},
   "source": [
    "## 🧵 Multithreading Example: Daemon Thread with a Stop Flag  \n",
    "\n",
    "### 📌 Description  \n",
    "- This script demonstrates the use of a **daemon thread** in Python.  \n",
    "- A background task runs in a separate thread, continuously printing `\"Running...\"`.  \n",
    "- The `stop_flag` is used to signal the thread to stop execution.  \n",
    "- The **main program sleeps for 3 seconds** and then prints `\"Main program done!\"`, signaling the thread to stop.  \n",
    "- Since the thread is a **daemon thread**, it will automatically terminate if the main program exits.  \n",
    "\n",
    "### ⚡ Key Concepts  \n",
    "- **Daemon threads**: These threads run in the background and automatically terminate when the main thread exits.  \n",
    "- **Stop flag**: A shared boolean variable used to signal the thread to stop execution.  "
   ]
  },
  {
   "cell_type": "code",
   "execution_count": 17,
   "id": "1e496d43-66c1-47b8-a145-621e967f8cab",
   "metadata": {},
   "outputs": [
    {
     "name": "stdout",
     "output_type": "stream",
     "text": [
      "Running...\n",
      "Running...\n",
      "Running...\n",
      "Main program done!\n"
     ]
    }
   ],
   "source": [
    "import threading\n",
    "import time\n",
    "\n",
    "stop_flag = False\n",
    "\n",
    "def background_task():\n",
    "    while not stop_flag:\n",
    "        print(\"Running...\")\n",
    "        time.sleep(1)\n",
    "\n",
    "thread = threading.Thread(target=background_task, daemon=True)\n",
    "thread.start()\n",
    "time.sleep(3)\n",
    "print(\"Main program done!\")\n",
    "stop_flag = True  # Signal to stop"
   ]
  },
  {
   "cell_type": "markdown",
   "id": "974ade0c-d683-44f6-944c-cd9dfc159f13",
   "metadata": {},
   "source": [
    "# **Multithreading with Queue in Python**\n",
    "\n",
    "In this example, we use the `queue.Queue()` module with a worker thread to process tasks from a queue.\n",
    "\n",
    "---\n",
    "\n",
    "## **📌 Steps in the Code**\n",
    "1. **Create a queue** to store tasks.\n",
    "2. **Define a worker function** that processes tasks **until the queue is empty**.\n",
    "3. **Add tasks** to the queue.\n",
    "4. **Create and start a worker thread** to process the tasks.\n",
    "5. **Wait for the thread to complete** before printing `\"All tasks are done!\"`."
   ]
  },
  {
   "cell_type": "code",
   "execution_count": 6,
   "id": "4af91f0f-943d-441b-9ba9-86592e2ec634",
   "metadata": {},
   "outputs": [
    {
     "name": "stdout",
     "output_type": "stream",
     "text": [
      "Processing task: Task 1\n",
      "Processing task: Task 2\n",
      "Processing task: Task 3\n",
      "Processing task: Task 4\n",
      "Processing task: Task 5\n",
      "All tasks are done!\n"
     ]
    }
   ],
   "source": [
    "import threading\n",
    "import queue\n",
    "import time\n",
    "\n",
    "# Create a queue\n",
    "task_queue = queue.Queue()\n",
    "\n",
    "# Worker function that processes tasks from the queue\n",
    "def worker():\n",
    "    while not task_queue.empty(): # till the queue is empty it wil; run \n",
    "        task = task_queue.get()  # Get a task from the queue\n",
    "        print(f\"Processing task: {task}\")\n",
    "        time.sleep(1)  # Simulating work\n",
    "        task_queue.task_done()  # Mark task as completed\n",
    "\n",
    "# Add tasks to the queue\n",
    "for i in range(5):\n",
    "    task_queue.put(f\"Task {i+1}\")\n",
    "\n",
    "# Create and start a worker thread\n",
    "worker_thread = threading.Thread(target=worker)\n",
    "worker_thread.start()\n",
    "\n",
    "worker_thread.join()  # Wait for the thread to finish\n",
    "print(\"All tasks are done!\")\n"
   ]
  },
  {
   "cell_type": "markdown",
   "id": "6768c84b-7e12-416c-8e1d-dc2c37ccb3cc",
   "metadata": {},
   "source": [
    "### ⚡ Queue with two workers"
   ]
  },
  {
   "cell_type": "code",
   "execution_count": 26,
   "id": "aa6b153f-4d7a-49e4-a24c-5e137ca93fa6",
   "metadata": {},
   "outputs": [
    {
     "name": "stdout",
     "output_type": "stream",
     "text": [
      "Processing Task 1 in Worker-1\n",
      "Processing Task 2 in Worker-2\n",
      "Processing Task 3 in Worker-1\n",
      "Processing Task 4 in Worker-2\n",
      "Processing Task 5 in Worker-2\n",
      "All tasks are done!\n"
     ]
    }
   ],
   "source": [
    "import threading\n",
    "import queue\n",
    "import time\n",
    "\n",
    "task_queue = queue.Queue()\n",
    "\n",
    "# Worker function that processes tasks from the queue\n",
    "def worker():\n",
    "    while not task_queue.empty():\n",
    "        task = task_queue.get()\n",
    "        print(f\"Processing {task} in {threading.current_thread().name}\")\n",
    "        time.sleep(1)  # Simulating work\n",
    "        task_queue.task_done()\n",
    "\n",
    "# Add 5 tasks to the queue\n",
    "for i in range(5):\n",
    "    task_queue.put(f\"Task {i+1}\")\n",
    "\n",
    "# Create 2 worker threads\n",
    "threads = []\n",
    "for i in range(2):  # 2 threads\n",
    "    thread = threading.Thread(target=worker, name=f\"Worker-{i+1}\")\n",
    "    thread.start()\n",
    "    threads.append(thread)\n",
    "\n",
    "# Wait for all threads to complete\n",
    "for thread in threads:\n",
    "    thread.join()\n",
    "\n",
    "print(\"All tasks are done!\")\n"
   ]
  },
  {
   "cell_type": "code",
   "execution_count": null,
   "id": "ffbcb06f-7f57-4b66-b327-6f213057fe84",
   "metadata": {},
   "outputs": [],
   "source": []
  }
 ],
 "metadata": {
  "kernelspec": {
   "display_name": "Python 3 (ipykernel)",
   "language": "python",
   "name": "python3"
  },
  "language_info": {
   "codemirror_mode": {
    "name": "ipython",
    "version": 3
   },
   "file_extension": ".py",
   "mimetype": "text/x-python",
   "name": "python",
   "nbconvert_exporter": "python",
   "pygments_lexer": "ipython3",
   "version": "3.10.11"
  }
 },
 "nbformat": 4,
 "nbformat_minor": 5
}
