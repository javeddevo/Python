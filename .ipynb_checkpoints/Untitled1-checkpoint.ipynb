{
 "cells": [
  {
   "cell_type": "code",
   "execution_count": 9,
   "id": "13f772d5-189d-457d-bc6b-e9b10ec5934c",
   "metadata": {},
   "outputs": [
    {
     "name": "stdout",
     "output_type": "stream",
     "text": [
      "ABD125\n"
     ]
    }
   ],
   "source": [
    "a=\"A5D2B1\"  #ABD125\n",
    "b=[]\n",
    "d=[]\n",
    "for i in a:\n",
    "    if i.isdigit():\n",
    "        d.append(i)\n",
    "    else:\n",
    "        b.append(i)\n",
    "c=\"\".join(sorted(b)+sorted(d))\n",
    "print(c)\n",
    "\n",
    "\n"
   ]
  },
  {
   "cell_type": "code",
   "execution_count": 18,
   "id": "8939e02d-727d-4061-bb98-ed13792587e8",
   "metadata": {},
   "outputs": [
    {
     "data": {
      "text/plain": [
       "{'cat', 'hat'}"
      ]
     },
     "execution_count": 18,
     "metadata": {},
     "output_type": "execute_result"
    }
   ],
   "source": [
    "a=[\"cat\",\"hat\",\"cat\",\"apple\",\"cat\",\"apple\",\"pat\",\"cat\",\"hat\",\"hat\"]  #['hat', 'cat']\n",
    "b=[]\n",
    "for i in a:\n",
    "    if a.count(i)>=3:\n",
    "        b.append(i)\n",
    "set(b)\n",
    "        \n",
    "        "
   ]
  },
  {
   "cell_type": "code",
   "execution_count": 31,
   "id": "acb4d36f-14f2-4bd7-afa0-5e03f5c87548",
   "metadata": {},
   "outputs": [
    {
     "data": {
      "text/plain": [
       "[9, 8]"
      ]
     },
     "execution_count": 31,
     "metadata": {},
     "output_type": "execute_result"
    }
   ],
   "source": [
    "a = [1, 2, 3, 4, 5, 9, 8]\n",
    "max_pro=0\n",
    "for i in range(len(a)):\n",
    "    for j in range(i+1,len(a)):\n",
    "        product=a[i]*a[j]\n",
    "        if product>max_pro:\n",
    "            max_pro=product\n",
    "            pair=[a[i],a[j]]\n",
    "        \n",
    "\n",
    "pair"
   ]
  },
  {
   "cell_type": "code",
   "execution_count": 36,
   "id": "3452dabc-7067-48d1-8379-0ea8f268dd3b",
   "metadata": {},
   "outputs": [
    {
     "data": {
      "text/plain": [
       "[0, 1]"
      ]
     },
     "execution_count": 36,
     "metadata": {},
     "output_type": "execute_result"
    }
   ],
   "source": [
    "a=[2,7,6,7,8,2]\n",
    "n=9\n",
    "b=[]\n",
    "for i in range(len(a)):\n",
    "    for j in range(i+1,len(a)):\n",
    "        if a[i]+a[j]==n and len(b)==0:\n",
    "            b.append(i)\n",
    "            b.append(j)\n",
    "            \n",
    "b\n",
    "            \n",
    "    "
   ]
  },
  {
   "cell_type": "code",
   "execution_count": 49,
   "id": "ac7c3f24-acca-4189-a9ad-1a8d2cdee588",
   "metadata": {},
   "outputs": [
    {
     "data": {
      "text/plain": [
       "['apple', 'banana', 'orange']"
      ]
     },
     "execution_count": 49,
     "metadata": {},
     "output_type": "execute_result"
    }
   ],
   "source": [
    "a=[\"appl23e1224\",\"2844ban45ana\",\"o45range48739\"]\n",
    "alpha=[]\n",
    "numeric=[]\n",
    "for i in a:\n",
    "     al=\"\"\n",
    "     nu=\"\"\n",
    "     for j in i:\n",
    "        if j.isalpha():\n",
    "            al=al+j\n",
    "        else:\n",
    "            nu=nu+j\n",
    "     alpha.append(al)\n",
    "     numeric.append(nu)\n",
    "alpha\n"
   ]
  },
  {
   "cell_type": "code",
   "execution_count": 51,
   "id": "96b922bf-1120-4879-a477-50e62130cebe",
   "metadata": {},
   "outputs": [
    {
     "data": {
      "text/plain": [
       "['231224', '284445', '4548739']"
      ]
     },
     "execution_count": 51,
     "metadata": {},
     "output_type": "execute_result"
    }
   ],
   "source": [
    "numeric"
   ]
  },
  {
   "cell_type": "code",
   "execution_count": null,
   "id": "73fc90eb-af48-422b-a64b-d3e382dfa0bb",
   "metadata": {},
   "outputs": [],
   "source": [
    "[1,23,45,55,21] ---------> # [1, 5, 9, 10, 3]\n"
   ]
  },
  {
   "cell_type": "code",
   "execution_count": 58,
   "id": "c588c6c5-b61f-4698-b8f9-5967065c7439",
   "metadata": {},
   "outputs": [
    {
     "data": {
      "text/plain": [
       "[1, 5, 9, 10, 3]"
      ]
     },
     "execution_count": 58,
     "metadata": {},
     "output_type": "execute_result"
    }
   ],
   "source": [
    "a=[1,23,45,55,21]\n",
    "b=[]\n",
    "for i in a:\n",
    "    c=0\n",
    "    for j in str(i):\n",
    "         c=c+int(j)\n",
    "    b.append(c)\n",
    "        \n",
    "b        "
   ]
  },
  {
   "cell_type": "code",
   "execution_count": 59,
   "id": "668f8ef5-9f41-4c2f-9a48-5c29284c309a",
   "metadata": {},
   "outputs": [
    {
     "ename": "ValueError",
     "evalue": "invalid literal for int() with base 10: 'h'",
     "output_type": "error",
     "traceback": [
      "\u001b[1;31m---------------------------------------------------------------------------\u001b[0m",
      "\u001b[1;31mValueError\u001b[0m                                Traceback (most recent call last)",
      "Cell \u001b[1;32mIn[59], line 2\u001b[0m\n\u001b[0;32m      1\u001b[0m a\u001b[38;5;241m=\u001b[39m\u001b[38;5;124m\"\u001b[39m\u001b[38;5;124mh\u001b[39m\u001b[38;5;124m\"\u001b[39m\n\u001b[1;32m----> 2\u001b[0m b\u001b[38;5;241m=\u001b[39m\u001b[38;5;28;43mint\u001b[39;49m\u001b[43m(\u001b[49m\u001b[43ma\u001b[49m\u001b[43m)\u001b[49m\n",
      "\u001b[1;31mValueError\u001b[0m: invalid literal for int() with base 10: 'h'"
     ]
    }
   ],
   "source": [
    "a=\"h\"\n",
    "b=int(a)"
   ]
  },
  {
   "cell_type": "code",
   "execution_count": 61,
   "id": "5901c633-7d9d-46af-8ba6-ef2a71f2bf0c",
   "metadata": {},
   "outputs": [
    {
     "name": "stdout",
     "output_type": "stream",
     "text": [
      "v\n"
     ]
    }
   ],
   "source": [
    "a=\"aabbvbd\" #v\n",
    "c={}\n",
    "for i in a:\n",
    "    if i in c:\n",
    "        c[i]=c[i]+1\n",
    "    else:\n",
    "        c[i]=1\n",
    "for i,j in c.items():\n",
    "    if j==1:\n",
    "        print(i)\n",
    "        break\n"
   ]
  },
  {
   "cell_type": "code",
   "execution_count": 5,
   "id": "783b577c-86cf-4ad6-868c-fe40b93a8b81",
   "metadata": {},
   "outputs": [
    {
     "name": "stdout",
     "output_type": "stream",
     "text": [
      "1\n",
      "2\n",
      "3\n",
      "4\n",
      "5\n",
      "6\n",
      "7\n",
      "8\n",
      "9\n",
      "10\n"
     ]
    }
   ],
   "source": [
    "def hello(n):\n",
    "    if n>10:\n",
    "        return 1 # stopping condition \n",
    "    print(n)\n",
    "    hello(n+1)\n",
    "\n",
    "hello(1)"
   ]
  },
  {
   "cell_type": "code",
   "execution_count": 7,
   "id": "e40e06c3-b202-4a0e-94c4-e30eb52d5053",
   "metadata": {},
   "outputs": [
    {
     "name": "stdout",
     "output_type": "stream",
     "text": [
      "10\n",
      "9\n",
      "8\n",
      "7\n",
      "6\n",
      "5\n",
      "4\n",
      "3\n",
      "2\n",
      "1\n"
     ]
    }
   ],
   "source": [
    "def hello(n):\n",
    "    if n==0:\n",
    "        return 1\n",
    "    print(n)\n",
    "    hello(n-1)\n",
    "\n",
    "hello(10)"
   ]
  },
  {
   "cell_type": "code",
   "execution_count": 10,
   "id": "a2fbe438-6de4-4db6-ad70-1296ce90dbfa",
   "metadata": {},
   "outputs": [
    {
     "data": {
      "text/plain": [
       "120"
      ]
     },
     "execution_count": 10,
     "metadata": {},
     "output_type": "execute_result"
    }
   ],
   "source": [
    "def fac(n):\n",
    "    if n==0:\n",
    "        return 1\n",
    "    return n*fac(n-1)\n",
    "fac(5)"
   ]
  },
  {
   "cell_type": "code",
   "execution_count": 12,
   "id": "f157d142-2ad5-4303-9d49-ce6c3219042a",
   "metadata": {},
   "outputs": [
    {
     "name": "stdout",
     "output_type": "stream",
     "text": [
      "1\n",
      "2\n",
      "3\n",
      "4\n",
      "5\n",
      "6\n",
      "7\n",
      "8\n",
      "9\n",
      "10\n"
     ]
    }
   ],
   "source": [
    "a=1\n",
    "while a<=10:\n",
    "    print(a)\n",
    "    a=a+1"
   ]
  },
  {
   "cell_type": "code",
   "execution_count": 16,
   "id": "45d7fcff-2e42-4c1f-a79b-a577a25e47d0",
   "metadata": {},
   "outputs": [
    {
     "data": {
      "text/plain": [
       "[1, 2, 3, 4, 5, 6, 7]"
      ]
     },
     "execution_count": 16,
     "metadata": {},
     "output_type": "execute_result"
    }
   ],
   "source": [
    "a=[1, 2, [3, 4, [5, 6]], 7]\n",
    "def hello(sub):\n",
    "    nested=[]\n",
    "    def mini(sub):\n",
    "        for i in sub:\n",
    "            if type(i)==list:\n",
    "                mini(i)\n",
    "            else:\n",
    "                nested.append(i)\n",
    "    mini(sub)\n",
    "    return nested\n",
    "hello([1, 2, [3, 4, [5, 6]], 7])\n",
    "                \n",
    "    \n",
    "        "
   ]
  },
  {
   "cell_type": "code",
   "execution_count": 20,
   "id": "66550394-5500-40ce-95a7-3799210e5fcc",
   "metadata": {},
   "outputs": [
    {
     "data": {
      "text/plain": [
       "{'apple': 321, 'marks': 300, 'name': 123}"
      ]
     },
     "execution_count": 20,
     "metadata": {},
     "output_type": "execute_result"
    }
   ],
   "source": [
    "a={\"name\":123,\"marks\":300,\"apple\":321}\n",
    "a={k:v for k,v in sorted(a.items())}\n",
    "a"
   ]
  },
  {
   "cell_type": "code",
   "execution_count": 1,
   "id": "d548f915-0a8b-4a85-8c38-5cdd64315957",
   "metadata": {},
   "outputs": [
    {
     "data": {
      "text/plain": [
       "{'name': 123, 'marks': 300, 'apple': 321}"
      ]
     },
     "execution_count": 1,
     "metadata": {},
     "output_type": "execute_result"
    }
   ],
   "source": [
    "a={\"name\":123,\"marks\":300,\"apple\":321}\n",
    "b={k:v for k,v in sorted(a.items(),key=lambda v:v[1])}\n",
    "b"
   ]
  },
  {
   "cell_type": "code",
   "execution_count": 34,
   "id": "6c627cad-c3e2-4100-b7da-5d1929f3c39f",
   "metadata": {},
   "outputs": [
    {
     "name": "stdout",
     "output_type": "stream",
     "text": [
      "1 5\n"
     ]
    }
   ],
   "source": [
    "a=[1,2,3,4,5,6,7]\n",
    "n=6\n",
    "for i in range(len(a)):\n",
    "    for j in range(i+1,len(a)):\n",
    "        if a[i]+a[j]==n:\n",
    "            print(a[i],a[j])\n",
    "            \n",
    "            "
   ]
  },
  {
   "cell_type": "code",
   "execution_count": 40,
   "id": "5a02adbc-d304-413d-80bd-1465bde20b84",
   "metadata": {},
   "outputs": [
    {
     "data": {
      "text/plain": [
       "[3, 4, 5, 6, 10, 11, 12, 13, 14]"
      ]
     },
     "execution_count": 40,
     "metadata": {},
     "output_type": "execute_result"
    }
   ],
   "source": [
    "src=[2,7,8,9,15]\n",
    "def missing(src):\n",
    "    miss=[]\n",
    "    a=max(src)\n",
    "    for i in range(min(src)+1,a+1):\n",
    "        if i not in src:\n",
    "            miss.append(i)\n",
    "    return miss\n",
    "missing([2,7,8,9,15])\n",
    "            \n",
    "        \n"
   ]
  },
  {
   "cell_type": "code",
   "execution_count": 52,
   "id": "39adc843-d4d0-4edc-a85c-31d2afb78622",
   "metadata": {},
   "outputs": [
    {
     "name": "stdout",
     "output_type": "stream",
     "text": [
      "    * \n",
      "   * * \n",
      "  * * * \n",
      " * * * * \n"
     ]
    }
   ],
   "source": [
    "n=4\n",
    "for i in range(n):\n",
    "    for j in range(i,n):\n",
    "        print(\" \",end=\"\")\n",
    "    for j in range(i+1):\n",
    "        print(\"*\",end=\" \")\n",
    "    print()\n",
    "        "
   ]
  },
  {
   "cell_type": "code",
   "execution_count": 61,
   "id": "ec25da16-bf0f-41ef-9da8-eecb28460493",
   "metadata": {},
   "outputs": [
    {
     "name": "stdout",
     "output_type": "stream",
     "text": [
      "['Friday', 'Saturday', 'Sunday', 'Monday', 'Tuesday']\n"
     ]
    }
   ],
   "source": [
    "a=['Wednesday', 'Thursday', 'Friday', 'Saturday', 'Sunday', 'Monday', 'Tuesday']\n",
    "b=\"Thursday\"\n",
    "if b in a:\n",
    "    c=a.index(b)\n",
    "    print(a[c+1::])\n",
    "    "
   ]
  },
  {
   "cell_type": "code",
   "execution_count": 80,
   "id": "72daceb9-2774-479e-bce8-225a419f3201",
   "metadata": {},
   "outputs": [
    {
     "data": {
      "text/plain": [
       "'valid'"
      ]
     },
     "execution_count": 80,
     "metadata": {},
     "output_type": "execute_result"
    }
   ],
   "source": [
    "a=\"9030170201\"\n",
    "def valid_phone(a):\n",
    "    if len(a)!=10:\n",
    "        return \"invalid\"\n",
    "    for i in a:\n",
    "        if not i.isdigit():\n",
    "            return \"invalid\"\n",
    "    if a[0] not in [\"9\",\"7\",\"6\"]:\n",
    "        return \"Invalid\"\n",
    "    return \"valid\"\n",
    "a=\"9030170201\"\n",
    "valid_phone(a)"
   ]
  },
  {
   "cell_type": "raw",
   "id": "f4430d03-782d-47b7-9296-1d9924ea8924",
   "metadata": {},
   "source": [
    "ip=\"127.124.123.123\"\n"
   ]
  },
  {
   "cell_type": "code",
   "execution_count": 9,
   "id": "79ad4740-18ca-4ae9-ae0e-53218ce6cd05",
   "metadata": {},
   "outputs": [
    {
     "name": "stdout",
     "output_type": "stream",
     "text": [
      "8\n"
     ]
    }
   ],
   "source": [
    "a=[1,1,2,3,4,2,1,1,1,4,5,5,5,5,5,6,5,4,5,5]\n",
    "b={}\n",
    "for i in a:\n",
    "    if i in b:\n",
    "        b[i]=b[i]+1\n",
    "    else:\n",
    "        b[i]=1\n",
    "c=max(b,key=b.get)\n",
    "print(b[c])"
   ]
  },
  {
   "cell_type": "code",
   "execution_count": 15,
   "id": "fbbe9986-5fec-432d-b27f-45d9860c90ff",
   "metadata": {},
   "outputs": [
    {
     "name": "stdout",
     "output_type": "stream",
     "text": [
      "3\n"
     ]
    }
   ],
   "source": [
    "def add(n):\n",
    "    num=n%9\n",
    "    if num==0:\n",
    "        print(9)\n",
    "    else:\n",
    "        print(num)\n",
    "add(129)"
   ]
  },
  {
   "cell_type": "code",
   "execution_count": 21,
   "id": "c29e5515-fdc7-4404-9a97-5f023077fe26",
   "metadata": {},
   "outputs": [
    {
     "name": "stdout",
     "output_type": "stream",
     "text": [
      "5\n",
      "1234\n",
      "54\n",
      "123\n",
      "543\n",
      "12\n",
      "5432\n",
      "1\n",
      "54321\n",
      "0\n"
     ]
    },
    {
     "data": {
      "text/plain": [
       "54321"
      ]
     },
     "execution_count": 21,
     "metadata": {},
     "output_type": "execute_result"
    }
   ],
   "source": [
    "a=12345\n",
    "res=0\n",
    "while a!=0:\n",
    "    res=res*10+a%10\n",
    "    print(res)\n",
    "    a=a//10\n",
    "    print(a)\n",
    "res"
   ]
  },
  {
   "cell_type": "code",
   "execution_count": 22,
   "id": "65ec381c-ad69-43e7-b047-5f43580e4f54",
   "metadata": {},
   "outputs": [
    {
     "name": "stdout",
     "output_type": "stream",
     "text": [
      "5\n",
      "1234\n",
      "54\n",
      "123\n",
      "543\n",
      "12\n",
      "5432\n",
      "1\n",
      "54321\n",
      "0\n"
     ]
    },
    {
     "data": {
      "text/plain": [
       "54321"
      ]
     },
     "execution_count": 22,
     "metadata": {},
     "output_type": "execute_result"
    }
   ],
   "source": [
    "a=12345\n",
    "rev=0\n",
    "while a!=0:\n",
    "    rev=rev*10+a%10 \n",
    "    print(rev)\n",
    "    a=a//10\n",
    "    print(a)\n",
    "\n",
    "rev   "
   ]
  },
  {
   "cell_type": "code",
   "execution_count": null,
   "id": "a1680483-4b66-4271-9784-fc890284b820",
   "metadata": {},
   "outputs": [],
   "source": []
  },
  {
   "cell_type": "code",
   "execution_count": null,
   "id": "39e5db02-4b52-49dd-aa94-4781ecebf9e8",
   "metadata": {},
   "outputs": [],
   "source": []
  },
  {
   "cell_type": "code",
   "execution_count": null,
   "id": "7f89b223-9cd9-458a-a76a-74b054a8b4ad",
   "metadata": {},
   "outputs": [],
   "source": []
  },
  {
   "cell_type": "code",
   "execution_count": null,
   "id": "a71f3067-dd45-412a-bec6-e3f646684fca",
   "metadata": {},
   "outputs": [],
   "source": []
  },
  {
   "cell_type": "code",
   "execution_count": null,
   "id": "dd11986e-7d06-47ef-a12e-efe978b70316",
   "metadata": {},
   "outputs": [],
   "source": []
  },
  {
   "cell_type": "code",
   "execution_count": null,
   "id": "ff06cc76-b9db-40dd-a03a-76c6d15db656",
   "metadata": {},
   "outputs": [],
   "source": []
  },
  {
   "cell_type": "code",
   "execution_count": 55,
   "id": "ea6e0e6c-2fc5-45db-8685-65df36a05c0a",
   "metadata": {},
   "outputs": [
    {
     "name": "stdout",
     "output_type": "stream",
     "text": [
      "15\n"
     ]
    }
   ],
   "source": [
    "def main(fun):\n",
    "    def sub():\n",
    "        a=fun()\n",
    "        print(a//2)\n",
    "    return sub()\n",
    "@main\n",
    "def mult():\n",
    "    return 5*6\n"
   ]
  },
  {
   "cell_type": "code",
   "execution_count": null,
   "id": "91b86617-6d60-418e-bf6c-56d7a88564e6",
   "metadata": {},
   "outputs": [],
   "source": [
    "__repr__  # work\n"
   ]
  },
  {
   "cell_type": "code",
   "execution_count": 33,
   "id": "6faed682-2db0-4afb-80ee-eb1016401899",
   "metadata": {},
   "outputs": [
    {
     "data": {
      "text/html": [
       "<div>\n",
       "<style scoped>\n",
       "    .dataframe tbody tr th:only-of-type {\n",
       "        vertical-align: middle;\n",
       "    }\n",
       "\n",
       "    .dataframe tbody tr th {\n",
       "        vertical-align: top;\n",
       "    }\n",
       "\n",
       "    .dataframe thead th {\n",
       "        text-align: right;\n",
       "    }\n",
       "</style>\n",
       "<table border=\"1\" class=\"dataframe\">\n",
       "  <thead>\n",
       "    <tr style=\"text-align: right;\">\n",
       "      <th></th>\n",
       "      <th>Name</th>\n",
       "      <th>age</th>\n",
       "    </tr>\n",
       "  </thead>\n",
       "  <tbody>\n",
       "    <tr>\n",
       "      <th>0</th>\n",
       "      <td>javed</td>\n",
       "      <td>23</td>\n",
       "    </tr>\n",
       "    <tr>\n",
       "      <th>1</th>\n",
       "      <td>ram</td>\n",
       "      <td>34</td>\n",
       "    </tr>\n",
       "  </tbody>\n",
       "</table>\n",
       "</div>"
      ],
      "text/plain": [
       "    Name  age\n",
       "0  javed   23\n",
       "1    ram   34"
      ]
     },
     "execution_count": 33,
     "metadata": {},
     "output_type": "execute_result"
    }
   ],
   "source": [
    "import pandas as pd\n",
    "data={\"Name\":[\"javed\",\"ram\"],\"age\":[23,34]}\n",
    "df=pd.DataFrame(data)\n",
    "df"
   ]
  },
  {
   "cell_type": "code",
   "execution_count": null,
   "id": "da7fa015-fec3-4427-b44b-826916507cf6",
   "metadata": {},
   "outputs": [],
   "source": [
    "address- [{addr1;\"ln1\",city:\"\", state\":\"},{addrs1;\"ln1\",city:\"\", state\":\"}]"
   ]
  },
  {
   "cell_type": "code",
   "execution_count": null,
   "id": "4f019146-4af9-440b-8d6e-3a0e2951d14c",
   "metadata": {},
   "outputs": [],
   "source": []
  },
  {
   "cell_type": "code",
   "execution_count": 37,
   "id": "05b8860e-d228-40b1-9831-70330898cdb2",
   "metadata": {},
   "outputs": [],
   "source": [
    "df[\"address\"]=[{\"addr1\":\"ln1\",\"city\":\"\", \"state\":\"\"},{\"addrs2\":\"ln2\",\"city\":\"\", \"state\":\"\"}]"
   ]
  },
  {
   "cell_type": "code",
   "execution_count": 38,
   "id": "0ebae4c6-30f8-4e01-a285-217ce31ee2d6",
   "metadata": {},
   "outputs": [
    {
     "data": {
      "text/html": [
       "<div>\n",
       "<style scoped>\n",
       "    .dataframe tbody tr th:only-of-type {\n",
       "        vertical-align: middle;\n",
       "    }\n",
       "\n",
       "    .dataframe tbody tr th {\n",
       "        vertical-align: top;\n",
       "    }\n",
       "\n",
       "    .dataframe thead th {\n",
       "        text-align: right;\n",
       "    }\n",
       "</style>\n",
       "<table border=\"1\" class=\"dataframe\">\n",
       "  <thead>\n",
       "    <tr style=\"text-align: right;\">\n",
       "      <th></th>\n",
       "      <th>Name</th>\n",
       "      <th>age</th>\n",
       "      <th>address</th>\n",
       "    </tr>\n",
       "  </thead>\n",
       "  <tbody>\n",
       "    <tr>\n",
       "      <th>0</th>\n",
       "      <td>javed</td>\n",
       "      <td>23</td>\n",
       "      <td>{'addr1': 'ln1', 'city': '', 'state': ''}</td>\n",
       "    </tr>\n",
       "    <tr>\n",
       "      <th>1</th>\n",
       "      <td>ram</td>\n",
       "      <td>34</td>\n",
       "      <td>{'addrs2': 'ln2', 'city': '', 'state': ''}</td>\n",
       "    </tr>\n",
       "  </tbody>\n",
       "</table>\n",
       "</div>"
      ],
      "text/plain": [
       "    Name  age                                     address\n",
       "0  javed   23   {'addr1': 'ln1', 'city': '', 'state': ''}\n",
       "1    ram   34  {'addrs2': 'ln2', 'city': '', 'state': ''}"
      ]
     },
     "execution_count": 38,
     "metadata": {},
     "output_type": "execute_result"
    }
   ],
   "source": [
    "df"
   ]
  },
  {
   "cell_type": "code",
   "execution_count": 41,
   "id": "03d1894f-eb7f-4d9f-980e-1573ad4709d9",
   "metadata": {},
   "outputs": [
    {
     "data": {
      "text/plain": [
       "0     {'addr1': 'ln1', 'city': '', 'state': ''}\n",
       "1    {'addrs2': 'ln2', 'city': '', 'state': ''}\n",
       "Name: address, dtype: object"
      ]
     },
     "execution_count": 41,
     "metadata": {},
     "output_type": "execute_result"
    }
   ],
   "source": [
    "df[\"address\"]"
   ]
  },
  {
   "cell_type": "code",
   "execution_count": 48,
   "id": "ba10717e-be59-4c4d-b71b-81ed0baf5479",
   "metadata": {},
   "outputs": [
    {
     "data": {
      "text/html": [
       "<div>\n",
       "<style scoped>\n",
       "    .dataframe tbody tr th:only-of-type {\n",
       "        vertical-align: middle;\n",
       "    }\n",
       "\n",
       "    .dataframe tbody tr th {\n",
       "        vertical-align: top;\n",
       "    }\n",
       "\n",
       "    .dataframe thead th {\n",
       "        text-align: right;\n",
       "    }\n",
       "</style>\n",
       "<table border=\"1\" class=\"dataframe\">\n",
       "  <thead>\n",
       "    <tr style=\"text-align: right;\">\n",
       "      <th></th>\n",
       "      <th>Name</th>\n",
       "      <th>age</th>\n",
       "      <th>address</th>\n",
       "      <th>city</th>\n",
       "    </tr>\n",
       "  </thead>\n",
       "  <tbody>\n",
       "    <tr>\n",
       "      <th>0</th>\n",
       "      <td>javed</td>\n",
       "      <td>23</td>\n",
       "      <td>{'addr1': 'ln1', 'city': '', 'state': ''}</td>\n",
       "      <td>ind</td>\n",
       "    </tr>\n",
       "    <tr>\n",
       "      <th>1</th>\n",
       "      <td>ram</td>\n",
       "      <td>34</td>\n",
       "      <td>{'addrs2': 'ln2', 'city': '', 'state': ''}</td>\n",
       "      <td>ind</td>\n",
       "    </tr>\n",
       "  </tbody>\n",
       "</table>\n",
       "</div>"
      ],
      "text/plain": [
       "    Name  age                                     address city\n",
       "0  javed   23   {'addr1': 'ln1', 'city': '', 'state': ''}  ind\n",
       "1    ram   34  {'addrs2': 'ln2', 'city': '', 'state': ''}  ind"
      ]
     },
     "execution_count": 48,
     "metadata": {},
     "output_type": "execute_result"
    }
   ],
   "source": [
    "df[\"city\"]=df.iloc[0,2][\"city\"]\n",
    "df[\"city\"]=\"ind\"\n",
    "df"
   ]
  },
  {
   "cell_type": "code",
   "execution_count": null,
   "id": "3af47654-3890-45c0-87e5-799f3d5d01a0",
   "metadata": {},
   "outputs": [],
   "source": [
    "df1.merge(df2,df[\"x\"],how=\"left\")"
   ]
  },
  {
   "cell_type": "code",
   "execution_count": null,
   "id": "6576bddb-9417-4854-9d98-62aece87f976",
   "metadata": {},
   "outputs": [],
   "source": [
    "table.columnanem table2.columname "
   ]
  },
  {
   "cell_type": "code",
   "execution_count": 50,
   "id": "f4a8fd8d-02d9-4b75-9339-5a1c28fa7fd8",
   "metadata": {},
   "outputs": [
    {
     "data": {
      "text/plain": [
       "'hello'"
      ]
     },
     "execution_count": 50,
     "metadata": {},
     "output_type": "execute_result"
    }
   ],
   "source": [
    "a=\"hello\"\n",
    "str(a)"
   ]
  },
  {
   "cell_type": "code",
   "execution_count": 51,
   "id": "ebb823cc-5e32-4550-a55c-8f5e11018044",
   "metadata": {},
   "outputs": [
    {
     "data": {
      "text/plain": [
       "\"'hello'\""
      ]
     },
     "execution_count": 51,
     "metadata": {},
     "output_type": "execute_result"
    }
   ],
   "source": [
    "repr(a)"
   ]
  },
  {
   "cell_type": "code",
   "execution_count": 68,
   "id": "7e77a2ae-264a-4533-ab05-e9628c0050dd",
   "metadata": {},
   "outputs": [
    {
     "name": "stdout",
     "output_type": "stream",
     "text": [
      "54321\n"
     ]
    }
   ],
   "source": [
    "a=12345\n",
    "b=\"\"\n",
    "for i in range(len(str(a))):\n",
    "    c=a%10\n",
    "    b=b+str(c)\n",
    "    a=a//10\n",
    "print(b)"
   ]
  },
  {
   "cell_type": "code",
   "execution_count": 82,
   "id": "420bcbf9-81ae-4536-9cd7-5d96a4ef42c6",
   "metadata": {},
   "outputs": [
    {
     "name": "stdout",
     "output_type": "stream",
     "text": [
      "5 4 3 2 1 \n",
      "4 3 2 1 0 \n",
      "3 2 1 0 -1 \n",
      "2 1 0 -1 -2 \n",
      "1 0 -1 -2 -3 \n"
     ]
    }
   ],
   "source": [
    "n=5\n",
    "for i in range(n):\n",
    "    for j in range(n,0,-):\n",
    "        print(j,end=\" \")\n",
    "    print()"
   ]
  },
  {
   "cell_type": "code",
   "execution_count": null,
   "id": "8cb44a28-945a-48a5-80ed-e33a836a4842",
   "metadata": {},
   "outputs": [],
   "source": []
  },
  {
   "cell_type": "code",
   "execution_count": null,
   "id": "f716f24b-e81c-4449-910f-28dee90953ff",
   "metadata": {},
   "outputs": [],
   "source": []
  },
  {
   "cell_type": "code",
   "execution_count": null,
   "id": "71801439-43de-4d5e-bba0-6f3ba4e25f1e",
   "metadata": {},
   "outputs": [],
   "source": []
  },
  {
   "cell_type": "code",
   "execution_count": null,
   "id": "a2c45d12-3e01-4a85-8373-068e1b2e86f2",
   "metadata": {},
   "outputs": [],
   "source": []
  },
  {
   "cell_type": "code",
   "execution_count": 13,
   "id": "3a2eb911-f94e-4d9e-bcd1-e802eaff893f",
   "metadata": {},
   "outputs": [],
   "source": [
    "#valid phone no\n",
    "\n",
    "# step1:length should be equal to 10\n",
    "# step2:all elelments should be digits\n",
    "# step3:number should start with 9 or 8 or 7 or 6\n"
   ]
  },
  {
   "cell_type": "code",
   "execution_count": 58,
   "id": "bdc28b84-c57d-476f-bb30-76e2074e682a",
   "metadata": {},
   "outputs": [
    {
     "name": "stdout",
     "output_type": "stream",
     "text": [
      "<class 'str'>\n",
      "<class 'str'>\n",
      "<class 'str'>\n",
      "<class 'str'>\n",
      "<class 'str'>\n",
      "<class 'str'>\n",
      "<class 'str'>\n",
      "<class 'str'>\n",
      "<class 'str'>\n",
      "<class 'str'>\n"
     ]
    },
    {
     "data": {
      "text/plain": [
       "'Invalid'"
      ]
     },
     "execution_count": 58,
     "metadata": {},
     "output_type": "execute_result"
    }
   ],
   "source": [
    "def valid_phone_no(num):\n",
    "    if len(num)!=10:\n",
    "        return \"Invalid\"\n",
    "    for i in num:\n",
    "        print(type(i))\n",
    "        if not i.isdigit():\n",
    "            return \"Invalid\"\n",
    "    if num[0] not in [9,8,6,7]:\n",
    "        return \"Invalid\"\n",
    "    return \"Valid\"\n",
    "valid_phone_no(\"8090909090\")"
   ]
  },
  {
   "cell_type": "code",
   "execution_count": 57,
   "id": "86210229-dbc0-4541-98d5-38e9a55ddfde",
   "metadata": {},
   "outputs": [
    {
     "name": "stdout",
     "output_type": "stream",
     "text": [
      "<class 'str'>\n",
      "true\n"
     ]
    }
   ],
   "source": [
    "a=\"8090909090\"\n",
    "b=a[0]\n",
    "print(type(b))\n",
    "if b.isdigit():\n",
    "    print(\"true\")"
   ]
  },
  {
   "cell_type": "code",
   "execution_count": null,
   "id": "f72649bd-91c5-4373-909f-f6cc6dd48839",
   "metadata": {},
   "outputs": [],
   "source": []
  },
  {
   "cell_type": "code",
   "execution_count": null,
   "id": "6814bf24-d0c9-4848-92a8-fa93376f2819",
   "metadata": {},
   "outputs": [],
   "source": []
  },
  {
   "cell_type": "code",
   "execution_count": null,
   "id": "ffea98ca-786f-438c-8621-c13149e950a6",
   "metadata": {},
   "outputs": [],
   "source": []
  },
  {
   "cell_type": "code",
   "execution_count": null,
   "id": "246912d2-ff4d-4e89-9784-5e1a747e48b7",
   "metadata": {},
   "outputs": [],
   "source": []
  },
  {
   "cell_type": "code",
   "execution_count": null,
   "id": "5e86d848-96b1-4a3f-859b-d9271b5bbe61",
   "metadata": {},
   "outputs": [],
   "source": []
  },
  {
   "cell_type": "code",
   "execution_count": null,
   "id": "3831ea98-5cfc-4aa6-b731-205a96ef4cfe",
   "metadata": {},
   "outputs": [],
   "source": []
  },
  {
   "cell_type": "code",
   "execution_count": null,
   "id": "83edee3e-692f-465f-b8a0-73a885f9e507",
   "metadata": {},
   "outputs": [],
   "source": [
    "# pan card validator"
   ]
  },
  {
   "cell_type": "code",
   "execution_count": null,
   "id": "dcdcc848-ef82-4038-8f0e-c64c3a540ba2",
   "metadata": {},
   "outputs": [],
   "source": [
    "ABCDE 1234 K\n",
    "length=10\n",
    "first 5 char-->alpa+upper\n",
    "nect 4 chr-->digits\n",
    "last charcter-->alpha+upper\n",
    "\n",
    "\n",
    "\n"
   ]
  },
  {
   "cell_type": "code",
   "execution_count": 52,
   "id": "565201e0-88cc-4347-90db-5db1cf6a4dcb",
   "metadata": {},
   "outputs": [
    {
     "data": {
      "text/plain": [
       "'Valid'"
      ]
     },
     "execution_count": 52,
     "metadata": {},
     "output_type": "execute_result"
    }
   ],
   "source": [
    "def pan_validate(num):\n",
    "    if len(num)!=10:\n",
    "        return \"Invalid\"\n",
    "    for i in range(0,5):\n",
    "        if not num[i].isalpha() or not num[i].upper():\n",
    "            return \"Invalid\"\n",
    "    for i in range(5,9):\n",
    "        if not num[i].isdigit():\n",
    "            return \"Invalid\"\n",
    "    if not num[-1].isupper() or not num[i].upper():\n",
    "        return \"Invalid\"\n",
    "    return \"Valid\"\n",
    "pan_validate(\"ABCDE1234E\")\n",
    "        \n",
    "            \n",
    "    "
   ]
  },
  {
   "cell_type": "code",
   "execution_count": 60,
   "id": "d5f0e312-f06d-4288-b3d9-8bac4bba67af",
   "metadata": {},
   "outputs": [
    {
     "data": {
      "text/plain": [
       "'HELLO'"
      ]
     },
     "execution_count": 60,
     "metadata": {},
     "output_type": "execute_result"
    }
   ],
   "source": [
    "a=\"hello\"\n",
    "a.upper()"
   ]
  },
  {
   "cell_type": "code",
   "execution_count": 62,
   "id": "387cd761-3e7c-43d9-ad47-56a3558860d8",
   "metadata": {},
   "outputs": [
    {
     "name": "stdout",
     "output_type": "stream",
     "text": [
      "yes\n"
     ]
    }
   ],
   "source": [
    "a=\"hello\"\n",
    "if a.islower():\n",
    "    print(\"yes\")"
   ]
  },
  {
   "cell_type": "code",
   "execution_count": null,
   "id": "633c7b7e-f276-4ec8-a954-ffcfb7ee466a",
   "metadata": {},
   "outputs": [],
   "source": []
  },
  {
   "cell_type": "code",
   "execution_count": null,
   "id": "f7db4ece-3d70-4220-bb5d-e86804f477a4",
   "metadata": {},
   "outputs": [],
   "source": []
  },
  {
   "cell_type": "code",
   "execution_count": null,
   "id": "ce51894a-a47c-4dbf-be92-1f208079759a",
   "metadata": {},
   "outputs": [],
   "source": []
  },
  {
   "cell_type": "code",
   "execution_count": null,
   "id": "fea12407-b7f2-4104-844f-99b5372749e3",
   "metadata": {},
   "outputs": [],
   "source": []
  },
  {
   "cell_type": "code",
   "execution_count": 5,
   "id": "0c959b2d-1904-4f2f-a38a-313daa3200cb",
   "metadata": {},
   "outputs": [
    {
     "name": "stdout",
     "output_type": "stream",
     "text": [
      "apple\n",
      "mango\n"
     ]
    }
   ],
   "source": [
    "a=[(1,\"apple\"),(2,\"mango\")]\n",
    "for _,v in a:\n",
    "    print(v)"
   ]
  },
  {
   "cell_type": "code",
   "execution_count": 15,
   "id": "f5725542-cda7-43d4-93c0-9f909f840a82",
   "metadata": {},
   "outputs": [
    {
     "data": {
      "text/plain": [
       "'0011'"
      ]
     },
     "execution_count": 15,
     "metadata": {},
     "output_type": "execute_result"
    }
   ],
   "source": [
    "x=3\n",
    "binary_representation = format(x, '04b')\n",
    "binary_representation \n"
   ]
  },
  {
   "cell_type": "code",
   "execution_count": 10,
   "id": "8e572704-24d9-4ee8-b9a3-1faf85c84214",
   "metadata": {},
   "outputs": [
    {
     "name": "stdout",
     "output_type": "stream",
     "text": [
      "4\n"
     ]
    }
   ],
   "source": [
    "x = 1\n",
    "shifted_value = x << 2\n",
    "result = int(bin(shifted_value), 2)\n",
    "print(result)"
   ]
  },
  {
   "cell_type": "code",
   "execution_count": 22,
   "id": "eb53809b-6ced-4bdc-8dc9-2e472056fca9",
   "metadata": {},
   "outputs": [
    {
     "data": {
      "text/plain": [
       "256"
      ]
     },
     "execution_count": 22,
     "metadata": {},
     "output_type": "execute_result"
    }
   ],
   "source": [
    "x=\"0100\"\n",
    "res=int(x,16)\n",
    "res"
   ]
  },
  {
   "cell_type": "code",
   "execution_count": 16,
   "id": "aa674e32-1f73-4654-9b8a-81293dbb1cb5",
   "metadata": {},
   "outputs": [
    {
     "data": {
      "text/plain": [
       "'0b11'"
      ]
     },
     "execution_count": 16,
     "metadata": {},
     "output_type": "execute_result"
    }
   ],
   "source": [
    "bin(3)"
   ]
  },
  {
   "cell_type": "code",
   "execution_count": 20,
   "id": "61283af0-0f65-4458-bc31-6c586efebbd4",
   "metadata": {},
   "outputs": [
    {
     "name": "stdout",
     "output_type": "stream",
     "text": [
      "1\n"
     ]
    }
   ],
   "source": []
  },
  {
   "cell_type": "code",
   "execution_count": 7,
   "id": "54f1dab2-28b5-40d4-9ed0-82a0b669aad2",
   "metadata": {},
   "outputs": [
    {
     "data": {
      "text/plain": [
       "'m**********s@gmail.com'"
      ]
     },
     "execution_count": 7,
     "metadata": {},
     "output_type": "execute_result"
    }
   ],
   "source": [
    "a=\"mjaveed1.its@gmail.com\"\n",
    "re=a.split(\"@\")\n",
    "name=re[0]\n",
    "domain=re[1]\n",
    "res=name[0]+(len(name)-2)*(\"*\")+name[-1]+\"@\"+domain\n",
    "res"
   ]
  },
  {
   "cell_type": "code",
   "execution_count": 15,
   "id": "c159c3db-8994-433e-9e04-97377a735fd4",
   "metadata": {},
   "outputs": [
    {
     "name": "stdout",
     "output_type": "stream",
     "text": [
      "a\n",
      "ab\n",
      "abc\n",
      "abcd\n",
      "b\n",
      "bc\n",
      "bcd\n",
      "c\n",
      "cd\n",
      "d\n"
     ]
    }
   ],
   "source": [
    "new=\"abcd\"\n",
    "for i in range(len(new)):\n",
    "    for j in range(i+1,len(new)+1):\n",
    "        print(new[i:j])"
   ]
  },
  {
   "cell_type": "code",
   "execution_count": 31,
   "id": "99f1a852-44c1-472d-8fd7-7264b7ebfedf",
   "metadata": {},
   "outputs": [
    {
     "data": {
      "text/plain": [
       "6"
      ]
     },
     "execution_count": 31,
     "metadata": {},
     "output_type": "execute_result"
    }
   ],
   "source": [
    "s = \"aaaabbaa\"\n",
    "c=\"\"\n",
    "d=[]\n",
    "for i in range(len(s)):\n",
    "    tem=s[i]\n",
    "    for j in range(i+1,len(s)):\n",
    "        tem=tem+s[j]\n",
    "        if tem==tem[::-1]:\n",
    "            d.append(tem)\n",
    "c={i:len(i) for i in d}\n",
    "c[max(c,key=c.get)]"
   ]
  },
  {
   "cell_type": "code",
   "execution_count": 56,
   "id": "4b3c16af-e7e7-4a8a-873e-577eb7de0dde",
   "metadata": {},
   "outputs": [
    {
     "name": "stdout",
     "output_type": "stream",
     "text": [
      "12\n",
      "a\n",
      "aA\n",
      "aAb\n",
      "aAbc\n",
      "aAbcb\n",
      "aAbcbd\n"
     ]
    }
   ],
   "source": [
    "a=\"aaaAAbbcccbd\"\n",
    "print(len(a))\n",
    "b=\"\"\n",
    "for i in range(len(a)):\n",
    "    if i==len(a)-1 or a[i]!=a[i+1]:\n",
    "            b=b+a[i]\n",
    "            print(b)\n",
    "\n"
   ]
  },
  {
   "cell_type": "code",
   "execution_count": 37,
   "id": "6c97275f-63ac-44c8-b169-9c91282cdf6f",
   "metadata": {},
   "outputs": [
    {
     "name": "stdout",
     "output_type": "stream",
     "text": [
      "True\n"
     ]
    }
   ],
   "source": [
    "print(\"a\"==\"a\")"
   ]
  },
  {
   "cell_type": "code",
   "execution_count": 63,
   "id": "6125844a-756f-44af-81f3-1e4e4944d41c",
   "metadata": {},
   "outputs": [
    {
     "data": {
      "text/plain": [
       "'mY nAmE iS jAvEd'"
      ]
     },
     "execution_count": 63,
     "metadata": {},
     "output_type": "execute_result"
    }
   ],
   "source": [
    "i = \"my name is javed\"\n",
    "# mY nAmE iS jAvEd\n",
    "res=i.split()\n",
    "\n",
    "b=[]\n",
    "for j in res:\n",
    "    temp=\"\"\n",
    "    for k in range(len(j)):\n",
    "        if k%2!=0:\n",
    "           temp=temp+j[k].upper()\n",
    "        else:\n",
    "            temp=temp+j[k]\n",
    "    b.append(temp)\n",
    "out=\" \".join(b)\n",
    "out    "
   ]
  },
  {
   "cell_type": "code",
   "execution_count": 66,
   "id": "d8b3ab96-0509-4beb-b9ec-1051cf231878",
   "metadata": {},
   "outputs": [
    {
     "data": {
      "text/plain": [
       "['aa', 'aaa', 'aaaa', 'aa', 'aaa', 'aa', 'aabbaa', 'abba', 'bb', 'aa']"
      ]
     },
     "execution_count": 66,
     "metadata": {},
     "output_type": "execute_result"
    }
   ],
   "source": [
    "s = \"aaaabbaa\"\n",
    "b=[]\n",
    "for i in range(len(s)):\n",
    "    temp=s[i]\n",
    "    for j in range(i+1,len(s)):\n",
    "        temp=temp+s[j]\n",
    "        if temp==temp[::-1]:\n",
    "            b.append(temp)\n",
    "b"
   ]
  },
  {
   "cell_type": "code",
   "execution_count": 71,
   "id": "0f1f1c68-39dc-45b3-bea8-d040044a0f61",
   "metadata": {},
   "outputs": [
    {
     "data": {
      "text/plain": [
       "[('A', 'B'), ('A', 'C')]"
      ]
     },
     "execution_count": 71,
     "metadata": {},
     "output_type": "execute_result"
    }
   ],
   "source": [
    "input= (\"A\", \"B\", \"C\") \n",
    "#[('A', 'B'), ('A', 'C')]\n",
    "f=input[0]\n",
    "d=[]\n",
    "for i in input:\n",
    "    if i==f:\n",
    "        continue\n",
    "    else:\n",
    "        d.append((f,i))\n",
    "d\n",
    "    \n",
    "    "
   ]
  },
  {
   "cell_type": "code",
   "execution_count": 81,
   "id": "5b08e3c6-5edd-4b65-8730-bb51bd3d9b58",
   "metadata": {},
   "outputs": [
    {
     "name": "stdout",
     "output_type": "stream",
     "text": [
      "gen911imw\n"
     ]
    }
   ],
   "source": [
    "import string\n",
    "import random\n",
    "d=[]\n",
    "for i in range(0,2):\n",
    "    c=random.choice(string.ascii_lowercase)\n",
    "    d.append(c)\n",
    "for i in range(0,5):\n",
    "    c=random.choice(string.ascii_lowercase+string.digits)\n",
    "    d.append(c)\n",
    "for i in range(0,2):\n",
    "    c=random.choice(string.ascii_lowercase)\n",
    "    d.append(c)\n",
    "print(\"\".join(d))\n",
    "    \n",
    "    \n",
    "    \n",
    "    "
   ]
  },
  {
   "cell_type": "code",
   "execution_count": 82,
   "id": "ad1f0cce-e785-4b54-aea1-f4c293982603",
   "metadata": {},
   "outputs": [
    {
     "data": {
      "text/plain": [
       "24"
      ]
     },
     "execution_count": 82,
     "metadata": {},
     "output_type": "execute_result"
    }
   ],
   "source": [
    "a=4\n",
    "b=6 \n",
    "c=0\n",
    "for i in range(0,b):\n",
    "   c=c+a\n",
    "c"
   ]
  },
  {
   "cell_type": "code",
   "execution_count": null,
   "id": "61bb20e0-fc85-4b53-8511-50c6e8bf1422",
   "metadata": {},
   "outputs": [],
   "source": []
  },
  {
   "cell_type": "code",
   "execution_count": null,
   "id": "24ef4c26-42ae-47ce-a9ea-5160c24d0323",
   "metadata": {},
   "outputs": [],
   "source": []
  },
  {
   "cell_type": "code",
   "execution_count": null,
   "id": "77ddb28e-8f27-43c9-9981-d383fd0cf962",
   "metadata": {},
   "outputs": [],
   "source": []
  },
  {
   "cell_type": "code",
   "execution_count": null,
   "id": "47bed546-27a9-42b7-927a-d56cb6cffb38",
   "metadata": {},
   "outputs": [],
   "source": []
  },
  {
   "cell_type": "code",
   "execution_count": null,
   "id": "d5979ab3-82c8-4329-b42d-e72f0c86c7c2",
   "metadata": {},
   "outputs": [],
   "source": []
  },
  {
   "cell_type": "code",
   "execution_count": null,
   "id": "077f896c-7d81-4cde-b9da-9bd9b985ff4c",
   "metadata": {},
   "outputs": [],
   "source": []
  },
  {
   "cell_type": "code",
   "execution_count": null,
   "id": "34f505f8-fedf-4440-8b90-03cb875a1cda",
   "metadata": {},
   "outputs": [],
   "source": []
  },
  {
   "cell_type": "code",
   "execution_count": null,
   "id": "58ca2ea8-f1d9-4ebe-8639-db3d24d2f4ce",
   "metadata": {},
   "outputs": [],
   "source": []
  },
  {
   "cell_type": "code",
   "execution_count": null,
   "id": "1d80fe35-9ebe-4ff8-b4d7-2492b724e5ea",
   "metadata": {},
   "outputs": [],
   "source": []
  },
  {
   "cell_type": "code",
   "execution_count": null,
   "id": "44232e3c-ef04-41e6-a398-1ac76a8cf25e",
   "metadata": {},
   "outputs": [],
   "source": []
  },
  {
   "cell_type": "code",
   "execution_count": null,
   "id": "3e75d621-e7ea-472b-933b-aed8d8ad0b6e",
   "metadata": {},
   "outputs": [],
   "source": []
  },
  {
   "cell_type": "code",
   "execution_count": null,
   "id": "66e2b6e7-f486-4104-804c-3cfd9079982d",
   "metadata": {},
   "outputs": [],
   "source": []
  },
  {
   "cell_type": "code",
   "execution_count": null,
   "id": "290fdeb7-4444-4ec6-8c8a-48dd26e65958",
   "metadata": {},
   "outputs": [],
   "source": []
  },
  {
   "cell_type": "code",
   "execution_count": null,
   "id": "81d99559-c67b-4ae6-8b7a-d05539713350",
   "metadata": {},
   "outputs": [],
   "source": [
    "algorithm to serialize binary and \n"
   ]
  },
  {
   "cell_type": "code",
   "execution_count": 8,
   "id": "01ec6f0d-9226-4f05-aee2-8c3e4340bed0",
   "metadata": {},
   "outputs": [
    {
     "data": {
      "text/plain": [
       "[1, 6, 7, 8, 9]"
      ]
     },
     "execution_count": 8,
     "metadata": {},
     "output_type": "execute_result"
    }
   ],
   "source": [
    "a=[0,2,3,4,5,10]  # 1,6,7,,8,9\n",
    "b=max(a)\n",
    "missing=[]\n",
    "for i in range(b+1):\n",
    "    if i not in a:\n",
    "        missing.append(i)\n",
    "missing\n"
   ]
  },
  {
   "cell_type": "code",
   "execution_count": null,
   "id": "84be1425-8e6b-40d5-8b23-9bfb5e1ea2b5",
   "metadata": {},
   "outputs": [],
   "source": [
    "find teh avg and  highet slaary of all emplyee in each dep \n",
    "\n",
    "select dep,max(salary),avg(salary) from table group by dep;\n"
   ]
  },
  {
   "cell_type": "code",
   "execution_count": null,
   "id": "7d3002d1-0378-44d4-9cd6-50a8f335bd00",
   "metadata": {},
   "outputs": [],
   "source": [
    "names of emp who salry is higher than the avg salary\n",
    "select names_emplyee from table where salary >\n",
    "(select avg(salary) from table) "
   ]
  },
  {
   "cell_type": "code",
   "execution_count": null,
   "id": "239c4c71-581d-48b7-9538-ce19c65cd513",
   "metadata": {},
   "outputs": [],
   "source": [
    "names of emp who has highest salary in each dep \n"
   ]
  },
  {
   "cell_type": "code",
   "execution_count": null,
   "id": "d4f4590f-f320-4964-af63-ccc56286468c",
   "metadata": {},
   "outputs": [],
   "source": [
    "#names of employees who have the highest salary within each department\n",
    "\n",
    "select employees,dep from table group by dept having maxSalary"
   ]
  },
  {
   "cell_type": "code",
   "execution_count": null,
   "id": "0aa541f9-05c6-41e3-a251-d509da50079d",
   "metadata": {},
   "outputs": [],
   "source": []
  },
  {
   "cell_type": "code",
   "execution_count": null,
   "id": "993deb40-add5-4f35-9cff-541cd3d12097",
   "metadata": {},
   "outputs": [],
   "source": []
  },
  {
   "cell_type": "code",
   "execution_count": null,
   "id": "58d9aeeb-0edd-4e84-a03b-7cfb9b081494",
   "metadata": {},
   "outputs": [],
   "source": []
  },
  {
   "cell_type": "code",
   "execution_count": null,
   "id": "196990f0-2fe4-4239-8311-8762e59c38eb",
   "metadata": {},
   "outputs": [],
   "source": []
  },
  {
   "cell_type": "code",
   "execution_count": null,
   "id": "1859ee1c-a9be-451a-899f-6115f3bab55c",
   "metadata": {},
   "outputs": [],
   "source": []
  },
  {
   "cell_type": "code",
   "execution_count": null,
   "id": "2c0607a1-bed4-45d6-9a26-97a83272f534",
   "metadata": {},
   "outputs": [],
   "source": []
  },
  {
   "cell_type": "code",
   "execution_count": null,
   "id": "88f2219f-2cfa-415f-a0c3-8473be3c9522",
   "metadata": {},
   "outputs": [],
   "source": []
  },
  {
   "cell_type": "code",
   "execution_count": 12,
   "id": "8756236b-8a61-40a8-90d3-16f637b5f712",
   "metadata": {},
   "outputs": [
    {
     "data": {
      "text/plain": [
       "Counter({1: 4, 2: 2, 3: 2})"
      ]
     },
     "execution_count": 12,
     "metadata": {},
     "output_type": "execute_result"
    }
   ],
   "source": [
    "a=[1,2,3,1,2,3,1,1]\n",
    "from collections import Counter\n",
    "def occurance(a):\n",
    "    res=Counter(a)\n",
    "    return res\n",
    "a=[1,2,3,1,2,3,1,1]\n",
    "occurance(a)\n",
    "    "
   ]
  },
  {
   "cell_type": "code",
   "execution_count": 14,
   "id": "45a190a4-7c6d-45a5-b5f4-8969c1c225da",
   "metadata": {},
   "outputs": [
    {
     "data": {
      "text/plain": [
       "{1: 4, 2: 2, 3: 2}"
      ]
     },
     "execution_count": 14,
     "metadata": {},
     "output_type": "execute_result"
    }
   ],
   "source": [
    "a=[1,2,3,1,2,3,1,1]\n",
    "b={}\n",
    "for i in a:\n",
    "    if i in b:\n",
    "        b[i]=b[i]+1\n",
    "    else:\n",
    "        b[i]=1\n",
    "b\n",
    "        "
   ]
  },
  {
   "cell_type": "code",
   "execution_count": 18,
   "id": "024db35d-5a1b-47be-8cb1-46ec2a4b95c6",
   "metadata": {},
   "outputs": [
    {
     "name": "stdout",
     "output_type": "stream",
     "text": [
      "this is the exgtra functinality added on top of prod data\n",
      "this code is present in prod env\n"
     ]
    }
   ],
   "source": [
    "\n",
    "def main(fun):\n",
    "    def sub():\n",
    "        print(\"this is the exgtra functinality added on top of prod data\")\n",
    "        fun()\n",
    "    return sub()\n",
    "@main\n",
    "\n",
    "def hello():\n",
    "    print(\"this code is present in prod env\")\n"
   ]
  },
  {
   "cell_type": "code",
   "execution_count": null,
   "id": "a78a193e-b97a-45e4-b8ff-66d421a277c5",
   "metadata": {},
   "outputs": [],
   "source": []
  },
  {
   "cell_type": "code",
   "execution_count": null,
   "id": "d3c49fe3-eb2f-4adf-9b86-7cf7c1db4c3d",
   "metadata": {},
   "outputs": [],
   "source": [
    "from fastapi import FastAPI\n",
    "app=FastAPI()\n",
    "\n",
    "app.get(\"/\")\n",
    "def hello():\n",
    "    return {\"data\":\"helloworld\"}\n",
    "\n",
    "uvicorn main:app --reload"
   ]
  },
  {
   "cell_type": "code",
   "execution_count": null,
   "id": "50f9afcb-2077-4bc8-9b8b-785d23a186aa",
   "metadata": {},
   "outputs": [],
   "source": []
  },
  {
   "cell_type": "code",
   "execution_count": null,
   "id": "49f12661-a5a6-4772-895d-f4cfdfeb0a96",
   "metadata": {},
   "outputs": [],
   "source": []
  },
  {
   "cell_type": "code",
   "execution_count": null,
   "id": "2ef75d9d-d530-402b-9e4a-016ebfeca1ab",
   "metadata": {},
   "outputs": [],
   "source": []
  },
  {
   "cell_type": "code",
   "execution_count": null,
   "id": "96cff51b-3571-48e3-9be2-cab5dce7ac51",
   "metadata": {},
   "outputs": [],
   "source": []
  },
  {
   "cell_type": "code",
   "execution_count": null,
   "id": "bd62b864-9386-4a14-be3b-0bbd9f3b2015",
   "metadata": {},
   "outputs": [],
   "source": []
  },
  {
   "cell_type": "code",
   "execution_count": null,
   "id": "852df37f-0be2-4c2f-b419-71244f8588db",
   "metadata": {},
   "outputs": [],
   "source": [
    "#(1, 2, 3 , [4,5,6], 7,8) \n",
    "#list comprehension usage using for loop and list comphresion"
   ]
  },
  {
   "cell_type": "code",
   "execution_count": null,
   "id": "75682b40-4eb5-4a76-9f91-f29b9bbf4227",
   "metadata": {},
   "outputs": [],
   "source": []
  },
  {
   "cell_type": "code",
   "execution_count": 1,
   "id": "2bb89742-8649-40b1-96ba-ee7a43587b81",
   "metadata": {},
   "outputs": [
    {
     "data": {
      "text/plain": [
       "[4, 8]"
      ]
     },
     "execution_count": 1,
     "metadata": {},
     "output_type": "execute_result"
    }
   ],
   "source": [
    "a=[1,2,3,4,5] \n",
    "\n",
    "b=[i*2 for i in a if i%2==0]\n",
    "b\n"
   ]
  },
  {
   "cell_type": "code",
   "execution_count": 7,
   "id": "e267baae-647e-4b7d-8860-78e6672823a8",
   "metadata": {},
   "outputs": [
    {
     "data": {
      "text/plain": [
       "{'X': 1, 'C': 2, 'B': 3, 'A': 10}"
      ]
     },
     "execution_count": 7,
     "metadata": {},
     "output_type": "execute_result"
    }
   ],
   "source": [
    "a={\"A\": 10, \"X\": 1, \"B\": 3, \"C\": 2}\n",
    "b=dict(sorted(a.items(),key=lambda x:x[1]))\n",
    "b"
   ]
  },
  {
   "cell_type": "code",
   "execution_count": 8,
   "id": "2724d36c-51f0-4b31-a3bf-f48882784382",
   "metadata": {},
   "outputs": [
    {
     "name": "stdout",
     "output_type": "stream",
     "text": [
      "this is child\n"
     ]
    }
   ],
   "source": [
    "class hello:\n",
    "    def parent(self):\n",
    "        print(\"this is parent\")\n",
    "class main(hello):\n",
    "    def parent(self):\n",
    "        print(\"this is child\")\n",
    "obj=main()\n",
    "obj.parent()\n"
   ]
  },
  {
   "cell_type": "code",
   "execution_count": null,
   "id": "87025aed-9549-4845-bad2-68ab01ead5c6",
   "metadata": {},
   "outputs": [],
   "source": [
    "#method overloading\n",
    "class hello:\n",
    "    def parent(self,firstname=\"\",lastname=\"\"):\n",
    "        print(\"this is parent\")\n"
   ]
  },
  {
   "cell_type": "code",
   "execution_count": null,
   "id": "f2278d29-2d95-4ef3-980a-ae168376cb46",
   "metadata": {},
   "outputs": [],
   "source": []
  },
  {
   "cell_type": "code",
   "execution_count": null,
   "id": "7a0b42e7-5b60-4ba1-b09a-b398a188860b",
   "metadata": {},
   "outputs": [],
   "source": []
  },
  {
   "cell_type": "code",
   "execution_count": null,
   "id": "930a5754-43b4-476d-bc1b-6d56c5dcef3e",
   "metadata": {},
   "outputs": [],
   "source": []
  },
  {
   "cell_type": "code",
   "execution_count": 19,
   "id": "e312cce6-4914-4155-998c-4c25f172000a",
   "metadata": {},
   "outputs": [
    {
     "name": "stdout",
     "output_type": "stream",
     "text": [
      "5\n"
     ]
    }
   ],
   "source": [
    "#parameter dec\n",
    "\n",
    "def abc(fun):\n",
    "    def sub(a,b):\n",
    "        res=fun(a,b)\n",
    "        out=res+10\n",
    "        \n",
    "    return sub\n",
    "@abc\n",
    "def main(a,b):\n",
    "    return a+b\n",
    "x=main(2,3)\n",
    "print(x)"
   ]
  },
  {
   "cell_type": "code",
   "execution_count": 20,
   "id": "4d17becc-4651-48cf-b5a4-11fb1003827b",
   "metadata": {},
   "outputs": [
    {
     "name": "stdout",
     "output_type": "stream",
     "text": [
      "integer division or modulo by zero\n"
     ]
    }
   ],
   "source": [
    "try:\n",
    "    5//0\n",
    "except Exception as e:\n",
    "    print(e)\n",
    "finally\n",
    "else"
   ]
  },
  {
   "cell_type": "code",
   "execution_count": null,
   "id": "76eec9ed-a1e8-4bae-9d84-815b1242ec27",
   "metadata": {},
   "outputs": [],
   "source": [
    "a={ }[ ]  [\"{\",\"[\"]   b=[\"{\",\"[\"], c=b.pop()\n",
    "{[()]}\n",
    "[[\n",
    "]]\n",
    "[[}}"
   ]
  },
  {
   "cell_type": "code",
   "execution_count": 39,
   "id": "ec71906f-0906-4fb7-b7d7-a5603f40697e",
   "metadata": {},
   "outputs": [
    {
     "name": "stdout",
     "output_type": "stream",
     "text": [
      "0\n",
      "balanced\n"
     ]
    }
   ],
   "source": [
    "a=\"[[}}\"\n",
    "b=[\"{\",\"[\",\"(\"]\n",
    "c=[]\n",
    "def balance(a):\n",
    "    b=[\"{\",\"[\",\"(\"]\n",
    "    c=[]\n",
    "    for i in a:\n",
    "        if i in b:\n",
    "            c.append(i)\n",
    "        else:\n",
    "            if len(c)!=0:\n",
    "                d=c.pop()\n",
    "                if d==\"{\":\n",
    "                    if i==\"}\":\n",
    "                      pass \n",
    "                    else:\n",
    "                        return \"False\n",
    "                elif d==\"[\":\n",
    "                    if i==\"]\":\n",
    "                        pass\n",
    "                    else:\n",
    "                        return False\n",
    "        \n",
    "                elif d==\"(\":\n",
    "                    if i==\")\":\n",
    "                        pass\n",
    "                    else:\n",
    "                        return False\n",
    "    print(len(c))\n",
    "    if len(c)==0:\n",
    "        print(\"balanced\")\n",
    "    else:\n",
    "        print(\"Not balance\")\n",
    "                    \n",
    "a=\"[[}}\"               \n",
    "balance(a)            \n",
    "        \n",
    "    \n"
   ]
  },
  {
   "cell_type": "code",
   "execution_count": null,
   "id": "9f33645b-4c49-49af-b102-15efcf4cf8ef",
   "metadata": {},
   "outputs": [],
   "source": []
  }
 ],
 "metadata": {
  "kernelspec": {
   "display_name": "Python 3 (ipykernel)",
   "language": "python",
   "name": "python3"
  },
  "language_info": {
   "codemirror_mode": {
    "name": "ipython",
    "version": 3
   },
   "file_extension": ".py",
   "mimetype": "text/x-python",
   "name": "python",
   "nbconvert_exporter": "python",
   "pygments_lexer": "ipython3",
   "version": "3.10.11"
  }
 },
 "nbformat": 4,
 "nbformat_minor": 5
}
