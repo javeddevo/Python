{
 "cells": [
  {
   "cell_type": "markdown",
   "id": "a35350e9-30bd-4373-9d01-a3d565b64b69",
   "metadata": {},
   "source": [
    "###  instance variable"
   ]
  },
  {
   "cell_type": "code",
   "execution_count": 10,
   "id": "ea61e802-a5e3-49ee-9a45-e0aa5abb8784",
   "metadata": {},
   "outputs": [
    {
     "data": {
      "text/plain": [
       "{'name': 'javed', 'age': 20}"
      ]
     },
     "execution_count": 10,
     "metadata": {},
     "output_type": "execute_result"
    }
   ],
   "source": [
    "class hello:\n",
    "    def __init__(self):\n",
    "        self.name=\"javed\"\n",
    "        self.age=20\n",
    "obj=hello()\n",
    "obj.__dict__"
   ]
  },
  {
   "cell_type": "code",
   "execution_count": 13,
   "id": "7cebed76-eeeb-49f6-8db3-e44b0cce257b",
   "metadata": {},
   "outputs": [
    {
     "data": {
      "text/plain": [
       "{'age': 20, 'np': 22344, 'name': 'javed'}"
      ]
     },
     "execution_count": 13,
     "metadata": {},
     "output_type": "execute_result"
    }
   ],
   "source": [
    "class hello:\n",
    "    def __init__(self):\n",
    "        self.age=20\n",
    "        self.np=22344\n",
    "    def sub(self):\n",
    "        self.name=\"javed\"\n",
    "e=hello()\n",
    "e.sub()  \n",
    "e.__dict__\n"
   ]
  },
  {
   "cell_type": "code",
   "execution_count": 17,
   "id": "e19e81fa-646a-4453-aa1f-0274e8253a75",
   "metadata": {},
   "outputs": [
    {
     "data": {
      "text/plain": [
       "{'age': 30, 'name': 'javeed', 'address': 'hyd', 'job': 'sales'}"
      ]
     },
     "execution_count": 17,
     "metadata": {},
     "output_type": "execute_result"
    }
   ],
   "source": [
    "class hello:\n",
    "    def __init__(self):\n",
    "        self.age=30\n",
    "        self.name=\"javeed\"\n",
    "    def sub(self):\n",
    "        self.address=\"hyd\"\n",
    "e=hello()\n",
    "e.sub()\n",
    "e.job=\"sales\" # object reference\n",
    "e.__dict__"
   ]
  },
  {
   "cell_type": "markdown",
   "id": "be1867db-c6b8-4144-8361-051091f91d8f",
   "metadata": {},
   "source": [
    "### delete instant variable "
   ]
  },
  {
   "cell_type": "code",
   "execution_count": 26,
   "id": "2b8e77ed-0830-4f04-89b5-a77baf4f1d4a",
   "metadata": {},
   "outputs": [
    {
     "data": {
      "text/plain": [
       "{'name': 'javed', 'age': 30}"
      ]
     },
     "execution_count": 26,
     "metadata": {},
     "output_type": "execute_result"
    }
   ],
   "source": [
    "class hello:\n",
    "    def __init__(self):\n",
    "        self.name=\"javed\"\n",
    "        self.age=30\n",
    "        self.no=132424\n",
    "    def sub(self):\n",
    "        self.address=\"delhi\"\n",
    "    def m1(self):\n",
    "        del self.address\n",
    "e=hello()\n",
    "e.sub()\n",
    "e.m1()\n",
    "del e.no\n",
    "e.__dict__\n"
   ]
  },
  {
   "cell_type": "code",
   "execution_count": 33,
   "id": "e3f66900-8dc2-45e9-8498-e9ef1dd6a5dc",
   "metadata": {},
   "outputs": [
    {
     "name": "stdout",
     "output_type": "stream",
     "text": [
      "{'age': 30, 'name': 'javeed'}\n",
      "{'age': 30, 'name': 'javeed', 'address': 'hyd'}\n"
     ]
    }
   ],
   "source": [
    "class hello:\n",
    "    def __init__(self):\n",
    "        self.age=30\n",
    "        self.name=\"javeed\"\n",
    "    def sub(self):\n",
    "        self.address=\"hyd\"\n",
    "e1=hello()\n",
    "e2=hello()\n",
    "e1.sub()\n",
    "e2.sub()\n",
    "del e1.address\n",
    "print(e1.__dict__)\n",
    "print(e2.__dict__)"
   ]
  },
  {
   "cell_type": "code",
   "execution_count": 36,
   "id": "8e876565-e75d-4e52-bbd6-c9afd99857c6",
   "metadata": {},
   "outputs": [
    {
     "data": {
      "text/plain": [
       "'my age is 20 and my name is javed'"
      ]
     },
     "execution_count": 36,
     "metadata": {},
     "output_type": "execute_result"
    }
   ],
   "source": [
    "class hello:\n",
    "    def __init__(self,age,name):\n",
    "        self.age=age\n",
    "        self.name=name\n",
    "        self.info=f\"my age is {self.age} and my name is {self.name}\"\n",
    "e=hello(20,\"javed\")\n",
    "e.info"
   ]
  },
  {
   "cell_type": "code",
   "execution_count": 43,
   "id": "17ea4b35-cc96-402c-9529-6adb714838d3",
   "metadata": {},
   "outputs": [
    {
     "name": "stdout",
     "output_type": "stream",
     "text": [
      "javed,20,30\n",
      "khan,30,30\n"
     ]
    }
   ],
   "source": [
    "class hello:\n",
    "    grade=10\n",
    "    def __init__(self,name,age):\n",
    "        self.name=name\n",
    "        self.age=age\n",
    "    def info(self):\n",
    "        return f\"{self.name},{self.age},{self.grade}\"\n",
    "    @classmethod    \n",
    "    def update(cls,grade):\n",
    "        cls.grade=grade\n",
    "e1=hello(\"javed\",20)\n",
    "e2=hello(\"khan\",30)\n",
    "e1.update(30)\n",
    "print(e1.info())\n",
    "print(e2.info())"
   ]
  },
  {
   "cell_type": "code",
   "execution_count": 49,
   "id": "af996d00-c8c7-48a3-83d4-ae19e2f2ea1d",
   "metadata": {},
   "outputs": [
    {
     "data": {
      "text/plain": [
       "3000.0"
      ]
     },
     "execution_count": 49,
     "metadata": {},
     "output_type": "execute_result"
    }
   ],
   "source": [
    "class account:\n",
    "    def __init__(self,balance):\n",
    "        self.balance=balance\n",
    "    def account_balance(self):\n",
    "        return self.balance\n",
    "class savingaccount(account):\n",
    "    def account_balance(self):\n",
    "        return (self.balance*0.2)+self.balance\n",
    "class fixedaccount(account):\n",
    "    def account_balance(self):\n",
    "        return (self.balance*0.5)+self.balance\n",
    "saving=savingaccount(1000)\n",
    "saving.account_balance()\n",
    "fixed=fixedaccount(2000)\n",
    "fixed.account_balance()"
   ]
  },
  {
   "cell_type": "code",
   "execution_count": 55,
   "id": "d10b8897-8353-4c3b-8192-8caccad67bda",
   "metadata": {},
   "outputs": [
    {
     "data": {
      "text/plain": [
       "str"
      ]
     },
     "execution_count": 55,
     "metadata": {},
     "output_type": "execute_result"
    }
   ],
   "source": [
    "class hello:\n",
    "    grade=10\n",
    "    def __init__(self,name,age):\n",
    "        self.name=name\n",
    "        self.age=age\n",
    "    def info(self):\n",
    "       return f\"{self.name},{self.age},{self.grade}\"\n",
    "e=hello(\"javed\",29)\n",
    "type(e.info())"
   ]
  },
  {
   "cell_type": "code",
   "execution_count": 14,
   "id": "104ef4a3-35df-4ac9-b0f2-16636848f00b",
   "metadata": {},
   "outputs": [
    {
     "data": {
      "text/plain": [
       "'javed.abdul@google.com'"
      ]
     },
     "execution_count": 14,
     "metadata": {},
     "output_type": "execute_result"
    }
   ],
   "source": [
    "class hello:\n",
    "    domain=\"google\"\n",
    "    def __init__(self,first,last):\n",
    "        self.first=first\n",
    "        self.last=last\n",
    "    def info(self):\n",
    "        return f\"{self.first}.{self.last}@{hello.domain}.com\"\n",
    "    @classmethod\n",
    "    def modify(cls,domain):\n",
    "        cls.domain=domain\n",
    "\n",
    "\n",
    "e=hello(\"javed\",\"abdul\")\n",
    "e.info()\n",
    "\n",
    "\n",
    "\n",
    "\n"
   ]
  },
  {
   "cell_type": "code",
   "execution_count": 15,
   "id": "e7be660a-1d4d-4d7e-8f32-b3dae609d593",
   "metadata": {},
   "outputs": [],
   "source": [
    "hello.modify(\"youtube\")"
   ]
  },
  {
   "cell_type": "code",
   "execution_count": 17,
   "id": "e48475ea-98e9-4f68-bd37-ec83b7e39a7e",
   "metadata": {},
   "outputs": [
    {
     "data": {
      "text/plain": [
       "'jk.kk@youtube.com'"
      ]
     },
     "execution_count": 17,
     "metadata": {},
     "output_type": "execute_result"
    }
   ],
   "source": [
    "e2=hello(\"jk\",\"kk\")\n",
    "e2.info()"
   ]
  },
  {
   "cell_type": "code",
   "execution_count": null,
   "id": "370684cb-059f-4cb6-8741-1c29b42c974a",
   "metadata": {},
   "outputs": [],
   "source": []
  }
 ],
 "metadata": {
  "kernelspec": {
   "display_name": "Python 3 (ipykernel)",
   "language": "python",
   "name": "python3"
  },
  "language_info": {
   "codemirror_mode": {
    "name": "ipython",
    "version": 3
   },
   "file_extension": ".py",
   "mimetype": "text/x-python",
   "name": "python",
   "nbconvert_exporter": "python",
   "pygments_lexer": "ipython3",
   "version": "3.10.11"
  }
 },
 "nbformat": 4,
 "nbformat_minor": 5
}
