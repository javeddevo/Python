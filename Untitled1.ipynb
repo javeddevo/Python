{
 "cells": [
  {
   "cell_type": "code",
   "execution_count": 8,
   "id": "fcf597e3-fcbc-46de-b62a-2dbfa2135626",
   "metadata": {},
   "outputs": [
    {
     "data": {
      "text/plain": [
       "[472, 978]"
      ]
     },
     "execution_count": 8,
     "metadata": {},
     "output_type": "execute_result"
    }
   ],
   "source": [
    "s=\"xlfj42dfhj472abc978xyx\"\n",
    "num=\"\"\n",
    "number=[]\n",
    "for i in s:\n",
    "    if i.isdigit():\n",
    "        num+=i\n",
    "    else:\n",
    "        number.append(num)\n",
    "        num=\"\"\n",
    "res=[int(i) for i in number if len(i)>2]\n",
    "res\n",
    "\n",
    "         \n",
    "        \n",
    "        \n",
    "\n",
    "    "
   ]
  },
  {
   "cell_type": "code",
   "execution_count": null,
   "id": "f0ebe5bb-affe-4efb-9f77-e4bb4eb86805",
   "metadata": {},
   "outputs": [],
   "source": []
  }
 ],
 "metadata": {
  "kernelspec": {
   "display_name": "Python 3 (ipykernel)",
   "language": "python",
   "name": "python3"
  },
  "language_info": {
   "codemirror_mode": {
    "name": "ipython",
    "version": 3
   },
   "file_extension": ".py",
   "mimetype": "text/x-python",
   "name": "python",
   "nbconvert_exporter": "python",
   "pygments_lexer": "ipython3",
   "version": "3.10.11"
  }
 },
 "nbformat": 4,
 "nbformat_minor": 5
}
