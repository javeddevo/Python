{
 "cells": [
  {
   "cell_type": "code",
   "execution_count": 5,
   "id": "e331ac89-8de8-4879-812c-e4fc0e9d2918",
   "metadata": {},
   "outputs": [
    {
     "data": {
      "text/plain": [
       "{1: ['a', 'd'], 2: ['b', 'e'], 3: ['c']}"
      ]
     },
     "execution_count": 5,
     "metadata": {},
     "output_type": "execute_result"
    }
   ],
   "source": [
    "input={\"a\":1,\"b\":2,\"c\":3,\"d\":1,\"e\":2}\n",
    "\n",
    "output={1:[\"a\",\"d\"],2:[\"b\",\"e\"],3:[\"c\"]}\n",
    "\n",
    "res={}\n",
    "\n",
    "for i,j in input.items():\n",
    "    if j not in res:\n",
    "        res[j]=[i]\n",
    "    else:\n",
    "        res[j].append(i)\n",
    "res\n",
    "        \n",
    "    \n",
    "    \n",
    "\n"
   ]
  },
  {
   "cell_type": "code",
   "execution_count": 12,
   "id": "1617b0f0-2896-4af1-8ff4-09ddbe7ea4c0",
   "metadata": {},
   "outputs": [
    {
     "name": "stdout",
     "output_type": "stream",
     "text": [
      "0 1 1 2 3 5 8 13 21 34 "
     ]
    }
   ],
   "source": [
    "def fibonic(n):\n",
    "    a=0\n",
    "    b=1\n",
    "    sum=0\n",
    "    for _ in range(n):\n",
    "        print(sum,end=\" \")\n",
    "        a=b\n",
    "        b=sum\n",
    "        sum=a+b\n",
    "fibonic(10)\n",
    "# 0,1,1,2,3,5,8,,13,"
   ]
  },
  {
   "cell_type": "code",
   "execution_count": 18,
   "id": "5a59d846-9c65-4c67-9f13-f9a76325de11",
   "metadata": {},
   "outputs": [
    {
     "name": "stdout",
     "output_type": "stream",
     "text": [
      "(1, 'apple')\n",
      "(2, 'mango')\n",
      "(3, 'banana')\n"
     ]
    },
    {
     "data": {
      "text/plain": [
       "{1: 'apple', 2: 'mango', 3: 'banana'}"
      ]
     },
     "execution_count": 18,
     "metadata": {},
     "output_type": "execute_result"
    }
   ],
   "source": [
    "a=[1,2,3,4]\n",
    "b=[\"apple\",\"mango\",\"banana\"]\n",
    "for i in zip(a,b):\n",
    "    print(i)\n",
    "c={a:b for a,b in zip(a,b)}\n",
    "c"
   ]
  },
  {
   "cell_type": "code",
   "execution_count": 32,
   "id": "6d39906a-779e-410a-b8a1-412dec8f2657",
   "metadata": {},
   "outputs": [
    {
     "data": {
      "text/plain": [
       "6"
      ]
     },
     "execution_count": 32,
     "metadata": {},
     "output_type": "execute_result"
    }
   ],
   "source": [
    "def main(fun):\n",
    "    def sub(a,b):\n",
    "        mul=a*b\n",
    "        return mul\n",
    "    return sub\n",
    "    \n",
    "        \n",
    "@main\n",
    "def add(a,b):\n",
    "    return a+b\n",
    "add(2,3)\n",
    "\n",
    "\n"
   ]
  },
  {
   "cell_type": "code",
   "execution_count": 1,
   "id": "38bf0d6d-6e4f-4d47-93ce-d6a49252016e",
   "metadata": {},
   "outputs": [
    {
     "name": "stdout",
     "output_type": "stream",
     "text": [
      "hey\n",
      "hey\n",
      "hey\n",
      "hey\n",
      "hey\n",
      "hey\n",
      "hey\n",
      "hey\n",
      "hey\n",
      "hey\n"
     ]
    }
   ],
   "source": []
  },
  {
   "cell_type": "code",
   "execution_count": 10,
   "id": "af8efdfb-d803-480f-b9fa-eab712663d4d",
   "metadata": {},
   "outputs": [
    {
     "name": "stdout",
     "output_type": "stream",
     "text": [
      "hey\n",
      "hey\n",
      "hey\n",
      "hey\n",
      "hey\n",
      "hey\n",
      "hey\n",
      "hey\n",
      "hey\n",
      "hey\n"
     ]
    }
   ],
   "source": [
    "c=1\n",
    "def hello(name):\n",
    "    global c\n",
    "    if c<=10:\n",
    "        print(name)\n",
    "        c=c+1\n",
    "        return hello(name)\n",
    "   \n",
    "hello(\"hey\")"
   ]
  },
  {
   "cell_type": "code",
   "execution_count": 15,
   "id": "3d0ee9a5-72dc-4a70-bdfb-7180f0c2b26b",
   "metadata": {},
   "outputs": [
    {
     "ename": "NameError",
     "evalue": "name 'prin' is not defined",
     "output_type": "error",
     "traceback": [
      "\u001b[1;31m---------------------------------------------------------------------------\u001b[0m",
      "\u001b[1;31mNameError\u001b[0m                                 Traceback (most recent call last)",
      "Cell \u001b[1;32mIn[15], line 4\u001b[0m\n\u001b[0;32m      2\u001b[0m start\u001b[38;5;241m=\u001b[39msrc[\u001b[38;5;241m0\u001b[39m]\n\u001b[0;32m      3\u001b[0m end\u001b[38;5;241m=\u001b[39msrc[\u001b[38;5;241m1\u001b[39m]\n\u001b[1;32m----> 4\u001b[0m \u001b[43mprin\u001b[49m\n\u001b[0;32m      5\u001b[0m \u001b[38;5;28;01mfor\u001b[39;00m i \u001b[38;5;129;01min\u001b[39;00m \u001b[38;5;28mrange\u001b[39m(start\u001b[38;5;241m+\u001b[39m\u001b[38;5;241m1\u001b[39m,end):\n\u001b[0;32m      6\u001b[0m     \u001b[38;5;66;03m#if i not in src:\u001b[39;00m\n\u001b[0;32m      7\u001b[0m         \u001b[38;5;28mprint\u001b[39m(i)\n",
      "\u001b[1;31mNameError\u001b[0m: name 'prin' is not defined"
     ]
    }
   ],
   "source": [
    "src=[2,7,8,9,15] #[3, 4, 5, 6]\n",
    "start=src[0]\n",
    "end=src[1]\n",
    "prin\n",
    "for i in range(start+1,end):\n",
    "    #if i not in src:\n",
    "        print(i)"
   ]
  },
  {
   "cell_type": "code",
   "execution_count": null,
   "id": "74580654-6448-4606-a1e4-559a331d3cb9",
   "metadata": {},
   "outputs": [],
   "source": []
  }
 ],
 "metadata": {
  "kernelspec": {
   "display_name": "Python 3 (ipykernel)",
   "language": "python",
   "name": "python3"
  },
  "language_info": {
   "codemirror_mode": {
    "name": "ipython",
    "version": 3
   },
   "file_extension": ".py",
   "mimetype": "text/x-python",
   "name": "python",
   "nbconvert_exporter": "python",
   "pygments_lexer": "ipython3",
   "version": "3.10.11"
  }
 },
 "nbformat": 4,
 "nbformat_minor": 5
}
