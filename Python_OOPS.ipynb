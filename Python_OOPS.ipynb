{
 "cells": [
  {
   "cell_type": "markdown",
   "id": "1b96c5f3-da91-46da-a8bc-1d8a1575c684",
   "metadata": {},
   "source": [
    "# Author: Javeed Mohammed Abdul \n",
    "#### Below are the python most asked interview question "
   ]
  },
  {
   "cell_type": "markdown",
   "id": "d0c66f51-fb36-4fff-b444-d4f98ecbfcdb",
   "metadata": {},
   "source": [
    "# What is a Class?\n",
    "A class is like a blueprint for creating objects. It defines attributes (variables) and methods (functions) that an object can have.\n",
    "\n",
    "# What is an Object?\n",
    "An object is an instance of a class. It is a real-world entity that has properties (attributes) and behaviors (methods).\n"
   ]
  },
  {
   "cell_type": "markdown",
   "id": "bf7761f3-72f1-44c6-a475-621d25904407",
   "metadata": {},
   "source": [
    "## Two types of variables in a class:\n",
    "1. Instance Variables (Object-specific)  \n",
    "2. Class Variables (Shared across all objects)\n"
   ]
  },
  {
   "cell_type": "code",
   "execution_count": 7,
   "id": "6d75a077-b102-4f29-bec0-a85a2d542cf3",
   "metadata": {},
   "outputs": [
    {
     "data": {
      "text/plain": [
       "'red'"
      ]
     },
     "execution_count": 7,
     "metadata": {},
     "output_type": "execute_result"
    }
   ],
   "source": [
    "class hello:\n",
    "    def __init__(self,name,color):\n",
    "        self.name=name #instance variables\n",
    "        self.color=color #instance variables\n",
    "a=hello(\"maruti\",\"red\")\n",
    "a.color\n"
   ]
  },
  {
   "cell_type": "code",
   "execution_count": 11,
   "id": "ca63c05c-216e-4a80-b11f-d85ed877dd00",
   "metadata": {},
   "outputs": [
    {
     "data": {
      "text/plain": [
       "100"
      ]
     },
     "execution_count": 11,
     "metadata": {},
     "output_type": "execute_result"
    }
   ],
   "source": [
    "class hello:\n",
    "    marks=100  #class variable\n",
    "    def __init__(self,name,age):\n",
    "        self.name=name\n",
    "        self.age=age\n",
    "a=hello(\"javeed\",23)\n",
    "a.marks"
   ]
  },
  {
   "cell_type": "markdown",
   "id": "0d6470ca-9845-4f78-af81-62562fac8bf6",
   "metadata": {},
   "source": [
    "## The four pillars of Object-Oriented Programming (OOP) in Python are:\n",
    "1. Encapsulation\n",
    "2. Abstraction\n",
    "3. Inheritance\n",
    "4. Polymorphism"
   ]
  },
  {
   "cell_type": "markdown",
   "id": "5ef85f67-4faf-4d94-952b-97a8ebd43b50",
   "metadata": {},
   "source": [
    "## Inheritence"
   ]
  },
  {
   "cell_type": "markdown",
   "id": "9a761e35-0252-4615-b5f5-a53f7098438c",
   "metadata": {},
   "source": [
    "##### single velevl inheritence"
   ]
  },
  {
   "cell_type": "code",
   "execution_count": 17,
   "id": "f64300b0-1883-42da-b1ef-778b7319c763",
   "metadata": {},
   "outputs": [
    {
     "data": {
      "text/plain": [
       "'this is parent'"
      ]
     },
     "execution_count": 17,
     "metadata": {},
     "output_type": "execute_result"
    }
   ],
   "source": [
    "class parent:\n",
    "    def hello(self):\n",
    "        return \"this is parent\"\n",
    "class child(parent):\n",
    "    def is_child(self):\n",
    "        return \"this is child\"\n",
    "a=child()\n",
    "a.is_child()\n",
    "a.hello()\n",
    "\n",
    "        "
   ]
  },
  {
   "cell_type": "code",
   "execution_count": null,
   "id": "a9c7fdd2-4c74-4330-95f3-fcf24c276f42",
   "metadata": {},
   "outputs": [],
   "source": [
    "# 👉multilevel inheritence"
   ]
  },
  {
   "cell_type": "code",
   "execution_count": 4,
   "id": "6fe02357-f5ab-40fc-9037-95b676123538",
   "metadata": {},
   "outputs": [
    {
     "data": {
      "text/plain": [
       "'this is parent'"
      ]
     },
     "execution_count": 4,
     "metadata": {},
     "output_type": "execute_result"
    }
   ],
   "source": [
    "class grand:\n",
    "    def isgrand(self):\n",
    "        return \"this is parent\"\n",
    "class father(grand):\n",
    "    def isfather(self):\n",
    "        return \"this ios father\"\n",
    "class child(father):\n",
    "    def ischild(self):\n",
    "        return \"this is the child\"\n",
    "a=child()\n",
    "a.ischild()\n",
    "a.isfather()\n",
    "a.isgrand()"
   ]
  },
  {
   "cell_type": "code",
   "execution_count": 34,
   "id": "b69c5fea-b97c-4658-b7e9-8b273fd80784",
   "metadata": {},
   "outputs": [
    {
     "data": {
      "text/plain": [
       "'this is parent'"
      ]
     },
     "execution_count": 34,
     "metadata": {},
     "output_type": "execute_result"
    }
   ],
   "source": [
    "# h👉ierarichal inheritence\n",
    "class parent:\n",
    "    def isparent(self):\n",
    "        return \"this is parent\"\n",
    "class child1(parent):\n",
    "    def ischild1(self):\n",
    "        return \"this is child1\"\n",
    "class child2(parent):\n",
    "    def ischild2(self):\n",
    "        return \"this is child2\"\n",
    "a=child2()\n",
    "a.ischild2()\n",
    "a.isparent()"
   ]
  },
  {
   "cell_type": "code",
   "execution_count": 38,
   "id": "2b963b64-dfe3-4c47-96e9-a3d25c7fee77",
   "metadata": {},
   "outputs": [
    {
     "data": {
      "text/plain": [
       "'this is father'"
      ]
     },
     "execution_count": 38,
     "metadata": {},
     "output_type": "execute_result"
    }
   ],
   "source": [
    "# 👉multiple inheritence\n",
    "class father:\n",
    "    def isfather(self):\n",
    "        return \"this is father\"\n",
    "class mother:\n",
    "    def ismother(self):\n",
    "        return \"this is mother\"\n",
    "class child(father,mother):\n",
    "    def ischild(self):\n",
    "        return \"this is child\"\n",
    "a=child()\n",
    "a.ischild()\n",
    "a.ismother()\n",
    "a.isfather()"
   ]
  },
  {
   "cell_type": "markdown",
   "id": "a6bd1148-49a3-451b-b09f-a41c5f33ff18",
   "metadata": {},
   "source": [
    "## Abstraction "
   ]
  },
  {
   "cell_type": "code",
   "execution_count": 6,
   "id": "e1250e07-4c13-495c-b07c-e0f4f63e28e9",
   "metadata": {},
   "outputs": [
    {
     "data": {
      "text/plain": [
       "'thsi si moving on water'"
      ]
     },
     "execution_count": 6,
     "metadata": {},
     "output_type": "execute_result"
    }
   ],
   "source": [
    "#👉hiding the implementation details just showing the essential feature to a user\n",
    "#👉python dosenot support abstarction dircetly ..hav eto use abc module\n",
    "from abc import ABC,abstractmethod\n",
    "class vehicle(ABC):\n",
    "    @abstractmethod\n",
    "    def move(self):\n",
    "        pass\n",
    "    \n",
    "class car:\n",
    "    def move(self):\n",
    "        return \"this moving on road\"\n",
    "class boat:\n",
    "    def move(self):\n",
    "        return \"thsi si moving on water\"\n",
    "a=boat()\n",
    "a.move()\n",
    "    \n"
   ]
  },
  {
   "cell_type": "markdown",
   "id": "5d32e53f-08f8-4215-9f68-e9b80a5918d3",
   "metadata": {},
   "source": [
    "# What Did We Learn?  \n",
    "\n",
    "✅ **Abstract classes act like a blueprint** → Every subclass must follow the rules.  \n",
    "✅ **If you inherit from an abstract class, you must implement all abstract methods.**  \n",
    "✅ **This ensures consistency** → All subclasses behave in the same way.  \n",
    "\n",
    "## Analogy: TV Remote 📺  \n",
    "\n",
    "- The **remote (abstract class)** has buttons (`power_on()`, `power_off()`).  \n",
    "- Every **TV brand (subclass) must implement those buttons** in their own way.  \n",
    "- If a **TV brand forgets to add `power_off()`**, it **won’t work** → Just like Python throws an error.  \n"
   ]
  },
  {
   "cell_type": "code",
   "execution_count": null,
   "id": "a62bbff6-e265-44a1-9525-d426318a5d19",
   "metadata": {},
   "outputs": [],
   "source": [
    "from abc import ABC,abstractmethod\n",
    "\n",
    "class Appliance(ABC):\n",
    "    @abstractmethod\n",
    "    def turn_on(self):\n",
    "        pass\n",
    "    @abstractmethod\n",
    "    def turn_off(self):\n",
    "        pass\n",
    "\n",
    "class phone(Appliance):\n",
    "    def turn_on(self):\n",
    "        return \"phone is turn on\"\n",
    "    def turn_off(self):\n",
    "        return \"phone turn off\"\n",
    "\n",
    "obj=phone()\n",
    "print(obj.turn_off())\n",
    "print(obj.turn_on())\n",
    "\n",
    "\n"
   ]
  },
  {
   "cell_type": "markdown",
   "id": "599921d2-78a9-4307-b53c-7173b3226fc7",
   "metadata": {},
   "source": [
    "## Polymorphism"
   ]
  },
  {
   "cell_type": "markdown",
   "id": "30f3830e-11fa-493d-8277-91aab022598c",
   "metadata": {},
   "source": [
    "#### Ability to take many forms.Same object having different behaviour.It can be achieved in two ways\n",
    "1. method overloading\n",
    "2. method overiding\n",
    "   "
   ]
  },
  {
   "cell_type": "code",
   "execution_count": 11,
   "id": "7b24d343-3a80-40eb-9a0f-424fa90c3185",
   "metadata": {},
   "outputs": [
    {
     "name": "stdout",
     "output_type": "stream",
     "text": [
      "welcome  \n",
      "welcome javeed \n",
      "welcome javeed abdul\n"
     ]
    }
   ],
   "source": [
    "#👉Method overlaoding \n",
    "#👉Class having more than one method with same name but different parameters is called method overloading \n",
    "class hello():\n",
    "    def show(self):\n",
    "       print(\"welcome\")\n",
    "    def show(self,firstname=\"\"):\n",
    "        print(\"welcome\",firstname)\n",
    "    def show(self,firstname=\"\",lastname=\"\"):\n",
    "        print(\"welcome\",firstname,lastname)\n",
    "a=hello()\n",
    "a.show()\n",
    "a.show(\"javeed\")\n",
    "a.show(\"javeed\",\"abdul\")\n"
   ]
  },
  {
   "cell_type": "code",
   "execution_count": 4,
   "id": "2f53d069-25fb-4ba7-8a0a-0991285af114",
   "metadata": {},
   "outputs": [
    {
     "name": "stdout",
     "output_type": "stream",
     "text": [
      "ranveer,deepika\n"
     ]
    }
   ],
   "source": [
    "#Example2\n",
    "class hello:\n",
    "    def sample(self,firstname=\"\",lastname=\"\"):\n",
    "        if firstname and lastname:\n",
    "            print(f\"{firstname},{lastname}\")\n",
    "        elif firstname:\n",
    "            print(firstname)\n",
    "        else:\n",
    "            print(\"welcome\")\n",
    "obj=hello()\n",
    "obj.sample(\"ranveer\",\"deepika\")"
   ]
  },
  {
   "cell_type": "code",
   "execution_count": 13,
   "id": "f003d63a-16a2-454d-a6f0-92e3a0a0ac2d",
   "metadata": {},
   "outputs": [
    {
     "name": "stdout",
     "output_type": "stream",
     "text": [
      "this is child class\n",
      "this is parent class\n"
     ]
    }
   ],
   "source": [
    "#👉method overiding\n",
    "#👉Having the same method name in two different classes\n",
    "class A:\n",
    "    def sample(self):\n",
    "        print(\"this is parent class\")\n",
    "class B(A):\n",
    "    def sample(self):\n",
    "        print(\"this is child class\")\n",
    "        super().sample()\n",
    "a=B()\n",
    "a.sample()"
   ]
  },
  {
   "cell_type": "markdown",
   "id": "a9e2ddbc-6115-486c-9cc2-f6345eb9b405",
   "metadata": {},
   "source": [
    "#### Access modifiers"
   ]
  },
  {
   "cell_type": "code",
   "execution_count": 7,
   "id": "7e45e49e-a84c-41ae-9bc4-ea3153a8e092",
   "metadata": {},
   "outputs": [
    {
     "name": "stdout",
     "output_type": "stream",
     "text": [
      "10 20 30\n"
     ]
    },
    {
     "data": {
      "text/plain": [
       "20"
      ]
     },
     "execution_count": 7,
     "metadata": {},
     "output_type": "execute_result"
    }
   ],
   "source": [
    "#👉It is used to set the limit of accesssing the attributes in a class\n",
    "class A:\n",
    "    a=10\n",
    "    _b=20 #protected\n",
    "    __c=30 #private\n",
    "    def hello(self):\n",
    "        print(self.a,self._b,self.__c)\n",
    "obj=A()\n",
    "obj.hello()\n",
    "obj._b\n",
    "#privated can be accessed\n"
   ]
  },
  {
   "cell_type": "markdown",
   "id": "6fb2895e-0423-489e-a6fb-222bae4ab332",
   "metadata": {},
   "source": [
    "#### Encapsulation "
   ]
  },
  {
   "cell_type": "code",
   "execution_count": 25,
   "id": "c35b5692-436b-479f-84c2-439b6dd58324",
   "metadata": {},
   "outputs": [
    {
     "name": "stdout",
     "output_type": "stream",
     "text": [
      "(10, 20)\n",
      "10\n"
     ]
    },
    {
     "ename": "AttributeError",
     "evalue": "'A' object has no attribute '__b'",
     "output_type": "error",
     "traceback": [
      "\u001b[1;31m---------------------------------------------------------------------------\u001b[0m",
      "\u001b[1;31mAttributeError\u001b[0m                            Traceback (most recent call last)",
      "Cell \u001b[1;32mIn[25], line 14\u001b[0m\n\u001b[0;32m     12\u001b[0m \u001b[38;5;28mprint\u001b[39m(obj\u001b[38;5;241m.\u001b[39mhello())\n\u001b[0;32m     13\u001b[0m \u001b[38;5;28mprint\u001b[39m(obj\u001b[38;5;241m.\u001b[39m_a)\n\u001b[1;32m---> 14\u001b[0m \u001b[38;5;28mprint\u001b[39m(\u001b[43mobj\u001b[49m\u001b[38;5;241;43m.\u001b[39;49m\u001b[43m__b\u001b[49m)\n",
      "\u001b[1;31mAttributeError\u001b[0m: 'A' object has no attribute '__b'"
     ]
    }
   ],
   "source": [
    "# 👉By Default Python provide access to variables and method globally \n",
    "# 👉By using encapsulation we can restrict the access of variables and methods \n",
    "#_b=20 #protected\n",
    "#__c=30 #private\n",
    "\n",
    "class A:\n",
    "    _a=10\n",
    "    __b=20\n",
    "    def hello(self):\n",
    "        return self._a,self.__b\n",
    "obj=A()\n",
    "print(obj.hello())\n",
    "print(obj._a)\n",
    "print(obj.__b)\n"
   ]
  },
  {
   "cell_type": "markdown",
   "id": "ebfe8437-692d-42ca-933d-fbbd886d272e",
   "metadata": {},
   "source": [
    "#### Name mangling in python "
   ]
  },
  {
   "cell_type": "code",
   "execution_count": null,
   "id": "48445e20-08de-4c72-b969-ff7323a2f095",
   "metadata": {},
   "outputs": [],
   "source": [
    "#👉 when an variable is assigned to double __ it will make name mangling.It helps prevent accidental name conflicts in subclasses."
   ]
  },
  {
   "cell_type": "code",
   "execution_count": 8,
   "id": "60b417ab-2c42-4936-9cf8-bb17e736b30f",
   "metadata": {},
   "outputs": [
    {
     "name": "stdout",
     "output_type": "stream",
     "text": [
      "['_A__b', '__class__', '__delattr__', '__dict__', '__dir__', '__doc__', '__eq__', '__format__', '__ge__', '__getattribute__', '__gt__', '__hash__', '__init__', '__init_subclass__', '__le__', '__lt__', '__module__', '__ne__', '__new__', '__reduce__', '__reduce_ex__', '__repr__', '__setattr__', '__sizeof__', '__str__', '__subclasshook__', '__weakref__', '_a']\n",
      "40\n"
     ]
    }
   ],
   "source": [
    "class A:\n",
    "    _a=30\n",
    "    __b=40 # it has created name mangling \n",
    "print(dir(A))\n",
    "#directly you cant access like A.__b\n",
    "#it can be acces through ClassName._ClassName__variable\n",
    "print(A._A__b)"
   ]
  },
  {
   "cell_type": "markdown",
   "id": "05069eea-95b1-47c6-a4bc-e3de17208be2",
   "metadata": {},
   "source": [
    "#### Duck typing "
   ]
  },
  {
   "cell_type": "code",
   "execution_count": 43,
   "id": "21c1c997-5dea-4cd7-8c7b-8a84d9aca4ae",
   "metadata": {},
   "outputs": [
    {
     "name": "stdout",
     "output_type": "stream",
     "text": [
      "the person can walk\n",
      "this is cat\n"
     ]
    }
   ],
   "source": [
    "# 👉irrespective of method belong to particular class it will execute if that mehtod is there in that class\n",
    "# 👉Duck typing means:\n",
    "# 👉If an object has the right method, you can use it—no need to check its type.\n",
    "class dog:\n",
    "    def walk(self):\n",
    "        print(\"this is bark\")\n",
    "class cat:\n",
    "    def walk(self):\n",
    "        print(\"this is cat\")\n",
    "class person:\n",
    "    def walk(self):\n",
    "        print(\"the person can walk\")\n",
    "def sample(obj):\n",
    "    obj.walk()\n",
    "a=person()\n",
    "sample(a)\n",
    "b=cat()\n",
    "sample(b)\n"
   ]
  },
  {
   "cell_type": "markdown",
   "id": "96ef4de6-d04c-4c1a-bdcb-19716b291326",
   "metadata": {},
   "source": [
    "#### monkey patching"
   ]
  },
  {
   "cell_type": "code",
   "execution_count": 49,
   "id": "0f61d8b2-d767-49fb-b241-13506cb319a9",
   "metadata": {},
   "outputs": [
    {
     "data": {
      "text/plain": [
       "'person speaks loudly'"
      ]
     },
     "execution_count": 49,
     "metadata": {},
     "output_type": "execute_result"
    }
   ],
   "source": [
    "#👉Monkey patching means dynamically changing a class or module at runtime.\n",
    "class A:\n",
    "    def speak(self):\n",
    "        return \"person speaks\"\n",
    "        \n",
    "def speak_loud(self):\n",
    "    return \"person speaks loudly\"\n",
    "A.speak=speak_loud  # here applying the monkey patching \n",
    "obj=A()\n",
    "obj.speak()\n",
    "    "
   ]
  },
  {
   "cell_type": "markdown",
   "id": "84ecc100-fd67-40a4-9c65-dc723c67ff3b",
   "metadata": {},
   "source": [
    "#### Class method \n"
   ]
  },
  {
   "cell_type": "code",
   "execution_count": null,
   "id": "60321259-c335-493b-a985-1407e682bddc",
   "metadata": {},
   "outputs": [],
   "source": [
    "#👉class method in Python is used to modify class variables. Class methods work at the class level rather than at the instance level. \n",
    "#👉They #are defined using the @classmethod decorator and take cls (the class itself) as the first parameter instead of self (the instance)."
   ]
  },
  {
   "cell_type": "code",
   "execution_count": 68,
   "id": "6ccc1839-2d86-401e-94cc-b5b5a17ac5b2",
   "metadata": {},
   "outputs": [
    {
     "data": {
      "text/plain": [
       "'javed.abdul@apple.com'"
      ]
     },
     "execution_count": 68,
     "metadata": {},
     "output_type": "execute_result"
    }
   ],
   "source": [
    "class hello:\n",
    "    company=\"google\"\n",
    "    def __init__(self,firstname,lastname):\n",
    "        self.firstname=firstname\n",
    "        self.lastname=lastname\n",
    "    def info(self):\n",
    "        return f\"{self.firstname}.{self.lastname}@{self.company}.com\"\n",
    "    @classmethod\n",
    "    def change_com(cls,newname):\n",
    "        cls.company=newname\n",
    "\n",
    "hello.change_com(\"apple\")  # here you are changing the class varibale\n",
    "        \n",
    "obj=hello(\"javed\",\"abdul\")\n",
    "obj.info()\n",
    "    "
   ]
  },
  {
   "cell_type": "markdown",
   "id": "819b3c62-3829-41a0-bf3b-4c0a5a52434d",
   "metadata": {},
   "source": [
    "#### static method"
   ]
  },
  {
   "cell_type": "code",
   "execution_count": 69,
   "id": "1b312df5-4627-44da-a908-752cc9e00341",
   "metadata": {},
   "outputs": [],
   "source": [
    "# 👉In instant method --self we are passing to access varibales\n",
    "# 👉In class method --we use cls as first parameter\n",
    "# 👉in static method we dont ahve to use any parameter \n"
   ]
  },
  {
   "cell_type": "code",
   "execution_count": 73,
   "id": "11db1f57-3162-4da5-857b-bca7e8648b54",
   "metadata": {},
   "outputs": [
    {
     "name": "stdout",
     "output_type": "stream",
     "text": [
      "javed.abdul@apple.com\n",
      "this is static method\n"
     ]
    }
   ],
   "source": [
    "class hello:\n",
    "    company=\"google\"\n",
    "    def __init__(self,firstname,lastname):\n",
    "        self.firstname=firstname\n",
    "        self.lastname=lastname\n",
    "    def info(self):\n",
    "        return f\"{self.firstname}.{self.lastname}@{self.company}.com\"\n",
    "    @classmethod\n",
    "    def change_com(cls,newname):  #have use cls \n",
    "        cls.company=newname\n",
    "    @staticmethod\n",
    "    def static_method(): # no need os any paramter \n",
    "        return \"this is static method\"\n",
    "\n",
    "hello.change_com(\"apple\")  # here you are changing the class varibale\n",
    "        \n",
    "obj=hello(\"javed\",\"abdul\")\n",
    "print(obj.info())\n",
    "print(obj.static_method())"
   ]
  },
  {
   "cell_type": "markdown",
   "id": "babda77d-5e74-4d60-a6c9-2ee3a966f5ce",
   "metadata": {},
   "source": [
    "#### property decorator"
   ]
  },
  {
   "cell_type": "code",
   "execution_count": null,
   "id": "d3abc20e-68ca-4ecd-8c55-69a7f9b51a38",
   "metadata": {},
   "outputs": [],
   "source": [
    "#👉 f you want to access a method as an attribute (without calling it with parentheses ()), \n",
    "# you can use the @property decorator."
   ]
  },
  {
   "cell_type": "code",
   "execution_count": 80,
   "id": "83abefa4-f73d-4b34-8ddf-22fa277b94df",
   "metadata": {},
   "outputs": [
    {
     "name": "stdout",
     "output_type": "stream",
     "text": [
      "javeed.abdul@google.com\n",
      "javeed.abdul@google.in\n"
     ]
    }
   ],
   "source": [
    "class hello:\n",
    "    company=\"google\"\n",
    "    def __init__(self,firstname,lastname):\n",
    "        self.firstname=firstname\n",
    "        self.lastname=lastname\n",
    "    \n",
    "    def info(self):\n",
    "        return f\"{self.firstname}.{self.lastname}@{self.company}.com\"\n",
    "    @property\n",
    "    def property_method(self):\n",
    "        return f\"{self.firstname}.{self.lastname}@{self.company}.in\"\n",
    "obj=hello(\"javeed\",\"abdul\")\n",
    "print(obj.info()) # we have to pass () as its a mehtod \n",
    "print(obj.property_method)  # here we dont need to pass method\n"
   ]
  },
  {
   "cell_type": "markdown",
   "id": "9f3a8e75-6462-46fd-981d-9ea01b885111",
   "metadata": {},
   "source": [
    "#### __str__ __repr__"
   ]
  },
  {
   "cell_type": "code",
   "execution_count": 84,
   "id": "a890b9ad-122b-43c5-bc40-d86bb31f8692",
   "metadata": {},
   "outputs": [],
   "source": [
    "# str for user fridenly \n",
    "# repr for devloper friendly \n",
    "# str:Readable and informal\t\n",
    "# repr:Unambiguous and precise"
   ]
  },
  {
   "cell_type": "code",
   "execution_count": 83,
   "id": "6161e512-de47-440f-9110-448bc60269e6",
   "metadata": {},
   "outputs": [
    {
     "name": "stdout",
     "output_type": "stream",
     "text": [
      "ocean(Jellyfish and the age is 5)\n",
      "Ocean('Jellyfish', 5)\n"
     ]
    }
   ],
   "source": [
    "class Ocean:\n",
    "\n",
    "    def __init__(self, sea_creature_name, sea_creature_age):\n",
    "        self.name = sea_creature_name\n",
    "        self.age = sea_creature_age\n",
    "    \n",
    "    def __str__(self):\n",
    "        return f'The creature type is {self.name} and the age is {self.age}'\n",
    "\n",
    "    def __repr__(self):\n",
    "        return f'Ocean(\\'{self.name}\\', {self.age})'\n",
    "\n",
    "c = Ocean('Jellyfish', 5)\n",
    "\n",
    "print(str(c))\n",
    "print(repr(c))"
   ]
  },
  {
   "cell_type": "code",
   "execution_count": 88,
   "id": "791c1d8b-050b-41af-b950-5cc8c7ff1b9d",
   "metadata": {},
   "outputs": [
    {
     "name": "stdout",
     "output_type": "stream",
     "text": [
      "2025-02-04 01:11:19.344314\n",
      "datetime.datetime(2025, 2, 4, 1, 11, 19, 344314)\n"
     ]
    }
   ],
   "source": [
    "from datetime import datetime\n",
    "t=datetime.now()\n",
    "print(str(t)) # more redable way \n",
    "print(repr(t))  # more precise/accurate way "
   ]
  },
  {
   "cell_type": "markdown",
   "id": "b41a0280-f2e2-4015-908e-6b4a50ac0585",
   "metadata": {},
   "source": [
    "####  \" __call__\""
   ]
  },
  {
   "cell_type": "code",
   "execution_count": 4,
   "id": "5cec1b3b-e8e4-4369-9552-f107a217bce7",
   "metadata": {},
   "outputs": [
    {
     "name": "stdout",
     "output_type": "stream",
     "text": [
      "5\n"
     ]
    },
    {
     "data": {
      "text/plain": [
       "5"
      ]
     },
     "execution_count": 4,
     "metadata": {},
     "output_type": "execute_result"
    }
   ],
   "source": [
    "#fucntions and class are callble \n",
    "\n",
    "def add(x,y):\n",
    "    return x+y\n",
    "print(add.__call__(2,3))\n",
    "add(2,3)"
   ]
  },
  {
   "cell_type": "code",
   "execution_count": 7,
   "id": "700b8061-aa95-47c0-94e0-79c9cfe718ff",
   "metadata": {},
   "outputs": [
    {
     "name": "stdout",
     "output_type": "stream",
     "text": [
      "False\n",
      "True\n"
     ]
    }
   ],
   "source": [
    "x=3\n",
    "print(callable(x))  # not callable\n",
    "print(callable(add)) # callble"
   ]
  },
  {
   "cell_type": "code",
   "execution_count": 12,
   "id": "65f98c89-921f-4c17-a1e6-2df034b491ce",
   "metadata": {},
   "outputs": [
    {
     "data": {
      "text/plain": [
       "5"
      ]
     },
     "execution_count": 12,
     "metadata": {},
     "output_type": "execute_result"
    }
   ],
   "source": [
    "class hello:\n",
    "    def __init__(self,a,b):\n",
    "        self.a=a\n",
    "        self.b=b\n",
    "    def info(self):\n",
    "        return self.a+self.b\n",
    "o=hello(2,3)\n",
    "o.info()"
   ]
  },
  {
   "cell_type": "code",
   "execution_count": 17,
   "id": "31b69993-897f-4c51-8740-0c2b6c841e96",
   "metadata": {},
   "outputs": [
    {
     "data": {
      "text/plain": [
       "7"
      ]
     },
     "execution_count": 17,
     "metadata": {},
     "output_type": "execute_result"
    }
   ],
   "source": [
    "class hello:\n",
    "    def __init__(self,a,b):\n",
    "        self.a=a\n",
    "        self.b=b\n",
    "    def __call__(self,a,b):\n",
    "        return self.a+self.b\n",
    "o=hello(3,4)\n",
    "o(2,3)"
   ]
  },
  {
   "cell_type": "markdown",
   "id": "2fdae004-9607-4f27-9d81-6f2782fe5601",
   "metadata": {},
   "source": [
    "#### The __call__ method in Python allows an instance of a class to be called like a function. When you define __call__ inside a class, you can create objects that behave like functions."
   ]
  },
  {
   "cell_type": "code",
   "execution_count": 18,
   "id": "c6777af3-3795-47e0-9400-747b5f425bca",
   "metadata": {},
   "outputs": [
    {
     "name": "stdout",
     "output_type": "stream",
     "text": [
      "15\n"
     ]
    }
   ],
   "source": [
    "class Adder:\n",
    "    def __init__(self, value):\n",
    "        self.value = value\n",
    "    \n",
    "    def __call__(self, num):\n",
    "        return self.value + num\n",
    "\n",
    "add_five = Adder(5)  # Creating an instance\n",
    "\n",
    "print(add_five(10))  # Calling the instance like a function\n",
    "# Output: 15\n"
   ]
  },
  {
   "cell_type": "markdown",
   "id": "5519d185-78da-4500-b51e-0b6659b91af3",
   "metadata": {},
   "source": [
    "#### statcc method example "
   ]
  },
  {
   "cell_type": "code",
   "execution_count": 2,
   "id": "2c48c9d8-0e10-48b7-ad28-195f74451985",
   "metadata": {},
   "outputs": [
    {
     "name": "stdout",
     "output_type": "stream",
     "text": [
      "15\n",
      "5\n",
      "50\n",
      "2.0\n"
     ]
    }
   ],
   "source": [
    "class Calculator:\n",
    "    @staticmethod\n",
    "    def add(a, b):\n",
    "        return a + b\n",
    "\n",
    "    @staticmethod\n",
    "    def subtract(a, b):\n",
    "        return a - b\n",
    "\n",
    "    @staticmethod\n",
    "    def multiply(a, b):\n",
    "        return a * b\n",
    "\n",
    "    @staticmethod\n",
    "    def divide(a, b):\n",
    "        return a / b if b != 0 else \"Cannot divide by zero\"\n",
    "\n",
    "# Calling methods\n",
    "print(Calculator.add(10, 5))        # Output: 15\n",
    "print(Calculator.subtract(10, 5))   # Output: 5\n",
    "print(Calculator.multiply(10, 5))   # Output: 50\n",
    "print(Calculator.divide(10, 5))     # Output: 2.0\n"
   ]
  },
  {
   "cell_type": "code",
   "execution_count": 20,
   "id": "336f41f4-3e6a-429e-832e-0ac8bad8bbb4",
   "metadata": {},
   "outputs": [
    {
     "name": "stdin",
     "output_type": "stream",
     "text": [
      "Enter course:  ml\n",
      "Enter the instrctor:  javeed\n",
      "enter the student name ravi\n"
     ]
    },
    {
     "name": "stdout",
     "output_type": "stream",
     "text": [
      "ravi has enrolled successfully in ml course\n",
      "['ravi', 'ravi', 'ram', 'neel', 'ravi']\n",
      "course details:ml\n",
      "instructor is:javeed\n",
      "enrolled students is:ravi,ravi,ram,neel,ravi\n"
     ]
    },
    {
     "name": "stdin",
     "output_type": "stream",
     "text": [
      "Do you wnat to continue add student to the courses:[Enter 'Yes' or 'NO'] no\n"
     ]
    }
   ],
   "source": [
    "class OnlineCourse:\n",
    "    def __init__(self,course,instructor):\n",
    "        self.course=course\n",
    "        self.instructor=instructor\n",
    "        self.student=[]\n",
    "    def enroll(self,student):\n",
    "        self.student.append(student)\n",
    "        print(f\"{student} has enrolled successfully in {self.course} course\")\n",
    "        print(self.student)\n",
    "\n",
    "    def course_detials(self):\n",
    "        print(f\"course details:{self.course}\")\n",
    "        print(f\"instructor is:{self.instructor}\")\n",
    "        print(f\"enrolled students is:{','.join(self.student)}\")\n",
    "\n",
    "course_d=input(\"Enter course: \")\n",
    "instructor_d=input(\"Enter the instrctor: \")\n",
    "student1=OnlineCourse(course_d,instructor_d)\n",
    "while True:\n",
    "    student_name=input(\"enter the student name\")\n",
    "    o.enroll(student_name)\n",
    "    o.course_detials()\n",
    "    msg=input(\"Do you wnat to continue add student to the courses:[Enter 'Yes' or 'NO']\")\n",
    "    if msg.lower()==\"no\":\n",
    "        break\n",
    "\n",
    "# o1=OnlineCourse(\"ml\",\"javeed\")\n",
    "# o1.enroll(\"ravi\")\n",
    "# o1.course_detials()\n",
    "\n",
    "\n",
    "    "
   ]
  },
  {
   "cell_type": "code",
   "execution_count": 51,
   "id": "824fbb8f-43c1-4b71-a9de-953fe28af07a",
   "metadata": {},
   "outputs": [
    {
     "name": "stdout",
     "output_type": "stream",
     "text": [
      "your deposit amount of 100 is credited to your account 123456798\n",
      "you have withdrawn 12 from your account 123456798 Avalibale balance is Balance:88\n"
     ]
    }
   ],
   "source": [
    "class Sbi:\n",
    "    def __init__(self,account,pin):\n",
    "        self.account=account\n",
    "        self.__pin=pin\n",
    "        self.balance=0\n",
    "    def authorize(self,pin):\n",
    "        return self.__pin==pin\n",
    "    def deposit(self,amount,pin):\n",
    "        if self.authorize(pin):\n",
    "            self.balance=self.balance+amount\n",
    "            print(f\"your deposit amount of {amount} is credited to your account {self.account}\")\n",
    "        else:\n",
    "            print(\"check your pin\")\n",
    "    def get_balance(self):\n",
    "        return f\"Balance:{self.balance}\"\n",
    "\n",
    "    def withdraw(self,amount,pin):\n",
    "        if self.authorize(pin):\n",
    "            if amount>self.balance:\n",
    "                print(f\"You dont have a enough balance in you account to withdaw {amount}\")\n",
    "            \n",
    "            else:\n",
    "                self.balance-=amount\n",
    "                print(f\"you have withdrawn {amount} from your account {self.account} Avalibale balance is {self.get_balance()}\")\n",
    "                  \n",
    "        \n",
    "    \n",
    "javeed=Sbi(123456798,9030)\n",
    "javeed.deposit(100,9030)\n",
    "javeed.withdraw(12,9030)\n",
    "            "
   ]
  },
  {
   "cell_type": "code",
   "execution_count": 20,
   "id": "c79c6005-3367-40e8-85eb-75c7d9e980ab",
   "metadata": {},
   "outputs": [
    {
     "name": "stdout",
     "output_type": "stream",
     "text": [
      "abdul.javeed@apple.com\n",
      "details of abdul is registered in the apple company\n",
      "Thanks\n"
     ]
    }
   ],
   "source": [
    "class hello:\n",
    "    company=\"google\"\n",
    "    def __init__(self,name,last):\n",
    "        self.name=name\n",
    "        self.last=last\n",
    "    def info(self):\n",
    "        print(f\"{self.name}.{self.last}@{self.company}.com\")\n",
    "    @classmethod\n",
    "    def change_company(cls,newname):\n",
    "        cls.company=newname\n",
    "    @property\n",
    "    def pro_method(self):\n",
    "        print(f\"details of {self.name} is registered in the {self.company} company\")\n",
    "    \n",
    "    @staticmethod\n",
    "    def sample():\n",
    "        print(f\"Thanks\")\n",
    "hello.change_company(\"apple\")\n",
    "        \n",
    "obj=hello(\"abdul\",\"javeed\")\n",
    "obj.info()\n",
    "obj.pro_method\n",
    "obj.sample()"
   ]
  },
  {
   "cell_type": "markdown",
   "id": "38aa9705-e425-4a7a-bd61-ba04bc3fb527",
   "metadata": {},
   "source": [
    "#### Diamond Problem in inheritence"
   ]
  },
  {
   "cell_type": "code",
   "execution_count": 6,
   "id": "7fe6d47c-4f14-4890-91e9-52f4e2aa4740",
   "metadata": {},
   "outputs": [
    {
     "name": "stdout",
     "output_type": "stream",
     "text": [
      "thsi si class B\n",
      "[<class '__main__.D'>, <class '__main__.B'>, <class '__main__.C'>, <class '__main__.A'>, <class 'object'>]\n"
     ]
    }
   ],
   "source": [
    "class A:\n",
    "    def show(self):\n",
    "        print(\"this is A class\")\n",
    "class B(A):\n",
    "    def show(self):\n",
    "        print(\"thsi si class B\")\n",
    "class C(A):\n",
    "    def show(self):\n",
    "        print(\"this is class C\")\n",
    "class D(B,C):  # as it has same method it dose not know which method to class \n",
    "    # as it has same methods it gets confused and follow mro method (checks for b and c if not found then goes in B(A)\n",
    "    pass\n",
    "o=D()\n",
    "o.show()\n",
    "print(D.mro()) "
   ]
  },
  {
   "cell_type": "code",
   "execution_count": null,
   "id": "da2b111b-8321-4eb9-8c0a-4e2946fb818b",
   "metadata": {},
   "outputs": [],
   "source": [
    "####"
   ]
  },
  {
   "cell_type": "code",
   "execution_count": null,
   "id": "22793eea-d6d3-40f5-a5dd-fac2d503bc48",
   "metadata": {},
   "outputs": [],
   "source": []
  }
 ],
 "metadata": {
  "kernelspec": {
   "display_name": "Python 3 (ipykernel)",
   "language": "python",
   "name": "python3"
  },
  "language_info": {
   "codemirror_mode": {
    "name": "ipython",
    "version": 3
   },
   "file_extension": ".py",
   "mimetype": "text/x-python",
   "name": "python",
   "nbconvert_exporter": "python",
   "pygments_lexer": "ipython3",
   "version": "3.10.11"
  }
 },
 "nbformat": 4,
 "nbformat_minor": 5
}
