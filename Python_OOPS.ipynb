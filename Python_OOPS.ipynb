{
 "cells": [
  {
   "cell_type": "markdown",
   "id": "d0c66f51-fb36-4fff-b444-d4f98ecbfcdb",
   "metadata": {},
   "source": [
    "# What is a Class?\n",
    "A class is like a blueprint for creating objects. It defines attributes (variables) and methods (functions) that an object can have.\n",
    "\n",
    "# What is an Object?\n",
    "An object is an instance of a class. It is a real-world entity that has properties (attributes) and behaviors (methods).\n"
   ]
  },
  {
   "cell_type": "markdown",
   "id": "bf7761f3-72f1-44c6-a475-621d25904407",
   "metadata": {},
   "source": [
    "## Two types of variables in a class:\n",
    "1. Instance Variables (Object-specific)  \n",
    "2. Class Variables (Shared across all objects)\n"
   ]
  },
  {
   "cell_type": "code",
   "execution_count": 7,
   "id": "6d75a077-b102-4f29-bec0-a85a2d542cf3",
   "metadata": {},
   "outputs": [
    {
     "data": {
      "text/plain": [
       "'red'"
      ]
     },
     "execution_count": 7,
     "metadata": {},
     "output_type": "execute_result"
    }
   ],
   "source": [
    "class hello:\n",
    "    def __init__(self,name,color):\n",
    "        self.name=name #instance variables\n",
    "        self.color=color #instance variables\n",
    "a=hello(\"maruti\",\"red\")\n",
    "a.color\n"
   ]
  },
  {
   "cell_type": "code",
   "execution_count": 11,
   "id": "ca63c05c-216e-4a80-b11f-d85ed877dd00",
   "metadata": {},
   "outputs": [
    {
     "data": {
      "text/plain": [
       "100"
      ]
     },
     "execution_count": 11,
     "metadata": {},
     "output_type": "execute_result"
    }
   ],
   "source": [
    "class hello:\n",
    "    marks=100  #class variable\n",
    "    def __init__(self,name,age):\n",
    "        self.name=name\n",
    "        self.age=age\n",
    "a=hello(\"javeed\",23)\n",
    "a.marks"
   ]
  },
  {
   "cell_type": "markdown",
   "id": "0d6470ca-9845-4f78-af81-62562fac8bf6",
   "metadata": {},
   "source": [
    "## The four pillars of Object-Oriented Programming (OOP) in Python are:\n",
    "1. Encapsulation\n",
    "2. Abstraction\n",
    "3. Inheritance\n",
    "4. Polymorphism"
   ]
  },
  {
   "cell_type": "markdown",
   "id": "5ef85f67-4faf-4d94-952b-97a8ebd43b50",
   "metadata": {},
   "source": [
    "## Inheritence"
   ]
  },
  {
   "cell_type": "markdown",
   "id": "9a761e35-0252-4615-b5f5-a53f7098438c",
   "metadata": {},
   "source": [
    "##### single velevl inheritence"
   ]
  },
  {
   "cell_type": "code",
   "execution_count": 17,
   "id": "f64300b0-1883-42da-b1ef-778b7319c763",
   "metadata": {},
   "outputs": [
    {
     "data": {
      "text/plain": [
       "'this is parent'"
      ]
     },
     "execution_count": 17,
     "metadata": {},
     "output_type": "execute_result"
    }
   ],
   "source": [
    "class parent:\n",
    "    def hello(self):\n",
    "        return \"this is parent\"\n",
    "class child(parent):\n",
    "    def is_child(self):\n",
    "        return \"this is child\"\n",
    "a=child()\n",
    "a.is_child()\n",
    "a.hello()\n",
    "\n",
    "        "
   ]
  },
  {
   "cell_type": "code",
   "execution_count": null,
   "id": "a9c7fdd2-4c74-4330-95f3-fcf24c276f42",
   "metadata": {},
   "outputs": [],
   "source": [
    "# 👉multilevel inheritence"
   ]
  },
  {
   "cell_type": "code",
   "execution_count": 31,
   "id": "6fe02357-f5ab-40fc-9037-95b676123538",
   "metadata": {},
   "outputs": [
    {
     "data": {
      "text/plain": [
       "'this is parent'"
      ]
     },
     "execution_count": 31,
     "metadata": {},
     "output_type": "execute_result"
    }
   ],
   "source": [
    "class grand:\n",
    "    def isgrand(self):\n",
    "        return \"this is parent\"\n",
    "class father(grand):\n",
    "    def isfather(self):\n",
    "        return \"this ios father\"\n",
    "class child(father):\n",
    "    def ischild(self):\n",
    "        return \"this is the child\"\n",
    "a=child()\n",
    "a.ischild()\n",
    "a.isfather()\n",
    "a.isgrand()"
   ]
  },
  {
   "cell_type": "code",
   "execution_count": 34,
   "id": "b69c5fea-b97c-4658-b7e9-8b273fd80784",
   "metadata": {},
   "outputs": [
    {
     "data": {
      "text/plain": [
       "'this is parent'"
      ]
     },
     "execution_count": 34,
     "metadata": {},
     "output_type": "execute_result"
    }
   ],
   "source": [
    "# h👉ierarichal inheritence\n",
    "class parent:\n",
    "    def isparent(self):\n",
    "        return \"this is parent\"\n",
    "class child1(parent):\n",
    "    def ischild1(self):\n",
    "        return \"this is child1\"\n",
    "class child2(parent):\n",
    "    def ischild2(self):\n",
    "        return \"this is child2\"\n",
    "a=child2()\n",
    "a.ischild2()\n",
    "a.isparent()"
   ]
  },
  {
   "cell_type": "code",
   "execution_count": 38,
   "id": "2b963b64-dfe3-4c47-96e9-a3d25c7fee77",
   "metadata": {},
   "outputs": [
    {
     "data": {
      "text/plain": [
       "'this is father'"
      ]
     },
     "execution_count": 38,
     "metadata": {},
     "output_type": "execute_result"
    }
   ],
   "source": [
    "# 👉multiple inheritence\n",
    "class father:\n",
    "    def isfather(self):\n",
    "        return \"this is father\"\n",
    "class mother:\n",
    "    def ismother(self):\n",
    "        return \"this is mother\"\n",
    "class child(father,mother):\n",
    "    def ischild(self):\n",
    "        return \"this is child\"\n",
    "a=child()\n",
    "a.ischild()\n",
    "a.ismother()\n",
    "a.isfather()"
   ]
  },
  {
   "cell_type": "markdown",
   "id": "a6bd1148-49a3-451b-b09f-a41c5f33ff18",
   "metadata": {},
   "source": [
    "## Abstraction "
   ]
  },
  {
   "cell_type": "code",
   "execution_count": 47,
   "id": "e1250e07-4c13-495c-b07c-e0f4f63e28e9",
   "metadata": {},
   "outputs": [
    {
     "data": {
      "text/plain": [
       "'thsi si moving on water'"
      ]
     },
     "execution_count": 47,
     "metadata": {},
     "output_type": "execute_result"
    }
   ],
   "source": [
    "#👉hiding the implementation details just showing the essential feature to a user\n",
    "#👉python dosenot support abstarction dircetly ..hav eto use abc module\n",
    "from abc import ABC,abstractmethod\n",
    "class vehicle(ABC):\n",
    "    @abstractmethod\n",
    "    def move(self):\n",
    "        pass\n",
    "    \n",
    "class car:\n",
    "    def move(self):\n",
    "        return \"this moving on road\"\n",
    "class boat:\n",
    "    def move(self):\n",
    "        return \"thsi si moving on water\"\n",
    "a=boat()\n",
    "a.move()\n",
    "    \n"
   ]
  },
  {
   "cell_type": "markdown",
   "id": "599921d2-78a9-4307-b53c-7173b3226fc7",
   "metadata": {},
   "source": [
    "## Polymorphism"
   ]
  },
  {
   "cell_type": "markdown",
   "id": "30f3830e-11fa-493d-8277-91aab022598c",
   "metadata": {},
   "source": [
    "#### Ability to take many forms.Same object having different behaviour.It can be achieved in two ways\n",
    "1. method overloading\n",
    "2. method overiding\n",
    "   "
   ]
  },
  {
   "cell_type": "code",
   "execution_count": 11,
   "id": "7b24d343-3a80-40eb-9a0f-424fa90c3185",
   "metadata": {},
   "outputs": [
    {
     "name": "stdout",
     "output_type": "stream",
     "text": [
      "welcome  \n",
      "welcome javeed \n",
      "welcome javeed abdul\n"
     ]
    }
   ],
   "source": [
    "#👉Method overlaoding \n",
    "#👉Class having more than one method with same name but different parameters is called method overloading \n",
    "class hello():\n",
    "    def show(self):\n",
    "       print(\"welcome\")\n",
    "    def show(self,firstname=\"\"):\n",
    "        print(\"welcome\",firstname)\n",
    "    def show(self,firstname=\"\",lastname=\"\"):\n",
    "        print(\"welcome\",firstname,lastname)\n",
    "a=hello()\n",
    "a.show()\n",
    "a.show(\"javeed\")\n",
    "a.show(\"javeed\",\"abdul\")\n"
   ]
  },
  {
   "cell_type": "code",
   "execution_count": 13,
   "id": "f003d63a-16a2-454d-a6f0-92e3a0a0ac2d",
   "metadata": {},
   "outputs": [
    {
     "name": "stdout",
     "output_type": "stream",
     "text": [
      "this is child class\n",
      "this is parent class\n"
     ]
    }
   ],
   "source": [
    "#👉method overloading \n",
    "#👉Having the same method name in two different classes\n",
    "class A:\n",
    "    def sample(self):\n",
    "        print(\"this is parent class\")\n",
    "class B(A):\n",
    "    def sample(self):\n",
    "        print(\"this is child class\")\n",
    "        super().sample()\n",
    "a=B()\n",
    "a.sample()"
   ]
  },
  {
   "cell_type": "markdown",
   "id": "a9e2ddbc-6115-486c-9cc2-f6345eb9b405",
   "metadata": {},
   "source": [
    "#### Access modifiers"
   ]
  },
  {
   "cell_type": "code",
   "execution_count": 19,
   "id": "7e45e49e-a84c-41ae-9bc4-ea3153a8e092",
   "metadata": {},
   "outputs": [
    {
     "name": "stdout",
     "output_type": "stream",
     "text": [
      "10 20 30\n"
     ]
    },
    {
     "data": {
      "text/plain": [
       "20"
      ]
     },
     "execution_count": 19,
     "metadata": {},
     "output_type": "execute_result"
    }
   ],
   "source": [
    "#👉It is used to set the limit of accesssing the attributes in a class\n",
    "class A:\n",
    "    a=10\n",
    "    _b=20 #protected\n",
    "    __c=30 #private\n",
    "    def hello(self):\n",
    "        print(self.a,self._b,self.__c)\n",
    "obj=A()\n",
    "obj.hello()\n",
    "obj._b\n",
    "#privated can be accessed\n"
   ]
  },
  {
   "cell_type": "markdown",
   "id": "6fb2895e-0423-489e-a6fb-222bae4ab332",
   "metadata": {},
   "source": [
    "#### Encapsulation "
   ]
  },
  {
   "cell_type": "code",
   "execution_count": 25,
   "id": "c35b5692-436b-479f-84c2-439b6dd58324",
   "metadata": {},
   "outputs": [
    {
     "name": "stdout",
     "output_type": "stream",
     "text": [
      "(10, 20)\n",
      "10\n"
     ]
    },
    {
     "ename": "AttributeError",
     "evalue": "'A' object has no attribute '__b'",
     "output_type": "error",
     "traceback": [
      "\u001b[1;31m---------------------------------------------------------------------------\u001b[0m",
      "\u001b[1;31mAttributeError\u001b[0m                            Traceback (most recent call last)",
      "Cell \u001b[1;32mIn[25], line 14\u001b[0m\n\u001b[0;32m     12\u001b[0m \u001b[38;5;28mprint\u001b[39m(obj\u001b[38;5;241m.\u001b[39mhello())\n\u001b[0;32m     13\u001b[0m \u001b[38;5;28mprint\u001b[39m(obj\u001b[38;5;241m.\u001b[39m_a)\n\u001b[1;32m---> 14\u001b[0m \u001b[38;5;28mprint\u001b[39m(\u001b[43mobj\u001b[49m\u001b[38;5;241;43m.\u001b[39;49m\u001b[43m__b\u001b[49m)\n",
      "\u001b[1;31mAttributeError\u001b[0m: 'A' object has no attribute '__b'"
     ]
    }
   ],
   "source": [
    "# 👉By Default Python provide access to variables and method globally \n",
    "# 👉By using encapsulation we can restrict the access of variables and methods \n",
    "#_b=20 #protected\n",
    "#__c=30 #private\n",
    "\n",
    "class A:\n",
    "    _a=10\n",
    "    __b=20\n",
    "    def hello(self):\n",
    "        return self._a,self.__b\n",
    "obj=A()\n",
    "print(obj.hello())\n",
    "print(obj._a)\n",
    "print(obj.__b)\n"
   ]
  },
  {
   "cell_type": "markdown",
   "id": "ebfe8437-692d-42ca-933d-fbbd886d272e",
   "metadata": {},
   "source": [
    "#### Name mangling in python "
   ]
  },
  {
   "cell_type": "code",
   "execution_count": null,
   "id": "3b5bfd89-ec99-4bfd-b6d7-4c4ecc4a7251",
   "metadata": {},
   "outputs": [],
   "source": [
    "# 👉 when an variable is assigned to double __ it will make name mangling.It helps prevent accidental name conflicts in subclasses."
   ]
  },
  {
   "cell_type": "code",
   "execution_count": 38,
   "id": "60b417ab-2c42-4936-9cf8-bb17e736b30f",
   "metadata": {},
   "outputs": [
    {
     "name": "stdout",
     "output_type": "stream",
     "text": [
      "40\n"
     ]
    }
   ],
   "source": [
    "class A:\n",
    "    _a=30\n",
    "    __b=40 # it has created name mangling \n",
    "dir(A)\n",
    "#directly you cant access like A.__b\n",
    "#it can be acces through ClassName._ClassName__variable\n",
    "print(A._A__b)"
   ]
  },
  {
   "cell_type": "markdown",
   "id": "05069eea-95b1-47c6-a4bc-e3de17208be2",
   "metadata": {},
   "source": [
    "#### Duck typing "
   ]
  },
  {
   "cell_type": "code",
   "execution_count": 43,
   "id": "21c1c997-5dea-4cd7-8c7b-8a84d9aca4ae",
   "metadata": {},
   "outputs": [
    {
     "name": "stdout",
     "output_type": "stream",
     "text": [
      "the person can walk\n",
      "this is cat\n"
     ]
    }
   ],
   "source": [
    "# 👉irrespective of method belong to particular class it will execute if that mehtod is there in that class\n",
    "# 👉Duck typing means:\n",
    "# 👉If an object has the right method, you can use it—no need to check its type.\n",
    "class dog:\n",
    "    def walk(self):\n",
    "        print(\"this is bark\")\n",
    "class cat:\n",
    "    def walk(self):\n",
    "        print(\"this is cat\")\n",
    "class person:\n",
    "    def walk(self):\n",
    "        print(\"the person can walk\")\n",
    "def sample(obj):\n",
    "    obj.walk()\n",
    "a=person()\n",
    "sample(a)\n",
    "b=cat()\n",
    "sample(b)\n"
   ]
  },
  {
   "cell_type": "markdown",
   "id": "96ef4de6-d04c-4c1a-bdcb-19716b291326",
   "metadata": {},
   "source": [
    "#### monkey patching"
   ]
  },
  {
   "cell_type": "code",
   "execution_count": 49,
   "id": "0f61d8b2-d767-49fb-b241-13506cb319a9",
   "metadata": {},
   "outputs": [
    {
     "data": {
      "text/plain": [
       "'person speaks loudly'"
      ]
     },
     "execution_count": 49,
     "metadata": {},
     "output_type": "execute_result"
    }
   ],
   "source": [
    "#👉Monkey patching means dynamically changing a class or module at runtime.\n",
    "class A:\n",
    "    def speak(self):\n",
    "        return \"person speaks\"\n",
    "        \n",
    "def speak_loud(self):\n",
    "    return \"person speaks loudly\"\n",
    "A.speak=speak_loud  # here applying the monkey patching \n",
    "obj=A()\n",
    "obj.speak()\n",
    "    "
   ]
  },
  {
   "cell_type": "markdown",
   "id": "84ecc100-fd67-40a4-9c65-dc723c67ff3b",
   "metadata": {},
   "source": [
    "#### Class method \n"
   ]
  },
  {
   "cell_type": "code",
   "execution_count": null,
   "id": "60321259-c335-493b-a985-1407e682bddc",
   "metadata": {},
   "outputs": [],
   "source": [
    "#👉class method in Python is used to modify class variables. Class methods work at the class level rather than at the instance level. \n",
    "#👉They #are defined using the @classmethod decorator and take cls (the class itself) as the first parameter instead of self (the instance)."
   ]
  },
  {
   "cell_type": "code",
   "execution_count": 68,
   "id": "6ccc1839-2d86-401e-94cc-b5b5a17ac5b2",
   "metadata": {},
   "outputs": [
    {
     "data": {
      "text/plain": [
       "'javed.abdul@apple.com'"
      ]
     },
     "execution_count": 68,
     "metadata": {},
     "output_type": "execute_result"
    }
   ],
   "source": [
    "class hello:\n",
    "    company=\"google\"\n",
    "    def __init__(self,firstname,lastname):\n",
    "        self.firstname=firstname\n",
    "        self.lastname=lastname\n",
    "    def info(self):\n",
    "        return f\"{self.firstname}.{self.lastname}@{self.company}.com\"\n",
    "    @classmethod\n",
    "    def change_com(cls,newname):\n",
    "        cls.company=newname\n",
    "\n",
    "hello.change_com(\"apple\")  # here you are changing the class varibale\n",
    "        \n",
    "obj=hello(\"javed\",\"abdul\")\n",
    "obj.info()\n",
    "    "
   ]
  },
  {
   "cell_type": "markdown",
   "id": "819b3c62-3829-41a0-bf3b-4c0a5a52434d",
   "metadata": {},
   "source": [
    "#### static method"
   ]
  },
  {
   "cell_type": "code",
   "execution_count": 69,
   "id": "1b312df5-4627-44da-a908-752cc9e00341",
   "metadata": {},
   "outputs": [],
   "source": [
    "# 👉In instant method --self we are passing to access varibales\n",
    "# 👉In class method --we use cls as first parameter\n",
    "# 👉in static method we dont ahve to use any parameter \n"
   ]
  },
  {
   "cell_type": "code",
   "execution_count": 73,
   "id": "11db1f57-3162-4da5-857b-bca7e8648b54",
   "metadata": {},
   "outputs": [
    {
     "name": "stdout",
     "output_type": "stream",
     "text": [
      "javed.abdul@apple.com\n",
      "this is static method\n"
     ]
    }
   ],
   "source": [
    "class hello:\n",
    "    company=\"google\"\n",
    "    def __init__(self,firstname,lastname):\n",
    "        self.firstname=firstname\n",
    "        self.lastname=lastname\n",
    "    def info(self):\n",
    "        return f\"{self.firstname}.{self.lastname}@{self.company}.com\"\n",
    "    @classmethod\n",
    "    def change_com(cls,newname):  #have use cls \n",
    "        cls.company=newname\n",
    "    @staticmethod\n",
    "    def static_method(): # no need os any paramter \n",
    "        return \"this is static method\"\n",
    "\n",
    "hello.change_com(\"apple\")  # here you are changing the class varibale\n",
    "        \n",
    "obj=hello(\"javed\",\"abdul\")\n",
    "print(obj.info())\n",
    "print(obj.static_method())"
   ]
  },
  {
   "cell_type": "markdown",
   "id": "babda77d-5e74-4d60-a6c9-2ee3a966f5ce",
   "metadata": {},
   "source": [
    "#### property decorator"
   ]
  },
  {
   "cell_type": "code",
   "execution_count": null,
   "id": "d3abc20e-68ca-4ecd-8c55-69a7f9b51a38",
   "metadata": {},
   "outputs": [],
   "source": [
    "#👉 f you want to access a method as an attribute (without calling it with parentheses ()), \n",
    "# you can use the @property decorator."
   ]
  },
  {
   "cell_type": "code",
   "execution_count": 80,
   "id": "83abefa4-f73d-4b34-8ddf-22fa277b94df",
   "metadata": {},
   "outputs": [
    {
     "name": "stdout",
     "output_type": "stream",
     "text": [
      "javeed.abdul@google.com\n",
      "javeed.abdul@google.in\n"
     ]
    }
   ],
   "source": [
    "class hello:\n",
    "    company=\"google\"\n",
    "    def __init__(self,firstname,lastname):\n",
    "        self.firstname=firstname\n",
    "        self.lastname=lastname\n",
    "    \n",
    "    def info(self):\n",
    "        return f\"{self.firstname}.{self.lastname}@{self.company}.com\"\n",
    "    @property\n",
    "    def property_method(self):\n",
    "        return f\"{self.firstname}.{self.lastname}@{self.company}.in\"\n",
    "obj=hello(\"javeed\",\"abdul\")\n",
    "print(obj.info()) # we have to pass () as its a mehtod \n",
    "print(obj.property_method)  # here we dont need to pass\n"
   ]
  },
  {
   "cell_type": "markdown",
   "id": "9f3a8e75-6462-46fd-981d-9ea01b885111",
   "metadata": {},
   "source": [
    "#### __str__ __repr__"
   ]
  },
  {
   "cell_type": "code",
   "execution_count": 84,
   "id": "a890b9ad-122b-43c5-bc40-d86bb31f8692",
   "metadata": {},
   "outputs": [],
   "source": [
    "# str for user fridenly \n",
    "# repr for devloper friendly \n",
    "# str:Readable and informal\t\n",
    "# repr:Unambiguous and precise"
   ]
  },
  {
   "cell_type": "code",
   "execution_count": 83,
   "id": "6161e512-de47-440f-9110-448bc60269e6",
   "metadata": {},
   "outputs": [
    {
     "name": "stdout",
     "output_type": "stream",
     "text": [
      "ocean(Jellyfish and the age is 5)\n",
      "Ocean('Jellyfish', 5)\n"
     ]
    }
   ],
   "source": [
    "class Ocean:\n",
    "\n",
    "    def __init__(self, sea_creature_name, sea_creature_age):\n",
    "        self.name = sea_creature_name\n",
    "        self.age = sea_creature_age\n",
    "    \n",
    "    def __str__(self):\n",
    "        return f'The creature type is {self.name} and the age is {self.age}'\n",
    "\n",
    "    def __repr__(self):\n",
    "        return f'Ocean(\\'{self.name}\\', {self.age})'\n",
    "\n",
    "c = Ocean('Jellyfish', 5)\n",
    "\n",
    "print(str(c))\n",
    "print(repr(c))"
   ]
  },
  {
   "cell_type": "code",
   "execution_count": 88,
   "id": "791c1d8b-050b-41af-b950-5cc8c7ff1b9d",
   "metadata": {},
   "outputs": [
    {
     "name": "stdout",
     "output_type": "stream",
     "text": [
      "2025-02-04 01:11:19.344314\n",
      "datetime.datetime(2025, 2, 4, 1, 11, 19, 344314)\n"
     ]
    }
   ],
   "source": [
    "from datetime import datetime\n",
    "t=datetime.now()\n",
    "print(str(t)) # more redable way \n",
    "print(repr(t))  # more precise/accurate way "
   ]
  },
  {
   "cell_type": "code",
   "execution_count": null,
   "id": "1b00fb18-977c-4bc9-9009-53b4a30903a9",
   "metadata": {},
   "outputs": [],
   "source": []
  }
 ],
 "metadata": {
  "kernelspec": {
   "display_name": "Python 3 (ipykernel)",
   "language": "python",
   "name": "python3"
  },
  "language_info": {
   "codemirror_mode": {
    "name": "ipython",
    "version": 3
   },
   "file_extension": ".py",
   "mimetype": "text/x-python",
   "name": "python",
   "nbconvert_exporter": "python",
   "pygments_lexer": "ipython3",
   "version": "3.10.11"
  }
 },
 "nbformat": 4,
 "nbformat_minor": 5
}
