{
 "cells": [
  {
   "cell_type": "markdown",
   "id": "0f5e13ef-993f-4c02-9d60-b854dd3a46e1",
   "metadata": {},
   "source": [
    "### second highest salary "
   ]
  },
  {
   "cell_type": "code",
   "execution_count": null,
   "id": "5992169a-004c-4a40-88de-cc7c65d93a70",
   "metadata": {},
   "outputs": [],
   "source": [
    "SELECT MAX(SALARY) FROM EMPLOYEES WHERE SALARY NOT IN\n",
    "(SELECT MAX(SALARY) FROM EMPLOYEES);"
   ]
  },
  {
   "cell_type": "markdown",
   "id": "e4eed1cc-abfe-4e5e-9b05-431f36c4f452",
   "metadata": {},
   "source": [
    "### fetch 2 or 3rd ighest salary "
   ]
  },
  {
   "cell_type": "code",
   "execution_count": null,
   "id": "84f9ae09-8c5d-4d09-8f22-68773dcd4c06",
   "metadata": {},
   "outputs": [],
   "source": [
    "SELECT * FROM Employees ORDER BY salary DESC LIMIT 1 OFFSET 2;   # offset-after 2 rows give the one row "
   ]
  },
  {
   "cell_type": "markdown",
   "id": "fa18c269-2f92-4387-840b-fb0844d81f7e",
   "metadata": {},
   "source": [
    "### top 2 highest  salaries"
   ]
  },
  {
   "cell_type": "code",
   "execution_count": null,
   "id": "93fcc199-df2b-4b0a-a171-5aa7271b4fbc",
   "metadata": {},
   "outputs": [],
   "source": [
    "SELECT * FROM Employees ORDER BY salary DESC limit 2;"
   ]
  },
  {
   "cell_type": "markdown",
   "id": "3d949072-be25-4992-9002-068c62990fc8",
   "metadata": {},
   "source": [
    "### to get the substring"
   ]
  },
  {
   "cell_type": "markdown",
   "id": "617fb7ee-1a68-4e75-b0ec-b064a927c1dc",
   "metadata": {},
   "source": [
    "select id,address,location,substring(name,1,3) from student  # if name is javed teh he ouput is jav"
   ]
  },
  {
   "cell_type": "markdown",
   "id": "df1b08d9-5268-4d1c-9004-800f0de9256f",
   "metadata": {},
   "source": [
    "### add columns"
   ]
  },
  {
   "cell_type": "raw",
   "id": "4578da19-f470-4cc7-a0a7-962a580bd3d9",
   "metadata": {
    "scrolled": true
   },
   "source": [
    "ALTER TABLE person\n",
    "ADD COLUMN firstname VARCHAR(10)\n",
    "\n",
    "ALTER TABLE person\n",
    "ADD COLUMN lastname VARCHAR(10)\n"
   ]
  },
  {
   "cell_type": "code",
   "execution_count": null,
   "id": "924a2fed-6d2a-4e3c-88f6-ea5063e73d5d",
   "metadata": {},
   "outputs": [],
   "source": [
    "### split firstname and make into two columns ex:john wick --firtname is hjhon and last name is wick "
   ]
  },
  {
   "cell_type": "raw",
   "id": "22eb26d6-33c2-4014-90e3-9f5119c1d5b4",
   "metadata": {},
   "source": [
    "--add columns\n",
    "UPDATE person\n",
    "SET FIRSTNAME=SPLIT_PART(NAME,' ',1),\n",
    "LASTNAME=SPLIT_PART(NAME,' ',2);"
   ]
  },
  {
   "cell_type": "raw",
   "id": "59e73f5f-c762-4072-9663-c28724eac36c",
   "metadata": {},
   "source": [
    "DDL (Data Definition Language):\n",
    "DDL commands are used to define, modify, and delete database objects such as tables, indexes, views, etc.\n",
    "Common DDL commands include:\n",
    "CREATE: Used to create new database objects like tables, views, indexes, etc.\n",
    "ALTER: Used to modify the structure of existing database objects.\n",
    "DROP: Used to delete database objects.\n",
    "TRUNCATE: Used to remove all records from a table.\n",
    "COMMENT: Used to add comments to the data dictionary.\n",
    "Example: CREATE TABLE, ALTER TABLE, DROP TABLE.\n",
    "        DML (Data Manipulation Language):\n",
    "        DML commands are used to manage data within database objects like tables.\n",
    "        Common DML commands include:\n",
    "        SELECT: Used to retrieve data from a database.\n",
    "        INSERT: Used to add new records to a table.\n",
    "        UPDATE: Used to modify existing records in a table.\n",
    "        DELETE: Used to remove records from a table.\n",
    "        Example: SELECT, INSERT, UPDATE, DELETE.\n",
    "DCL (Data Control Language):\n",
    "DCL commands are used to control access to data within the database.\n",
    "Common DCL commands include:\n",
    "GRANT: Used to give specific privileges to database objects to users or roles.\n",
    "REVOKE: Used to remove specific privileges from users or roles.\n",
    "Example: GRANT, REVOKE."
   ]
  },
  {
   "cell_type": "markdown",
   "id": "96ae2aa2-caa0-4d82-a160-1d8b692aeb29",
   "metadata": {},
   "source": [
    "### unique rows"
   ]
  },
  {
   "cell_type": "code",
   "execution_count": null,
   "id": "b6366cef-85f1-492c-ab5e-dd030cd4005f",
   "metadata": {},
   "outputs": [],
   "source": [
    "select name,count(*) from person group by name having count(*)<2"
   ]
  },
  {
   "cell_type": "markdown",
   "id": "8ab3d4d2-574d-4436-94d1-f9fb403bce7c",
   "metadata": {},
   "source": [
    "### deleet dublicate rows"
   ]
  },
  {
   "cell_type": "raw",
   "id": "bf21bc26-5336-4e00-91ce-94fc38a84849",
   "metadata": {},
   "source": [
    "delete from person where id not in \n",
    "(select max(id)  from person group by name);"
   ]
  },
  {
   "cell_type": "code",
   "execution_count": null,
   "id": "93494df6-fb9a-4020-802c-3254c4658cd8",
   "metadata": {},
   "outputs": [],
   "source": []
  }
 ],
 "metadata": {
  "kernelspec": {
   "display_name": "Python 3 (ipykernel)",
   "language": "python",
   "name": "python3"
  },
  "language_info": {
   "codemirror_mode": {
    "name": "ipython",
    "version": 3
   },
   "file_extension": ".py",
   "mimetype": "text/x-python",
   "name": "python",
   "nbconvert_exporter": "python",
   "pygments_lexer": "ipython3",
   "version": "3.10.11"
  }
 },
 "nbformat": 4,
 "nbformat_minor": 5
}
