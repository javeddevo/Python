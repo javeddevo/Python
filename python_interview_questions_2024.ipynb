{
 "cells": [
  {
   "cell_type": "markdown",
   "id": "7d6220e8-b5b3-430d-bc05-f83ab47bb159",
   "metadata": {},
   "source": [
    "# Author: Javeed Mohammed Abdul \n",
    "#### Below are the python most asked interview question "
   ]
  },
  {
   "cell_type": "code",
   "execution_count": 23,
   "id": "0f001a84-8451-4e84-b211-f8bd66802e6b",
   "metadata": {},
   "outputs": [],
   "source": [
    "###print all \n",
    "from IPython.core.interactiveshell import InteractiveShell\n",
    "InteractiveShell.ast_node_interactivity = \"all\""
   ]
  },
  {
   "cell_type": "markdown",
   "id": "d3f6da25-a598-4edf-8210-1cf8e94588aa",
   "metadata": {},
   "source": [
    "### 1.Get the last no\n"
   ]
  },
  {
   "cell_type": "code",
   "execution_count": 1,
   "id": "234cc661-8341-4253-b7a6-ea4b2ffee55c",
   "metadata": {},
   "outputs": [
    {
     "name": "stdout",
     "output_type": "stream",
     "text": [
      "5\n"
     ]
    }
   ],
   "source": [
    "a=12345\n",
    "print(a%10)"
   ]
  },
  {
   "cell_type": "markdown",
   "id": "58759b03-3f02-4d6c-ab34-8e4a9577d31d",
   "metadata": {},
   "source": [
    "### 2. flow of executing the numeric data "
   ]
  },
  {
   "cell_type": "code",
   "execution_count": 6,
   "id": "6db93e6a-c595-4836-af19-41e1511d3f9f",
   "metadata": {},
   "outputs": [
    {
     "name": "stdout",
     "output_type": "stream",
     "text": [
      "13.0\n"
     ]
    }
   ],
   "source": [
    "#pemdas # paranthsis,exponential,mul,division additiona nd sub\n",
    "print(3*3+3/3-1+2**2)"
   ]
  },
  {
   "cell_type": "markdown",
   "id": "b6b3134c-82b9-4871-b546-da37b29c5beb",
   "metadata": {},
   "source": [
    "### 3. converting to  list of dictionaries"
   ]
  },
  {
   "cell_type": "code",
   "execution_count": 14,
   "id": "de910ad5-e26e-4800-bdfb-1a438b0016af",
   "metadata": {},
   "outputs": [
    {
     "data": {
      "text/plain": [
       "[{1: 'apple'}, {2: 'mango'}, {3: 'banana'}]"
      ]
     },
     "execution_count": 14,
     "metadata": {},
     "output_type": "execute_result"
    }
   ],
   "source": [
    "a=[1,2,3,4]\n",
    "b=[\"apple\",\"mango\",\"banana\"]\n",
    "c=[{i:j} for i,j in zip(a,b)]\n",
    "c"
   ]
  },
  {
   "cell_type": "markdown",
   "id": "79e097ad-9a57-4a80-b630-06d39428ab8b",
   "metadata": {},
   "source": [
    "### 4.converting two lists to dictonaries\n"
   ]
  },
  {
   "cell_type": "code",
   "execution_count": 57,
   "id": "3cb21f87-2fec-4478-ba2d-91d800eb0b35",
   "metadata": {},
   "outputs": [
    {
     "name": "stdout",
     "output_type": "stream",
     "text": [
      "{'ID': 1, 'Name': 'John', 'Age': 25, 'Salary': 50000}\n"
     ]
    }
   ],
   "source": [
    "keys = ['ID', 'Name', 'Age', 'Salary']\n",
    "values = [1, 'John', 25, 50000]\n",
    "\n",
    "result_dict = dict(zip(keys, values))\n",
    "\n",
    "print(result_dict)\n"
   ]
  },
  {
   "cell_type": "code",
   "execution_count": 34,
   "id": "50c94fbe-5bb3-4d1f-bea5-531ba4699b6e",
   "metadata": {},
   "outputs": [
    {
     "data": {
      "text/plain": [
       "{'ID': 1, 'Name': 'John', 'Age': 25, 'Salary': 50000}"
      ]
     },
     "execution_count": 34,
     "metadata": {},
     "output_type": "execute_result"
    }
   ],
   "source": [
    "keys = ['ID', 'Name', 'Age', 'Salary']\n",
    "values = [1, 'John', 25, 50000]\n",
    "c={k:v for k,v in zip(keys,values)}\n",
    "c"
   ]
  },
  {
   "cell_type": "markdown",
   "id": "bd015a66-70a3-419c-8281-ad3c5ec09c2a",
   "metadata": {},
   "source": [
    "### 5. list comphrehension"
   ]
  },
  {
   "cell_type": "code",
   "execution_count": 16,
   "id": "57fa4aac-07ac-4b3c-a9c5-b2e6f3935b5c",
   "metadata": {},
   "outputs": [
    {
     "data": {
      "text/plain": [
       "[0, 1, 2, 3, 4, 5, 6, 7, 8, 9]"
      ]
     },
     "execution_count": 16,
     "metadata": {},
     "output_type": "execute_result"
    }
   ],
   "source": [
    "a=[i for i in range(10)]\n",
    "a"
   ]
  },
  {
   "cell_type": "markdown",
   "id": "f92f30d0-bf98-43e0-9def-a389dcdc6392",
   "metadata": {},
   "source": [
    "### 6. dictionry comphrehension"
   ]
  },
  {
   "cell_type": "code",
   "execution_count": 27,
   "id": "1924350e-4cde-494a-ad61-8222d07273e3",
   "metadata": {},
   "outputs": [
    {
     "data": {
      "text/plain": [
       "{1: 1, 2: 8, 3: 27, 4: 64, 5: 125, 6: 216, 7: 343, 8: 512, 9: 729}"
      ]
     },
     "execution_count": 27,
     "metadata": {},
     "output_type": "execute_result"
    }
   ],
   "source": [
    "a={i:i**3 for i in range(1,10)}\n",
    "a"
   ]
  },
  {
   "cell_type": "markdown",
   "id": "07f00c37-077b-4b93-a420-4e389c5a612a",
   "metadata": {},
   "source": [
    "### 7.random"
   ]
  },
  {
   "cell_type": "code",
   "execution_count": 48,
   "id": "1b897f08-eeca-4701-b059-1579c085cf6d",
   "metadata": {},
   "outputs": [
    {
     "name": "stdout",
     "output_type": "stream",
     "text": [
      "3\n",
      "[2, 6, 4, 5, 3, 1]\n"
     ]
    }
   ],
   "source": [
    "import random\n",
    "l=[1,2,3,4,5,6]\n",
    "random_num=random.choice(l)\n",
    "print(random_num)\n",
    "random.shuffle(l)\n",
    "print(l)\n"
   ]
  },
  {
   "cell_type": "markdown",
   "id": "42bf8390-7afd-475b-b5d2-5a68a1c20bf2",
   "metadata": {},
   "source": [
    "### 8.enumerate\n"
   ]
  },
  {
   "cell_type": "code",
   "execution_count": 51,
   "id": "f8687821-11bc-43d0-8821-2e2041d3535d",
   "metadata": {},
   "outputs": [
    {
     "name": "stdout",
     "output_type": "stream",
     "text": [
      "(0, 'linux')\n",
      "(1, 'devops')\n",
      "(2, 'python')\n",
      "(3, 'java')\n",
      "(4, 'rust')\n",
      "=============\n",
      "Index: 0, Value: apple\n",
      "Index: 1, Value: banana\n",
      "Index: 2, Value: orange\n"
     ]
    }
   ],
   "source": [
    "a=[\"linux\",\"devops\",\"python\",\"java\",\"rust\"]\n",
    "for i in enumerate(a):\n",
    "    print(i)\n",
    "print(\"=============\")\n",
    "my_list = ['apple', 'banana', 'orange']\n",
    "for index, value in enumerate(my_list):\n",
    "    print(f\"Index: {index}, Value: {value}\")\n"
   ]
  },
  {
   "cell_type": "markdown",
   "id": "d9b0c3be-4403-4526-baeb-fbd78ccb4172",
   "metadata": {},
   "source": [
    "### 9. occurence of value  "
   ]
  },
  {
   "cell_type": "code",
   "execution_count": 53,
   "id": "6055514c-ae5f-4b64-99a5-a0f06ec4569d",
   "metadata": {},
   "outputs": [
    {
     "name": "stdout",
     "output_type": "stream",
     "text": [
      "Counter({1: 3, 2: 2, 3: 2, 4: 1})\n",
      "{1: 3, 2: 2, 3: 2, 4: 1}\n"
     ]
    }
   ],
   "source": [
    "from collections import Counter\n",
    "a=[1,1,2,3,1,2,3,4]\n",
    "print(Counter(a))\n",
    "\n",
    "# 2nd method\n",
    "d={}\n",
    "for i in a:\n",
    "    if i in d:\n",
    "        d[i]=d[i]+1\n",
    "    else:\n",
    "        d[i]=1\n",
    "print(d)\n"
   ]
  },
  {
   "cell_type": "markdown",
   "id": "758d1788-de92-43ce-9433-b14b6d3b9741",
   "metadata": {},
   "source": [
    " ### 10.iterator and generator"
   ]
  },
  {
   "cell_type": "code",
   "execution_count": 65,
   "id": "46d733bc-d704-467c-baeb-9b5745364638",
   "metadata": {},
   "outputs": [
    {
     "data": {
      "text/plain": [
       "4"
      ]
     },
     "execution_count": 65,
     "metadata": {},
     "output_type": "execute_result"
    }
   ],
   "source": [
    "a=[1,2,3,4,5]\n",
    "b=iter(a)\n",
    "next(b)\n",
    "\n",
    "\n",
    "#generator\n",
    "def hello(n):\n",
    "    for i in range(2,n):\n",
    "        yield i**2  # it will make iterator\n",
    "a=hello(4)\n",
    "next(a)\n",
    "# for i in hello(4):\n",
    "#     print(i)\n"
   ]
  },
  {
   "cell_type": "markdown",
   "id": "b20afe22-0ae5-4858-9ee2-b01245a008d7",
   "metadata": {},
   "source": [
    "### 11.sorted and sort\n"
   ]
  },
  {
   "cell_type": "code",
   "execution_count": 69,
   "id": "6bfcc003-38d9-4ca4-96ff-9e7ad29ca284",
   "metadata": {},
   "outputs": [
    {
     "name": "stdout",
     "output_type": "stream",
     "text": [
      "[1, 2, 3, 4]\n",
      "[3, 2, 1, 4]\n",
      "[1, 2, 3, 5, 21]\n"
     ]
    }
   ],
   "source": [
    "a=[3,2,1,4]\n",
    "print(sorted(a))\n",
    "print(a)\n",
    "\n",
    "b=[5,3,21,2,1]\n",
    "b.sort()\n",
    "print(b)"
   ]
  },
  {
   "cell_type": "markdown",
   "id": "99558df5-a5fe-474b-8ed8-da05d6744ca4",
   "metadata": {},
   "source": [
    "### 12.decorator \n"
   ]
  },
  {
   "cell_type": "code",
   "execution_count": 3,
   "id": "57f31149-6014-430f-a7b7-11f62aed4894",
   "metadata": {},
   "outputs": [
    {
     "name": "stdout",
     "output_type": "stream",
     "text": [
      "added som e functionality\n",
      "THIS IS THE DEPLOYMENT CODE\n",
      "added some functionality after deployment code\n"
     ]
    }
   ],
   "source": [
    "def main(fun):\n",
    "    def sub():\n",
    "        print(\"added som e functionality\")\n",
    "        a=fun()\n",
    "        mod=a.upper()\n",
    "        print(mod)\n",
    "        print(\"added some functionality after deployment code\")\n",
    "    return sub()\n",
    "@main\n",
    "def hello():\n",
    "    return \"this is the deployment code\"\n"
   ]
  },
  {
   "cell_type": "code",
   "execution_count": 1,
   "id": "0ef4df2b-108c-438a-b235-1c289b615e2c",
   "metadata": {},
   "outputs": [
    {
     "data": {
      "text/plain": [
       "13"
      ]
     },
     "execution_count": 1,
     "metadata": {},
     "output_type": "execute_result"
    }
   ],
   "source": [
    "def main(fun):\n",
    "    def sub(a,b):\n",
    "        a=fun(a,b)\n",
    "        a=a+10\n",
    "        return a\n",
    "    return sub\n",
    "@main\n",
    "def hello(a,b):\n",
    "    return a+b\n",
    "x=hello(1,2)\n",
    "x"
   ]
  },
  {
   "cell_type": "markdown",
   "id": "c01d78e5-cf17-404a-8f70-a59eaec1d2ab",
   "metadata": {},
   "source": [
    "### decorator to add sum of list "
   ]
  },
  {
   "cell_type": "code",
   "execution_count": 20,
   "id": "535fdcd8-6692-43a5-a535-04e2502ae835",
   "metadata": {},
   "outputs": [
    {
     "name": "stdout",
     "output_type": "stream",
     "text": [
      "[1, 2, 3, 4]\n",
      "10\n"
     ]
    }
   ],
   "source": [
    "def main(fun):\n",
    "    def sub(*args):\n",
    "        print(fun(*args))\n",
    "        a=fun(*args)\n",
    "        print(sum(a))\n",
    "    return sub\n",
    "@main\n",
    "def hello(s):\n",
    "    return s\n",
    "hello([1,2,3,4])"
   ]
  },
  {
   "cell_type": "markdown",
   "id": "6c3ba644-258e-408b-a8c8-c533fbdbf5d3",
   "metadata": {},
   "source": [
    "### to get the sum of square using decorator"
   ]
  },
  {
   "cell_type": "code",
   "execution_count": 24,
   "id": "bdec7be1-655a-4a81-89e1-d51ddc62f05b",
   "metadata": {},
   "outputs": [
    {
     "name": "stdout",
     "output_type": "stream",
     "text": [
      "[1, 2, 3, 4]\n",
      "[1, 4, 9, 16]\n",
      "30\n"
     ]
    }
   ],
   "source": [
    "def main(fun):\n",
    "    def sub(*args):\n",
    "        print(fun(*args))\n",
    "        a=fun(*args)\n",
    "        a=[i**2 for i in a]\n",
    "        print(a)\n",
    "        print(sum(a))\n",
    "    return sub\n",
    "@main\n",
    "def hello(s):\n",
    "    return s\n",
    "hello([1,2,3,4])"
   ]
  },
  {
   "cell_type": "markdown",
   "id": "fb7c81b5-3959-461c-9acf-403a89d2ae22",
   "metadata": {},
   "source": [
    "### 13.convert list to string "
   ]
  },
  {
   "cell_type": "code",
   "execution_count": 89,
   "id": "5709a243-eddc-4399-b1c0-ac983817e25a",
   "metadata": {},
   "outputs": [
    {
     "name": "stdout",
     "output_type": "stream",
     "text": [
      "12345\n",
      "12345\n"
     ]
    }
   ],
   "source": [
    "a=[1,2,3,4,5]\n",
    "b=\"\"\n",
    "for i in a:\n",
    "    b=b+str(i)\n",
    "print(b)\n",
    "# 2nd method\n",
    "c=\"\"\n",
    "for i in a:\n",
    "    c=c+\"\".join(str(i))\n",
    "print(c)"
   ]
  },
  {
   "cell_type": "markdown",
   "id": "87c2be62-6bb1-4ef6-ac3b-52dc38f9f09a",
   "metadata": {},
   "source": [
    "### 14.swap two no"
   ]
  },
  {
   "cell_type": "code",
   "execution_count": 57,
   "id": "3d7f208c-cd02-46a7-b321-1e30526044b5",
   "metadata": {},
   "outputs": [
    {
     "name": "stdout",
     "output_type": "stream",
     "text": [
      "3 2\n"
     ]
    }
   ],
   "source": [
    "a=2\n",
    "b=3\n",
    "temp=a #2\n",
    "a=b #a=3\n",
    "b=temp\n",
    "print(a,b)"
   ]
  },
  {
   "cell_type": "markdown",
   "id": "1de9cae7-db15-4972-a3bb-19dafced5ab2",
   "metadata": {},
   "source": [
    "### 15.break and continue"
   ]
  },
  {
   "cell_type": "code",
   "execution_count": 93,
   "id": "4a4450a1-79cb-42e5-9e30-07320695d43f",
   "metadata": {},
   "outputs": [
    {
     "name": "stdout",
     "output_type": "stream",
     "text": [
      "1\n",
      "2\n",
      "3\n",
      "4\n",
      "=================\n",
      "1\n",
      "3\n",
      "4\n",
      "5\n"
     ]
    }
   ],
   "source": [
    "a=[1,2,3,4,5]\n",
    "for i in a:\n",
    "    if i==5:\n",
    "        break\n",
    "    print(i)\n",
    "print(\"=================\")\n",
    "for j in a:\n",
    "    if j==2:\n",
    "        continue\n",
    "    print(j)\n",
    "    \n",
    "    "
   ]
  },
  {
   "cell_type": "markdown",
   "id": "afd4267d-0ee7-4a14-8983-1177cbafd536",
   "metadata": {},
   "source": [
    "### 16.factorial "
   ]
  },
  {
   "cell_type": "code",
   "execution_count": 96,
   "id": "c194b8cd-7ac1-4abd-a11d-0a12f7348ac0",
   "metadata": {},
   "outputs": [
    {
     "name": "stdout",
     "output_type": "stream",
     "text": [
      "120\n"
     ]
    }
   ],
   "source": [
    "a=1\n",
    "for i in range(5,0,-1):\n",
    "    a=a*i\n",
    "print(a)\n",
    "    "
   ]
  },
  {
   "cell_type": "code",
   "execution_count": 5,
   "id": "420a4536-806c-4503-8978-454fea3c792c",
   "metadata": {},
   "outputs": [
    {
     "name": "stdout",
     "output_type": "stream",
     "text": [
      "120\n"
     ]
    }
   ],
   "source": [
    "r=1\n",
    "for i in range(5,0,-1):\n",
    "    r=r*i\n",
    "print(r)"
   ]
  },
  {
   "cell_type": "markdown",
   "id": "fe051e7f-1aaf-4cef-af06-756225bc7927",
   "metadata": {},
   "source": [
    "### 17.Prime no "
   ]
  },
  {
   "cell_type": "code",
   "execution_count": 98,
   "id": "17d9d5d8-fadd-4b31-81da-7d8f40a5cd75",
   "metadata": {},
   "outputs": [
    {
     "name": "stdout",
     "output_type": "stream",
     "text": [
      "5\n",
      "7\n",
      "11\n",
      "13\n",
      "17\n",
      "19\n",
      "23\n",
      "29\n"
     ]
    }
   ],
   "source": [
    "for i in range(5,30):\n",
    "    for j in range(2,i):\n",
    "        if i%j==0:\n",
    "            break\n",
    "    else:\n",
    "        print(i)\n",
    "    "
   ]
  },
  {
   "cell_type": "code",
   "execution_count": 29,
   "id": "9f6210a4-01fb-41d4-a3c4-c904a65bd46e",
   "metadata": {},
   "outputs": [
    {
     "name": "stdin",
     "output_type": "stream",
     "text": [
      "Enter the no:  7\n"
     ]
    },
    {
     "name": "stdout",
     "output_type": "stream",
     "text": [
      " 7 is prime no\n"
     ]
    }
   ],
   "source": [
    "a=int(input(\"Enter the no: \"))  # 5\n",
    "\n",
    "if a==1:\n",
    "        print(\"Not a prime no\")\n",
    "else:\n",
    "    for i in range(2,a):\n",
    "        if a%i==0:\n",
    "            print(\"Not a prime no\")\n",
    "            break\n",
    "    else:\n",
    "        print(f\" {a} is prime no\") \n",
    "                \n",
    "\n",
    "\n",
    "                \n",
    "    "
   ]
  },
  {
   "cell_type": "code",
   "execution_count": 14,
   "id": "9fce7281-6d11-4d1d-bfb5-5f786bc9f189",
   "metadata": {},
   "outputs": [
    {
     "data": {
      "text/plain": [
       "'Not Prime'"
      ]
     },
     "execution_count": 14,
     "metadata": {},
     "output_type": "execute_result"
    }
   ],
   "source": [
    "def prime(n):\n",
    "    if n<=0:\n",
    "        return False\n",
    "    if n==1:\n",
    "        return \"Not Prime\"\n",
    "    else:\n",
    "        for i in range(2,n):\n",
    "            if n%i==0:\n",
    "                return \"Not Prime\"\n",
    "                break\n",
    "        else:\n",
    "            return \"Prime\"\n",
    "prime(1)"
   ]
  },
  {
   "cell_type": "markdown",
   "id": "984b1f69-423b-4eb3-9a99-6d14f3e5d79a",
   "metadata": {},
   "source": [
    "### 18.pickling and unpickling "
   ]
  },
  {
   "cell_type": "code",
   "execution_count": 103,
   "id": "48c2b492-747d-4ee6-8038-e1c1c54427be",
   "metadata": {},
   "outputs": [
    {
     "name": "stdout",
     "output_type": "stream",
     "text": [
      "b'\\x80\\x04\\x95\\x0e\\x00\\x00\\x00\\x00\\x00\\x00\\x00]\\x94(K\\x01K\\x02MY\\x01K-e.'\n",
      "### unpickling ######\n"
     ]
    },
    {
     "data": {
      "text/plain": [
       "[1, 2, 345, 45]"
      ]
     },
     "execution_count": 103,
     "metadata": {},
     "output_type": "execute_result"
    }
   ],
   "source": [
    "#pickle---> object to bytes\n",
    "#unpickle --->bytes to objets\n",
    "#note objects whi aaare not loaded into files can not be transferred to server or other location \n",
    "import pickle\n",
    "a=[1,2,345,45]\n",
    "byte=pickle.dumps(a)\n",
    "print(byte)\n",
    "\n",
    "print(\"### unpickling ######\") \n",
    "l=pickle.loads(byte)\n",
    "l"
   ]
  },
  {
   "cell_type": "code",
   "execution_count": 58,
   "id": "e12d52dc-a6c9-4ba3-af5b-15eae10a6897",
   "metadata": {},
   "outputs": [
    {
     "name": "stdout",
     "output_type": "stream",
     "text": [
      "[1, 2, 3, 4, 5, 89]\n"
     ]
    }
   ],
   "source": [
    "import pickle\n",
    "a = [1, 2, 3, 4, 5, 89]\n",
    "with open(\"obj_byte.txt\", \"wb\") as f:\n",
    "    pickle.dump(a, f)\n",
    "\n",
    "#unpickling \n",
    "with open(\"obj_byte.txt\", \"rb\") as f:\n",
    "    data=pickle.load(f)\n",
    "    print(data)\n",
    "\n",
    "\n",
    "#pickle.dumps() --->obj-bytes \n",
    "#pickle.loads()-->byte-->obj\n",
    "#pickle.dump()--->obj--bytes(stores in files)\n",
    "#pickle.load()-->byte--object(reads from file)\n"
   ]
  },
  {
   "cell_type": "markdown",
   "id": "b7298e8e-f7ba-4999-a807-75fdab10165d",
   "metadata": {},
   "source": [
    "### 19. json serialzation and deserialization"
   ]
  },
  {
   "cell_type": "code",
   "execution_count": 2,
   "id": "8b8d413c-27d5-4a40-a3e1-d4569efefc21",
   "metadata": {},
   "outputs": [
    {
     "name": "stdout",
     "output_type": "stream",
     "text": [
      "[1, 2, 3, 4]\n",
      "<class 'str'>\n",
      "<class 'list'>\n"
     ]
    }
   ],
   "source": [
    "# converting object to string \n",
    "import json\n",
    "a=[1,2,3,4]\n",
    "b=json.dumps(a)   \n",
    "print(b)\n",
    "print(type(b))\n",
    "\n",
    "c=json.loads(b)  # string to object \n",
    "print(type(c))"
   ]
  },
  {
   "cell_type": "code",
   "execution_count": 128,
   "id": "086b86c2-5d21-4c21-9326-cff95443f79d",
   "metadata": {},
   "outputs": [
    {
     "name": "stdout",
     "output_type": "stream",
     "text": [
      "[1, 2, 3, 4] <class 'list'>\n"
     ]
    }
   ],
   "source": [
    "import json\n",
    "a=[1,2,3,4]\n",
    "with open(\"json_se.txt\",\"w\") as f:\n",
    "    json.dump(a,f)\n",
    "\n",
    "with open(\"json_se.txt\",\"r\") as f:\n",
    "    data=json.load(f)\n",
    "print(data,type(data))\n",
    "    "
   ]
  },
  {
   "cell_type": "markdown",
   "id": "a4b800f4-e37f-4566-a379-c2c3324710d6",
   "metadata": {},
   "source": [
    "### 20.summing each element"
   ]
  },
  {
   "cell_type": "code",
   "execution_count": 130,
   "id": "dce1fe34-ccef-494c-8387-b05409d4efb0",
   "metadata": {},
   "outputs": [
    {
     "name": "stdout",
     "output_type": "stream",
     "text": [
      "[1, 3, 5, 7]\n"
     ]
    }
   ],
   "source": [
    "a=[1,2,3,4]\n",
    "b=[a[0]]\n",
    "c=0\n",
    "for i in range(1,len(a)):\n",
    "    b.append(a[i]+a[i-1])\n",
    "print(b)"
   ]
  },
  {
   "cell_type": "markdown",
   "id": "d8dd2a11-59dd-4e11-8954-630ce006bc71",
   "metadata": {},
   "source": [
    "### 21.filter map"
   ]
  },
  {
   "cell_type": "code",
   "execution_count": 132,
   "id": "f8030fb6-0aa8-4aec-934a-be37ac5ec9d6",
   "metadata": {},
   "outputs": [
    {
     "name": "stdout",
     "output_type": "stream",
     "text": [
      "Squared Numbers: [1, 4, 9, 16, 25, 36, 49, 64, 81]\n",
      "Even Numbers: [2, 4, 6, 8]\n"
     ]
    }
   ],
   "source": [
    "numbers = [1, 2, 3, 4, 5, 6, 7, 8, 9]\n",
    "\n",
    "# Using map to square each element\n",
    "squared_numbers = list(map(lambda x: x**2, numbers))\n",
    "print(\"Squared Numbers:\", squared_numbers)\n",
    "\n",
    "# Using filter to keep only even numbers\n",
    "even_numbers = list(filter(lambda x: x % 2 == 0, numbers))\n",
    "print(\"Even Numbers:\", even_numbers)\n",
    "\n"
   ]
  },
  {
   "cell_type": "markdown",
   "id": "5a9c0884-8836-42cd-b3b2-851151fb0927",
   "metadata": {},
   "source": [
    "#### 22.filter example "
   ]
  },
  {
   "cell_type": "code",
   "execution_count": 134,
   "id": "570add31-6047-46d4-b58c-fa2bb9ef71e1",
   "metadata": {},
   "outputs": [
    {
     "data": {
      "text/plain": [
       "[('Rachel', 19), ('Chandler', 21), ('Ross', 20)]"
      ]
     },
     "execution_count": 134,
     "metadata": {},
     "output_type": "execute_result"
    }
   ],
   "source": [
    "friends = [(\"Rachel\",19),\n",
    "           (\"Monica\",18),\n",
    "           (\"Phoebe\",17),\n",
    "           (\"Joey\",16),\n",
    "           (\"Chandler\",21),\n",
    "           (\"Ross\",20)]\n",
    "\n",
    "age= lambda data:data[1]>18\n",
    "res=list(filter(age,friends))\n",
    "res"
   ]
  },
  {
   "cell_type": "code",
   "execution_count": 135,
   "id": "07361d71-62ee-4e1f-9b6b-feca1a6df7a8",
   "metadata": {},
   "outputs": [
    {
     "data": {
      "text/plain": [
       "[38, 36, 34, 32, 42, 40]"
      ]
     },
     "execution_count": 135,
     "metadata": {},
     "output_type": "execute_result"
    }
   ],
   "source": [
    "friends = [(\"Rachel\",19),\n",
    "           (\"Monica\",18),\n",
    "           (\"Phoebe\",17),\n",
    "           (\"Joey\",16),\n",
    "           (\"Chandler\",21),\n",
    "           (\"Ross\",20)]\n",
    "\n",
    "age= lambda data:data[1]*2\n",
    "res=list(map(age,friends))\n",
    "res"
   ]
  },
  {
   "cell_type": "markdown",
   "id": "1fc55999-38a7-45de-ad5d-979820695a31",
   "metadata": {},
   "source": [
    "### 23 reduce"
   ]
  },
  {
   "cell_type": "code",
   "execution_count": 13,
   "id": "fdfcf29e-91b9-414d-9780-292253300275",
   "metadata": {},
   "outputs": [
    {
     "data": {
      "text/plain": [
       "15"
      ]
     },
     "execution_count": 13,
     "metadata": {},
     "output_type": "execute_result"
    }
   ],
   "source": [
    "import functools\n",
    "a=[1,2,3,4,5]\n",
    "res=functools.reduce(lambda x,y:x+y,a)\n",
    "res\n"
   ]
  },
  {
   "cell_type": "markdown",
   "id": "3510849d-4108-420b-b31a-fcd63db7eb05",
   "metadata": {},
   "source": [
    "### 24.shallow copy"
   ]
  },
  {
   "cell_type": "code",
   "execution_count": 60,
   "id": "99e4d828-2962-4cbd-bec5-4ea717415852",
   "metadata": {},
   "outputs": [
    {
     "data": {
      "text/plain": [
       "[[1, 2, 3, 4], [100, 6, 7, 8]]"
      ]
     },
     "execution_count": 60,
     "metadata": {},
     "output_type": "execute_result"
    }
   ],
   "source": [
    "lst1=[[1,2,3,4],[5,6,7,8]]\n",
    "lst2=lst1.copy()\n",
    "lst1[1][0]=100\n",
    "lst1"
   ]
  },
  {
   "cell_type": "code",
   "execution_count": 61,
   "id": "56e281ba-dd66-4064-9106-e1a80eecbfd0",
   "metadata": {},
   "outputs": [
    {
     "data": {
      "text/plain": [
       "[[1, 2, 3, 4], [100, 6, 7, 8]]"
      ]
     },
     "execution_count": 61,
     "metadata": {},
     "output_type": "execute_result"
    }
   ],
   "source": [
    "lst2"
   ]
  },
  {
   "cell_type": "markdown",
   "id": "defc4eeb-efaa-4103-87a9-9306740ef0bc",
   "metadata": {},
   "source": [
    "### 25.deep copy"
   ]
  },
  {
   "cell_type": "code",
   "execution_count": 64,
   "id": "4d57cdb0-bacd-43f7-b1bb-15f1db5c67ae",
   "metadata": {},
   "outputs": [
    {
     "data": {
      "text/plain": [
       "[[1, 2, 3], [3, 4, 5], [5, 6, 7]]"
      ]
     },
     "execution_count": 64,
     "metadata": {},
     "output_type": "execute_result"
    }
   ],
   "source": [
    "lst1=[[1,2,3],[3,4,5,],[5,6,7]]\n",
    "lst2=copy.deepcopy(lst1)\n",
    "lst2"
   ]
  },
  {
   "cell_type": "code",
   "execution_count": 65,
   "id": "c18ceb3e-f0bf-4fa0-8342-e20403867558",
   "metadata": {},
   "outputs": [],
   "source": [
    "lst2[1][0]=100"
   ]
  },
  {
   "cell_type": "code",
   "execution_count": 68,
   "id": "ffed2edb-ddc9-4f59-b5aa-5f33ea0fecd1",
   "metadata": {},
   "outputs": [
    {
     "data": {
      "text/plain": [
       "[[1, 2, 3], [100, 4, 5], [5, 6, 7]]"
      ]
     },
     "execution_count": 68,
     "metadata": {},
     "output_type": "execute_result"
    }
   ],
   "source": [
    "lst2"
   ]
  },
  {
   "cell_type": "code",
   "execution_count": 69,
   "id": "4c2bcd6e-fde8-4ff9-943a-a48c4b9168f3",
   "metadata": {},
   "outputs": [
    {
     "data": {
      "text/plain": [
       "[[1, 2, 3], [3, 4, 5], [5, 6, 7]]"
      ]
     },
     "execution_count": 69,
     "metadata": {},
     "output_type": "execute_result"
    }
   ],
   "source": [
    "lst1"
   ]
  },
  {
   "cell_type": "markdown",
   "id": "965491e6-68cc-422d-9325-a4d3d010bb12",
   "metadata": {},
   "source": [
    "### 26.adding element to tuples of list "
   ]
  },
  {
   "cell_type": "code",
   "execution_count": 8,
   "id": "99445d1c-8a32-4920-ad54-8a383759938c",
   "metadata": {},
   "outputs": [
    {
     "name": "stdout",
     "output_type": "stream",
     "text": [
      "(1234, 'hello', [1, 2, 3, 2])\n"
     ]
    }
   ],
   "source": [
    "a=(1234,\"hello\",[1,2,3])\n",
    "a[-1].append(2)\n",
    "print(a)"
   ]
  },
  {
   "cell_type": "markdown",
   "id": "748303f2-1210-4d88-b8a9-db51bc27922f",
   "metadata": {},
   "source": [
    "### 27.while"
   ]
  },
  {
   "cell_type": "code",
   "execution_count": 18,
   "id": "15083e08-c9f0-45c0-afd2-a29590809b74",
   "metadata": {},
   "outputs": [
    {
     "name": "stdin",
     "output_type": "stream",
     "text": [
      "enter your name \n"
     ]
    },
    {
     "name": "stdout",
     "output_type": "stream",
     "text": [
      "please neter your name \n"
     ]
    },
    {
     "name": "stdin",
     "output_type": "stream",
     "text": [
      "enter your name hht\n"
     ]
    },
    {
     "name": "stdout",
     "output_type": "stream",
     "text": [
      "hello,hht\n"
     ]
    }
   ],
   "source": [
    "name=input(\"enter your name\")\n",
    "while name ==\"\":\n",
    "    print(\"please neter your name \")\n",
    "    name=input(\"enter your name\")\n",
    "print(f\"hello,{name}\")"
   ]
  },
  {
   "cell_type": "markdown",
   "id": "713dccd9-779b-4ba0-80a2-906b8739bd90",
   "metadata": {},
   "source": [
    "### 28.rock paper scissor game "
   ]
  },
  {
   "cell_type": "code",
   "execution_count": 176,
   "id": "5e5709dd-b0b6-45b3-99b4-644751fbcdb2",
   "metadata": {},
   "outputs": [
    {
     "name": "stdin",
     "output_type": "stream",
     "text": [
      "Enter rock ,paper,scissor  rock\n"
     ]
    },
    {
     "name": "stdout",
     "output_type": "stream",
     "text": [
      "Player: rock\n",
      "computer: paper\n",
      "you loose\n"
     ]
    },
    {
     "name": "stdin",
     "output_type": "stream",
     "text": [
      "you want to play agai-->yes/no: yes\n",
      "Enter rock ,paper,scissor  rock\n"
     ]
    },
    {
     "name": "stdout",
     "output_type": "stream",
     "text": [
      "Player: rock\n",
      "computer: paper\n",
      "you loose\n"
     ]
    },
    {
     "name": "stdin",
     "output_type": "stream",
     "text": [
      "you want to play agai-->yes/no: yes\n",
      "Enter rock ,paper,scissor  rock\n"
     ]
    },
    {
     "name": "stdout",
     "output_type": "stream",
     "text": [
      "Player: rock\n",
      "computer: scissor\n",
      "you won \n"
     ]
    },
    {
     "name": "stdin",
     "output_type": "stream",
     "text": [
      "you want to play agai-->yes/no: yes\n",
      "Enter rock ,paper,scissor  paper\n"
     ]
    },
    {
     "name": "stdout",
     "output_type": "stream",
     "text": [
      "Player: paper\n",
      "computer: paper\n",
      "Tie!\n"
     ]
    },
    {
     "name": "stdin",
     "output_type": "stream",
     "text": [
      "you want to play agai-->yes/no: yes\n",
      "Enter rock ,paper,scissor  paper\n"
     ]
    },
    {
     "name": "stdout",
     "output_type": "stream",
     "text": [
      "Player: paper\n",
      "computer: rock\n",
      "you loose\n"
     ]
    },
    {
     "name": "stdin",
     "output_type": "stream",
     "text": [
      "you want to play agai-->yes/no: no\n"
     ]
    },
    {
     "name": "stdout",
     "output_type": "stream",
     "text": [
      "Bye\n"
     ]
    }
   ],
   "source": [
    "import random\n",
    "while True:\n",
    "    choices=[\"rock\",\"paper\",\"scissor\"]\n",
    "    computer=random.choice(choices)\n",
    "    player=None\n",
    "    while player not in choices:\n",
    "       player=input(\"Enter rock ,paper,scissor \")\n",
    "    # print(f\"Player: {player}\")\n",
    "    # print(f\"computer: {computer}\")\n",
    "    if player==computer:\n",
    "        print(f\"Player: {player}\")\n",
    "        print(f\"computer: {computer}\")\n",
    "        print(\"Tie!\")\n",
    "    elif player==\"rock\":\n",
    "        if computer==\"scissor\":\n",
    "            print(f\"Player: {player}\")\n",
    "            print(f\"computer: {computer}\")\n",
    "            print(\"you won \")\n",
    "        if computer==\"paper\":\n",
    "            print(f\"Player: {player}\")\n",
    "            print(f\"computer: {computer}\")\n",
    "            print(\"you loose\")\n",
    "            \n",
    "    elif player==\"paper\":\n",
    "        if computer ==\"rock\":\n",
    "            print(f\"Player: {player}\")\n",
    "            print(f\"computer: {computer}\")\n",
    "            print(\"you loose\")\n",
    "        if computer==\"scissor\":\n",
    "             print(f\"Player: {player}\")\n",
    "             print(f\"computer: {computer}\")\n",
    "             print(\"you won\")\n",
    "    elif player==\"scissor\":\n",
    "        if computer ==\"rock\":\n",
    "            print(f\"Player: {player}\")\n",
    "            print(f\"computer: {computer}\")\n",
    "            print(\"you loose\")\n",
    "        if computer==\"paper\":\n",
    "             print(f\"Player: {player}\")\n",
    "             print(f\"computer: {computer}\")\n",
    "             print(\"you won \")\n",
    "    play_again=input(\"you want to play agai-->yes/no:\").lower()\n",
    "    if play_again!=\"yes\":\n",
    "            break\n",
    "print(\"Bye\")"
   ]
  },
  {
   "cell_type": "markdown",
   "id": "7c5283b4-5cbc-4fa4-acaa-3fd1b1b8fbe8",
   "metadata": {},
   "source": [
    "### 29.oops instant varibales,class varibale"
   ]
  },
  {
   "cell_type": "code",
   "execution_count": 20,
   "id": "24bd3bc9-e98d-4f4d-a9aa-ef756f2afa92",
   "metadata": {},
   "outputs": [
    {
     "name": "stdout",
     "output_type": "stream",
     "text": [
      "3\n"
     ]
    }
   ],
   "source": [
    "class Hello:\n",
    "    inputs=3   # class vaiables\n",
    "    def __init__(self,name,address,dep):\n",
    "        self.name=name   # instant variables \n",
    "        self.address=address # instant variables \n",
    "        self.dep=dep # instant variables \n",
    "    def info(self):\n",
    "        print(\"sample oops programe\")\n",
    "object1=Hello(\"joe\",\"delhi\",\"cse\")\n",
    "object1.name\n",
    "object1.address\n",
    "print(object1.inputs) "
   ]
  },
  {
   "cell_type": "code",
   "execution_count": 194,
   "id": "f9bf4b14-c427-46d4-9dd7-de6b201729e3",
   "metadata": {},
   "outputs": [
    {
     "name": "stdout",
     "output_type": "stream",
     "text": [
      "sample oops programe\n"
     ]
    }
   ],
   "source": [
    "object1.info()"
   ]
  },
  {
   "cell_type": "code",
   "execution_count": 196,
   "id": "6336c30a-560c-4517-9478-39356050072d",
   "metadata": {},
   "outputs": [
    {
     "data": {
      "text/plain": [
       "3"
      ]
     },
     "execution_count": 196,
     "metadata": {},
     "output_type": "execute_result"
    }
   ],
   "source": [
    "object1.inputs  # accesing class variables"
   ]
  },
  {
   "cell_type": "markdown",
   "id": "a93ba991-e7e3-4877-875a-4374cbf467b1",
   "metadata": {},
   "source": [
    "### 30.inheritence"
   ]
  },
  {
   "cell_type": "code",
   "execution_count": 200,
   "id": "a32ae227-b0f1-4329-80e8-3923ae26ca52",
   "metadata": {},
   "outputs": [
    {
     "name": "stdout",
     "output_type": "stream",
     "text": [
      "this animal is eating\n",
      "This is rabbit\n"
     ]
    },
    {
     "data": {
      "text/plain": [
       "True"
      ]
     },
     "execution_count": 200,
     "metadata": {},
     "output_type": "execute_result"
    }
   ],
   "source": [
    "class Animal:\n",
    "    alive=True\n",
    "    def eat(self):\n",
    "        print(\"this animal is eating\")\n",
    "    def swim(self):\n",
    "        print(\"this animal can swin\")\n",
    "class Rabbit(Animal):\n",
    "    def r_info(self):\n",
    "        print(\"This is rabbit\")\n",
    "class Fish(Animal):\n",
    "    def f_info(self):\n",
    "        print(\"this is fish\")\n",
    "class eagle(Animal):\n",
    "    def e_info(self):\n",
    "        print(\"this is eagle\")\n",
    "    \n",
    "rabbit=Rabbit()\n",
    "rabbit.eat()\n",
    "rabbit.r_info()\n",
    "rabbit.alive\n",
    "    "
   ]
  },
  {
   "cell_type": "markdown",
   "id": "a4e8200e-5ab8-476d-8cfe-b21ce170ba19",
   "metadata": {},
   "source": [
    "### 31.multilevel inheritence"
   ]
  },
  {
   "cell_type": "code",
   "execution_count": 30,
   "id": "481027f7-cd62-4d61-8a42-3cfdcc58b6f1",
   "metadata": {},
   "outputs": [
    {
     "name": "stdout",
     "output_type": "stream",
     "text": [
      "this is the child info\n",
      "this is parent info\n",
      "this is grand parent \n"
     ]
    },
    {
     "data": {
      "text/plain": [
       "4000"
      ]
     },
     "execution_count": 30,
     "metadata": {},
     "output_type": "execute_result"
    }
   ],
   "source": [
    "class Grand:\n",
    "    amount=4000\n",
    "    def ginfo(Self):\n",
    "        print(\"this is grand parent \")\n",
    "class Parent(Grand):\n",
    "    def pinfo(self):\n",
    "        print(\"this is parent info\")\n",
    "class child(Parent):\n",
    "    def cinfo(self):\n",
    "        print(\"this is the child info\")\n",
    "\n",
    "obj=child()\n",
    "obj.cinfo()\n",
    "obj.pinfo()\n",
    "obj.ginfo()\n",
    "obj.amount"
   ]
  },
  {
   "cell_type": "markdown",
   "id": "b0d23ff9-3166-4477-9015-887fb39bd37a",
   "metadata": {},
   "source": [
    "### 32.multiple inheritecne"
   ]
  },
  {
   "cell_type": "code",
   "execution_count": 28,
   "id": "6af5e6a0-59a8-4a35-8bef-f8b8ada4ae17",
   "metadata": {},
   "outputs": [
    {
     "name": "stdout",
     "output_type": "stream",
     "text": [
      "this sis the mother info\n",
      "thsi is fatehr info\n"
     ]
    }
   ],
   "source": [
    "class Father:\n",
    "    amount=2000\n",
    "    def finfo(self):\n",
    "        print(\"thsi is fatehr info\")\n",
    "class Mother:\n",
    "    def minfo(self):\n",
    "        print(\"this sis the mother info\")\n",
    "class Child(Father,Mother):\n",
    "    def cinfo(self):\n",
    "        print(\"this is the child info\")\n",
    "obj=Child()\n",
    "obj.minfo()\n",
    "obj.finfo()\n"
   ]
  },
  {
   "cell_type": "code",
   "execution_count": null,
   "id": "1f868132-90ee-4978-81e6-1fcdd81c54d5",
   "metadata": {},
   "outputs": [],
   "source": []
  },
  {
   "cell_type": "markdown",
   "id": "4af5f7cf-368d-49cc-806c-c45bf25ff780",
   "metadata": {},
   "source": [
    "### 33.method overriding"
   ]
  },
  {
   "cell_type": "code",
   "execution_count": 5,
   "id": "2ade71fa-0576-4e7c-9f9a-fafa78ee492f",
   "metadata": {},
   "outputs": [
    {
     "name": "stdout",
     "output_type": "stream",
     "text": [
      "This animal is eating\n",
      "This rabbit is eating a carrot\n"
     ]
    }
   ],
   "source": [
    "class Animal:\n",
    "    def eat(self):\n",
    "        print(\"This animal is eating\")\n",
    "class Rabbit(Animal):\n",
    "    def eat(self):   # mthod overriding\n",
    "        super().eat()\n",
    "        print(\"This rabbit is eating a carrot\")\n",
    "rabbit = Rabbit()\n",
    "rabbit.eat()\n"
   ]
  },
  {
   "cell_type": "markdown",
   "id": "a229b8a7-4aa8-4f7b-a932-3fa271b19e69",
   "metadata": {},
   "source": [
    "### 34.super method"
   ]
  },
  {
   "cell_type": "code",
   "execution_count": 35,
   "id": "8d28adcf-4c21-468a-ad19-ed24945f7a20",
   "metadata": {},
   "outputs": [
    {
     "name": "stdout",
     "output_type": "stream",
     "text": [
      "This rabbit is eating a carrot\n",
      "This animal is eating\n"
     ]
    }
   ],
   "source": [
    "class Animal:\n",
    "    def eat(self):\n",
    "        print(\"This animal is eating\")\n",
    "class Rabbit(Animal):\n",
    "    def eat(self):   # mthod overriding\n",
    "        print(\"This rabbit is eating a carrot\")\n",
    "        super().eat()\n",
    "        \n",
    "rabbit = Rabbit()\n",
    "rabbit.eat()"
   ]
  },
  {
   "cell_type": "markdown",
   "id": "128f08f1-8444-4548-a1e0-3fc7a9879147",
   "metadata": {},
   "source": [
    "### 35.abstract class and method"
   ]
  },
  {
   "cell_type": "code",
   "execution_count": 40,
   "id": "abd03372-fe3b-47cf-910b-84bb238f4212",
   "metadata": {},
   "outputs": [
    {
     "name": "stdout",
     "output_type": "stream",
     "text": [
      "cars has 4 wheels\n",
      "speed is 60km/hr\n"
     ]
    }
   ],
   "source": [
    "\n",
    "from abc import ABC,abstractmethod\n",
    "class cars(ABC):\n",
    "    def show(self):\n",
    "        print(\"cars has 4 wheels\")\n",
    "    @abstractmethod\n",
    "    def speed(self):\n",
    "        pass\n",
    "class bmw(cars):\n",
    "    def speed(self):\n",
    "        print(\"speed is 60km/hr\")\n",
    "class suzuki(cars):\n",
    "    def speed(self):\n",
    "        print(\"spped is 90km/hr\")\n",
    "\n",
    "obj=bmw()\n",
    "obj.show()\n",
    "obj.speed()\n"
   ]
  },
  {
   "cell_type": "code",
   "execution_count": 2,
   "id": "41ee4c2a-5b6d-48ee-9af2-82ccfac3d973",
   "metadata": {},
   "outputs": [
    {
     "name": "stdout",
     "output_type": "stream",
     "text": [
      "hellwoorld\n"
     ]
    },
    {
     "data": {
      "text/plain": [
       "10"
      ]
     },
     "execution_count": 2,
     "metadata": {},
     "output_type": "execute_result"
    }
   ],
   "source": [
    "class helo:\n",
    "    _a=10\n",
    "    __a=35\n",
    "    def  info(self):\n",
    "        print(\"hellwoorld\")\n",
    "obj=helo()\n",
    "obj.info()\n",
    "obj._a\n",
    "#obj.__a  #cant access"
   ]
  },
  {
   "cell_type": "markdown",
   "id": "55293d7a-daee-476c-9659-86464fcb7845",
   "metadata": {},
   "source": [
    "### 36.pancard validator\n",
    "\n"
   ]
  },
  {
   "cell_type": "code",
   "execution_count": 21,
   "id": "040f9390-48f4-4f71-9262-b493cb5170e4",
   "metadata": {},
   "outputs": [
    {
     "name": "stdin",
     "output_type": "stream",
     "text": [
      "Enter your PAN card number:  cekpm5144k\n"
     ]
    },
    {
     "name": "stdout",
     "output_type": "stream",
     "text": [
      "Sorry, your PAN card is invalid.\n"
     ]
    }
   ],
   "source": [
    "# The PAN card number is a 10-character alphanumeric code.\n",
    "# The first five characters are letters (in uppercase).\n",
    "# The next four characters are numbers.\n",
    "# The last character is a letter.\n",
    "def display_invalid_message():\n",
    "    print(\"Sorry, your PAN card is invalid.\")\n",
    "def pan_validator(pan_number):\n",
    "    if len(pan_number) != 10:\n",
    "        return display_invalid_message()\n",
    "\n",
    "    for i in range(5):\n",
    "        if not pan_number[i].isalpha() or not pan_number[i].isupper():\n",
    "            return display_invalid_message()\n",
    "            \n",
    "    for i in range(5, 9):\n",
    "        if not pan_number[i].isdigit():\n",
    "           return display_invalid_message()\n",
    "    if not pan_number[-1].isalpha() or not pan_number[-1].isupper():\n",
    "        return display_invalid_message()\n",
    "\n",
    "    return \"Pancard is valid\"\n",
    "\n",
    "user = input(\"Enter your PAN card number: \")\n",
    "res = pan_validator(user)\n",
    "res"
   ]
  },
  {
   "cell_type": "markdown",
   "id": "587b616c-4a90-466e-a8f5-3b3b6041f005",
   "metadata": {},
   "source": [
    "### 37.amstrong no\n"
   ]
  },
  {
   "cell_type": "code",
   "execution_count": 2,
   "id": "7eb89619-980c-45cb-b76f-fe0db529cf8d",
   "metadata": {},
   "outputs": [
    {
     "name": "stdout",
     "output_type": "stream",
     "text": [
      "amstrong no\n"
     ]
    }
   ],
   "source": [
    "a=153  \n",
    "b=str(a)\n",
    "l=len(b)\n",
    "res=sum(int(i)**l for i in b)\n",
    "if res==a:\n",
    "    print(\"amstrong no\")\n",
    "else:\n",
    "    print(\"Not amstrog \")\n",
    "\n",
    "\n",
    "\n"
   ]
  },
  {
   "cell_type": "markdown",
   "id": "6680fa06-f08a-4a6c-9f20-649436e7ae6f",
   "metadata": {},
   "source": [
    "### 38.python script to find the path is file or directory"
   ]
  },
  {
   "cell_type": "code",
   "execution_count": 1,
   "id": "0e75bebd-03c4-4613-b58d-54497d1d00e4",
   "metadata": {},
   "outputs": [
    {
     "name": "stdin",
     "output_type": "stream",
     "text": [
      "enter your path C:\\Users\\navee\\OneDrive\\Documents\\javeed\\python_interview_practice\n"
     ]
    },
    {
     "name": "stdout",
     "output_type": "stream",
     "text": [
      "path exists\n",
      "path is a dir\n"
     ]
    }
   ],
   "source": [
    "import os \n",
    "path=input(\"enter your path\")\n",
    "if os.path.exists(path):\n",
    "    print(\"path exists\")\n",
    "    if os.path.isfile(path):\n",
    "        print(\"path is having a file\")\n",
    "    else:\n",
    "        print(\"path is a dir\")\n",
    "else:\n",
    "    print(\"path doesnot exists\")"
   ]
  },
  {
   "cell_type": "markdown",
   "id": "30f2b842-a976-4a51-bcc6-c027ef845d63",
   "metadata": {},
   "source": [
    "### 39.python script to find the content in a path(all dir and the files)"
   ]
  },
  {
   "cell_type": "code",
   "execution_count": 3,
   "id": "b46e51fa-97ff-4b2f-9d63-10d39eb1a072",
   "metadata": {},
   "outputs": [
    {
     "name": "stdin",
     "output_type": "stream",
     "text": [
      "enter the path  C:\\Users\\navee\\OneDrive\\Documents\\javeed\\python_interview_practice\n"
     ]
    },
    {
     "name": "stdout",
     "output_type": "stream",
     "text": [
      "path exists\n",
      "['.ipynb_checkpoints', 'json_se.txt', 'obj_byte.txt', 'python.ipynb']\n"
     ]
    }
   ],
   "source": [
    "import os \n",
    "path=input(\"enter the path \")\n",
    "if os.path.exists(path):\n",
    "    print(\"path exists\")\n",
    "    print(os.listdir(path))\n",
    "else:\n",
    "    print(\"path does not exists\")"
   ]
  },
  {
   "cell_type": "markdown",
   "id": "bc1743c0-7271-4eed-9e7d-fd4a8802a27a",
   "metadata": {},
   "source": [
    "### 40.python script to find the dir and files in a path"
   ]
  },
  {
   "cell_type": "code",
   "execution_count": 6,
   "id": "5129e2c7-9dae-46d6-abb5-b24ad01e366a",
   "metadata": {},
   "outputs": [
    {
     "name": "stdin",
     "output_type": "stream",
     "text": [
      "Enter the path  C:\\Users\\navee\\OneDrive\\Documents\\javeed\\python_interview_practice\n"
     ]
    },
    {
     "name": "stdout",
     "output_type": "stream",
     "text": [
      "path exists\n",
      "C:\\Users\\navee\\OneDrive\\Documents\\javeed\\python_interview_practice\\.ipynb_checkpoints ------> dir\n",
      "C:\\Users\\navee\\OneDrive\\Documents\\javeed\\python_interview_practice\\json_se.txt -----> file\n",
      "C:\\Users\\navee\\OneDrive\\Documents\\javeed\\python_interview_practice\\obj_byte.txt -----> file\n",
      "C:\\Users\\navee\\OneDrive\\Documents\\javeed\\python_interview_practice\\python.ipynb -----> file\n"
     ]
    }
   ],
   "source": [
    "import os,sys\n",
    "path=input(\"Enter the path \")\n",
    "if os.path.exists(path):\n",
    "    print(\"path exists\")\n",
    "    for i in os.listdir(path):\n",
    "        complte_path=os.path.join(path,i)\n",
    "        if os.path.isfile(complte_path):\n",
    "            print(f\"{complte_path} -----> file\")\n",
    "        else:\n",
    "            print(f\"{complte_path} ------> dir\")\n",
    "else:\n",
    "    print(\"path does not exists\")\n",
    "    exit\n"
   ]
  },
  {
   "cell_type": "markdown",
   "id": "ee6372c1-54d5-4c2c-b1ac-cec30d5212f7",
   "metadata": {},
   "source": [
    "### 41.print index along with its values in list "
   ]
  },
  {
   "cell_type": "code",
   "execution_count": 11,
   "id": "96092e1e-c06f-402c-b8fc-b707138d9898",
   "metadata": {},
   "outputs": [
    {
     "name": "stdout",
     "output_type": "stream",
     "text": [
      "index:0--->1\n",
      "index:1--->2\n",
      "index:2--->3\n",
      "index:3--->445\n",
      "index:4--->4\n",
      "index:5--->5\n",
      "index:6--->hi\n"
     ]
    }
   ],
   "source": [
    "a=[1,2,3,445,4,5,\"hi\"]\n",
    "for index,val in enumerate(a):\n",
    "    print(f\"index:{index}--->{val}\")\n",
    "\n",
    "    "
   ]
  },
  {
   "cell_type": "markdown",
   "id": "f362ad3e-2851-4a75-b894-59af877f7f1d",
   "metadata": {},
   "source": [
    "### 42.list all the files in dir "
   ]
  },
  {
   "cell_type": "code",
   "execution_count": 18,
   "id": "92fb7197-a2b5-4403-bc6b-63691924a3c8",
   "metadata": {},
   "outputs": [
    {
     "name": "stdin",
     "output_type": "stream",
     "text": [
      "enter the  path C:\\Users\\navee\\OneDrive\\Documents\\javeed\\python_interview_practice\n"
     ]
    },
    {
     "data": {
      "text/plain": [
       "['.ipynb_checkpoints', 'json_se.txt', 'obj_byte.txt', 'python.ipynb']"
      ]
     },
     "execution_count": 18,
     "metadata": {},
     "output_type": "execute_result"
    }
   ],
   "source": [
    "import os \n",
    "path=input(\"enter the  path\")\n",
    "re=os.listdir(path)\n",
    "re"
   ]
  },
  {
   "cell_type": "markdown",
   "id": "d701beb4-9217-4401-9cb8-ae7a278a2bc5",
   "metadata": {},
   "source": [
    "### 43.python script to find .py.sh.. extension files in directory"
   ]
  },
  {
   "cell_type": "code",
   "execution_count": 25,
   "id": "8e5d845b-482b-469a-9b4b-38bb53619c71",
   "metadata": {},
   "outputs": [
    {
     "name": "stdin",
     "output_type": "stream",
     "text": [
      "Enter the path C:\\Users\\navee\\OneDrive\\Documents\\javeed\\python_interview_practice\\json_se.txt\n"
     ]
    },
    {
     "name": "stdout",
     "output_type": "stream",
     "text": [
      "valid path\n",
      "But Please pass the  directory\n"
     ]
    }
   ],
   "source": [
    "import os\n",
    "path=input(\"Enter the path\")\n",
    "if os.path.exists(path):\n",
    "    print(\"valid path\")\n",
    "    if os.path.isfile(path):\n",
    "        print(\"But Please pass the  directory\")\n",
    "        exit\n",
    "    else:\n",
    "        r=os.listdir(path)\n",
    "        if len(r)==0:\n",
    "            print(\"there are no files\")\n",
    "        else:\n",
    "            files=[]\n",
    "            ext=input(\"Enter your extension\")\n",
    "            for i in r:\n",
    "               if i.endswith(ext):\n",
    "                   files.append(i)\n",
    "            if len(files)==0:\n",
    "                print(f\"There are no file with the extension {ext}\")\n",
    "            else:\n",
    "                for i in files:\n",
    "                    print(i)      \n",
    "else:\n",
    "    print(\"invalid path\")\n",
    "    "
   ]
  },
  {
   "cell_type": "markdown",
   "id": "c9f43449-c9ba-48eb-ae13-faa8a7a5e699",
   "metadata": {},
   "source": [
    "### 44. non repeated values form list\n"
   ]
  },
  {
   "cell_type": "code",
   "execution_count": 38,
   "id": "64f22369-72f9-4337-b246-199d005374da",
   "metadata": {},
   "outputs": [
    {
     "name": "stdout",
     "output_type": "stream",
     "text": [
      "5 8 "
     ]
    }
   ],
   "source": [
    "a=[1,2,2,4,4,5,2,1,2,4,7,7,8] \n",
    "for i in a:\n",
    "    if a.count(i)==1:\n",
    "        print(i,end=\" \" )\n"
   ]
  },
  {
   "cell_type": "markdown",
   "id": "4c34c42e-915f-42a2-bd7e-96a773a0229c",
   "metadata": {},
   "source": [
    "### 45.sorting in alpha numeric "
   ]
  },
  {
   "cell_type": "code",
   "execution_count": 54,
   "id": "75d70e80-8b4c-470e-b0fb-0a613672eb9d",
   "metadata": {},
   "outputs": [
    {
     "name": "stdout",
     "output_type": "stream",
     "text": [
      "['A', 'D', 'B']\n",
      "['5', '2', '1']\n"
     ]
    }
   ],
   "source": [
    "a=\"A5D2B1\"\n",
    "al=[]\n",
    "num=[]\n",
    "for i in a:\n",
    "    if i.isalpha():\n",
    "        al.append(i)\n",
    "    else:\n",
    "        num.append(i)\n",
    "print(al)\n",
    "print(num)"
   ]
  },
  {
   "cell_type": "code",
   "execution_count": 62,
   "id": "9885bd7c-e54e-4c40-a526-927433d7eecc",
   "metadata": {},
   "outputs": [
    {
     "name": "stdout",
     "output_type": "stream",
     "text": [
      "ABD125\n"
     ]
    }
   ],
   "source": [
    "c=sorted(al)+sorted(num)\n",
    "print(\"\".join(c))"
   ]
  },
  {
   "cell_type": "markdown",
   "id": "be754669-dd19-44d0-982e-1a0d720d869d",
   "metadata": {},
   "source": [
    "### 46.get the elements from which are repeated mor than 3"
   ]
  },
  {
   "cell_type": "code",
   "execution_count": 64,
   "id": "fa07f810-261b-443f-95c4-2345b26cce99",
   "metadata": {},
   "outputs": [
    {
     "name": "stdout",
     "output_type": "stream",
     "text": [
      "['hat', 'cat']\n"
     ]
    }
   ],
   "source": [
    "a=[\"cat\",\"hat\",\"cat\",\"apple\",\"cat\",\"apple\",\"pat\",\"cat\",\"hat\",\"hat\"]\n",
    "b=[]\n",
    "for i in a:\n",
    "    if a.count(i)>=3:\n",
    "        b.append(i)\n",
    "print(list(set(b)))"
   ]
  },
  {
   "cell_type": "markdown",
   "id": "f84c3175-30fe-4143-a5e8-672aea8bdb59",
   "metadata": {},
   "source": [
    "### 47.conevrt to binary and reverse the bits"
   ]
  },
  {
   "cell_type": "code",
   "execution_count": 51,
   "id": "70a35c02-316c-4db8-8cd2-35b0eb16bc4c",
   "metadata": {},
   "outputs": [
    {
     "data": {
      "text/plain": [
       "'0b110010'"
      ]
     },
     "execution_count": 51,
     "metadata": {},
     "output_type": "execute_result"
    }
   ],
   "source": [
    "a=50\n",
    "b=bin(a)\n",
    "b\n"
   ]
  },
  {
   "cell_type": "code",
   "execution_count": 77,
   "id": "ae254828-961f-4fde-a8d4-ec3ff85c428d",
   "metadata": {},
   "outputs": [
    {
     "name": "stdout",
     "output_type": "stream",
     "text": [
      "110010\n",
      "<class 'str'>\n"
     ]
    }
   ],
   "source": [
    "c=b[2:]\n",
    "print(c)\n",
    "print(type(c))"
   ]
  },
  {
   "cell_type": "code",
   "execution_count": 82,
   "id": "826acf15-6dfb-4097-9c31-75190eb0aa34",
   "metadata": {},
   "outputs": [
    {
     "data": {
      "text/plain": [
       "'001101'"
      ]
     },
     "execution_count": 82,
     "metadata": {},
     "output_type": "execute_result"
    }
   ],
   "source": [
    "d=\"\"\n",
    "for i in c:\n",
    "    if i==\"1\":\n",
    "        d=d+\"0\"\n",
    "    else:\n",
    "        d=d+\"1\"\n",
    "d"
   ]
  },
  {
   "cell_type": "markdown",
   "id": "cb5dcb8c-6681-4948-b2a2-713f695cc081",
   "metadata": {},
   "source": [
    "### 48.Initialize max_product with the product of  two elements"
   ]
  },
  {
   "cell_type": "code",
   "execution_count": 94,
   "id": "fa6ca3ec-4177-4a18-9a22-995d8c53cb3f",
   "metadata": {},
   "outputs": [
    {
     "data": {
      "text/plain": [
       "[9, 8]"
      ]
     },
     "execution_count": 94,
     "metadata": {},
     "output_type": "execute_result"
    }
   ],
   "source": [
    "a = [1, 2, 3, 4, 5, 9, 8]\n",
    "b=0\n",
    "pair = []\n",
    "for i in range(len(a)):\n",
    "    for j in range(i+1, len(a)):\n",
    "        product = a[i] * a[j]\n",
    "        if product > b:\n",
    "            b = product\n",
    "            pair=[a[i],a[j]]\n",
    "pair\n"
   ]
  },
  {
   "cell_type": "code",
   "execution_count": 95,
   "id": "661736bb-d106-4f38-9cc1-afa34500312b",
   "metadata": {},
   "outputs": [
    {
     "data": {
      "text/plain": [
       "72"
      ]
     },
     "execution_count": 95,
     "metadata": {},
     "output_type": "execute_result"
    }
   ],
   "source": [
    "b"
   ]
  },
  {
   "cell_type": "markdown",
   "id": "e17a75a9-15f2-4866-9b67-8b18f3c754f9",
   "metadata": {},
   "source": [
    "### 49.sum of two index vlaues must be eaual to nth value"
   ]
  },
  {
   "cell_type": "code",
   "execution_count": 20,
   "id": "cacb4871-82b1-4584-95c2-6df98d87c723",
   "metadata": {},
   "outputs": [
    {
     "data": {
      "text/plain": [
       "[0, 1]"
      ]
     },
     "execution_count": 20,
     "metadata": {},
     "output_type": "execute_result"
    }
   ],
   "source": [
    "a=[2,7,6,7,8,2]\n",
    "n=9\n",
    "res=[]\n",
    "for i in range(len(a)):\n",
    "    for j in range(i+1,len(a)):\n",
    "        if a[i]+a[j]==n and len(res)==0:\n",
    "            res.append(i)\n",
    "            res.append(j)\n",
    "res"
   ]
  },
  {
   "cell_type": "markdown",
   "id": "3a487e84-f15c-4d6a-ad3c-0e3553588891",
   "metadata": {},
   "source": [
    "### 50.a3b4c5 ---> aaabbbbccccc"
   ]
  },
  {
   "cell_type": "code",
   "execution_count": 2,
   "id": "15ad39af-19ff-4760-8e83-70de1afc3923",
   "metadata": {},
   "outputs": [
    {
     "data": {
      "text/plain": [
       "'aaabbbbccccc'"
      ]
     },
     "execution_count": 2,
     "metadata": {},
     "output_type": "execute_result"
    }
   ],
   "source": [
    "a=\"a3b4c5\"\n",
    "al=[]\n",
    "num=[]\n",
    "for i in a:\n",
    "     if i.isalpha():\n",
    "         al.append(i)\n",
    "     else:\n",
    "         num.append(int(i))\n",
    "c=\"\"\n",
    "for a,v in zip(num,al):\n",
    "     c=c+a*v\n",
    "c\n",
    "    \n",
    "    "
   ]
  },
  {
   "cell_type": "markdown",
   "id": "e19bad27-3e18-4ac6-8fec-7d9315a21215",
   "metadata": {},
   "source": [
    "### 60.make alpha and numeric into seperate list"
   ]
  },
  {
   "cell_type": "code",
   "execution_count": 110,
   "id": "697cf5ea-d903-4f21-a462-ff8418d9464c",
   "metadata": {},
   "outputs": [
    {
     "data": {
      "text/plain": [
       "['apple', 'banana', 'orange']"
      ]
     },
     "execution_count": 110,
     "metadata": {},
     "output_type": "execute_result"
    }
   ],
   "source": [
    "a=[\"appl23e1224\",\"2844ban45ana\",\"o45range48739\"]\n",
    "xx=[]\n",
    "yy=[]\n",
    "for i in a:\n",
    "    al=\"\"\n",
    "    num=\"\"\n",
    "    for j in i:\n",
    "        if j.isalpha():\n",
    "            al=al+j\n",
    "        else:\n",
    "            num=num+j\n",
    "    xx.append(al)\n",
    "    yy.append(num)\n",
    "xx"
   ]
  },
  {
   "cell_type": "code",
   "execution_count": 111,
   "id": "6968491c-951a-47c2-b211-134c02eb3315",
   "metadata": {},
   "outputs": [
    {
     "data": {
      "text/plain": [
       "['231224', '284445', '4548739']"
      ]
     },
     "execution_count": 111,
     "metadata": {},
     "output_type": "execute_result"
    }
   ],
   "source": [
    "yy"
   ]
  },
  {
   "cell_type": "markdown",
   "id": "2ef89c0c-dbd1-47c4-8116-7eab9dee0263",
   "metadata": {},
   "source": [
    "### 61.[1,23,45,55,21] ---------> # [1, 5, 9, 10, 3]"
   ]
  },
  {
   "cell_type": "code",
   "execution_count": 121,
   "id": "7881a67d-772f-4578-ac41-edd65603b78a",
   "metadata": {},
   "outputs": [
    {
     "data": {
      "text/plain": [
       "[1, 5, 9, 10, 3]"
      ]
     },
     "execution_count": 121,
     "metadata": {},
     "output_type": "execute_result"
    }
   ],
   "source": [
    "a=[1,23,45,55,21]\n",
    "b= [str(i) for i in a]\n",
    "c=[]\n",
    "for j in b:\n",
    "    z=0\n",
    "    for k in j:\n",
    "        z=z+int(k)\n",
    "    c.append(z)\n",
    "c\n",
    "    \n",
    "        \n",
    "        "
   ]
  },
  {
   "cell_type": "markdown",
   "id": "51602e47-f448-4098-b9ec-6bb2faa2658d",
   "metadata": {},
   "source": [
    "### 62.\"my45name89is\"  ------>si45eman89ym"
   ]
  },
  {
   "cell_type": "code",
   "execution_count": 131,
   "id": "0a327835-54a7-4555-9cca-2c4948eff6f2",
   "metadata": {},
   "outputs": [
    {
     "data": {
      "text/plain": [
       "'si45eman89ym'"
      ]
     },
     "execution_count": 131,
     "metadata": {},
     "output_type": "execute_result"
    }
   ],
   "source": [
    "a=\"my45name89is\"\n",
    "#si45eman45ym\n",
    "b=[ i for i in reversed(a) if i.isalpha()]\n",
    "c=\"\"\n",
    "i=0\n",
    "for j in a:\n",
    "    if j.isalpha():\n",
    "        c=c+b[i]\n",
    "        i=i+1\n",
    "    else:\n",
    "        c=c+j\n",
    "c\n",
    "        "
   ]
  },
  {
   "cell_type": "markdown",
   "id": "30ef0a1b-97ae-4c33-9ec2-6a20ef9d72e8",
   "metadata": {},
   "source": [
    "### 63 reverse"
   ]
  },
  {
   "cell_type": "code",
   "execution_count": 138,
   "id": "d7d5a2c9-650c-4c49-8c8b-9327a99bdb26",
   "metadata": {},
   "outputs": [
    {
     "name": "stdout",
     "output_type": "stream",
     "text": [
      "siht si ohtyp ecitcarp\n"
     ]
    }
   ],
   "source": [
    "a=\"this is pytho practice\"\n",
    "b=a.split()\n",
    "c=\" \".join([i[::-1] for i in a.split()])\n",
    "print(c)"
   ]
  },
  {
   "cell_type": "markdown",
   "id": "40f67dcd-b2b4-465a-bec2-b61d70bb26ac",
   "metadata": {},
   "source": [
    "### 64.adding two list"
   ]
  },
  {
   "cell_type": "code",
   "execution_count": 142,
   "id": "46a5950a-e170-4c6b-86aa-083735eba266",
   "metadata": {},
   "outputs": [
    {
     "name": "stdout",
     "output_type": "stream",
     "text": [
      "1 3\n",
      "2 4\n",
      "3 5\n",
      "4 6\n",
      "[4, 6, 8, 10]\n"
     ]
    }
   ],
   "source": [
    "s1=[1,2,3,4]\n",
    "s2=[3,4,5,6]\n",
    "a=[]\n",
    "for i,j in zip(s1,s2):\n",
    "    print(i,j)\n",
    "    a.append(i+j)\n",
    "print(a)"
   ]
  },
  {
   "cell_type": "markdown",
   "id": "4217de75-60a6-4a19-b0b2-47bb837bacfe",
   "metadata": {},
   "source": [
    "### 65.print some thing without using print function"
   ]
  },
  {
   "cell_type": "code",
   "execution_count": 146,
   "id": "6a26912f-14bb-4e76-b0ba-c1033656ea72",
   "metadata": {},
   "outputs": [],
   "source": [
    "import sys\n"
   ]
  },
  {
   "cell_type": "code",
   "execution_count": 1,
   "id": "5ddee006-e9d3-41b4-bd7e-6d45a87a65e8",
   "metadata": {},
   "outputs": [],
   "source": [
    "#dir(sys.stdout)\n"
   ]
  },
  {
   "cell_type": "code",
   "execution_count": 152,
   "id": "797b11f4-cafa-48ce-91d1-73a52d6a89a7",
   "metadata": {},
   "outputs": [
    {
     "name": "stdout",
     "output_type": "stream",
     "text": [
      "helloworld"
     ]
    }
   ],
   "source": [
    "sys.stdout.writelines(\"helloworld\")"
   ]
  },
  {
   "cell_type": "markdown",
   "id": "6790cc57-74a8-40d8-b795-90453409294d",
   "metadata": {},
   "source": [
    "### 66.list common values from two list"
   ]
  },
  {
   "cell_type": "code",
   "execution_count": 156,
   "id": "bb5ac7fb-068f-42d0-b982-5063aa34818b",
   "metadata": {},
   "outputs": [
    {
     "data": {
      "text/plain": [
       "[4, 5]"
      ]
     },
     "execution_count": 156,
     "metadata": {},
     "output_type": "execute_result"
    }
   ],
   "source": [
    "list1 = [1, 2, 3, 4, 5]\n",
    "list2 = [4, 5, 6, 7, 8]\n",
    "list3=[]\n",
    "for i in list1:\n",
    "    if i in list2:\n",
    "        list3.append(i)\n",
    "list3"
   ]
  },
  {
   "cell_type": "markdown",
   "id": "054930a4-f22b-41d7-bca7-45bea2f629f6",
   "metadata": {},
   "source": [
    "### 67.mergind tow dictinaries "
   ]
  },
  {
   "cell_type": "code",
   "execution_count": 168,
   "id": "4f9215dd-3e13-4e6f-8ad3-8d47e11c07ab",
   "metadata": {},
   "outputs": [
    {
     "data": {
      "text/plain": [
       "{'a': 1, 'b': 3, 'c': 4}"
      ]
     },
     "execution_count": 168,
     "metadata": {},
     "output_type": "execute_result"
    }
   ],
   "source": [
    "dict1 = {'a': 1, 'b': 2}\n",
    "dict2 = {'b': 3, 'c': 4}\n",
    "dict3={**dict1,**dict2}\n",
    "dict3"
   ]
  },
  {
   "cell_type": "code",
   "execution_count": 172,
   "id": "2284f931-ad40-4a24-ab25-94b36fbdbf13",
   "metadata": {},
   "outputs": [
    {
     "data": {
      "text/plain": [
       "['shubam gill', 'virat kohli', 'rohit sharma', 'yuvraj singh']"
      ]
     },
     "execution_count": 172,
     "metadata": {},
     "output_type": "execute_result"
    }
   ],
   "source": [
    "a=[\"virat kohli\",\"rohit sharma\",\"yuvraj singh\",\"shubam gill\"]\n",
    "b=sorted(a,key=lambda x:x.split()[1])\n",
    "b\n"
   ]
  },
  {
   "cell_type": "markdown",
   "id": "58f80853-51d5-46ab-99e1-0c664ab080ca",
   "metadata": {},
   "source": [
    "### 68.\"aaaabbbccc\"--->4a3b3c"
   ]
  },
  {
   "cell_type": "code",
   "execution_count": 4,
   "id": "3d309980-e8a6-4794-b9f7-32609edcde3b",
   "metadata": {},
   "outputs": [
    {
     "data": {
      "text/plain": [
       "'4a3b3c'"
      ]
     },
     "execution_count": 4,
     "metadata": {},
     "output_type": "execute_result"
    }
   ],
   "source": [
    "a=\"aaaabbbccc\"\n",
    "b=a[0]\n",
    "c=1\n",
    "d=\"\"\n",
    "for i in range(1,len(a)):\n",
    "    if a[i]==b:\n",
    "        c=c+1\n",
    "    else:\n",
    "        d=d+str(c)+b\n",
    "        b=a[i]\n",
    "        c=1\n",
    "d=d+str(c)+b\n",
    "d\n"
   ]
  },
  {
   "cell_type": "code",
   "execution_count": null,
   "id": "dc6f9013-ecfc-4572-bac4-38815ea9b53f",
   "metadata": {},
   "outputs": [],
   "source": []
  },
  {
   "cell_type": "markdown",
   "id": "666c8e5a-c802-47f4-bf78-dcab210b6069",
   "metadata": {},
   "source": [
    "### 69.first non repeatedcharacter ~ asked in interview 2024"
   ]
  },
  {
   "cell_type": "code",
   "execution_count": 21,
   "id": "4dc4d81a-c6a5-42c6-b287-e5f9de4a849a",
   "metadata": {},
   "outputs": [
    {
     "name": "stdout",
     "output_type": "stream",
     "text": [
      "{'a': 2, 'b': 3, 'v': 1, 'd': 1}\n",
      "v\n"
     ]
    }
   ],
   "source": [
    "a=\"aabbvbd\"   # \n",
    "b={}\n",
    "for i in a:\n",
    "    if i in b:\n",
    "        b[i]=b[i]+1\n",
    "    else:\n",
    "        b[i]=1\n",
    "print(b)\n",
    "for i,j in b.items():\n",
    "    if j==1:\n",
    "        print(i)\n",
    "        break"
   ]
  },
  {
   "cell_type": "markdown",
   "id": "2bfb6f0a-12f1-41a4-8f6c-b59e9a5d3add",
   "metadata": {},
   "source": [
    "### 70.distict word in a sentence"
   ]
  },
  {
   "cell_type": "code",
   "execution_count": 67,
   "id": "04a030ef-b729-4d50-be92-082b910f84bb",
   "metadata": {},
   "outputs": [
    {
     "name": "stdout",
     "output_type": "stream",
     "text": [
      "pass\n"
     ]
    }
   ],
   "source": [
    "a=\"you have to find the distict word in a  sentence. You have to write a python programme\"\n",
    "def dis(a):\n",
    "    b=len(list(set(a.lower().split())))\n",
    "    return b\n",
    "assert dis(a)==13\n",
    "print(\"pass\")\n",
    "    \n",
    "    "
   ]
  },
  {
   "cell_type": "markdown",
   "id": "4c1116e3-f2a0-4f63-b6f5-7a69e14b40a4",
   "metadata": {},
   "source": [
    "### recurssion "
   ]
  },
  {
   "cell_type": "code",
   "execution_count": 24,
   "id": "58aefa9e-8b1a-481e-b175-22d3667affa1",
   "metadata": {},
   "outputs": [
    {
     "name": "stdout",
     "output_type": "stream",
     "text": [
      "10\n",
      "9\n",
      "8\n",
      "7\n",
      "6\n",
      "5\n",
      "4\n",
      "3\n",
      "2\n",
      "1\n"
     ]
    },
    {
     "data": {
      "text/plain": [
       "1"
      ]
     },
     "execution_count": 24,
     "metadata": {},
     "output_type": "execute_result"
    }
   ],
   "source": [
    "#when a function call itself is called a recurrsion\n",
    "def hello(n):\n",
    "    if n==0:\n",
    "        return 1 # stopping condition \n",
    "    print(n)\n",
    "    return hello(n-1)\n",
    "\n",
    "hello(10)"
   ]
  },
  {
   "cell_type": "markdown",
   "id": "701691f9-03a6-4749-b8fb-cddc52dba94c",
   "metadata": {},
   "source": [
    "### recurssion factorial"
   ]
  },
  {
   "cell_type": "code",
   "execution_count": 5,
   "id": "2fe36d3e-dd7a-443e-adda-be20771773ab",
   "metadata": {},
   "outputs": [
    {
     "data": {
      "text/plain": [
       "120"
      ]
     },
     "execution_count": 5,
     "metadata": {},
     "output_type": "execute_result"
    }
   ],
   "source": [
    "def fac(n):\n",
    "    if n==0:\n",
    "        return 1\n",
    "    n=n*fac(n-1)\n",
    "    return n\n",
    "\n",
    "fac(5)\n",
    "    "
   ]
  },
  {
   "cell_type": "markdown",
   "id": "a54b3808-4184-4872-8072-291b398370c1",
   "metadata": {},
   "source": [
    "### recusrssion example print name without using loops"
   ]
  },
  {
   "cell_type": "code",
   "execution_count": 6,
   "id": "4116ee7f-468a-4225-869b-3287bb2be59c",
   "metadata": {},
   "outputs": [
    {
     "name": "stdout",
     "output_type": "stream",
     "text": [
      "hey\n",
      "hey\n",
      "hey\n",
      "hey\n",
      "hey\n",
      "hey\n",
      "hey\n",
      "hey\n",
      "hey\n",
      "hey\n"
     ]
    }
   ],
   "source": [
    "c=1\n",
    "def hello(name):\n",
    "    global c\n",
    "    if c<=10:\n",
    "        c=c+1\n",
    "        print(name)\n",
    "        return hello(name)\n",
    "hello(\"hey\")"
   ]
  },
  {
   "cell_type": "markdown",
   "id": "146b9cfa-9b44-44cb-ba58-b5f9d04bce13",
   "metadata": {},
   "source": [
    "###  remove files older than x days"
   ]
  },
  {
   "cell_type": "code",
   "execution_count": 32,
   "id": "7b6780fe-15ec-4014-b3bf-a48029009c7d",
   "metadata": {},
   "outputs": [
    {
     "name": "stdin",
     "output_type": "stream",
     "text": [
      "Enter your patha:  C:\\Users\\navee\\OneDrive\\Documents\\javeed\\python_interview_practice\n"
     ]
    },
    {
     "name": "stdout",
     "output_type": "stream",
     "text": [
      "C:\\Users\\navee\\OneDrive\\Documents\\javeed\\python_interview_practice\\json_se.txt 2\n",
      "C:\\Users\\navee\\OneDrive\\Documents\\javeed\\python_interview_practice\\obj_byte.txt 2\n"
     ]
    }
   ],
   "source": [
    "import os\n",
    "import sys\n",
    "import datetime\n",
    "present_time=datetime.datetime.now()\n",
    "path=input(\"Enter your patha: \")\n",
    "age=2\n",
    "if os.path.exists(path):\n",
    "    if os.path.isfile(path):\n",
    "        print(\"Please pass the dircetor path\")\n",
    "    else:\n",
    "        #print(os.listdir(path))\n",
    "        for i in os.listdir(path):\n",
    "            full_path=os.path.join(path,i)\n",
    "            if os.path.isfile(full_path):\n",
    "                # print(full_path)\n",
    "                # print(\"==========\")\n",
    "                file_created_date=datetime.datetime.fromtimestamp(os.path.getctime(full_path))\n",
    "                diff_days=(present_time-file_created_date).days\n",
    "                if diff_days==age:\n",
    "                    print(full_path,diff_days)           \n",
    "else:\n",
    "    print(\"Please pass valid path\")"
   ]
  },
  {
   "cell_type": "code",
   "execution_count": 39,
   "id": "31be9760-29ae-4cee-8ffb-a68ab212fa2b",
   "metadata": {
    "scrolled": true
   },
   "outputs": [
    {
     "name": "stdout",
     "output_type": "stream",
     "text": [
      "[('C:\\\\Users\\\\navee\\\\OneDrive\\\\Documents\\\\javeed\\\\python_interview_practice', ['.ipynb_checkpoints', 'delete'], ['dg.txt', 'fgfg.txt', 'json_se.txt', 'obj_byte.txt', 'python.ipynb']), ('C:\\\\Users\\\\navee\\\\OneDrive\\\\Documents\\\\javeed\\\\python_interview_practice\\\\.ipynb_checkpoints', [], ['python-checkpoint.ipynb']), ('C:\\\\Users\\\\navee\\\\OneDrive\\\\Documents\\\\javeed\\\\python_interview_practice\\\\delete', [], [])]\n",
      "===========\n",
      "['dg.txt', 'fgfg.txt', 'json_se.txt', 'obj_byte.txt', 'python.ipynb']\n",
      "['python-checkpoint.ipynb']\n"
     ]
    }
   ],
   "source": [
    "import os   #root path, dir path,file\n",
    "a=list(os.walk(r\"C:\\Users\\navee\\OneDrive\\Documents\\javeed\\python_interview_practice\"))\n",
    "print(a)\n",
    "print(\"===========\")\n",
    "for r,d,f in a:\n",
    "    if len(f)!=0:\n",
    "        print(f)"
   ]
  },
  {
   "cell_type": "markdown",
   "id": "52ee8681-bdd9-4bbd-aa28-831d90f1d02a",
   "metadata": {},
   "source": [
    "### flatten the nested list"
   ]
  },
  {
   "cell_type": "code",
   "execution_count": 6,
   "id": "203c1f7c-7684-4e18-982b-5dbf866d03f2",
   "metadata": {},
   "outputs": [
    {
     "data": {
      "text/plain": [
       "[1, 2, 3, 4, 5, 6, 7]"
      ]
     },
     "execution_count": 6,
     "metadata": {},
     "output_type": "execute_result"
    }
   ],
   "source": [
    "def flatten(nested):\n",
    "    flatten_list=[]\n",
    "    def sub_flatten(nested):\n",
    "        for i in nested:\n",
    "            if type(i)==list:\n",
    "                sub_flatten(i)\n",
    "            else:\n",
    "                flatten_list.append(i)\n",
    "    sub_flatten(nested)\n",
    "    return flatten_list\n",
    "flatten([1, 2, [3, 4, [5, 6]], 7])\n",
    "    "
   ]
  },
  {
   "cell_type": "code",
   "execution_count": null,
   "id": "10a24e5e-5a88-4c00-a041-61eaf4de729f",
   "metadata": {},
   "outputs": [],
   "source": []
  },
  {
   "cell_type": "markdown",
   "id": "16794147-6474-4c83-b4bd-a845f3a9d446",
   "metadata": {},
   "source": [
    "### find the list of tuples of empoyess who salary is grater the the company avg salary"
   ]
  },
  {
   "cell_type": "code",
   "execution_count": 13,
   "id": "89b97a8d-4db5-4678-bfbc-69e77f282036",
   "metadata": {},
   "outputs": [
    {
     "name": "stdout",
     "output_type": "stream",
     "text": [
      "6\n",
      "13500.0\n"
     ]
    },
    {
     "data": {
      "text/plain": [
       "[('Sumit', 14000), ('Dheeraj', 21000)]"
      ]
     },
     "execution_count": 13,
     "metadata": {},
     "output_type": "execute_result"
    }
   ],
   "source": [
    "#find the list of tuples of empoyess who salary is grater the the company avg salary\n",
    "emp_list=[('Ankit',10000),('Rahul',12000),('Sumit',14000),('Dheeraj',21000),('Pavan',11000),('Mohit',13000)]\n",
    "total=0\n",
    "g=[]\n",
    "c=0\n",
    "for i in emp_list:\n",
    "   total=total+i[1]\n",
    "   c=c+1\n",
    "print(c)\n",
    "avg=total/c\n",
    "print(avg)\n",
    "for j in emp_list:\n",
    "    if j[1] >avg:\n",
    "        g.append(j)\n",
    "g"
   ]
  },
  {
   "cell_type": "markdown",
   "id": "ccccd61e-2385-4125-94f8-4c76caa70c4a",
   "metadata": {},
   "source": [
    "### sort dictionaries by key and values"
   ]
  },
  {
   "cell_type": "code",
   "execution_count": 27,
   "id": "516c949c-2770-4829-974e-d68044237d7b",
   "metadata": {},
   "outputs": [
    {
     "data": {
      "text/plain": [
       "{'Ankit': 10000,\n",
       " 'Dheeraj': 21000,\n",
       " 'Mohit': 13000,\n",
       " 'Pavan': 11000,\n",
       " 'Rahul': 12000,\n",
       " 'Sumit': 14000}"
      ]
     },
     "execution_count": 27,
     "metadata": {},
     "output_type": "execute_result"
    }
   ],
   "source": [
    "employee_dict = {\n",
    "    'Ankit': 10000,\n",
    "    'Rahul': 12000,\n",
    "    'Sumit': 14000,\n",
    "    'Dheeraj': 21000,\n",
    "    'Pavan': 11000,\n",
    "    'Mohit': 13000\n",
    "}\n",
    "keys=dict(sorted(employee_dict.items()))\n",
    "keys"
   ]
  },
  {
   "cell_type": "code",
   "execution_count": 28,
   "id": "a4eb18fe-dd51-49f8-a60d-ddb878ac828c",
   "metadata": {},
   "outputs": [
    {
     "data": {
      "text/plain": [
       "{'Ankit': 10000,\n",
       " 'Pavan': 11000,\n",
       " 'Rahul': 12000,\n",
       " 'Mohit': 13000,\n",
       " 'Sumit': 14000,\n",
       " 'Dheeraj': 21000}"
      ]
     },
     "execution_count": 28,
     "metadata": {},
     "output_type": "execute_result"
    }
   ],
   "source": [
    "values=dict(sorted(employee_dict.items(), key=lambda x:x[1]))\n",
    "values"
   ]
  },
  {
   "cell_type": "markdown",
   "id": "3db62ef0-3290-4380-9dfa-d25b4cdb0ac1",
   "metadata": {},
   "source": [
    "### sum of two num showuld be equal to n"
   ]
  },
  {
   "cell_type": "code",
   "execution_count": 14,
   "id": "88abd58d-3af9-4a85-a0d3-916e68ebf949",
   "metadata": {},
   "outputs": [
    {
     "data": {
      "text/plain": [
       "[(1, 5), (2, 4)]"
      ]
     },
     "execution_count": 14,
     "metadata": {},
     "output_type": "execute_result"
    }
   ],
   "source": [
    "a=[1,2,3,4,5,6,7]\n",
    "n=6\n",
    "c=[]\n",
    "for i in range(len(a)):\n",
    "    for j in range(i+1,len(a)):\n",
    "        if a[i]+a[j]==n:\n",
    "            c.append((a[i],a[j]))\n",
    "c\n",
    "            \n",
    "        "
   ]
  },
  {
   "cell_type": "markdown",
   "id": "f7e60161-d11d-434d-9a6b-aed8f559354a",
   "metadata": {},
   "source": [
    "### find the mssing values from the indecs of the given l;ist"
   ]
  },
  {
   "cell_type": "code",
   "execution_count": 7,
   "id": "fe588e22-58fe-42e0-9f41-09149d1f7284",
   "metadata": {},
   "outputs": [
    {
     "data": {
      "text/plain": [
       "[3, 4, 5, 6]"
      ]
     },
     "execution_count": 7,
     "metadata": {},
     "output_type": "execute_result"
    }
   ],
   "source": [
    "src=[2,7,8,9,15]   #i=0,j=1 src[i]\n",
    "def hello(src,i,j):\n",
    "    b=[]\n",
    "    start=src[i]\n",
    "    end=src[j] \n",
    "    for i in range(start+1,end):\n",
    "         b.append(i)\n",
    "    return b\n",
    "hello([2,7,8,9,15],0,1)"
   ]
  },
  {
   "cell_type": "markdown",
   "id": "534c6440-6c24-4ffe-935e-b4b857acef0c",
   "metadata": {},
   "source": [
    "##### the first elemt in lst must be greater than zero and other element\n",
    "##### should be decraesd by 1 amd make sure it hsould not become zero"
   ]
  },
  {
   "cell_type": "code",
   "execution_count": 7,
   "id": "897dd5fb-dc96-4683-b735-1d8756b776b3",
   "metadata": {},
   "outputs": [
    {
     "name": "stdout",
     "output_type": "stream",
     "text": [
      "[1, 1, 1, 1, 3]\n",
      "[1, 1, 1, 1, 2]\n"
     ]
    }
   ],
   "source": [
    "a=[1,1,2,1,3]\n",
    "for i in range(1,len(a)):\n",
    "    if a[i]-a[i-1]==0:\n",
    "        continue\n",
    "    else:\n",
    "        a[i]=a[i]-1\n",
    "        print(a)\n",
    "    "
   ]
  },
  {
   "cell_type": "markdown",
   "id": "09dea28e-0294-4a73-8f82-73a21e7f29b0",
   "metadata": {},
   "source": [
    "### find the missing values from the list"
   ]
  },
  {
   "cell_type": "code",
   "execution_count": 54,
   "id": "35a474a0-6f17-439d-b6b3-f87921d7884a",
   "metadata": {},
   "outputs": [
    {
     "data": {
      "text/plain": [
       "[1, 2, 4, 5]"
      ]
     },
     "execution_count": 54,
     "metadata": {},
     "output_type": "execute_result"
    }
   ],
   "source": [
    "a=[0,3,6]  # 1,2,4,5 are missing \n",
    "b=max(a)\n",
    "miss=[]\n",
    "for i in range(b+1):\n",
    "    if i not in a:\n",
    "       miss.append(i)\n",
    "miss\n",
    "    "
   ]
  },
  {
   "cell_type": "markdown",
   "id": "1aeea351-fab6-4774-ab0d-634a847b7ea9",
   "metadata": {},
   "source": [
    "### sample pandas examples"
   ]
  },
  {
   "cell_type": "code",
   "execution_count": 2,
   "id": "a93cba23-112d-4447-8f05-974a5f4e60a4",
   "metadata": {},
   "outputs": [],
   "source": [
    "import pandas as pd"
   ]
  },
  {
   "cell_type": "code",
   "execution_count": 3,
   "id": "4bc4e115-2809-462d-abaa-aa50b75e099b",
   "metadata": {},
   "outputs": [
    {
     "data": {
      "text/html": [
       "<div>\n",
       "<style scoped>\n",
       "    .dataframe tbody tr th:only-of-type {\n",
       "        vertical-align: middle;\n",
       "    }\n",
       "\n",
       "    .dataframe tbody tr th {\n",
       "        vertical-align: top;\n",
       "    }\n",
       "\n",
       "    .dataframe thead th {\n",
       "        text-align: right;\n",
       "    }\n",
       "</style>\n",
       "<table border=\"1\" class=\"dataframe\">\n",
       "  <thead>\n",
       "    <tr style=\"text-align: right;\">\n",
       "      <th></th>\n",
       "      <th>name</th>\n",
       "      <th>no</th>\n",
       "    </tr>\n",
       "  </thead>\n",
       "  <tbody>\n",
       "    <tr>\n",
       "      <th>0</th>\n",
       "      <td>javed</td>\n",
       "      <td>20</td>\n",
       "    </tr>\n",
       "    <tr>\n",
       "      <th>1</th>\n",
       "      <td>ram</td>\n",
       "      <td>30</td>\n",
       "    </tr>\n",
       "  </tbody>\n",
       "</table>\n",
       "</div>"
      ],
      "text/plain": [
       "    name  no\n",
       "0  javed  20\n",
       "1    ram  30"
      ]
     },
     "execution_count": 3,
     "metadata": {},
     "output_type": "execute_result"
    }
   ],
   "source": [
    "a=pd.DataFrame({\"name\":[\"javed\",\"ram\"],\"no\":[20,30]})\n",
    "a"
   ]
  },
  {
   "cell_type": "code",
   "execution_count": 13,
   "id": "85640ba8-73b7-4272-863f-13fb2e2f9509",
   "metadata": {},
   "outputs": [],
   "source": [
    "import pandas as pd\n",
    "\n",
    "data = {\n",
    "    'ID': [1, 2, 3, 4, 5,5],\n",
    "    'Name': ['John', 'Jane', 'Bob', 'Alice', 'Charlie','Charlie'],\n",
    "    'Age': [25, 28, None, 35, 40,40],\n",
    "    'Salary': [50000, 60000, 45000, 70000, None,None],\n",
    "    'Gender': ['M', 'F', 'M', 'F', 'M','M']\n",
    "}\n",
    "\n",
    "df = pd.DataFrame(data)\n"
   ]
  },
  {
   "cell_type": "code",
   "execution_count": 14,
   "id": "54f87cfa-0d9c-4524-8504-5d4fa150f90c",
   "metadata": {},
   "outputs": [
    {
     "data": {
      "text/html": [
       "<div>\n",
       "<style scoped>\n",
       "    .dataframe tbody tr th:only-of-type {\n",
       "        vertical-align: middle;\n",
       "    }\n",
       "\n",
       "    .dataframe tbody tr th {\n",
       "        vertical-align: top;\n",
       "    }\n",
       "\n",
       "    .dataframe thead th {\n",
       "        text-align: right;\n",
       "    }\n",
       "</style>\n",
       "<table border=\"1\" class=\"dataframe\">\n",
       "  <thead>\n",
       "    <tr style=\"text-align: right;\">\n",
       "      <th></th>\n",
       "      <th>ID</th>\n",
       "      <th>Name</th>\n",
       "      <th>Age</th>\n",
       "      <th>Salary</th>\n",
       "      <th>Gender</th>\n",
       "    </tr>\n",
       "  </thead>\n",
       "  <tbody>\n",
       "    <tr>\n",
       "      <th>0</th>\n",
       "      <td>1</td>\n",
       "      <td>John</td>\n",
       "      <td>25.0</td>\n",
       "      <td>50000.0</td>\n",
       "      <td>M</td>\n",
       "    </tr>\n",
       "    <tr>\n",
       "      <th>1</th>\n",
       "      <td>2</td>\n",
       "      <td>Jane</td>\n",
       "      <td>28.0</td>\n",
       "      <td>60000.0</td>\n",
       "      <td>F</td>\n",
       "    </tr>\n",
       "    <tr>\n",
       "      <th>2</th>\n",
       "      <td>3</td>\n",
       "      <td>Bob</td>\n",
       "      <td>NaN</td>\n",
       "      <td>45000.0</td>\n",
       "      <td>M</td>\n",
       "    </tr>\n",
       "    <tr>\n",
       "      <th>3</th>\n",
       "      <td>4</td>\n",
       "      <td>Alice</td>\n",
       "      <td>35.0</td>\n",
       "      <td>70000.0</td>\n",
       "      <td>F</td>\n",
       "    </tr>\n",
       "    <tr>\n",
       "      <th>4</th>\n",
       "      <td>5</td>\n",
       "      <td>Charlie</td>\n",
       "      <td>40.0</td>\n",
       "      <td>NaN</td>\n",
       "      <td>M</td>\n",
       "    </tr>\n",
       "    <tr>\n",
       "      <th>5</th>\n",
       "      <td>5</td>\n",
       "      <td>Charlie</td>\n",
       "      <td>40.0</td>\n",
       "      <td>NaN</td>\n",
       "      <td>M</td>\n",
       "    </tr>\n",
       "  </tbody>\n",
       "</table>\n",
       "</div>"
      ],
      "text/plain": [
       "   ID     Name   Age   Salary Gender\n",
       "0   1     John  25.0  50000.0      M\n",
       "1   2     Jane  28.0  60000.0      F\n",
       "2   3      Bob   NaN  45000.0      M\n",
       "3   4    Alice  35.0  70000.0      F\n",
       "4   5  Charlie  40.0      NaN      M\n",
       "5   5  Charlie  40.0      NaN      M"
      ]
     },
     "execution_count": 14,
     "metadata": {},
     "output_type": "execute_result"
    }
   ],
   "source": [
    "df"
   ]
  },
  {
   "cell_type": "markdown",
   "id": "13b1f331-18cb-4d92-9d9f-4b6d02086c25",
   "metadata": {},
   "source": [
    "### find the sum of null values in each column "
   ]
  },
  {
   "cell_type": "code",
   "execution_count": 15,
   "id": "949d2e6f-ef95-4190-aa43-3a3addbddcda",
   "metadata": {},
   "outputs": [
    {
     "data": {
      "text/plain": [
       "ID        0\n",
       "Name      0\n",
       "Age       1\n",
       "Salary    2\n",
       "Gender    0\n",
       "dtype: int64"
      ]
     },
     "execution_count": 15,
     "metadata": {},
     "output_type": "execute_result"
    }
   ],
   "source": [
    "df.isnull().sum()"
   ]
  },
  {
   "cell_type": "markdown",
   "id": "0887fd79-bac4-4f0e-8ffd-c04a248bb574",
   "metadata": {},
   "source": [
    "### dropping the null values "
   ]
  },
  {
   "cell_type": "code",
   "execution_count": 16,
   "id": "aba31618-bb89-4910-9fc0-27eda91d2981",
   "metadata": {},
   "outputs": [],
   "source": [
    "drop_na=df.dropna()"
   ]
  },
  {
   "cell_type": "code",
   "execution_count": 17,
   "id": "9046a6f4-3082-427d-aeb1-faabee087dcb",
   "metadata": {},
   "outputs": [
    {
     "data": {
      "text/html": [
       "<div>\n",
       "<style scoped>\n",
       "    .dataframe tbody tr th:only-of-type {\n",
       "        vertical-align: middle;\n",
       "    }\n",
       "\n",
       "    .dataframe tbody tr th {\n",
       "        vertical-align: top;\n",
       "    }\n",
       "\n",
       "    .dataframe thead th {\n",
       "        text-align: right;\n",
       "    }\n",
       "</style>\n",
       "<table border=\"1\" class=\"dataframe\">\n",
       "  <thead>\n",
       "    <tr style=\"text-align: right;\">\n",
       "      <th></th>\n",
       "      <th>ID</th>\n",
       "      <th>Name</th>\n",
       "      <th>Age</th>\n",
       "      <th>Salary</th>\n",
       "      <th>Gender</th>\n",
       "    </tr>\n",
       "  </thead>\n",
       "  <tbody>\n",
       "    <tr>\n",
       "      <th>0</th>\n",
       "      <td>1</td>\n",
       "      <td>John</td>\n",
       "      <td>25.0</td>\n",
       "      <td>50000.0</td>\n",
       "      <td>M</td>\n",
       "    </tr>\n",
       "    <tr>\n",
       "      <th>1</th>\n",
       "      <td>2</td>\n",
       "      <td>Jane</td>\n",
       "      <td>28.0</td>\n",
       "      <td>60000.0</td>\n",
       "      <td>F</td>\n",
       "    </tr>\n",
       "    <tr>\n",
       "      <th>3</th>\n",
       "      <td>4</td>\n",
       "      <td>Alice</td>\n",
       "      <td>35.0</td>\n",
       "      <td>70000.0</td>\n",
       "      <td>F</td>\n",
       "    </tr>\n",
       "  </tbody>\n",
       "</table>\n",
       "</div>"
      ],
      "text/plain": [
       "   ID   Name   Age   Salary Gender\n",
       "0   1   John  25.0  50000.0      M\n",
       "1   2   Jane  28.0  60000.0      F\n",
       "3   4  Alice  35.0  70000.0      F"
      ]
     },
     "execution_count": 17,
     "metadata": {},
     "output_type": "execute_result"
    }
   ],
   "source": [
    "drop_na"
   ]
  },
  {
   "cell_type": "code",
   "execution_count": 21,
   "id": "a121fdce-3a4a-4d8e-8e97-4dc78d2ed551",
   "metadata": {},
   "outputs": [
    {
     "name": "stdout",
     "output_type": "stream",
     "text": [
      "Number of duplicate rows: 1\n"
     ]
    }
   ],
   "source": [
    "print(\"Number of duplicate rows:\", df.duplicated().sum())"
   ]
  },
  {
   "cell_type": "markdown",
   "id": "1d45ad98-72a9-4d28-823c-4a2eae5a2dc5",
   "metadata": {},
   "source": [
    "### drop dublicates "
   ]
  },
  {
   "cell_type": "code",
   "execution_count": 25,
   "id": "808c8aa1-c1bf-4660-bded-849591861139",
   "metadata": {},
   "outputs": [
    {
     "data": {
      "text/html": [
       "<div>\n",
       "<style scoped>\n",
       "    .dataframe tbody tr th:only-of-type {\n",
       "        vertical-align: middle;\n",
       "    }\n",
       "\n",
       "    .dataframe tbody tr th {\n",
       "        vertical-align: top;\n",
       "    }\n",
       "\n",
       "    .dataframe thead th {\n",
       "        text-align: right;\n",
       "    }\n",
       "</style>\n",
       "<table border=\"1\" class=\"dataframe\">\n",
       "  <thead>\n",
       "    <tr style=\"text-align: right;\">\n",
       "      <th></th>\n",
       "      <th>ID</th>\n",
       "      <th>Name</th>\n",
       "      <th>Age</th>\n",
       "      <th>Salary</th>\n",
       "      <th>Gender</th>\n",
       "    </tr>\n",
       "  </thead>\n",
       "  <tbody>\n",
       "    <tr>\n",
       "      <th>0</th>\n",
       "      <td>1</td>\n",
       "      <td>John</td>\n",
       "      <td>25.0</td>\n",
       "      <td>50000.0</td>\n",
       "      <td>M</td>\n",
       "    </tr>\n",
       "    <tr>\n",
       "      <th>1</th>\n",
       "      <td>2</td>\n",
       "      <td>Jane</td>\n",
       "      <td>28.0</td>\n",
       "      <td>60000.0</td>\n",
       "      <td>F</td>\n",
       "    </tr>\n",
       "    <tr>\n",
       "      <th>2</th>\n",
       "      <td>3</td>\n",
       "      <td>Bob</td>\n",
       "      <td>NaN</td>\n",
       "      <td>45000.0</td>\n",
       "      <td>M</td>\n",
       "    </tr>\n",
       "    <tr>\n",
       "      <th>3</th>\n",
       "      <td>4</td>\n",
       "      <td>Alice</td>\n",
       "      <td>35.0</td>\n",
       "      <td>70000.0</td>\n",
       "      <td>F</td>\n",
       "    </tr>\n",
       "    <tr>\n",
       "      <th>4</th>\n",
       "      <td>5</td>\n",
       "      <td>Charlie</td>\n",
       "      <td>40.0</td>\n",
       "      <td>NaN</td>\n",
       "      <td>M</td>\n",
       "    </tr>\n",
       "  </tbody>\n",
       "</table>\n",
       "</div>"
      ],
      "text/plain": [
       "   ID     Name   Age   Salary Gender\n",
       "0   1     John  25.0  50000.0      M\n",
       "1   2     Jane  28.0  60000.0      F\n",
       "2   3      Bob   NaN  45000.0      M\n",
       "3   4    Alice  35.0  70000.0      F\n",
       "4   5  Charlie  40.0      NaN      M"
      ]
     },
     "execution_count": 25,
     "metadata": {},
     "output_type": "execute_result"
    }
   ],
   "source": [
    "df_dublicates=df.drop_duplicates()\n",
    "df_dublicates\n"
   ]
  },
  {
   "cell_type": "code",
   "execution_count": 29,
   "id": "60670619-8153-4ef4-b871-a821d10795a9",
   "metadata": {},
   "outputs": [],
   "source": [
    "df[\"Gender\"]=df[\"Gender\"].str.lower()"
   ]
  },
  {
   "cell_type": "code",
   "execution_count": 30,
   "id": "fcc40716-375e-4cae-b9e1-ce3f56eb9029",
   "metadata": {},
   "outputs": [
    {
     "data": {
      "text/html": [
       "<div>\n",
       "<style scoped>\n",
       "    .dataframe tbody tr th:only-of-type {\n",
       "        vertical-align: middle;\n",
       "    }\n",
       "\n",
       "    .dataframe tbody tr th {\n",
       "        vertical-align: top;\n",
       "    }\n",
       "\n",
       "    .dataframe thead th {\n",
       "        text-align: right;\n",
       "    }\n",
       "</style>\n",
       "<table border=\"1\" class=\"dataframe\">\n",
       "  <thead>\n",
       "    <tr style=\"text-align: right;\">\n",
       "      <th></th>\n",
       "      <th>ID</th>\n",
       "      <th>Name</th>\n",
       "      <th>Age</th>\n",
       "      <th>Salary</th>\n",
       "      <th>Gender</th>\n",
       "    </tr>\n",
       "  </thead>\n",
       "  <tbody>\n",
       "    <tr>\n",
       "      <th>0</th>\n",
       "      <td>1</td>\n",
       "      <td>John</td>\n",
       "      <td>25.0</td>\n",
       "      <td>50000.0</td>\n",
       "      <td>m</td>\n",
       "    </tr>\n",
       "    <tr>\n",
       "      <th>1</th>\n",
       "      <td>2</td>\n",
       "      <td>Jane</td>\n",
       "      <td>28.0</td>\n",
       "      <td>60000.0</td>\n",
       "      <td>f</td>\n",
       "    </tr>\n",
       "    <tr>\n",
       "      <th>2</th>\n",
       "      <td>3</td>\n",
       "      <td>Bob</td>\n",
       "      <td>NaN</td>\n",
       "      <td>45000.0</td>\n",
       "      <td>m</td>\n",
       "    </tr>\n",
       "    <tr>\n",
       "      <th>3</th>\n",
       "      <td>4</td>\n",
       "      <td>Alice</td>\n",
       "      <td>35.0</td>\n",
       "      <td>70000.0</td>\n",
       "      <td>f</td>\n",
       "    </tr>\n",
       "    <tr>\n",
       "      <th>4</th>\n",
       "      <td>5</td>\n",
       "      <td>Charlie</td>\n",
       "      <td>40.0</td>\n",
       "      <td>NaN</td>\n",
       "      <td>m</td>\n",
       "    </tr>\n",
       "    <tr>\n",
       "      <th>5</th>\n",
       "      <td>5</td>\n",
       "      <td>Charlie</td>\n",
       "      <td>40.0</td>\n",
       "      <td>NaN</td>\n",
       "      <td>m</td>\n",
       "    </tr>\n",
       "  </tbody>\n",
       "</table>\n",
       "</div>"
      ],
      "text/plain": [
       "   ID     Name   Age   Salary Gender\n",
       "0   1     John  25.0  50000.0      m\n",
       "1   2     Jane  28.0  60000.0      f\n",
       "2   3      Bob   NaN  45000.0      m\n",
       "3   4    Alice  35.0  70000.0      f\n",
       "4   5  Charlie  40.0      NaN      m\n",
       "5   5  Charlie  40.0      NaN      m"
      ]
     },
     "execution_count": 30,
     "metadata": {},
     "output_type": "execute_result"
    }
   ],
   "source": [
    "df"
   ]
  },
  {
   "cell_type": "code",
   "execution_count": 31,
   "id": "9a78f222-5fb6-4211-acd8-e3e4e247a4fc",
   "metadata": {},
   "outputs": [
    {
     "data": {
      "text/plain": [
       "(6, 5)"
      ]
     },
     "execution_count": 31,
     "metadata": {},
     "output_type": "execute_result"
    }
   ],
   "source": [
    "df.shape"
   ]
  },
  {
   "cell_type": "code",
   "execution_count": 33,
   "id": "26f703bd-7a06-407e-9423-166d05959115",
   "metadata": {},
   "outputs": [
    {
     "name": "stdout",
     "output_type": "stream",
     "text": [
      "<class 'pandas.core.frame.DataFrame'>\n",
      "RangeIndex: 6 entries, 0 to 5\n",
      "Data columns (total 5 columns):\n",
      " #   Column  Non-Null Count  Dtype  \n",
      "---  ------  --------------  -----  \n",
      " 0   ID      6 non-null      int64  \n",
      " 1   Name    6 non-null      object \n",
      " 2   Age     5 non-null      float64\n",
      " 3   Salary  4 non-null      float64\n",
      " 4   Gender  6 non-null      object \n",
      "dtypes: float64(2), int64(1), object(2)\n",
      "memory usage: 372.0+ bytes\n"
     ]
    }
   ],
   "source": [
    "df.info()"
   ]
  },
  {
   "cell_type": "markdown",
   "id": "67d2e756-5b46-41d4-810f-572c3885bfd4",
   "metadata": {},
   "source": [
    "### change the datatype "
   ]
  },
  {
   "cell_type": "code",
   "execution_count": 36,
   "id": "6c72fde6-1d3f-48a4-aa6b-0d7618600e34",
   "metadata": {},
   "outputs": [
    {
     "name": "stderr",
     "output_type": "stream",
     "text": [
      "C:\\Users\\navee\\AppData\\Local\\Temp\\ipykernel_25332\\4207596781.py:1: SettingWithCopyWarning: \n",
      "A value is trying to be set on a copy of a slice from a DataFrame.\n",
      "Try using .loc[row_indexer,col_indexer] = value instead\n",
      "\n",
      "See the caveats in the documentation: https://pandas.pydata.org/pandas-docs/stable/user_guide/indexing.html#returning-a-view-versus-a-copy\n",
      "  drop_na[\"Age\"]=drop_na[\"Age\"].astype('int')\n"
     ]
    }
   ],
   "source": [
    "drop_na[\"Age\"]=drop_na[\"Age\"].astype('int')"
   ]
  },
  {
   "cell_type": "code",
   "execution_count": 37,
   "id": "7d7d794f-1a38-4481-a690-aa1079c085a3",
   "metadata": {},
   "outputs": [
    {
     "name": "stdout",
     "output_type": "stream",
     "text": [
      "<class 'pandas.core.frame.DataFrame'>\n",
      "Index: 3 entries, 0 to 3\n",
      "Data columns (total 5 columns):\n",
      " #   Column  Non-Null Count  Dtype  \n",
      "---  ------  --------------  -----  \n",
      " 0   ID      3 non-null      int64  \n",
      " 1   Name    3 non-null      object \n",
      " 2   Age     3 non-null      int32  \n",
      " 3   Salary  3 non-null      float64\n",
      " 4   Gender  3 non-null      object \n",
      "dtypes: float64(1), int32(1), int64(1), object(2)\n",
      "memory usage: 132.0+ bytes\n"
     ]
    }
   ],
   "source": [
    "drop_na.info()"
   ]
  },
  {
   "cell_type": "code",
   "execution_count": 38,
   "id": "2ff05672-5eec-4663-a8cb-f7ca9b573565",
   "metadata": {},
   "outputs": [],
   "source": [
    "df.rename(columns={\"ID\":\"ID_NO\"},inplace=True)"
   ]
  },
  {
   "cell_type": "code",
   "execution_count": 39,
   "id": "2d3accd7-adf9-4f3a-8134-2a98cb3d40bd",
   "metadata": {},
   "outputs": [
    {
     "data": {
      "text/html": [
       "<div>\n",
       "<style scoped>\n",
       "    .dataframe tbody tr th:only-of-type {\n",
       "        vertical-align: middle;\n",
       "    }\n",
       "\n",
       "    .dataframe tbody tr th {\n",
       "        vertical-align: top;\n",
       "    }\n",
       "\n",
       "    .dataframe thead th {\n",
       "        text-align: right;\n",
       "    }\n",
       "</style>\n",
       "<table border=\"1\" class=\"dataframe\">\n",
       "  <thead>\n",
       "    <tr style=\"text-align: right;\">\n",
       "      <th></th>\n",
       "      <th>ID_NO</th>\n",
       "      <th>Name</th>\n",
       "      <th>Age</th>\n",
       "      <th>Salary</th>\n",
       "      <th>Gender</th>\n",
       "    </tr>\n",
       "  </thead>\n",
       "  <tbody>\n",
       "    <tr>\n",
       "      <th>0</th>\n",
       "      <td>1</td>\n",
       "      <td>John</td>\n",
       "      <td>25.0</td>\n",
       "      <td>50000.0</td>\n",
       "      <td>m</td>\n",
       "    </tr>\n",
       "    <tr>\n",
       "      <th>1</th>\n",
       "      <td>2</td>\n",
       "      <td>Jane</td>\n",
       "      <td>28.0</td>\n",
       "      <td>60000.0</td>\n",
       "      <td>f</td>\n",
       "    </tr>\n",
       "    <tr>\n",
       "      <th>2</th>\n",
       "      <td>3</td>\n",
       "      <td>Bob</td>\n",
       "      <td>NaN</td>\n",
       "      <td>45000.0</td>\n",
       "      <td>m</td>\n",
       "    </tr>\n",
       "    <tr>\n",
       "      <th>3</th>\n",
       "      <td>4</td>\n",
       "      <td>Alice</td>\n",
       "      <td>35.0</td>\n",
       "      <td>70000.0</td>\n",
       "      <td>f</td>\n",
       "    </tr>\n",
       "    <tr>\n",
       "      <th>4</th>\n",
       "      <td>5</td>\n",
       "      <td>Charlie</td>\n",
       "      <td>40.0</td>\n",
       "      <td>NaN</td>\n",
       "      <td>m</td>\n",
       "    </tr>\n",
       "    <tr>\n",
       "      <th>5</th>\n",
       "      <td>5</td>\n",
       "      <td>Charlie</td>\n",
       "      <td>40.0</td>\n",
       "      <td>NaN</td>\n",
       "      <td>m</td>\n",
       "    </tr>\n",
       "  </tbody>\n",
       "</table>\n",
       "</div>"
      ],
      "text/plain": [
       "   ID_NO     Name   Age   Salary Gender\n",
       "0      1     John  25.0  50000.0      m\n",
       "1      2     Jane  28.0  60000.0      f\n",
       "2      3      Bob   NaN  45000.0      m\n",
       "3      4    Alice  35.0  70000.0      f\n",
       "4      5  Charlie  40.0      NaN      m\n",
       "5      5  Charlie  40.0      NaN      m"
      ]
     },
     "execution_count": 39,
     "metadata": {},
     "output_type": "execute_result"
    }
   ],
   "source": [
    "df"
   ]
  },
  {
   "cell_type": "markdown",
   "id": "706eaaa8-0db4-4753-a119-51f55ed38651",
   "metadata": {},
   "source": [
    "### joins "
   ]
  },
  {
   "cell_type": "code",
   "execution_count": 40,
   "id": "f13389a3-da8b-4738-b333-18204ab40eec",
   "metadata": {},
   "outputs": [],
   "source": [
    "import pandas as pd\n",
    "\n",
    "data1 = {\n",
    "    'ID': [1, 2, 3, 4, 5],\n",
    "    'Name': ['John', 'Jane', 'Bob', 'Alice', 'Charlie'],\n",
    "    'Age': [25, 28, 30, 35, 40]\n",
    "}\n",
    "\n",
    "df1 = pd.DataFrame(data1)\n",
    "\n",
    "\n",
    "data2 = {\n",
    "    'ID': [2, 3, 4, 5, 6],\n",
    "    'Salary': [60000, 45000, 70000, 80000, 55000],\n",
    "    'Department': ['HR', 'IT', 'Finance', 'Marketing', 'Operations']\n",
    "}\n",
    "\n",
    "df2 = pd.DataFrame(data2)"
   ]
  },
  {
   "cell_type": "code",
   "execution_count": 41,
   "id": "9e397017-519d-420f-a128-cef4213e3531",
   "metadata": {},
   "outputs": [
    {
     "data": {
      "text/html": [
       "<div>\n",
       "<style scoped>\n",
       "    .dataframe tbody tr th:only-of-type {\n",
       "        vertical-align: middle;\n",
       "    }\n",
       "\n",
       "    .dataframe tbody tr th {\n",
       "        vertical-align: top;\n",
       "    }\n",
       "\n",
       "    .dataframe thead th {\n",
       "        text-align: right;\n",
       "    }\n",
       "</style>\n",
       "<table border=\"1\" class=\"dataframe\">\n",
       "  <thead>\n",
       "    <tr style=\"text-align: right;\">\n",
       "      <th></th>\n",
       "      <th>ID</th>\n",
       "      <th>Name</th>\n",
       "      <th>Age</th>\n",
       "    </tr>\n",
       "  </thead>\n",
       "  <tbody>\n",
       "    <tr>\n",
       "      <th>0</th>\n",
       "      <td>1</td>\n",
       "      <td>John</td>\n",
       "      <td>25</td>\n",
       "    </tr>\n",
       "    <tr>\n",
       "      <th>1</th>\n",
       "      <td>2</td>\n",
       "      <td>Jane</td>\n",
       "      <td>28</td>\n",
       "    </tr>\n",
       "    <tr>\n",
       "      <th>2</th>\n",
       "      <td>3</td>\n",
       "      <td>Bob</td>\n",
       "      <td>30</td>\n",
       "    </tr>\n",
       "    <tr>\n",
       "      <th>3</th>\n",
       "      <td>4</td>\n",
       "      <td>Alice</td>\n",
       "      <td>35</td>\n",
       "    </tr>\n",
       "    <tr>\n",
       "      <th>4</th>\n",
       "      <td>5</td>\n",
       "      <td>Charlie</td>\n",
       "      <td>40</td>\n",
       "    </tr>\n",
       "  </tbody>\n",
       "</table>\n",
       "</div>"
      ],
      "text/plain": [
       "   ID     Name  Age\n",
       "0   1     John   25\n",
       "1   2     Jane   28\n",
       "2   3      Bob   30\n",
       "3   4    Alice   35\n",
       "4   5  Charlie   40"
      ]
     },
     "execution_count": 41,
     "metadata": {},
     "output_type": "execute_result"
    }
   ],
   "source": [
    "df1"
   ]
  },
  {
   "cell_type": "code",
   "execution_count": 42,
   "id": "a7caf122-c763-4c72-8c28-ccb40d22fbb7",
   "metadata": {},
   "outputs": [
    {
     "data": {
      "text/html": [
       "<div>\n",
       "<style scoped>\n",
       "    .dataframe tbody tr th:only-of-type {\n",
       "        vertical-align: middle;\n",
       "    }\n",
       "\n",
       "    .dataframe tbody tr th {\n",
       "        vertical-align: top;\n",
       "    }\n",
       "\n",
       "    .dataframe thead th {\n",
       "        text-align: right;\n",
       "    }\n",
       "</style>\n",
       "<table border=\"1\" class=\"dataframe\">\n",
       "  <thead>\n",
       "    <tr style=\"text-align: right;\">\n",
       "      <th></th>\n",
       "      <th>ID</th>\n",
       "      <th>Salary</th>\n",
       "      <th>Department</th>\n",
       "    </tr>\n",
       "  </thead>\n",
       "  <tbody>\n",
       "    <tr>\n",
       "      <th>0</th>\n",
       "      <td>2</td>\n",
       "      <td>60000</td>\n",
       "      <td>HR</td>\n",
       "    </tr>\n",
       "    <tr>\n",
       "      <th>1</th>\n",
       "      <td>3</td>\n",
       "      <td>45000</td>\n",
       "      <td>IT</td>\n",
       "    </tr>\n",
       "    <tr>\n",
       "      <th>2</th>\n",
       "      <td>4</td>\n",
       "      <td>70000</td>\n",
       "      <td>Finance</td>\n",
       "    </tr>\n",
       "    <tr>\n",
       "      <th>3</th>\n",
       "      <td>5</td>\n",
       "      <td>80000</td>\n",
       "      <td>Marketing</td>\n",
       "    </tr>\n",
       "    <tr>\n",
       "      <th>4</th>\n",
       "      <td>6</td>\n",
       "      <td>55000</td>\n",
       "      <td>Operations</td>\n",
       "    </tr>\n",
       "  </tbody>\n",
       "</table>\n",
       "</div>"
      ],
      "text/plain": [
       "   ID  Salary  Department\n",
       "0   2   60000          HR\n",
       "1   3   45000          IT\n",
       "2   4   70000     Finance\n",
       "3   5   80000   Marketing\n",
       "4   6   55000  Operations"
      ]
     },
     "execution_count": 42,
     "metadata": {},
     "output_type": "execute_result"
    }
   ],
   "source": [
    "df2"
   ]
  },
  {
   "cell_type": "code",
   "execution_count": 43,
   "id": "131e9848-0666-4a2d-9d93-827f5e738d04",
   "metadata": {},
   "outputs": [],
   "source": [
    "inner_join=df1.merge(df2,on=\"ID\",how=\"inner\")"
   ]
  },
  {
   "cell_type": "code",
   "execution_count": 46,
   "id": "3b8c8da9-fd81-468d-9f0c-d0c85025007c",
   "metadata": {},
   "outputs": [
    {
     "name": "stdout",
     "output_type": "stream",
     "text": [
      "\n",
      "inner Join:\n"
     ]
    },
    {
     "data": {
      "text/html": [
       "<div>\n",
       "<style scoped>\n",
       "    .dataframe tbody tr th:only-of-type {\n",
       "        vertical-align: middle;\n",
       "    }\n",
       "\n",
       "    .dataframe tbody tr th {\n",
       "        vertical-align: top;\n",
       "    }\n",
       "\n",
       "    .dataframe thead th {\n",
       "        text-align: right;\n",
       "    }\n",
       "</style>\n",
       "<table border=\"1\" class=\"dataframe\">\n",
       "  <thead>\n",
       "    <tr style=\"text-align: right;\">\n",
       "      <th></th>\n",
       "      <th>ID</th>\n",
       "      <th>Name</th>\n",
       "      <th>Age</th>\n",
       "      <th>Salary</th>\n",
       "      <th>Department</th>\n",
       "    </tr>\n",
       "  </thead>\n",
       "  <tbody>\n",
       "    <tr>\n",
       "      <th>0</th>\n",
       "      <td>2</td>\n",
       "      <td>Jane</td>\n",
       "      <td>28</td>\n",
       "      <td>60000</td>\n",
       "      <td>HR</td>\n",
       "    </tr>\n",
       "    <tr>\n",
       "      <th>1</th>\n",
       "      <td>3</td>\n",
       "      <td>Bob</td>\n",
       "      <td>30</td>\n",
       "      <td>45000</td>\n",
       "      <td>IT</td>\n",
       "    </tr>\n",
       "    <tr>\n",
       "      <th>2</th>\n",
       "      <td>4</td>\n",
       "      <td>Alice</td>\n",
       "      <td>35</td>\n",
       "      <td>70000</td>\n",
       "      <td>Finance</td>\n",
       "    </tr>\n",
       "    <tr>\n",
       "      <th>3</th>\n",
       "      <td>5</td>\n",
       "      <td>Charlie</td>\n",
       "      <td>40</td>\n",
       "      <td>80000</td>\n",
       "      <td>Marketing</td>\n",
       "    </tr>\n",
       "  </tbody>\n",
       "</table>\n",
       "</div>"
      ],
      "text/plain": [
       "   ID     Name  Age  Salary Department\n",
       "0   2     Jane   28   60000         HR\n",
       "1   3      Bob   30   45000         IT\n",
       "2   4    Alice   35   70000    Finance\n",
       "3   5  Charlie   40   80000  Marketing"
      ]
     },
     "execution_count": 46,
     "metadata": {},
     "output_type": "execute_result"
    }
   ],
   "source": [
    "print(\"\\ninner Join:\")\n",
    "inner_join"
   ]
  },
  {
   "cell_type": "code",
   "execution_count": 45,
   "id": "c68431dd-2da6-4786-97d4-6bd9b6018884",
   "metadata": {},
   "outputs": [
    {
     "name": "stdout",
     "output_type": "stream",
     "text": [
      "\n",
      "Left Join:\n",
      "   ID     Name  Age   Salary Department\n",
      "0   1     John   25      NaN        NaN\n",
      "1   2     Jane   28  60000.0         HR\n",
      "2   3      Bob   30  45000.0         IT\n",
      "3   4    Alice   35  70000.0    Finance\n",
      "4   5  Charlie   40  80000.0  Marketing\n"
     ]
    }
   ],
   "source": [
    "left_join = pd.merge(df1, df2, on='ID', how='left')\n",
    "print(\"\\nLeft Join:\")\n",
    "print(left_join)\n"
   ]
  },
  {
   "cell_type": "code",
   "execution_count": 47,
   "id": "6b51fa84-3322-437a-a242-8775ca4dcab3",
   "metadata": {},
   "outputs": [
    {
     "name": "stdout",
     "output_type": "stream",
     "text": [
      "\n",
      "Right Join:\n",
      "   ID     Name   Age  Salary  Department\n",
      "0   2     Jane  28.0   60000          HR\n",
      "1   3      Bob  30.0   45000          IT\n",
      "2   4    Alice  35.0   70000     Finance\n",
      "3   5  Charlie  40.0   80000   Marketing\n",
      "4   6      NaN   NaN   55000  Operations\n"
     ]
    }
   ],
   "source": [
    "right_join = pd.merge(df1, df2, on='ID', how='right')\n",
    "print(\"\\nRight Join:\")\n",
    "print(right_join)\n"
   ]
  },
  {
   "cell_type": "code",
   "execution_count": 48,
   "id": "fccea425-9627-4329-85fd-e470d8f12839",
   "metadata": {},
   "outputs": [],
   "source": [
    "df_filled = df.fillna(0)"
   ]
  },
  {
   "cell_type": "code",
   "execution_count": 49,
   "id": "874dc365-5e40-4ede-9598-bb302333effc",
   "metadata": {},
   "outputs": [
    {
     "data": {
      "text/html": [
       "<div>\n",
       "<style scoped>\n",
       "    .dataframe tbody tr th:only-of-type {\n",
       "        vertical-align: middle;\n",
       "    }\n",
       "\n",
       "    .dataframe tbody tr th {\n",
       "        vertical-align: top;\n",
       "    }\n",
       "\n",
       "    .dataframe thead th {\n",
       "        text-align: right;\n",
       "    }\n",
       "</style>\n",
       "<table border=\"1\" class=\"dataframe\">\n",
       "  <thead>\n",
       "    <tr style=\"text-align: right;\">\n",
       "      <th></th>\n",
       "      <th>ID_NO</th>\n",
       "      <th>Name</th>\n",
       "      <th>Age</th>\n",
       "      <th>Salary</th>\n",
       "      <th>Gender</th>\n",
       "    </tr>\n",
       "  </thead>\n",
       "  <tbody>\n",
       "    <tr>\n",
       "      <th>0</th>\n",
       "      <td>1</td>\n",
       "      <td>John</td>\n",
       "      <td>25.0</td>\n",
       "      <td>50000.0</td>\n",
       "      <td>m</td>\n",
       "    </tr>\n",
       "    <tr>\n",
       "      <th>1</th>\n",
       "      <td>2</td>\n",
       "      <td>Jane</td>\n",
       "      <td>28.0</td>\n",
       "      <td>60000.0</td>\n",
       "      <td>f</td>\n",
       "    </tr>\n",
       "    <tr>\n",
       "      <th>2</th>\n",
       "      <td>3</td>\n",
       "      <td>Bob</td>\n",
       "      <td>0.0</td>\n",
       "      <td>45000.0</td>\n",
       "      <td>m</td>\n",
       "    </tr>\n",
       "    <tr>\n",
       "      <th>3</th>\n",
       "      <td>4</td>\n",
       "      <td>Alice</td>\n",
       "      <td>35.0</td>\n",
       "      <td>70000.0</td>\n",
       "      <td>f</td>\n",
       "    </tr>\n",
       "    <tr>\n",
       "      <th>4</th>\n",
       "      <td>5</td>\n",
       "      <td>Charlie</td>\n",
       "      <td>40.0</td>\n",
       "      <td>0.0</td>\n",
       "      <td>m</td>\n",
       "    </tr>\n",
       "    <tr>\n",
       "      <th>5</th>\n",
       "      <td>5</td>\n",
       "      <td>Charlie</td>\n",
       "      <td>40.0</td>\n",
       "      <td>0.0</td>\n",
       "      <td>m</td>\n",
       "    </tr>\n",
       "  </tbody>\n",
       "</table>\n",
       "</div>"
      ],
      "text/plain": [
       "   ID_NO     Name   Age   Salary Gender\n",
       "0      1     John  25.0  50000.0      m\n",
       "1      2     Jane  28.0  60000.0      f\n",
       "2      3      Bob   0.0  45000.0      m\n",
       "3      4    Alice  35.0  70000.0      f\n",
       "4      5  Charlie  40.0      0.0      m\n",
       "5      5  Charlie  40.0      0.0      m"
      ]
     },
     "execution_count": 49,
     "metadata": {},
     "output_type": "execute_result"
    }
   ],
   "source": [
    "df_filled "
   ]
  },
  {
   "cell_type": "code",
   "execution_count": 6,
   "id": "b6322e28-9533-4be1-b2f2-fa87c6a9f419",
   "metadata": {},
   "outputs": [
    {
     "name": "stdout",
     "output_type": "stream",
     "text": [
      "Duplicate Rows:\n",
      "   A  B\n",
      "3  3  c\n"
     ]
    }
   ],
   "source": [
    "import pandas as pd\n",
    "\n",
    "# Example DataFrame\n",
    "data = {'A': [1, 2, 3, 3, 4],\n",
    "        'B': ['a', 'b', 'c', 'c', 'd']}\n",
    "df = pd.DataFrame(data)\n",
    "\n",
    "# Check for duplicate rows\n",
    "duplicate_rows = df[df.duplicated()]\n",
    "\n",
    "print(\"Duplicate Rows:\")\n",
    "print(duplicate_rows)\n"
   ]
  },
  {
   "cell_type": "markdown",
   "id": "f861e958-cd92-49b2-be7d-b2a8d9a7ef6d",
   "metadata": {},
   "source": [
    "### reverse without using slicing operation "
   ]
  },
  {
   "cell_type": "code",
   "execution_count": 44,
   "id": "22736148-81c2-4296-a3fc-880efe12af4d",
   "metadata": {},
   "outputs": [
    {
     "name": "stdout",
     "output_type": "stream",
     "text": [
      "5\n",
      "54\n",
      "543\n",
      "5432\n",
      "54321\n",
      "54321 <class 'int'>\n"
     ]
    }
   ],
   "source": [
    "a=12345\n",
    "rev=0\n",
    "while a!=0:\n",
    "    rev=rev*10+a%10 \n",
    "    print(rev)\n",
    "    a=a//10\n",
    "\n",
    "print(rev,type(rev))  "
   ]
  },
  {
   "cell_type": "markdown",
   "id": "dfd42861-c77d-44b1-8050-55eaec985c13",
   "metadata": {},
   "source": [
    "### balance paranthesses"
   ]
  },
  {
   "cell_type": "code",
   "execution_count": 7,
   "id": "537100f2-b79f-43d3-ab81-ea1069758ef2",
   "metadata": {},
   "outputs": [
    {
     "data": {
      "text/plain": [
       "False"
      ]
     },
     "execution_count": 7,
     "metadata": {},
     "output_type": "execute_result"
    }
   ],
   "source": [
    "def check_para(n):\n",
    "    stack=[]\n",
    "    for i in n:\n",
    "        if i in [\"(\",\"[\",\"{\"]:\n",
    "            stack.append(i)\n",
    "        else:\n",
    "            if not stack:\n",
    "                return False\n",
    "            c=stack.pop()\n",
    "            # print(c)\n",
    "            # print(stack)\n",
    "            if c==\"(\":\n",
    "                if i!=\")\":\n",
    "                    return False\n",
    "            if c==\"[\":\n",
    "                if i!=\"]\":\n",
    "                    return False\n",
    "            if c==\"{\":\n",
    "                if i!=\"}\":\n",
    "                    return False\n",
    "    if stack:\n",
    "        return False \n",
    "    else:\n",
    "        return True\n",
    "a=\"{}[]]\"\n",
    "check_para(a)                  "
   ]
  },
  {
   "cell_type": "markdown",
   "id": "378ffa5b-6930-4cc8-a8fc-5ccfe60a83a5",
   "metadata": {},
   "source": [
    "### oocurance index of needle in haystack"
   ]
  },
  {
   "cell_type": "code",
   "execution_count": 62,
   "id": "7d238934-b630-469a-a010-6156e38477da",
   "metadata": {},
   "outputs": [
    {
     "name": "stdout",
     "output_type": "stream",
     "text": [
      "2\n",
      "0\n",
      "-1\n"
     ]
    }
   ],
   "source": [
    "haystack=\"hello\"\n",
    "needle=\"ll\" # if empty 0 or not in haystack return -1\n",
    "def occ(haystack,needle):\n",
    "    return haystack.find(needle)\n",
    "print(occ(\"hello\",\"ll\"))\n",
    "print(occ(\"hello\",\"\"))\n",
    "print(occ(\"hello\",\"a\"))\n",
    "\n",
    "    "
   ]
  },
  {
   "cell_type": "markdown",
   "id": "4f4baf7a-dba6-4dfe-ab75-1f8696388cf8",
   "metadata": {},
   "source": [
    "### bubble sort"
   ]
  },
  {
   "cell_type": "code",
   "execution_count": 14,
   "id": "f7996451-ca6c-4a3b-8a78-3be8fdb2bb24",
   "metadata": {},
   "outputs": [
    {
     "name": "stdout",
     "output_type": "stream",
     "text": [
      "[2, 3, 4, 5, 8]\n"
     ]
    }
   ],
   "source": [
    "a=[8,5,4,3,2]\n",
    "for i in range(len(a)):\n",
    "    for j in range(len(a)-i-1): #(5-0-1)=4 5-1-1\n",
    "        if a[j]>a[j+1]:\n",
    "            a[j],a[j+1]=a[j+1],a[j]\n",
    "print(a)\n"
   ]
  },
  {
   "cell_type": "markdown",
   "id": "bf986826-654b-4a7d-9f5e-82f9caf1415c",
   "metadata": {},
   "source": [
    "#### "
   ]
  },
  {
   "cell_type": "markdown",
   "id": "d9137465-f793-4e64-b4b0-4e29192df973",
   "metadata": {},
   "source": [
    "### patterns"
   ]
  },
  {
   "cell_type": "code",
   "execution_count": 7,
   "id": "8bb644de-318f-4869-8e17-3620be0472a9",
   "metadata": {},
   "outputs": [
    {
     "name": "stdout",
     "output_type": "stream",
     "text": [
      "* * * * * \n",
      "* * * * * \n",
      "* * * * * \n",
      "* * * * * \n",
      "* * * * * \n"
     ]
    }
   ],
   "source": [
    "n=5\n",
    "for i in range(n):  # rows \n",
    "    for j in range(n):  # columns\n",
    "      print(\"*\",end=\" \")\n",
    "    print()"
   ]
  },
  {
   "cell_type": "code",
   "execution_count": 13,
   "id": "458ba96e-387f-4ded-a761-3127fe72bcc6",
   "metadata": {},
   "outputs": [
    {
     "name": "stdout",
     "output_type": "stream",
     "text": [
      "* \n",
      "* * \n",
      "* * * \n",
      "* * * * \n",
      "* * * * * \n"
     ]
    }
   ],
   "source": [
    "n=5\n",
    "for i in range(n):\n",
    "    for j in range(i+1):\n",
    "        print(\"*\",end=\" \")\n",
    "    print()"
   ]
  },
  {
   "cell_type": "code",
   "execution_count": 17,
   "id": "15debfd4-cf30-4917-969a-6039af74b731",
   "metadata": {},
   "outputs": [
    {
     "name": "stdout",
     "output_type": "stream",
     "text": [
      "* * * * * \n",
      "* * * * \n",
      "* * * \n",
      "* * \n",
      "* \n"
     ]
    }
   ],
   "source": [
    "n=5\n",
    "for i in range(n):\n",
    "    for j in range(i,n):\n",
    "        print(\"*\",end=\" \")\n",
    "    print()"
   ]
  },
  {
   "cell_type": "code",
   "execution_count": 19,
   "id": "6ccc2471-7cb5-4d7d-b32d-f09f74b9e017",
   "metadata": {},
   "outputs": [
    {
     "name": "stdout",
     "output_type": "stream",
     "text": [
      "     * \n",
      "    * * \n",
      "   * * * \n",
      "  * * * * \n",
      " * * * * * \n"
     ]
    }
   ],
   "source": [
    "n=5\n",
    "for i in range(n):\n",
    "    for j in range(i,n):\n",
    "        print(\" \",end=\"\")\n",
    "    for j in range(i+1):\n",
    "        print(\"*\",end=\" \")\n",
    "    print()"
   ]
  },
  {
   "cell_type": "code",
   "execution_count": 20,
   "id": "27e96600-bec0-441e-b6ea-77c8413fcdcf",
   "metadata": {},
   "outputs": [
    {
     "name": "stdout",
     "output_type": "stream",
     "text": [
      " * * * * * \n",
      "  * * * * \n",
      "   * * * \n",
      "    * * \n",
      "     * \n"
     ]
    }
   ],
   "source": [
    "n=5\n",
    "for i in range(n):\n",
    "    for j in range(i+1):\n",
    "        print(\" \",end=\"\")\n",
    "    for j in range(i,n):\n",
    "        print(\"*\",end=\" \")\n",
    "    print()"
   ]
  },
  {
   "cell_type": "code",
   "execution_count": 20,
   "id": "f07f0fda-f5cf-4a02-a948-55fccf8ce1a2",
   "metadata": {},
   "outputs": [
    {
     "name": "stdout",
     "output_type": "stream",
     "text": [
      "     * \n",
      "    * * \n",
      "   * * * \n",
      "  * * * * \n",
      " * * * * * \n",
      " * * * * * \n",
      "  * * * * \n",
      "   * * * \n",
      "    * * \n",
      "     * \n"
     ]
    }
   ],
   "source": [
    "n=5\n",
    "for i in range(n):\n",
    "    for j in range(i,n):\n",
    "        print(\" \",end=\"\")\n",
    "    for j in range(i+1):\n",
    "        print(\"*\",end=\" \")\n",
    "    print()\n",
    "for i in range(n):\n",
    "    for j in range(i+1):\n",
    "        print(\" \",end=\"\")\n",
    "    for j in range(i,n):\n",
    "        print(\"*\",end=\" \")\n",
    "    print()"
   ]
  },
  {
   "cell_type": "markdown",
   "id": "7cda0c30-282d-417d-a456-bdf62fb658cc",
   "metadata": {},
   "source": [
    "### hacker rank list comphrehension"
   ]
  },
  {
   "cell_type": "code",
   "execution_count": 2,
   "id": "7bf598c9-6e6e-4083-b22b-7312163b0c72",
   "metadata": {},
   "outputs": [
    {
     "data": {
      "text/plain": [
       "[[0, 0, 0], [0, 0, 1], [0, 1, 0], [1, 0, 0], [1, 1, 1]]"
      ]
     },
     "execution_count": 2,
     "metadata": {},
     "output_type": "execute_result"
    }
   ],
   "source": [
    "x=1\n",
    "y=1\n",
    "z=1\n",
    "n=2\n",
    "f=[]\n",
    "for i in range(x+1):\n",
    "    for j in range(y+1):\n",
    "        for k in range(z+1):\n",
    "            if i+j+k!=n:\n",
    "                f.append([i,j,k])\n",
    "f\n",
    "                "
   ]
  },
  {
   "cell_type": "markdown",
   "id": "4ebd8023-38b2-4150-a84f-7728502c28fd",
   "metadata": {},
   "source": [
    "### hacker rank uniue vales from k"
   ]
  },
  {
   "cell_type": "code",
   "execution_count": 68,
   "id": "9b9019ba-727d-44f1-aa2b-e944ef8f108a",
   "metadata": {},
   "outputs": [
    {
     "name": "stdout",
     "output_type": "stream",
     "text": [
      "AB\n",
      "CA\n",
      "AD\n"
     ]
    }
   ],
   "source": [
    "s = 'AABCAAADA' # ab ca ad \n",
    "k = 3\n",
    "sub=[]\n",
    "for i in range(0,len(s),k):\n",
    "    sub.append(s[i:i+k])\n",
    "for j in sub:\n",
    "    print(\"\".join(sorted(set(j),key=j.index)))  # j.index sort based on original index value "
   ]
  },
  {
   "cell_type": "code",
   "execution_count": 69,
   "id": "2fc9dd1a-03a6-4213-a552-1b6376c02c37",
   "metadata": {},
   "outputs": [
    {
     "name": "stdout",
     "output_type": "stream",
     "text": [
      "AD\n"
     ]
    }
   ],
   "source": [
    "a=\"AADA\"\n",
    "print(\"\".join(sorted(set(a),key=a.index)))"
   ]
  },
  {
   "cell_type": "code",
   "execution_count": 75,
   "id": "3e63df49-6e6b-4e57-bb64-7049b8dd68a6",
   "metadata": {},
   "outputs": [
    {
     "name": "stdout",
     "output_type": "stream",
     "text": [
      "DA\n"
     ]
    }
   ],
   "source": [
    "a=\"DAA\"\n",
    "print(\"\".join(sorted(set(a),key=a.index)))"
   ]
  },
  {
   "cell_type": "markdown",
   "id": "38b872d0-2d43-437f-bc5f-f75a1da2efca",
   "metadata": {},
   "source": [
    "### regular expression "
   ]
  },
  {
   "cell_type": "markdown",
   "id": "e81ac427-8c13-4922-94c0-a360a11b5f8d",
   "metadata": {},
   "source": [
    "#### finding phone no"
   ]
  },
  {
   "cell_type": "code",
   "execution_count": 2,
   "id": "52a7c54f-4fd9-4187-bf3a-1075e0b933ea",
   "metadata": {},
   "outputs": [
    {
     "data": {
      "text/plain": [
       "['9030170201', '8889996666']"
      ]
     },
     "execution_count": 2,
     "metadata": {},
     "output_type": "execute_result"
    }
   ],
   "source": [
    "import re\n",
    "text=\"hello my no is 9030170201 and my friend no is 8889996666\"\n",
    "res=re.findall('[89][0-9]{9}',text)\n",
    "res"
   ]
  },
  {
   "cell_type": "markdown",
   "id": "d809e196-2335-44cb-a183-a231dd210031",
   "metadata": {},
   "source": [
    "#### finding email id "
   ]
  },
  {
   "cell_type": "code",
   "execution_count": 8,
   "id": "b2c3319c-3d0d-4263-899a-413ebaeb901e",
   "metadata": {},
   "outputs": [
    {
     "name": "stdout",
     "output_type": "stream",
     "text": [
      "['a9bc@gmail.com', 'jow@yahoo.in', 'abc@jo.com', 'jav@yahoo.in', 'Javed@gmal.com']\n"
     ]
    }
   ],
   "source": [
    "import re\n",
    "\n",
    "text = \"my email id is a9bc@gmail.com and friend email id is =jow@yahoo.in  $abc@jdojdo abc@jo.com  _jav@yahoo.in Javed@gmal.com\"\n",
    "\n",
    "# Find all email addresses where the local part does not start with \".\"\n",
    "res = re.findall(r\"[a-zA-Z0-9]+[@][a-z]+\\.[a-z]{2,3}\", text)\n",
    "\n",
    "print(res)"
   ]
  },
  {
   "cell_type": "markdown",
   "id": "ce4f4222-ceb0-4a5e-94bd-eb4d96fface7",
   "metadata": {},
   "source": [
    "### any and all"
   ]
  },
  {
   "cell_type": "code",
   "execution_count": null,
   "id": "3d43bc85-9518-44d8-a6e1-cc781b045726",
   "metadata": {},
   "outputs": [],
   "source": [
    "#In Python, the following values are considered \"falsy\" (evaluate to False):\n",
    "\n",
    "# False\n",
    "# None\n",
    "# 0 (of any numeric type)\n",
    "# 0.0\n",
    "# '' (an empty string)\n",
    "# [] (an empty list)\n",
    "# {} (an empty dictionary)\n",
    "# () (an empty tuple)\n",
    "# set() (an empty set)"
   ]
  },
  {
   "cell_type": "code",
   "execution_count": 25,
   "id": "df9b7d66-e6c8-46da-9ed6-d1c7fc562c31",
   "metadata": {},
   "outputs": [
    {
     "name": "stdout",
     "output_type": "stream",
     "text": [
      "False\n"
     ]
    }
   ],
   "source": [
    "nums = [1, 2,1,-1,0]  \n",
    "print(all(nums))  \n"
   ]
  },
  {
   "cell_type": "code",
   "execution_count": 26,
   "id": "f4847730-8e4c-4156-81b8-e7829cce7715",
   "metadata": {},
   "outputs": [
    {
     "name": "stdout",
     "output_type": "stream",
     "text": [
      "True\n"
     ]
    }
   ],
   "source": [
    "nums = [1, 2,1,-1,]  \n",
    "print(all(nums))  "
   ]
  },
  {
   "cell_type": "code",
   "execution_count": 31,
   "id": "9ba6f5ff-40ee-40d5-b582-22bf5ee953c4",
   "metadata": {},
   "outputs": [
    {
     "name": "stdout",
     "output_type": "stream",
     "text": [
      "False\n"
     ]
    }
   ],
   "source": [
    "#any\n",
    "nums = [0,False]  \n",
    "print(any(nums))  "
   ]
  },
  {
   "cell_type": "code",
   "execution_count": 32,
   "id": "bdb02410-5b9b-482f-bab6-643c4c43abde",
   "metadata": {},
   "outputs": [
    {
     "name": "stdout",
     "output_type": "stream",
     "text": [
      "True\n"
     ]
    }
   ],
   "source": [
    "nums = [1,[]]  \n",
    "print(any(nums))  "
   ]
  },
  {
   "cell_type": "code",
   "execution_count": 33,
   "id": "07e187a3-8749-49e7-8de5-47e72f29b459",
   "metadata": {},
   "outputs": [
    {
     "name": "stdout",
     "output_type": "stream",
     "text": [
      "False\n"
     ]
    }
   ],
   "source": [
    "nums = [(),()]  \n",
    "print(all(nums))  "
   ]
  },
  {
   "cell_type": "markdown",
   "id": "29544c14-642a-4cf2-bb2a-3db7ace5500d",
   "metadata": {},
   "source": [
    "### interview question"
   ]
  },
  {
   "cell_type": "code",
   "execution_count": 3,
   "id": "ed9654f4-f4fb-4cd1-8b04-d328c5da885c",
   "metadata": {},
   "outputs": [
    {
     "name": "stdin",
     "output_type": "stream",
     "text": [
      "enter the input: Wednesday\n"
     ]
    },
    {
     "data": {
      "text/plain": [
       "['Wednesday', 'Thursday', 'Friday', 'Saturday', 'Sunday', 'Monday', 'Tuesday']"
      ]
     },
     "execution_count": 3,
     "metadata": {},
     "output_type": "execute_result"
    }
   ],
   "source": [
    "a=['Wednesday', 'Thursday', 'Friday', 'Saturday', 'Sunday', 'Monday', 'Tuesday']\n",
    "def hello(a,s):\n",
    "    if s in a:\n",
    "        ij= a.index(s)\n",
    "        return (a[ij::])\n",
    "    else:\n",
    "        return False\n",
    "user=input(\"enter the input:\")\n",
    "a=['Wednesday', 'Thursday', 'Friday', 'Saturday', 'Sunday', 'Monday', 'Tuesday']\n",
    "hello(a,user)"
   ]
  },
  {
   "cell_type": "markdown",
   "id": "8b9cedcd-e2d7-4daa-a84f-27fb377b25e5",
   "metadata": {},
   "source": [
    "### pattern"
   ]
  },
  {
   "cell_type": "code",
   "execution_count": 14,
   "id": "6a7fbf4b-9e48-4e35-acdb-6d2b4f8183b0",
   "metadata": {},
   "outputs": [
    {
     "name": "stdout",
     "output_type": "stream",
     "text": [
      "5 5 5 5 5 \n",
      "4 4 4 4 \n",
      "3 3 3 \n",
      "2 2 \n",
      "1 \n"
     ]
    }
   ],
   "source": [
    "# 5 5 5 5 5\n",
    "# 4 4 4 4\n",
    "# 3 3 3\n",
    "# 2 2\n",
    "# 1\n",
    "n=5\n",
    "for i in range(5):\n",
    "    for j in range(i,5):\n",
    "        print(n,end= \" \")\n",
    "    n=n-1    \n",
    "    \n",
    "    print()"
   ]
  },
  {
   "cell_type": "code",
   "execution_count": 20,
   "id": "242c3140-5b8a-4769-a9e6-3cbfb4c10fe3",
   "metadata": {},
   "outputs": [
    {
     "name": "stdout",
     "output_type": "stream",
     "text": [
      "5 5 5 5 5 \n",
      "4 4 4 4 \n",
      "3 3 3 \n",
      "2 2 \n",
      "1 \n"
     ]
    }
   ],
   "source": [
    "n=5\n",
    "for i in range(n):\n",
    "    for j in range(i,n):\n",
    "        print(n-i,end=\" \")\n",
    "    print()"
   ]
  },
  {
   "cell_type": "markdown",
   "id": "277ac562-9d5e-4935-a5c4-659b571aaca5",
   "metadata": {},
   "source": [
    "### adding two no without using + sum()"
   ]
  },
  {
   "cell_type": "code",
   "execution_count": 2,
   "id": "4eb1ef00-5df5-47a8-be3c-e5bd0925087e",
   "metadata": {},
   "outputs": [
    {
     "data": {
      "text/plain": [
       "8"
      ]
     },
     "execution_count": 2,
     "metadata": {},
     "output_type": "execute_result"
    }
   ],
   "source": [
    "a=3\n",
    "b=5\n",
    "sum=a-(-b)\n",
    "sum"
   ]
  },
  {
   "cell_type": "markdown",
   "id": "9a5dfe2a-a596-4d80-b23c-0c7f930ad6d9",
   "metadata": {},
   "source": [
    "### Delete occurrences of an element if it occurs more than n times"
   ]
  },
  {
   "cell_type": "code",
   "execution_count": 1,
   "id": "b99ef609-cde2-43b2-95aa-ec07c4840971",
   "metadata": {},
   "outputs": [
    {
     "data": {
      "text/plain": [
       "[0, 1, 1, 2, 2, 3]"
      ]
     },
     "execution_count": 1,
     "metadata": {},
     "output_type": "execute_result"
    }
   ],
   "source": [
    "nums = [0,1,1,1,1,2,2,2,3]  # [0,1,1,2,2,3]  should not occur more than 3 \n",
    "d={}\n",
    "c=[]\n",
    "for i in nums:\n",
    "    if i not in d:\n",
    "        d[i]=1\n",
    "    else:\n",
    "        d[i]=d[i]+1\n",
    "    if d[i]<3:\n",
    "        c.append(i)\n",
    "c"
   ]
  },
  {
   "cell_type": "markdown",
   "id": "ed781e3f-68dc-4f16-915c-fe505b4ffce0",
   "metadata": {},
   "source": [
    "### validate ip address\n"
   ]
  },
  {
   "cell_type": "code",
   "execution_count": 22,
   "id": "cae229ac-c342-4897-b630-50ece17c2b0d",
   "metadata": {},
   "outputs": [
    {
     "data": {
      "text/plain": [
       "'valid'"
      ]
     },
     "execution_count": 22,
     "metadata": {},
     "output_type": "execute_result"
    }
   ],
   "source": [
    "def valid_ip(ip):\n",
    "    a=ip.split(\".\")\n",
    "    if len(a)!=4:\n",
    "        return \"invalid\"\n",
    "    for i in a:\n",
    "        if not i.isdigit():\n",
    "            return \"invalid\"\n",
    "        if int(i)<0 or int(i)>255:\n",
    "            return \"invalid\"\n",
    "    else:\n",
    "        return \"valid\"\n",
    "a=\"212.23.23.232\"\n",
    "valid_ip(a)\n",
    "\n",
    "\n",
    "    \n",
    "    "
   ]
  },
  {
   "cell_type": "markdown",
   "id": "e0027851-09af-4d43-90af-ce09576f4eba",
   "metadata": {},
   "source": [
    "### no to word"
   ]
  },
  {
   "cell_type": "code",
   "execution_count": 69,
   "id": "e1ecdfb3-b8e9-4ce5-a6d1-332972cf4331",
   "metadata": {},
   "outputs": [
    {
     "name": "stdin",
     "output_type": "stream",
     "text": [
      "Enter a number between 0 and 9:  -1\n"
     ]
    },
    {
     "name": "stdout",
     "output_type": "stream",
     "text": [
      "out of range\n"
     ]
    }
   ],
   "source": [
    "def switch_it_up(num):\n",
    "    words_dict = {\n",
    "        0: \"Zero\", 1: \"One\", 2: \"Two\", 3: \"Three\", 4: \"Four\",\n",
    "        5: \"Five\", 6: \"Six\", 7: \"Seven\", 8: \"Eight\", 9: \"Nine\"\n",
    "    }\n",
    "    return words_dict.get(num)\n",
    "\n",
    "# Test the function\n",
    "num = int(input(\"Enter a number between 0 and 9: \"))\n",
    "if num<0  or m>9:\n",
    "    print(\"out of range\")\n",
    "switch_it_up(num)\n"
   ]
  },
  {
   "cell_type": "markdown",
   "id": "a3413f1b-3d65-41d4-b7e2-882cc2d2c9d6",
   "metadata": {},
   "source": [
    "### 3 elements from list  whos sum is 0"
   ]
  },
  {
   "cell_type": "code",
   "execution_count": 78,
   "id": "7739e190-d342-4fd4-8298-d723a32aaf51",
   "metadata": {},
   "outputs": [
    {
     "data": {
      "text/plain": [
       "[[-1, 0, 1],\n",
       " [-1, 2, -1],\n",
       " [-1, -1, 2],\n",
       " [0, 1, -1],\n",
       " [0, -1, 1],\n",
       " [1, 0, -1],\n",
       " [2, 2, -4],\n",
       " [2, -1, -1],\n",
       " [2, -4, 2],\n",
       " [-1, 0, 1],\n",
       " [-1, 2, -1],\n",
       " [-1, -1, 2],\n",
       " [-4, 2, 2]]"
      ]
     },
     "execution_count": 78,
     "metadata": {},
     "output_type": "execute_result"
    }
   ],
   "source": [
    "a=[-1,0,1,2,-1,-4]  #sum=a+b+c=0 find all the therre elements \n",
    "b=[]\n",
    "for i in range(len(a)):\n",
    "    for j in range(1,len(a)):\n",
    "        for k in range(2,len(a)):\n",
    "            if a[i]+a[j]+a[k]==0:\n",
    "                b.append([a[i],a[j],a[k]])\n",
    "b\n",
    "                "
   ]
  },
  {
   "cell_type": "markdown",
   "id": "f7d51746-3e5a-404b-867e-5484e200c3ed",
   "metadata": {},
   "source": [
    "### No of chnages of key "
   ]
  },
  {
   "cell_type": "code",
   "execution_count": 81,
   "id": "01c867dc-4096-4480-89b4-70075f190fd5",
   "metadata": {},
   "outputs": [
    {
     "data": {
      "text/plain": [
       "2"
      ]
     },
     "execution_count": 81,
     "metadata": {},
     "output_type": "execute_result"
    }
   ],
   "source": [
    "a=\"cCBbDd\" # from c to b one change b to d second change total 2 changes \n",
    "r=0\n",
    "c=a[0].lower()\n",
    "for i in range(1,len(a)):\n",
    "    if a[i].lower()==c:\n",
    "        continue\n",
    "    else:\n",
    "        r=r+1\n",
    "        c=a[i].lower()\n",
    "r\n",
    "        "
   ]
  },
  {
   "cell_type": "markdown",
   "id": "21be0948-1157-4025-b97f-62a336d689c3",
   "metadata": {},
   "source": [
    "### max occurange values for key"
   ]
  },
  {
   "cell_type": "code",
   "execution_count": 11,
   "id": "5cff1c61-8e9b-4e96-bbf7-fb9f625622c8",
   "metadata": {},
   "outputs": [
    {
     "name": "stdout",
     "output_type": "stream",
     "text": [
      "5\n",
      "8\n"
     ]
    }
   ],
   "source": [
    "a=[1,1,2,3,4,2,1,1,1,4,5,5,5,5,5,6,5,4,5,5]\n",
    "b={}\n",
    "for i in a:\n",
    "    if i in b:\n",
    "        b[i]=b[i]+1\n",
    "        \n",
    "    else:\n",
    "        b[i]=1\n",
    "max_occ=max(b,key=b.get)\n",
    "print(max_occ)\n",
    "print(b[max_occ])\n",
    "    "
   ]
  },
  {
   "cell_type": "code",
   "execution_count": 10,
   "id": "867a3640-9525-420e-91df-ede4540406e2",
   "metadata": {},
   "outputs": [
    {
     "name": "stdout",
     "output_type": "stream",
     "text": [
      "8\n"
     ]
    },
    {
     "data": {
      "text/plain": [
       "5"
      ]
     },
     "execution_count": 10,
     "metadata": {},
     "output_type": "execute_result"
    }
   ],
   "source": [
    "a=[1,1,2,3,4,2,1,1,1,4,5,5,5,5,5,6,5,4,5,5]\n",
    "count=0\n",
    "index=0\n",
    "temp=0\n",
    "for i in range(len(a)):\n",
    "    temp= a.count(i)\n",
    "    if temp>count:\n",
    "        count=temp\n",
    "        index=i\n",
    "print(count) \n",
    "index\n",
    "    \n",
    "        \n",
    "\n",
    "    "
   ]
  },
  {
   "cell_type": "markdown",
   "id": "002e595b-4afe-4d82-b52d-4889259fe769",
   "metadata": {},
   "source": [
    "### first longest substring without reapting the character"
   ]
  },
  {
   "cell_type": "code",
   "execution_count": 59,
   "id": "b7214d86-3642-4c6f-a0b3-0ed95933fd81",
   "metadata": {},
   "outputs": [
    {
     "name": "stdout",
     "output_type": "stream",
     "text": [
      "abcd 4\n"
     ]
    }
   ],
   "source": [
    "s=\"abcabcdb\"\n",
    "max_len=[]\n",
    "for i in range(len(s)):\n",
    "    current=[s[i]]\n",
    "    for j in  range(i+1,len(s)):\n",
    "        if s[j] in current :\n",
    "            break\n",
    "        else:\n",
    "            current.append(s[j])\n",
    "    if len(current)>len(max_len):\n",
    "        max_len=current\n",
    "print(\"\".join(max_len),len(max_len))"
   ]
  },
  {
   "cell_type": "code",
   "execution_count": 5,
   "id": "e97458fd-a0f8-40ed-9d4d-74361003355b",
   "metadata": {},
   "outputs": [
    {
     "name": "stdout",
     "output_type": "stream",
     "text": [
      "13.0\n"
     ]
    }
   ],
   "source": [
    "#pemdas # paranthsis,exponential,mul,division additiona nd sub\n",
    "print(3*3+3/3-1+2**2)"
   ]
  },
  {
   "cell_type": "code",
   "execution_count": 8,
   "id": "48faa11a-39c1-4876-b516-9fbc905315f6",
   "metadata": {},
   "outputs": [
    {
     "name": "stdin",
     "output_type": "stream",
     "text": [
      " 30\n"
     ]
    },
    {
     "data": {
      "text/plain": [
       "3120"
      ]
     },
     "execution_count": 8,
     "metadata": {},
     "output_type": "execute_result"
    }
   ],
   "source": [
    "a=int(input())\n",
    "years=90-a\n",
    "weeks=years*52\n",
    "weeks\n"
   ]
  },
  {
   "cell_type": "code",
   "execution_count": 20,
   "id": "9a910c76-6952-4b61-8daa-bda6edd1e75c",
   "metadata": {},
   "outputs": [
    {
     "name": "stdout",
     "output_type": "stream",
     "text": [
      "####### welcome to reasure island #########\n"
     ]
    },
    {
     "name": "stdin",
     "output_type": "stream",
     "text": [
      "Please enter where side you want to go left/right left\n",
      "entert swim/wait fh\n"
     ]
    },
    {
     "name": "stdout",
     "output_type": "stream",
     "text": [
      "gameover\n"
     ]
    }
   ],
   "source": [
    "print(\"####### welcome to reasure island #########\")\n",
    "choice1=input(\"Please enter where side you want to go left/right\").lower()\n",
    "while choice1  not in [\"left\", \"right\"]:\n",
    "    choice1=input(\"Please enter where side you want to go left/right\").lower()\n",
    "if choice1==\"left\":\n",
    "    choice2=input(\"entert swim/wait\").lower()\n",
    "    if choice2==\"wait\":\n",
    "        door=input(\"which door red/blue/yellow\").lower()\n",
    "        if door==\"red\":\n",
    "            print(\"gameover\")\n",
    "        elif door ==\"blue\":\n",
    "            print(\"you have got amush,gameover\")\n",
    "        elif door==\"yellow\":\n",
    "            print(\"you have won\")\n",
    "        else:\n",
    "            print(\"you have choose correct door,gameover\")\n",
    "            \n",
    "    else:\n",
    "        print(\"gameover\")    \n",
    "else:\n",
    "    print(\"game over\")\n",
    "\n",
    "\n"
   ]
  },
  {
   "cell_type": "code",
   "execution_count": 21,
   "id": "71d20f1c-b000-47d8-86ff-fa4dcf963b11",
   "metadata": {},
   "outputs": [
    {
     "name": "stdout",
     "output_type": "stream",
     "text": [
      "1\n",
      "2\n",
      "3\n",
      "4\n",
      "5\n",
      "6\n",
      "7\n",
      "8\n",
      "9\n",
      "10\n"
     ]
    }
   ],
   "source": [
    "a=0\n",
    "while a<10:\n",
    "    a=a+1\n",
    "    print(a)\n",
    "    "
   ]
  },
  {
   "cell_type": "markdown",
   "id": "3bd993a1-bc37-46c4-906e-ab5d06e34331",
   "metadata": {},
   "source": [
    "### add sum of number till it gets to single digit "
   ]
  },
  {
   "cell_type": "code",
   "execution_count": 6,
   "id": "97aa3dc6-f8bc-4f65-be61-866bbf13700e",
   "metadata": {},
   "outputs": [
    {
     "data": {
      "text/plain": [
       "3"
      ]
     },
     "execution_count": 6,
     "metadata": {},
     "output_type": "execute_result"
    }
   ],
   "source": [
    "def add(n):  # 192-->1+9+2=13-->1+2=3\n",
    "    while n>=10:\n",
    "        n=sum(int(i) for i in str(n))\n",
    "    return n\n",
    "add(192)"
   ]
  },
  {
   "cell_type": "code",
   "execution_count": 18,
   "id": "78a98def-7864-4dc3-8d6d-9667b332551e",
   "metadata": {},
   "outputs": [
    {
     "name": "stdout",
     "output_type": "stream",
     "text": [
      "3\n"
     ]
    }
   ],
   "source": [
    "def add(n):\n",
    "    num=n%9\n",
    "    if num==0:\n",
    "        print(9)\n",
    "    else:\n",
    "        print(num)\n",
    "add(129)"
   ]
  },
  {
   "cell_type": "markdown",
   "id": "8a8d1017-e511-4176-bc93-a3891e75857a",
   "metadata": {},
   "source": [
    "### finding k'th largest element"
   ]
  },
  {
   "cell_type": "code",
   "execution_count": 25,
   "id": "d89d2003-071d-40f3-8474-f3d4292bf64d",
   "metadata": {},
   "outputs": [
    {
     "name": "stdout",
     "output_type": "stream",
     "text": [
      "4\n"
     ]
    }
   ],
   "source": [
    "a=[2,6,3,0,7,4]\n",
    "k=3\n",
    "a.sort()\n",
    "print(a[-k])"
   ]
  },
  {
   "cell_type": "markdown",
   "id": "aeb0ffc4-c4f4-457e-a1cd-d2d2cb773650",
   "metadata": {},
   "source": [
    "#### contains dublicates"
   ]
  },
  {
   "cell_type": "code",
   "execution_count": 12,
   "id": "52e78508-c611-4b0a-9fd8-63bc696b83e0",
   "metadata": {},
   "outputs": [
    {
     "data": {
      "text/plain": [
       "True"
      ]
     },
     "execution_count": 12,
     "metadata": {},
     "output_type": "execute_result"
    }
   ],
   "source": [
    "#[1,2,3,1] Output:true [1,2,3]\n",
    "def dub(nums):\n",
    "    compare=set()\n",
    "    for i in nums:\n",
    "        if i in compare:\n",
    "            return True\n",
    "        else:\n",
    "            compare.add(i)\n",
    "    return False \n",
    "dub([1,2,3,4,1])"
   ]
  },
  {
   "cell_type": "markdown",
   "id": "c2dae6ad-fc3d-49f7-8741-2746c9179c66",
   "metadata": {},
   "source": [
    "### Longest Common Prefix"
   ]
  },
  {
   "cell_type": "code",
   "execution_count": 27,
   "id": "ae1d8a9f-c5a5-411a-bd29-aae7fe4fa62f",
   "metadata": {},
   "outputs": [
    {
     "name": "stdout",
     "output_type": "stream",
     "text": [
      "[('f', 'f', 'f'), ('l', 'l', 'l'), ('o', 'o', 'o'), ('w', 'w', 'a')]\n"
     ]
    },
    {
     "data": {
      "text/plain": [
       "'flo'"
      ]
     },
     "execution_count": 27,
     "metadata": {},
     "output_type": "execute_result"
    }
   ],
   "source": [
    "# Input: strs = [\"flower\",\"flow\",\"flight\"]\n",
    "# Output: \"fl\"\n",
    "strs = [\"flower\",\"flow\",\"floating\"]\n",
    "pre=\"\"\n",
    "lst=list(zip(*strs))\n",
    "print(lst)\n",
    "for i in lst:\n",
    "    if len(set(i))==1:\n",
    "        pre=pre+i[0]\n",
    "    else:\n",
    "        break\n",
    "pre\n",
    "\n",
    "\n"
   ]
  },
  {
   "cell_type": "markdown",
   "id": "b6d0cdad-65b1-4d47-a705-38ee6b5c1b92",
   "metadata": {},
   "source": [
    "### moves zeros to end of the list "
   ]
  },
  {
   "cell_type": "code",
   "execution_count": 23,
   "id": "044faded-df5e-4bb6-8cfb-b32a3150a2a9",
   "metadata": {},
   "outputs": [
    {
     "data": {
      "text/plain": [
       "[1, 3, 4, 5, 0, 0]"
      ]
     },
     "execution_count": 23,
     "metadata": {},
     "output_type": "execute_result"
    }
   ],
   "source": [
    "a=[0,1,3,0,4,5]\n",
    "for i in a:\n",
    "    if i==0:\n",
    "        a.remove(i)\n",
    "        a.append(i)\n",
    "a"
   ]
  },
  {
   "cell_type": "markdown",
   "id": "d566faf8-8503-432c-ac96-6569fd2e18ea",
   "metadata": {},
   "source": [
    "### find the data which is date between 2020-12-03 to 2020-12-06"
   ]
  },
  {
   "cell_type": "code",
   "execution_count": 40,
   "id": "1a04df3c-6d4e-46e6-8e64-9f48e0e75abe",
   "metadata": {},
   "outputs": [
    {
     "data": {
      "text/html": [
       "<div>\n",
       "<style scoped>\n",
       "    .dataframe tbody tr th:only-of-type {\n",
       "        vertical-align: middle;\n",
       "    }\n",
       "\n",
       "    .dataframe tbody tr th {\n",
       "        vertical-align: top;\n",
       "    }\n",
       "\n",
       "    .dataframe thead th {\n",
       "        text-align: right;\n",
       "    }\n",
       "</style>\n",
       "<table border=\"1\" class=\"dataframe\">\n",
       "  <thead>\n",
       "    <tr style=\"text-align: right;\">\n",
       "      <th></th>\n",
       "      <th>Duration</th>\n",
       "      <th>Date</th>\n",
       "      <th>Pulse</th>\n",
       "      <th>Maxpulse</th>\n",
       "      <th>Calories</th>\n",
       "    </tr>\n",
       "  </thead>\n",
       "  <tbody>\n",
       "    <tr>\n",
       "      <th>2</th>\n",
       "      <td>70</td>\n",
       "      <td>2020-12-03</td>\n",
       "      <td>103</td>\n",
       "      <td>135</td>\n",
       "      <td>340.0</td>\n",
       "    </tr>\n",
       "    <tr>\n",
       "      <th>3</th>\n",
       "      <td>45</td>\n",
       "      <td>2020-12-04</td>\n",
       "      <td>109</td>\n",
       "      <td>175</td>\n",
       "      <td>282.4</td>\n",
       "    </tr>\n",
       "    <tr>\n",
       "      <th>4</th>\n",
       "      <td>65</td>\n",
       "      <td>2020-12-05</td>\n",
       "      <td>117</td>\n",
       "      <td>148</td>\n",
       "      <td>406.0</td>\n",
       "    </tr>\n",
       "    <tr>\n",
       "      <th>5</th>\n",
       "      <td>70</td>\n",
       "      <td>2020-12-06</td>\n",
       "      <td>102</td>\n",
       "      <td>127</td>\n",
       "      <td>300.0</td>\n",
       "    </tr>\n",
       "  </tbody>\n",
       "</table>\n",
       "</div>"
      ],
      "text/plain": [
       "   Duration       Date  Pulse  Maxpulse  Calories\n",
       "2        70 2020-12-03    103       135     340.0\n",
       "3        45 2020-12-04    109       175     282.4\n",
       "4        65 2020-12-05    117       148     406.0\n",
       "5        70 2020-12-06    102       127     300.0"
      ]
     },
     "execution_count": 40,
     "metadata": {},
     "output_type": "execute_result"
    }
   ],
   "source": [
    "import pandas as pd\n",
    "\n",
    "data = {\n",
    "   'Duration': [50,60,70,45,65,70,60,45],\n",
    "   'Date': ['2020/12/01','2020/12/02','2020/12/03','2020/12/04','2020/12/05','2020/12/06','2020/12/07','2020/12/01'],\n",
    "   'Pulse': [110,117,103,109,117,102,110,104],\n",
    "   'Maxpulse': [130,145,135,175,148,127,136,134],\n",
    "   'Calories': [409.1,179.0,340.0,282.4,406.0,300.0,374.0,253.3]\n",
    "}\n",
    "\n",
    "df = pd.DataFrame(data)\n",
    "\n",
    "start_Date='2020/12/03'\n",
    "end_date='2020/12/06'\n",
    "\n",
    "df[\"Date\"]=pd.to_datetime(df[\"Date\"])\n",
    "filtered=df[(df[\"Date\"]>=start_Date) & (df[\"Date\"]<=end_date)]\n",
    "filtered\n"
   ]
  },
  {
   "cell_type": "code",
   "execution_count": 42,
   "id": "26fb5604-8984-40e3-ad67-6f8f886e3874",
   "metadata": {},
   "outputs": [
    {
     "name": "stdout",
     "output_type": "stream",
     "text": [
      "   Duration       Date  Pulse  Maxpulse  Calories\n",
      "2        70 2020-12-03    103       135     340.0\n",
      "3        45 2020-12-04    109       175     282.4\n",
      "4        65 2020-12-05    117       148     406.0\n",
      "5        70 2020-12-06    102       127     300.0\n"
     ]
    }
   ],
   "source": [
    "\n",
    "start_date = '2020-12-03'\n",
    "end_date = '2020-12-06'\n",
    "\n",
    "df['Date'] = pd.to_datetime(df['Date'])\n",
    "\n",
    "filtered_df = df[(df['Date'] >= start_date) & (df['Date'] <= end_date)]\n",
    "\n",
    "print(filtered_df)\n"
   ]
  },
  {
   "cell_type": "markdown",
   "id": "a6ce07f6-d1fe-4474-8216-8c91589b1ccd",
   "metadata": {},
   "source": [
    "### Remove Duplicates from Sorted Array"
   ]
  },
  {
   "cell_type": "code",
   "execution_count": 33,
   "id": "240bafda-2cc2-425a-86f9-7eab82600018",
   "metadata": {},
   "outputs": [
    {
     "data": {
      "text/plain": [
       "5"
      ]
     },
     "execution_count": 33,
     "metadata": {},
     "output_type": "execute_result"
    }
   ],
   "source": [
    "nums = [0,0,1,1,1,2,2,3,3,4]\n",
    "#Output: 5, nums = [0,1,2,3,4,_,_,_,_,_]\n",
    "r=1\n",
    "for i in range(1,len(nums)):\n",
    "    if nums[i-1]!=nums[i]:\n",
    "        nums[r]=nums[i]\n",
    "        r=r+1\n",
    "r       "
   ]
  },
  {
   "cell_type": "markdown",
   "id": "31dedce4-2828-493f-acff-0fe982ed111c",
   "metadata": {},
   "source": [
    "### Anagrams"
   ]
  },
  {
   "cell_type": "code",
   "execution_count": 3,
   "id": "58f755cc-1cf5-43f9-bd05-b229d4e03d0b",
   "metadata": {},
   "outputs": [
    {
     "name": "stdin",
     "output_type": "stream",
     "text": [
      "Enter the string:  hello\n",
      "Enter the string:  ohlle\n"
     ]
    },
    {
     "name": "stdout",
     "output_type": "stream",
     "text": [
      "Anagram\n"
     ]
    }
   ],
   "source": [
    "## len should be eaual\n",
    "## charcter should be same in order or unordered\n",
    "a=input(\"Enter the string: \")\n",
    "b=input(\"Enter the string: \")\n",
    "if len(a)!=len(b):\n",
    "    print(\"Not Anagram\")\n",
    "else:\n",
    "    if sorted(a)==sorted(b):\n",
    "        print(\"Anagram\")\n",
    "\n",
    "     "
   ]
  },
  {
   "cell_type": "code",
   "execution_count": 5,
   "id": "906b4a35-0589-45b9-ae90-acbcc13f023f",
   "metadata": {},
   "outputs": [
    {
     "name": "stdout",
     "output_type": "stream",
     "text": [
      "1\n",
      "2\n",
      "3\n",
      "4\n",
      "5\n",
      "6\n",
      "7\n",
      "8\n",
      "9\n",
      "10\n"
     ]
    }
   ],
   "source": [
    "### print 1 to 100 without using loops\n",
    "def with_out_loop(i,num):\n",
    "    print(i)\n",
    "    if i<num:\n",
    "        i+=1\n",
    "        with_out_loop(i,num)\n",
    "with_out_loop(1,10)"
   ]
  },
  {
   "cell_type": "markdown",
   "id": "e0586267-102e-498d-a069-b7a3f247dbbb",
   "metadata": {},
   "source": [
    "### python extended iterble unpacking "
   ]
  },
  {
   "cell_type": "code",
   "execution_count": 8,
   "id": "17ea3f6c-38e8-40ea-91a8-b37a208c02d1",
   "metadata": {},
   "outputs": [
    {
     "name": "stdout",
     "output_type": "stream",
     "text": [
      "1\n",
      "2\n",
      "[3, 4, 5]\n",
      "6\n"
     ]
    }
   ],
   "source": [
    "z=[1,2,3,4,5,6]\n",
    "a,b,*c,d=z\n",
    "print(a)\n",
    "print(b)\n",
    "print(c)\n",
    "print(d)"
   ]
  },
  {
   "cell_type": "markdown",
   "id": "e86544be-53bd-4d38-8998-ace76da0b060",
   "metadata": {},
   "source": [
    "### all possible sentence form given string "
   ]
  },
  {
   "cell_type": "code",
   "execution_count": 25,
   "id": "cec32404-5a28-4c42-bc45-768336006265",
   "metadata": {},
   "outputs": [
    {
     "name": "stdout",
     "output_type": "stream",
     "text": [
      "0: python is a language \n",
      "1: python is language a \n",
      "2: python a is language \n",
      "3: python a language is \n",
      "4: python language is a \n",
      "5: python language a is \n",
      "6: is python a language \n",
      "7: is python language a \n",
      "8: is a python language \n",
      "9: is a language python \n",
      "10: is language python a \n",
      "11: is language a python \n",
      "12: a python is language \n",
      "13: a python language is \n",
      "14: a is python language \n",
      "15: a is language python \n",
      "16: a language python is \n",
      "17: a language is python \n",
      "18: language python is a \n",
      "19: language python a is \n",
      "20: language is python a \n",
      "21: language is a python \n",
      "22: language a python is \n",
      "23: language a is python \n"
     ]
    }
   ],
   "source": [
    "from itertools import permutations\n",
    "string =\"python is a language\"\n",
    "lst=string.split()\n",
    "p=permutations(lst)\n",
    "for i,group in enumerate(p):\n",
    "    # print(group)\n",
    "    print(str(i)+\":\",end=\" \")\n",
    "    for j in group:\n",
    "        print(j,end=\" \")\n",
    "    print()\n",
    "    "
   ]
  },
  {
   "cell_type": "markdown",
   "id": "ded10875-6e48-47b8-8029-aa844e338e17",
   "metadata": {},
   "source": [
    "\n",
    "#### Days of the week are represented as three-letter strings (\"Mon\", \"Tue\", \"Wed\", \"Thu\", \"Fri\", \"Sat\", \"Sun\").\n",
    "####  Write a function solution that, given a string S representing the day of the week and an integer K (between 0 and 500, inclusive),\n",
    "#### returns the day of the week that is K days later.\n",
    "#### For example, given S = \"Wed\" and K = 2, \n",
    "####  the function should return \"Fri\". Given S = \"Sat\" and K = 23, the function should return \"Mon\"."
   ]
  },
  {
   "cell_type": "code",
   "execution_count": 43,
   "id": "c143038f-c5a7-452d-97f9-5c2bf0bc8592",
   "metadata": {},
   "outputs": [
    {
     "name": "stdout",
     "output_type": "stream",
     "text": [
      "4\n"
     ]
    },
    {
     "data": {
      "text/plain": [
       "'Fri'"
      ]
     },
     "execution_count": 43,
     "metadata": {},
     "output_type": "execute_result"
    }
   ],
   "source": [
    "def day_week(S,k):\n",
    "    a=[\"Mon\", \"Tue\", \"Wed\", \"Thu\", \"Fri\", \"Sat\", \"Sun\"]\n",
    "    new=a.index(S)\n",
    "    res=(k+new)%7\n",
    "    print(res)\n",
    "    return a[res]\n",
    "day_week(\"Mon\",4)\n"
   ]
  },
  {
   "cell_type": "code",
   "execution_count": 11,
   "id": "3e027d20-894d-4455-8489-0909e6192b02",
   "metadata": {},
   "outputs": [
    {
     "data": {
      "text/plain": [
       "2"
      ]
     },
     "execution_count": 11,
     "metadata": {},
     "output_type": "execute_result"
    }
   ],
   "source": [
    "2%7"
   ]
  },
  {
   "cell_type": "markdown",
   "id": "95fce1ec-4b56-475b-9b66-2b4838ec6341",
   "metadata": {},
   "source": [
    "### multiply two no.s without using * operator in python"
   ]
  },
  {
   "cell_type": "code",
   "execution_count": 31,
   "id": "169206b1-325f-461f-9a5b-9e505d684f64",
   "metadata": {},
   "outputs": [
    {
     "data": {
      "text/plain": [
       "24"
      ]
     },
     "execution_count": 31,
     "metadata": {},
     "output_type": "execute_result"
    }
   ],
   "source": [
    "a=4\n",
    "b=6 # 4 4 4 4 4 =20\n",
    "c=0\n",
    "for i in range(0,b): # $(1,b+1)\n",
    "    c=c+a\n",
    "c\n",
    "    \n",
    "    "
   ]
  },
  {
   "cell_type": "markdown",
   "id": "9270f892-6368-40f3-84c6-d68e89dcc642",
   "metadata": {},
   "source": [
    "### Add binary"
   ]
  },
  {
   "cell_type": "code",
   "execution_count": 2,
   "id": "c01406fe-5eb9-4beb-9798-c814217944cb",
   "metadata": {},
   "outputs": [
    {
     "name": "stdout",
     "output_type": "stream",
     "text": [
      "10101\n"
     ]
    }
   ],
   "source": [
    "b=\"1010\"\n",
    "a=\"1011\"\n",
    "a=int(a,2)\n",
    "b=int(b,2)\n",
    "sum=a+b\n",
    "sum\n",
    "# converting to binary\n",
    "print(bin(sum)[2:])"
   ]
  },
  {
   "cell_type": "code",
   "execution_count": null,
   "id": "f0a55be0-8e05-469d-8da8-cfe30f7287df",
   "metadata": {},
   "outputs": [],
   "source": [
    "### integer to roman "
   ]
  },
  {
   "cell_type": "code",
   "execution_count": 32,
   "id": "6994a56c-1afa-409d-96ad-c859dfdd5968",
   "metadata": {},
   "outputs": [
    {
     "name": "stdout",
     "output_type": "stream",
     "text": [
      "MCM\n"
     ]
    }
   ],
   "source": [
    "num = 1900\n",
    "data = {\"I\": 1, \"IV\": 4, \"V\": 5, \"IX\": 9, \"X\": 10, \"XL\": 40, \"L\": 50, \"XC\": 90, \"C\": 100, \"CD\": 400, \"D\": 500, \"CM\": 900, \"M\": 1000}\n",
    "\n",
    "out = \"\"\n",
    "for k, v in reversed(data.items()):\n",
    "    while num >= v:\n",
    "        out = out + k\n",
    "        num = num - v\n",
    "\n",
    "print(out)"
   ]
  },
  {
   "cell_type": "code",
   "execution_count": 17,
   "id": "c8ab8e4e-dd6e-4a81-b313-7366a0c83105",
   "metadata": {},
   "outputs": [
    {
     "data": {
      "text/plain": [
       "'LX'"
      ]
     },
     "execution_count": 17,
     "metadata": {},
     "output_type": "execute_result"
    }
   ],
   "source": [
    "num = 60\n",
    "data = {\"I\": 1, \"IV\": 4, \"V\": 5, \"IX\": 9, \"X\": 10, \"XL\": 40, \"L\": 50, \"XC\": 90, \"C\": 100, \"CD\": 400, \"D\": 500, \"CM\": 900, \"M\": 1000}\n",
    "a=\"\"\n",
    "for k,v in reversed(data.items()):\n",
    "    while num>=v:\n",
    "        a=a+k\n",
    "        num=num-v\n",
    "a\n",
    "    "
   ]
  },
  {
   "cell_type": "markdown",
   "id": "e9cf5c73-7749-40f9-843e-929722fe9a96",
   "metadata": {},
   "source": [
    "### interview"
   ]
  },
  {
   "cell_type": "code",
   "execution_count": 43,
   "id": "c8762015-88b0-4c55-b8ea-bf9a3afd1db7",
   "metadata": {},
   "outputs": [
    {
     "data": {
      "text/plain": [
       "'CdGk'"
      ]
     },
     "execution_count": 43,
     "metadata": {},
     "output_type": "execute_result"
    }
   ],
   "source": [
    "a='CodeGeek'\n",
    "c=[]\n",
    "b=[\"a\",\"e\",\"i\",\"o\",\"u\"]\n",
    "c=\"\".join([i for i in a if i not  in b])\n",
    "c"
   ]
  },
  {
   "cell_type": "markdown",
   "id": "7bfaeaab-d937-405b-baed-ff01b486c1a0",
   "metadata": {},
   "source": [
    "### two pointer approach "
   ]
  },
  {
   "cell_type": "code",
   "execution_count": 44,
   "id": "1cd6478e-61a3-413f-a665-673e453be92f",
   "metadata": {},
   "outputs": [
    {
     "data": {
      "text/plain": [
       "True"
      ]
     },
     "execution_count": 44,
     "metadata": {},
     "output_type": "execute_result"
    }
   ],
   "source": [
    "## two sum \n",
    "def twosum(a,target): \n",
    "    start=0\n",
    "    end=len(a)-1\n",
    "    while start<end:\n",
    "        if a[start]+a[end]==target:\n",
    "            return True\n",
    "        elif a[start]+a[end]<target:\n",
    "            start=start+1\n",
    "        else:\n",
    "            end =end-1\n",
    "    return False\n",
    "a=[1,2,3,4,5]\n",
    "target=3\n",
    "twosum(a,target)\n",
    "            "
   ]
  },
  {
   "cell_type": "markdown",
   "id": "29efc111-1668-4dd2-987d-44795a924eed",
   "metadata": {},
   "source": [
    "### Nth largets elemnet in list without using inbuilt methods "
   ]
  },
  {
   "cell_type": "code",
   "execution_count": 7,
   "id": "766911f1-1dd8-4ad3-8ab4-e97593c7fd9b",
   "metadata": {},
   "outputs": [
    {
     "name": "stdout",
     "output_type": "stream",
     "text": [
      "[32, 17, 14, 10, 7, 6, 1]\n",
      "14\n"
     ]
    }
   ],
   "source": [
    "a=[1,10,17,14,32,7,6]\n",
    "k=3\n",
    "for i in range(len(a)):\n",
    "    for j in range(len(a)-i-1):  #7-0-1\n",
    "        if a[j]<a[j+1]:\n",
    "            a[j],a[j+1]=a[j+1],a[j]\n",
    "print(a)\n",
    "print(a[k-1])"
   ]
  },
  {
   "cell_type": "markdown",
   "id": "45d87af0-3e7d-4010-8f27-7abe7ed78096",
   "metadata": {},
   "source": [
    "### happiest number in python "
   ]
  },
  {
   "cell_type": "code",
   "execution_count": 4,
   "id": "576413f3-6028-45a3-8c6d-1fdc862c4806",
   "metadata": {},
   "outputs": [
    {
     "name": "stdout",
     "output_type": "stream",
     "text": [
      "10\n",
      "1\n",
      "happiest no\n"
     ]
    }
   ],
   "source": [
    "a=13\n",
    "while a>=10:\n",
    "    sum=0\n",
    "    while a>0:\n",
    "        r=a%10\n",
    "        sum=sum+(r*r)\n",
    "        a=a//10\n",
    "    a=sum\n",
    "    print(a)\n",
    "if a==1:\n",
    "    print(\"happiest no\")\n",
    "else:\n",
    "    print(\"Not happiest no\")\n",
    "        \n",
    "    "
   ]
  },
  {
   "cell_type": "markdown",
   "id": "f878f16e-12a7-4e4e-87d4-aea406f99714",
   "metadata": {},
   "source": [
    "### interview question "
   ]
  },
  {
   "cell_type": "code",
   "execution_count": 1,
   "id": "4d8f19be-50c8-413a-a8af-0e2f68f19e28",
   "metadata": {},
   "outputs": [
    {
     "name": "stdout",
     "output_type": "stream",
     "text": [
      "99 0 []\n",
      "28 3 [55, 76, 99]\n",
      "12 5 [55, 13, 15, 76, 99]\n",
      "55 2 [76, 99]\n",
      "13 3 [15, 76, 99]\n",
      "15 2 [76, 99]\n",
      "76 1 [99]\n",
      "99 0 []\n"
     ]
    }
   ],
   "source": [
    "d=[99,28,12,55,13,15,76,99]\n",
    "for i in range(len(d)):\n",
    "    a=d[i]\n",
    "    b=[]\n",
    "    for j in range(i+1,len(d)):\n",
    "        if d[j]>a:\n",
    "            b.append(d[j])\n",
    "    print(f\"{a} {len(b)} {b}\")"
   ]
  },
  {
   "cell_type": "markdown",
   "id": "460440b1-2fc7-495d-8569-6ab7c60147ff",
   "metadata": {},
   "source": [
    "#### Write a Python function to multiply all the numbers in a list using args."
   ]
  },
  {
   "cell_type": "code",
   "execution_count": 14,
   "id": "37b87df2-e782-4824-a651-b00b5fb1e478",
   "metadata": {},
   "outputs": [
    {
     "name": "stdout",
     "output_type": "stream",
     "text": [
      "-336\n"
     ]
    }
   ],
   "source": [
    "def mul(*args):\n",
    "    b=1\n",
    "    for i in args:\n",
    "        b=b*i\n",
    "    return b\n",
    "print(mul(8, 2, 3, -1, 7))"
   ]
  },
  {
   "cell_type": "markdown",
   "id": "5083ed13-148a-4026-a828-35746c6ef4c6",
   "metadata": {},
   "source": [
    "### decorator usecase 1 in real time "
   ]
  },
  {
   "cell_type": "code",
   "execution_count": 2,
   "id": "e4869202-e043-4cfc-bcb8-23b769a64ce4",
   "metadata": {},
   "outputs": [
    {
     "name": "stdout",
     "output_type": "stream",
     "text": [
      "Total execution time is 0.00403141975402832\n"
     ]
    },
    {
     "data": {
      "text/html": [
       "<div>\n",
       "<style scoped>\n",
       "    .dataframe tbody tr th:only-of-type {\n",
       "        vertical-align: middle;\n",
       "    }\n",
       "\n",
       "    .dataframe tbody tr th {\n",
       "        vertical-align: top;\n",
       "    }\n",
       "\n",
       "    .dataframe thead th {\n",
       "        text-align: right;\n",
       "    }\n",
       "</style>\n",
       "<table border=\"1\" class=\"dataframe\">\n",
       "  <thead>\n",
       "    <tr style=\"text-align: right;\">\n",
       "      <th></th>\n",
       "      <th>survived</th>\n",
       "      <th>pclass</th>\n",
       "      <th>sex</th>\n",
       "      <th>age</th>\n",
       "      <th>sibsp</th>\n",
       "      <th>parch</th>\n",
       "      <th>fare</th>\n",
       "      <th>embarked</th>\n",
       "      <th>deck</th>\n",
       "    </tr>\n",
       "  </thead>\n",
       "  <tbody>\n",
       "    <tr>\n",
       "      <th>0</th>\n",
       "      <td>0</td>\n",
       "      <td>3</td>\n",
       "      <td>male</td>\n",
       "      <td>22.0</td>\n",
       "      <td>1</td>\n",
       "      <td>0</td>\n",
       "      <td>7.2500</td>\n",
       "      <td>S</td>\n",
       "      <td>NaN</td>\n",
       "    </tr>\n",
       "    <tr>\n",
       "      <th>1</th>\n",
       "      <td>1</td>\n",
       "      <td>1</td>\n",
       "      <td>female</td>\n",
       "      <td>38.0</td>\n",
       "      <td>1</td>\n",
       "      <td>0</td>\n",
       "      <td>71.2833</td>\n",
       "      <td>C</td>\n",
       "      <td>C</td>\n",
       "    </tr>\n",
       "    <tr>\n",
       "      <th>2</th>\n",
       "      <td>1</td>\n",
       "      <td>3</td>\n",
       "      <td>female</td>\n",
       "      <td>26.0</td>\n",
       "      <td>0</td>\n",
       "      <td>0</td>\n",
       "      <td>7.9250</td>\n",
       "      <td>S</td>\n",
       "      <td>NaN</td>\n",
       "    </tr>\n",
       "    <tr>\n",
       "      <th>3</th>\n",
       "      <td>1</td>\n",
       "      <td>1</td>\n",
       "      <td>female</td>\n",
       "      <td>35.0</td>\n",
       "      <td>1</td>\n",
       "      <td>0</td>\n",
       "      <td>53.1000</td>\n",
       "      <td>S</td>\n",
       "      <td>C</td>\n",
       "    </tr>\n",
       "    <tr>\n",
       "      <th>4</th>\n",
       "      <td>0</td>\n",
       "      <td>3</td>\n",
       "      <td>male</td>\n",
       "      <td>35.0</td>\n",
       "      <td>0</td>\n",
       "      <td>0</td>\n",
       "      <td>8.0500</td>\n",
       "      <td>S</td>\n",
       "      <td>NaN</td>\n",
       "    </tr>\n",
       "    <tr>\n",
       "      <th>...</th>\n",
       "      <td>...</td>\n",
       "      <td>...</td>\n",
       "      <td>...</td>\n",
       "      <td>...</td>\n",
       "      <td>...</td>\n",
       "      <td>...</td>\n",
       "      <td>...</td>\n",
       "      <td>...</td>\n",
       "      <td>...</td>\n",
       "    </tr>\n",
       "    <tr>\n",
       "      <th>886</th>\n",
       "      <td>0</td>\n",
       "      <td>2</td>\n",
       "      <td>male</td>\n",
       "      <td>27.0</td>\n",
       "      <td>0</td>\n",
       "      <td>0</td>\n",
       "      <td>13.0000</td>\n",
       "      <td>S</td>\n",
       "      <td>NaN</td>\n",
       "    </tr>\n",
       "    <tr>\n",
       "      <th>887</th>\n",
       "      <td>1</td>\n",
       "      <td>1</td>\n",
       "      <td>female</td>\n",
       "      <td>19.0</td>\n",
       "      <td>0</td>\n",
       "      <td>0</td>\n",
       "      <td>30.0000</td>\n",
       "      <td>S</td>\n",
       "      <td>B</td>\n",
       "    </tr>\n",
       "    <tr>\n",
       "      <th>888</th>\n",
       "      <td>0</td>\n",
       "      <td>3</td>\n",
       "      <td>female</td>\n",
       "      <td>NaN</td>\n",
       "      <td>1</td>\n",
       "      <td>2</td>\n",
       "      <td>23.4500</td>\n",
       "      <td>S</td>\n",
       "      <td>NaN</td>\n",
       "    </tr>\n",
       "    <tr>\n",
       "      <th>889</th>\n",
       "      <td>1</td>\n",
       "      <td>1</td>\n",
       "      <td>male</td>\n",
       "      <td>26.0</td>\n",
       "      <td>0</td>\n",
       "      <td>0</td>\n",
       "      <td>30.0000</td>\n",
       "      <td>C</td>\n",
       "      <td>C</td>\n",
       "    </tr>\n",
       "    <tr>\n",
       "      <th>890</th>\n",
       "      <td>0</td>\n",
       "      <td>3</td>\n",
       "      <td>male</td>\n",
       "      <td>32.0</td>\n",
       "      <td>0</td>\n",
       "      <td>0</td>\n",
       "      <td>7.7500</td>\n",
       "      <td>Q</td>\n",
       "      <td>NaN</td>\n",
       "    </tr>\n",
       "  </tbody>\n",
       "</table>\n",
       "<p>891 rows × 9 columns</p>\n",
       "</div>"
      ],
      "text/plain": [
       "     survived  pclass     sex   age  sibsp  parch     fare embarked deck\n",
       "0           0       3    male  22.0      1      0   7.2500        S  NaN\n",
       "1           1       1  female  38.0      1      0  71.2833        C    C\n",
       "2           1       3  female  26.0      0      0   7.9250        S  NaN\n",
       "3           1       1  female  35.0      1      0  53.1000        S    C\n",
       "4           0       3    male  35.0      0      0   8.0500        S  NaN\n",
       "..        ...     ...     ...   ...    ...    ...      ...      ...  ...\n",
       "886         0       2    male  27.0      0      0  13.0000        S  NaN\n",
       "887         1       1  female  19.0      0      0  30.0000        S    B\n",
       "888         0       3  female   NaN      1      2  23.4500        S  NaN\n",
       "889         1       1    male  26.0      0      0  30.0000        C    C\n",
       "890         0       3    male  32.0      0      0   7.7500        Q  NaN\n",
       "\n",
       "[891 rows x 9 columns]"
      ]
     },
     "execution_count": 2,
     "metadata": {},
     "output_type": "execute_result"
    }
   ],
   "source": [
    "import pandas as pd\n",
    "import time\n",
    "\n",
    "def log_time(fun):\n",
    "    def wrapper(*args):\n",
    "        start_time = time.time()\n",
    "        result = fun(*args) \n",
    "        end_time = time.time()\n",
    "        print(f\"Total execution time is {end_time - start_time}\")\n",
    "        return result\n",
    "    return wrapper\n",
    "\n",
    "@log_time\n",
    "def read_data(path):\n",
    "    df = pd.read_csv(path)\n",
    "    return df\n",
    "\n",
    "read_data(r\"C:\\Users\\navee\\OneDrive\\Documents\\javeed\\python_interview_practice\\titanic.csv\")"
   ]
  },
  {
   "cell_type": "markdown",
   "id": "edb29164-8237-46a9-9731-9a76eb659b6a",
   "metadata": {},
   "source": [
    "### generators real time whenyou are reading large files "
   ]
  },
  {
   "cell_type": "code",
   "execution_count": 22,
   "id": "ae659a8a-0c3c-46e7-b6c4-e127d4893088",
   "metadata": {},
   "outputs": [
    {
     "name": "stdout",
     "output_type": "stream",
     "text": [
      "\n",
      "01\n",
      "03/22 08:51:01 INFO   :.main: *************** RSVP Agent started ***************\n",
      "02\n",
      "03/22 08:51:01 INFO   :...locate_configFile: Specified configuration file: /u/user10/rsvpd1.conf\n",
      "03/22 08:51:01 INFO   :.main: Using log level 511\n",
      "03/22 08:51:01 INFO   :..settcpimage: Get TCP images rc - EDC8112I Operation not supported on socket.\n",
      "03\n",
      "03/22 08:51:01 INFO   :..settcpimage: Associate with TCP/IP image name = TCPCS\n",
      "03/22 08:51:02 INFO   :..reg_process: registering process with the system\n",
      "03/22 08:51:02 INFO   :..reg_process: attempt OS/390 registration\n",
      "03/22 08:51:02 INFO   :..reg_process: return from registration rc=0\n",
      "04\n",
      "03/22 08:51:06 TRACE  :...read_physical_netif: Home list entries returned = 7\n",
      "03/22 08:51:06 INFO   :...read_physical_netif: index #0, interface VLINK1 has address 129.1.1.1, ifidx 0\n",
      "03/22 08:51:06 INFO   :...read_physical_netif: index #1, interface TR1 has address 9.37.65.139, ifidx 1\n",
      "03/22 08:51:06 INFO   :...read_physical_netif: index #2, interface LINK11 has address 9.67.100.1, ifidx 2\n",
      "03/22 08:51:06 INFO   :...read_physical_netif: index #3, interface LINK12 has address 9.67.101.1, ifidx 3\n",
      "03/22 08:51:06 INFO   :...read_physical_netif: index #4, interface CTCD0 has address 9.67.116.98, ifidx 4\n",
      "03/22 08:51:06 INFO   :...read_physical_netif: index #5, interface CTCD2 has address 9.67.117.98, ifidx 5\n",
      "03/22 08:51:06 INFO   :...read_physical_netif: index #6, interface LOOPBACK has address 127.0.0.1, ifidx 0\n",
      "03/22 08:51:06 INFO   :....mailslot_create: creating mailslot for timer\n",
      "03/22 08:51:06 INFO   :...mailbox_register: mailbox allocated for timer\n",
      "05\n",
      "03/22 08:51:06 INFO   :.....mailslot_create: creating mailslot for RSVP\n",
      "03/22 08:51:06 INFO   :....mailbox_register: mailbox allocated for rsvp\n",
      "03/22 08:51:06 INFO   :.....mailslot_create: creating mailslot for RSVP via UDP\n",
      "06\n",
      "03/22 08:51:06 WARNING:.....mailslot_create: setsockopt(MCAST_ADD) failed - EDC8116I Address not available.\n",
      "03/22 08:51:06 INFO   :....mailbox_register: mailbox allocated for rsvp-udp\n",
      "03/22 08:51:06 TRACE  :..entity_initialize: interface 129.1.1.1, entity for rsvp allocated and initialized\n",
      "03/22 08:51:06 INFO   :.....mailslot_create: creating mailslot for RSVP\n",
      "03/22 08:51:06 INFO   :....mailbox_register: mailbox allocated for rsvp\n",
      "03/22 08:51:06 INFO   :.....mailslot_create: creating mailslot for RSVP via UDP\n",
      "03/22 08:51:06 WARNING:.....mailslot_create: setsockopt(MCAST_ADD) failed - EDC8116I Address not available.\n",
      "03/22 08:51:06 INFO   :....mailbox_register: mailbox allocated for rsvp-udp\n",
      "03/22 08:51:06 TRACE  :..entity_initialize: interface 9.37.65.139, entity for rsvp allocated and\n",
      "initialized\n",
      "03/22 08:51:06 INFO   :.....mailslot_create: creating mailslot for RSVP\n",
      "03/22 08:51:06 INFO   :....mailbox_register: mailbox allocated for rsvp\n",
      "03/22 08:51:06 INFO   :.....mailslot_create: creating mailslot for RSVP via UDP\n",
      "03/22 08:51:06 WARNING:.....mailslot_create: setsockopt(MCAST_ADD) failed - EDC8116I Address not available.\n",
      "03/22 08:51:06 INFO   :....mailbox_register: mailbox allocated for rsvp-udp\n",
      "03/22 08:51:06 TRACE  :..entity_initialize: interface 9.67.100.1, entity for rsvp allocated and initialized\n",
      "03/22 08:51:06 INFO   :.....mailslot_create: creating mailslot for RSVP\n",
      "03/22 08:51:06 INFO   :....mailbox_register: mailbox allocated for rsvp\n",
      "03/22 08:51:06 INFO   :.....mailslot_create: creating mailslot for RSVP via UDP\n",
      "03/22 08:51:06 WARNING:.....mailslot_create: setsockopt(MCAST_ADD) failed - EDC8116I Address not available.\n",
      "03/22 08:51:06 INFO   :....mailbox_register: mailbox allocated for rsvp-udp\n",
      "03/22 08:51:06 TRACE  :..entity_initialize: interface 9.67.101.1, entity for rsvp allocated and initialized\n",
      "03/22 08:51:06 INFO   :.....mailslot_create: creating mailslot for RSVP\n",
      "03/22 08:51:06 INFO   :....mailbox_register: mailbox allocated for rsvp\n",
      "03/22 08:51:06 INFO   :.....mailslot_create: creating mailslot for RSVP via UDP\n",
      "03/22 08:51:06 INFO   :....mailbox_register: mailbox allocated for rsvp-udp\n",
      "03/22 08:51:06 TRACE  :..entity_initialize: interface 9.67.116.98, entity for rsvp allocated and\n",
      "initialized\n",
      "03/22 08:51:06 INFO   :.....mailslot_create: creating mailslot for RSVP\n",
      "03/22 08:51:06 INFO   :....mailbox_register: mailbox allocated for rsvp\n",
      "03/22 08:51:06 INFO   :.....mailslot_create: creating mailslot for RSVP via UDP\n",
      "03/22 08:51:06 INFO   :....mailbox_register: mailbox allocated for rsvp-udp\n",
      "03/22 08:51:06 TRACE  :..entity_initialize: interface 9.67.117.98, entity for rsvp allocated and\n",
      "initialized\n"
     ]
    }
   ],
   "source": [
    "def process_logs_with_yield(filename):\n",
    "    with open(filename, 'r') as file:\n",
    "        for line in file:\n",
    "            yield line.strip()\n",
    "\n",
    "# Usage\n",
    "log_generator = process_logs_with_yield(r'C:\\Users\\navee\\OneDrive\\Documents\\javeed\\python_interview_practice\\logs.txt')\n",
    "for i in  log_generator:\n",
    "    print(i)\n"
   ]
  },
  {
   "cell_type": "markdown",
   "id": "f42fc3f6-9d08-4e21-9326-72d338059a1e",
   "metadata": {},
   "source": [
    "### generate first 2 lettes string next 6 alphanumeric and last two alphabits"
   ]
  },
  {
   "cell_type": "code",
   "execution_count": 47,
   "id": "8547e86b-6316-4b74-b75f-bbb04327830b",
   "metadata": {},
   "outputs": [
    {
     "name": "stdout",
     "output_type": "stream",
     "text": [
      "io8fo4ndzk\n"
     ]
    }
   ],
   "source": [
    "import random\n",
    "import string\n",
    "\n",
    "c=[]\n",
    "for i in range(2):\n",
    "    res=random.choice(string.ascii_lowercase)\n",
    "    c.append(res)\n",
    "for i in range(0,6):\n",
    "    res1=random.choice(string.ascii_lowercase+string.digits)\n",
    "    c.append(res1)\n",
    "for i in range(2):\n",
    "    res2=random.choice(string.ascii_lowercase)\n",
    "    c.append(res2)\n",
    "output=\"\"\n",
    "for i in c:\n",
    "    output=output+str(i)\n",
    "print(output)"
   ]
  },
  {
   "cell_type": "markdown",
   "id": "b55bbf9e-5cf3-4d22-b4eb-db56e877bec3",
   "metadata": {},
   "source": [
    "### Python – Convert Tuple to Tuple Pair\n"
   ]
  },
  {
   "cell_type": "code",
   "execution_count": 30,
   "id": "2e39030b-75d2-44e4-a9ee-ceeca71be6ac",
   "metadata": {},
   "outputs": [
    {
     "data": {
      "text/plain": [
       "[('A', 'B'), ('A', 'C')]"
      ]
     },
     "execution_count": 30,
     "metadata": {},
     "output_type": "execute_result"
    }
   ],
   "source": [
    "\n",
    "input= (\"A\", \"B\", \"C\") \n",
    "#Output : [(‘A’, ‘B’), (‘A’, ‘C’)]\n",
    "output=[]\n",
    "\n",
    "a=input[0]\n",
    "for j in range(1,len(input)):\n",
    "    output.append((a,input[j]))\n",
    "\n",
    "output        \n",
    "        "
   ]
  },
  {
   "cell_type": "markdown",
   "id": "734f53ca-acfb-4a7b-b146-6c1bbfab20a2",
   "metadata": {},
   "source": [
    "### Split and and find operations "
   ]
  },
  {
   "cell_type": "code",
   "execution_count": 20,
   "id": "97eb90ae-3024-40b4-bea8-ca0c07e68c8b",
   "metadata": {},
   "outputs": [
    {
     "name": "stdout",
     "output_type": "stream",
     "text": [
      "Person Jhon weng is at position 'Product Engineer' and the id is 12345\n"
     ]
    }
   ],
   "source": [
    "input=\"Product Engineer:Jhon weng(12345)\"\n",
    "#output=person jhon weng is at position Execitive and is is 12345\n",
    "position=input.split(\":\")[0]\n",
    "n=input.split(\":\")[1]\n",
    "post=n.find(\"(\")\n",
    "name=n[0:post]\n",
    "id=n[post+1:-1]\n",
    "print(f\"Person {name} is at position '{position}' and the id is {id}\")\n"
   ]
  },
  {
   "cell_type": "markdown",
   "id": "35bc3808-1dc0-4729-a300-7723767a73d9",
   "metadata": {},
   "source": [
    "### print class name string objects"
   ]
  },
  {
   "cell_type": "code",
   "execution_count": 2,
   "id": "d20b4001-af33-4275-a075-8f34f1e840db",
   "metadata": {},
   "outputs": [
    {
     "name": "stdout",
     "output_type": "stream",
     "text": [
      "Class name is hello.My Name is javeed and my age is 29\n"
     ]
    }
   ],
   "source": [
    "class hello:\n",
    "    def __init__(self, name, age):\n",
    "        self.name = name\n",
    "        self.age = age\n",
    "    \n",
    "    \n",
    "    def __str__(self):\n",
    "        return f\"Class name is {self.__class__.__name__}.My Name is {self.name} and my age is {self.age}\"\n",
    "\n",
    "obj = hello(\"javeed\", 29)\n",
    "print(obj)\n"
   ]
  },
  {
   "cell_type": "markdown",
   "id": "ef24e9b5-00b2-4c6a-acc1-5d4a08857f61",
   "metadata": {},
   "source": [
    "### longest palindrome"
   ]
  },
  {
   "cell_type": "code",
   "execution_count": 10,
   "id": "0c1611c5-b51b-4c96-b516-725b9246b6c0",
   "metadata": {},
   "outputs": [
    {
     "data": {
      "text/plain": [
       "['bab', 'aba', 'ada', 'aa', 'aabbaa', 'abba', 'bb', 'aa']"
      ]
     },
     "execution_count": 10,
     "metadata": {},
     "output_type": "execute_result"
    }
   ],
   "source": [
    "s = \"babadaabbaa\"\n",
    "b=[]\n",
    "for i in range(len(s)):\n",
    "    a=s[i]\n",
    "    for j in range(i+1,len(s)):\n",
    "        a=a+s[j]\n",
    "        if a==a[::-1]:\n",
    "            b.append(a)\n",
    "        \n",
    "b\n",
    "\n"
   ]
  },
  {
   "cell_type": "markdown",
   "id": "ed209072-5ece-4dad-b2cc-d1e16e07371f",
   "metadata": {},
   "source": [
    "### binary to interger"
   ]
  },
  {
   "cell_type": "code",
   "execution_count": 58,
   "id": "e60fec5a-2d9c-4552-a53b-b6e14c969d96",
   "metadata": {},
   "outputs": [
    {
     "data": {
      "text/plain": [
       "12"
      ]
     },
     "execution_count": 58,
     "metadata": {},
     "output_type": "execute_result"
    }
   ],
   "source": [
    "a=12\n",
    "c=bin(a)\n",
    "c\n",
    "d=int(c,2)\n",
    "d"
   ]
  },
  {
   "cell_type": "markdown",
   "id": "72afe2b7-45f0-4721-84f6-55ac9863e099",
   "metadata": {},
   "source": [
    "### loc and iloc"
   ]
  },
  {
   "cell_type": "code",
   "execution_count": 4,
   "id": "cc953546-713d-4233-8300-c631523a0768",
   "metadata": {},
   "outputs": [
    {
     "data": {
      "text/html": [
       "<div>\n",
       "<style scoped>\n",
       "    .dataframe tbody tr th:only-of-type {\n",
       "        vertical-align: middle;\n",
       "    }\n",
       "\n",
       "    .dataframe tbody tr th {\n",
       "        vertical-align: top;\n",
       "    }\n",
       "\n",
       "    .dataframe thead th {\n",
       "        text-align: right;\n",
       "    }\n",
       "</style>\n",
       "<table border=\"1\" class=\"dataframe\">\n",
       "  <thead>\n",
       "    <tr style=\"text-align: right;\">\n",
       "      <th></th>\n",
       "      <th>Name</th>\n",
       "      <th>Age</th>\n",
       "      <th>Gender</th>\n",
       "      <th>City</th>\n",
       "    </tr>\n",
       "  </thead>\n",
       "  <tbody>\n",
       "    <tr>\n",
       "      <th>0</th>\n",
       "      <td>Alice</td>\n",
       "      <td>25</td>\n",
       "      <td>Female</td>\n",
       "      <td>New York</td>\n",
       "    </tr>\n",
       "    <tr>\n",
       "      <th>1</th>\n",
       "      <td>Bob</td>\n",
       "      <td>30</td>\n",
       "      <td>Male</td>\n",
       "      <td>Los Angeles</td>\n",
       "    </tr>\n",
       "    <tr>\n",
       "      <th>2</th>\n",
       "      <td>Charlie</td>\n",
       "      <td>35</td>\n",
       "      <td>Male</td>\n",
       "      <td>Chicago</td>\n",
       "    </tr>\n",
       "    <tr>\n",
       "      <th>3</th>\n",
       "      <td>David</td>\n",
       "      <td>40</td>\n",
       "      <td>Male</td>\n",
       "      <td>Houston</td>\n",
       "    </tr>\n",
       "    <tr>\n",
       "      <th>4</th>\n",
       "      <td>Emily</td>\n",
       "      <td>45</td>\n",
       "      <td>Female</td>\n",
       "      <td>Phoenix</td>\n",
       "    </tr>\n",
       "  </tbody>\n",
       "</table>\n",
       "</div>"
      ],
      "text/plain": [
       "      Name  Age  Gender         City\n",
       "0    Alice   25  Female     New York\n",
       "1      Bob   30    Male  Los Angeles\n",
       "2  Charlie   35    Male      Chicago\n",
       "3    David   40    Male      Houston\n",
       "4    Emily   45  Female      Phoenix"
      ]
     },
     "execution_count": 4,
     "metadata": {},
     "output_type": "execute_result"
    }
   ],
   "source": [
    "import pandas as pd\n",
    "\n",
    "# Creating a dictionary with sample data\n",
    "data = {\n",
    "    'Name': ['Alice', 'Bob', 'Charlie', 'David', 'Emily'],\n",
    "    'Age': [25, 30, 35, 40, 45],\n",
    "    'Gender': ['Female', 'Male', 'Male', 'Male', 'Female'],\n",
    "    'City': ['New York', 'Los Angeles', 'Chicago', 'Houston', 'Phoenix']\n",
    "}\n",
    "\n",
    "# Creating a DataFrame from the dictionary\n",
    "df = pd.DataFrame(data)\n",
    "\n",
    "# Displaying the DataFrame\n",
    "df"
   ]
  },
  {
   "cell_type": "code",
   "execution_count": 11,
   "id": "6497a8fa-4cfd-4042-a247-83e3b33279ef",
   "metadata": {},
   "outputs": [
    {
     "data": {
      "text/html": [
       "<div>\n",
       "<style scoped>\n",
       "    .dataframe tbody tr th:only-of-type {\n",
       "        vertical-align: middle;\n",
       "    }\n",
       "\n",
       "    .dataframe tbody tr th {\n",
       "        vertical-align: top;\n",
       "    }\n",
       "\n",
       "    .dataframe thead th {\n",
       "        text-align: right;\n",
       "    }\n",
       "</style>\n",
       "<table border=\"1\" class=\"dataframe\">\n",
       "  <thead>\n",
       "    <tr style=\"text-align: right;\">\n",
       "      <th></th>\n",
       "      <th>Name</th>\n",
       "      <th>Age</th>\n",
       "      <th>Gender</th>\n",
       "    </tr>\n",
       "  </thead>\n",
       "  <tbody>\n",
       "    <tr>\n",
       "      <th>0</th>\n",
       "      <td>Alice</td>\n",
       "      <td>25</td>\n",
       "      <td>Female</td>\n",
       "    </tr>\n",
       "    <tr>\n",
       "      <th>1</th>\n",
       "      <td>Bob</td>\n",
       "      <td>30</td>\n",
       "      <td>Male</td>\n",
       "    </tr>\n",
       "    <tr>\n",
       "      <th>2</th>\n",
       "      <td>Charlie</td>\n",
       "      <td>35</td>\n",
       "      <td>Male</td>\n",
       "    </tr>\n",
       "    <tr>\n",
       "      <th>3</th>\n",
       "      <td>David</td>\n",
       "      <td>40</td>\n",
       "      <td>Male</td>\n",
       "    </tr>\n",
       "  </tbody>\n",
       "</table>\n",
       "</div>"
      ],
      "text/plain": [
       "      Name  Age  Gender\n",
       "0    Alice   25  Female\n",
       "1      Bob   30    Male\n",
       "2  Charlie   35    Male\n",
       "3    David   40    Male"
      ]
     },
     "execution_count": 11,
     "metadata": {},
     "output_type": "execute_result"
    }
   ],
   "source": [
    "df.iloc[0:4,0:3]  # positional base indexing "
   ]
  },
  {
   "cell_type": "code",
   "execution_count": 12,
   "id": "5a412441-9573-465c-ac00-1a707ca5c306",
   "metadata": {},
   "outputs": [
    {
     "data": {
      "text/html": [
       "<div>\n",
       "<style scoped>\n",
       "    .dataframe tbody tr th:only-of-type {\n",
       "        vertical-align: middle;\n",
       "    }\n",
       "\n",
       "    .dataframe tbody tr th {\n",
       "        vertical-align: top;\n",
       "    }\n",
       "\n",
       "    .dataframe thead th {\n",
       "        text-align: right;\n",
       "    }\n",
       "</style>\n",
       "<table border=\"1\" class=\"dataframe\">\n",
       "  <thead>\n",
       "    <tr style=\"text-align: right;\">\n",
       "      <th></th>\n",
       "      <th>Name</th>\n",
       "      <th>Age</th>\n",
       "    </tr>\n",
       "  </thead>\n",
       "  <tbody>\n",
       "    <tr>\n",
       "      <th>0</th>\n",
       "      <td>Alice</td>\n",
       "      <td>25</td>\n",
       "    </tr>\n",
       "    <tr>\n",
       "      <th>1</th>\n",
       "      <td>Bob</td>\n",
       "      <td>30</td>\n",
       "    </tr>\n",
       "    <tr>\n",
       "      <th>2</th>\n",
       "      <td>Charlie</td>\n",
       "      <td>35</td>\n",
       "    </tr>\n",
       "    <tr>\n",
       "      <th>3</th>\n",
       "      <td>David</td>\n",
       "      <td>40</td>\n",
       "    </tr>\n",
       "  </tbody>\n",
       "</table>\n",
       "</div>"
      ],
      "text/plain": [
       "      Name  Age\n",
       "0    Alice   25\n",
       "1      Bob   30\n",
       "2  Charlie   35\n",
       "3    David   40"
      ]
     },
     "execution_count": 12,
     "metadata": {},
     "output_type": "execute_result"
    }
   ],
   "source": [
    "df.loc[0:3,[\"Name\",\"Age\"]]  # label base indexing"
   ]
  },
  {
   "cell_type": "markdown",
   "id": "5e403ee2-4c60-4d4d-8b08-c2f1c9f83ac2",
   "metadata": {},
   "source": [
    "### interview question "
   ]
  },
  {
   "cell_type": "code",
   "execution_count": 1,
   "id": "86c5f8d4-69e0-4dd6-aae4-91bd1fe25a4d",
   "metadata": {},
   "outputs": [
    {
     "name": "stdout",
     "output_type": "stream",
     "text": [
      "mY nAmE iS jAvEd\n"
     ]
    }
   ],
   "source": [
    "input_str = \"my name is javed\"\n",
    "output_str = \"\"\n",
    "c=input_str.split()\n",
    "res=[]\n",
    "for i in c:\n",
    "    d=\"\"\n",
    "    for i,j in enumerate(i):\n",
    "        if i%2==0:\n",
    "            d=d+j.lower()\n",
    "        else:\n",
    "            d=d+j.upper()\n",
    "    res.append(d)\n",
    "print(\" \".join(res))"
   ]
  },
  {
   "cell_type": "markdown",
   "id": "42b784c0-10bb-4973-a9fa-235f1e5b93ad",
   "metadata": {},
   "source": [
    "### interview question"
   ]
  },
  {
   "cell_type": "code",
   "execution_count": 1,
   "id": "6b647b29-bb61-4f7d-b7ad-7b234bb77a76",
   "metadata": {},
   "outputs": [
    {
     "name": "stdout",
     "output_type": "stream",
     "text": [
      "Class name is hello.My Name is javeed and my age is 29\n"
     ]
    }
   ],
   "source": [
    "class hello:\n",
    "    def __init__(self, name, age):\n",
    "        self.name = name\n",
    "        self.age = age\n",
    "    \n",
    "    \n",
    "    def __str__(self):\n",
    "        return f\"Class name is {self.__class__.__name__}.My Name is {self.name} and my age is {self.age}\"\n",
    "\n",
    "obj = hello(\"javeed\", 29)\n",
    "print(obj)"
   ]
  },
  {
   "cell_type": "markdown",
   "id": "e3d566c4-0dd5-408a-9640-4ebd60e9cbeb",
   "metadata": {},
   "source": [
    "### interview"
   ]
  },
  {
   "cell_type": "code",
   "execution_count": 14,
   "id": "d620bc24-ec33-4df5-8c2d-5ac082d7ae4c",
   "metadata": {},
   "outputs": [
    {
     "data": {
      "text/plain": [
       "'aAbcbd'"
      ]
     },
     "execution_count": 14,
     "metadata": {},
     "output_type": "execute_result"
    }
   ],
   "source": [
    "a=\"aaaAAbbcccbd\"\n",
    "b=\"\"\n",
    "for i in range(len(a)):\n",
    "    if i==len(a)-1 or a[i]!=a[i+1]:\n",
    "             b=b+a[i]\n",
    "b"
   ]
  },
  {
   "cell_type": "markdown",
   "id": "00c48672-675b-4816-be43-db74f1b2723f",
   "metadata": {},
   "source": [
    "### longest palindrome"
   ]
  },
  {
   "cell_type": "code",
   "execution_count": 1,
   "id": "6d89824b-a33f-4e8a-9c9a-5fc4229f47cd",
   "metadata": {},
   "outputs": [
    {
     "name": "stdout",
     "output_type": "stream",
     "text": [
      "aabbaa\n"
     ]
    }
   ],
   "source": [
    "s = \"aaaabbaa\"\n",
    "#Output: aabbaa\n",
    "c=[]\n",
    "for i in range(len(s)):\n",
    "    temp=s[i]\n",
    "    for j in range(i+1,len(s)):\n",
    "        temp=temp+s[j]\n",
    "        if temp==temp[::-1]:\n",
    "            c.append(temp)\n",
    "\n",
    "d={i:len(i) for i in c}\n",
    "print(max(d,key=d.get))\n",
    "        \n",
    "        \n",
    "        "
   ]
  },
  {
   "cell_type": "markdown",
   "id": "5aabcf09-0408-49e9-b0b7-274fe7a4f9ff",
   "metadata": {},
   "source": [
    "### all the possible substrings"
   ]
  },
  {
   "cell_type": "code",
   "execution_count": 45,
   "id": "9796dbde-4735-4c8b-a047-14547b146d48",
   "metadata": {},
   "outputs": [
    {
     "name": "stdout",
     "output_type": "stream",
     "text": [
      "a\n",
      "ab\n",
      "abc\n",
      "abcd\n",
      "b\n",
      "bc\n",
      "bcd\n",
      "c\n",
      "cd\n",
      "d\n"
     ]
    }
   ],
   "source": [
    "new=\"abcd\"\n",
    "b=[]\n",
    "for i in range(len(new)):\n",
    "    for j in range(i+1,len(new)+1):\n",
    "        print(new[i:j])\n",
    "        \n",
    "        \n"
   ]
  },
  {
   "cell_type": "markdown",
   "id": "cddc6540-8256-412e-8246-d8dcecb0688f",
   "metadata": {},
   "source": [
    "### interview"
   ]
  },
  {
   "cell_type": "code",
   "execution_count": 1,
   "id": "bd513e64-9b3b-493e-98ff-bf0d4393b1b2",
   "metadata": {},
   "outputs": [
    {
     "name": "stdout",
     "output_type": "stream",
     "text": [
      "mjaveed1.its\n",
      "gmail.com\n",
      "m**********s@gmail.com\n"
     ]
    }
   ],
   "source": [
    "a=\"mjaveed1.its@gmail.com\"\n",
    "initial=a.split(\"@\")[0]\n",
    "domain=a.split(\"@\")[1]\n",
    "print(initial)\n",
    "print(domain)\n",
    "print(initial[0]+(len(initial)-2)*(\"*\")+initial[-1]+\"@\"+domain)"
   ]
  },
  {
   "cell_type": "markdown",
   "id": "667a4262-6fc5-455d-965b-040efe5a8426",
   "metadata": {},
   "source": [
    "### interview question delete last elemnet in dict without uing inbuild method "
   ]
  },
  {
   "cell_type": "code",
   "execution_count": null,
   "id": "8f6a0913-f861-434b-a277-f353ee1f6e1a",
   "metadata": {},
   "outputs": [],
   "source": [
    "a={\"name\":\"javeed\",\"age\":23,\"area\":\"hyd\",\"job\":\"sales\"}\n",
    "b=list(a.keys())\n",
    "c={}\n",
    "for i in range(len(b)-1):\n",
    "    key=b[i]\n",
    "    c[key]=a[key]\n",
    "    print(c)"
   ]
  },
  {
   "cell_type": "markdown",
   "id": "6cf454b9-bccb-444d-8973-b7f689b4f810",
   "metadata": {},
   "source": [
    "### diff between \"__str__\" and \"__repr__\""
   ]
  },
  {
   "cell_type": "code",
   "execution_count": 15,
   "id": "73b10302-421f-44a4-8e97-9e60b1d759d1",
   "metadata": {},
   "outputs": [
    {
     "name": "stdout",
     "output_type": "stream",
     "text": [
      "javed,10\n"
     ]
    }
   ],
   "source": [
    "class hello:\n",
    "    def __init__(self,name,age):\n",
    "        self.name=name\n",
    "        self.age=age\n",
    "    def __str__(self):\n",
    "        return f\"{self.name},{self.age}\"\n",
    "    def __repr__(self):\n",
    "        pass\n",
    "obj=hello(\"javed\",10)  #individual object nneded to be  displayed then _str_ is used \n",
    "print(obj)"
   ]
  },
  {
   "cell_type": "code",
   "execution_count": 18,
   "id": "5a481fc9-7c51-4637-a318-a67d6f029ef1",
   "metadata": {},
   "outputs": [
    {
     "name": "stdout",
     "output_type": "stream",
     "text": [
      "[javed,10, ram,22]\n"
     ]
    }
   ],
   "source": [
    "class hello:\n",
    "    def __init__(self,name,age):\n",
    "        self.name=name\n",
    "        self.age=age\n",
    "    def __str__(self):\n",
    "        return f\"{self.name},{self.age}\"\n",
    "    def __repr__(self):\n",
    "        return f\"{self.name},{self.age}\"\n",
    "obj=[hello(\"javed\",10),\n",
    "     hello(\"ram\",22)]   #group of individual objects need to be displayed then use __repr__\n",
    "print(obj)\n",
    "#by default preference is sgiven to __str__"
   ]
  },
  {
   "cell_type": "markdown",
   "id": "c5478313-2def-46b6-b601-f8556e4c9228",
   "metadata": {},
   "source": [
    "### exception propagation"
   ]
  },
  {
   "cell_type": "raw",
   "id": "21998b52-8f69-4d09-9639-6fe795729a81",
   "metadata": {},
   "source": [
    "Exception Propagation:Imagine you have a series of functions calling each other, like a chain. When an exception occurs within one function,\n",
    "Python looks to see if that function has a plan to handle the exception. If it does, Python executes that plan, \n",
    "and the program continues running smoothly."
   ]
  },
  {
   "cell_type": "code",
   "execution_count": 17,
   "id": "f825ba22-3e3f-4488-b79c-cafded625817",
   "metadata": {},
   "outputs": [
    {
     "name": "stdout",
     "output_type": "stream",
     "text": [
      "1.0\n",
      "end\n"
     ]
    }
   ],
   "source": [
    "def fun1(x,y):\n",
    "    try:\n",
    "        res=x/y\n",
    "        return res\n",
    "    except ZeroDivisionError:\n",
    "        print(\"Error: Cannot divide by zero!\")\n",
    "    \n",
    "def fun2(x,y):\n",
    "    try:\n",
    "        out=fun1(x,y)\n",
    "        print(out)\n",
    "        print(\"end\")\n",
    "    except ZeroDivisionError:\n",
    "        print(\"Error: Cannot divide by zeros!\")\n",
    "fun2(10,10)\n"
   ]
  },
  {
   "cell_type": "raw",
   "id": "67693f2e-72f7-4672-ac35-d31756e105b1",
   "metadata": {},
   "source": [
    "multiprocessing and multithreading are techniques used in Python to achieve concurrent execution of tasks, speeding up computation for CPU-bound and I/O-bound tasks, respectively. \n",
    "Multiprocessing involves running multiple processes concurrently, each with its own memory space, while multithreading involves running multiple threads within a single process, sharing memory spac"
   ]
  },
  {
   "cell_type": "markdown",
   "id": "d369f94b-d4c9-40ee-9b20-cad8dbd0efd5",
   "metadata": {},
   "source": [
    "### find the largest and smaller word from teh given string \n",
    "    "
   ]
  },
  {
   "cell_type": "code",
   "execution_count": 13,
   "id": "42b0f314-f8b4-46e0-aeb1-283d102fd3b1",
   "metadata": {},
   "outputs": [
    {
     "name": "stdout",
     "output_type": "stream",
     "text": [
      "{5: 'world', 4: 'this', 2: 'is', 9: 'artficial', 12: 'intelligence'}\n",
      "largest word in given string is 'intelligence'\n",
      "smallest word in given string is 'is'\n"
     ]
    }
   ],
   "source": [
    "a=\"hello world this is artficial intelligence\"\n",
    "def large_small(a:str):\n",
    "    sp=a.split()\n",
    "    b={len(i):i for i in sp}\n",
    "    print(b)\n",
    "    largest=max(b.keys())\n",
    "    smallest=min(b.keys())\n",
    "    print(f\"largest word in given string is '{b[largest]}'\")\n",
    "    print(f\"smallest word in given string is '{b[smallest]}'\")\n",
    "a=\"hello world this is artficial intelligence\"\n",
    "large_small(a)"
   ]
  },
  {
   "cell_type": "markdown",
   "id": "a4367b6f-1c3f-4346-9960-102f5265f843",
   "metadata": {},
   "source": [
    "### word pattern"
   ]
  },
  {
   "cell_type": "code",
   "execution_count": 3,
   "id": "4601f2f8-f1ad-4b12-8389-9077bb01c23b",
   "metadata": {},
   "outputs": [
    {
     "name": "stdout",
     "output_type": "stream",
     "text": [
      "True\n"
     ]
    }
   ],
   "source": [
    "def word_pattern(s, p):\n",
    "    r = p.split()\n",
    "    d = {}\n",
    "    if len(s) != len(r):\n",
    "        return False\n",
    "    for i in range(len(s)):\n",
    "        if s[i] not in d:\n",
    "            d[s[i]] = r[i]\n",
    "        elif d[s[i]] != r[i]:\n",
    "            return False\n",
    "            \n",
    "    values = list(d.values())\n",
    "    return len(set(values)) == len(values)\n",
    "\n",
    "s = \"abba\"\n",
    "p = \"dog cat cat dog\"  #\"dog dog dog dog\"\n",
    "print(word_pattern(s, p))\n"
   ]
  },
  {
   "cell_type": "markdown",
   "id": "207add39-7fa0-481e-bef1-9a5eac7c39f0",
   "metadata": {},
   "source": [
    "### interview question sort two list and merge "
   ]
  },
  {
   "cell_type": "code",
   "execution_count": 6,
   "id": "d25496b6-53d8-4384-92da-e2b173cf63a2",
   "metadata": {},
   "outputs": [
    {
     "name": "stdout",
     "output_type": "stream",
     "text": [
      "[1, 5, 7, 9, 10]\n",
      "[2, 3, 4, 6, 8]\n"
     ]
    },
    {
     "data": {
      "text/plain": [
       "[1, 2, 3, 4, 5, 6, 7, 8, 9, 10]"
      ]
     },
     "execution_count": 6,
     "metadata": {},
     "output_type": "execute_result"
    }
   ],
   "source": [
    "a=[7,5,1,10,9]\n",
    "b=[3,8,2,6,4]\n",
    "for i in range(len(a)):\n",
    "    for j in range(len(a)-1):\n",
    "        if a[j]>a[j+1]:\n",
    "            a[j],a[j+1]=a[j+1],a[j]\n",
    "for i in range(len(b)):\n",
    "    for j in range(len(b)-1):\n",
    "        if b[j]>b[j+1]:\n",
    "            b[j],b[j+1]=b[j+1],b[j]\n",
    "print(a)\n",
    "print(b)\n",
    "s=[]\n",
    "while a and b :\n",
    "    if a[0]<b[0]:\n",
    "        s.append(a.pop(0))\n",
    "    else:\n",
    "        s.append(b.pop(0))\n",
    "\n",
    "s.extend(a)\n",
    "s.extend(b)\n",
    "s"
   ]
  },
  {
   "cell_type": "markdown",
   "id": "6e97197d-c692-4bf0-8b05-b3c471b5a02f",
   "metadata": {},
   "source": [
    "### interview question place the n value in list in corrrect order"
   ]
  },
  {
   "cell_type": "code",
   "execution_count": 36,
   "id": "4eb2df1e-6d15-4579-8179-495a424c4fe3",
   "metadata": {},
   "outputs": [
    {
     "data": {
      "text/plain": [
       "[3, 6, 7, 8, 12, 15]"
      ]
     },
     "execution_count": 36,
     "metadata": {},
     "output_type": "execute_result"
    }
   ],
   "source": [
    "arr=[3,6,8,12,15]\n",
    "n=7\n",
    "index=0\n",
    "for i,value in enumerate(arr):\n",
    "    if value<n:\n",
    "        index=index+1\n",
    "    else:\n",
    "        break\n",
    "arr.insert(index,n)\n",
    "arr"
   ]
  },
  {
   "cell_type": "markdown",
   "id": "caa78bfc-4f1f-447b-834a-2a8e83cb775b",
   "metadata": {},
   "source": [
    "### interview"
   ]
  },
  {
   "cell_type": "code",
   "execution_count": 3,
   "id": "ddc1f6b2-b397-4a58-932e-bf4fd92ac2ff",
   "metadata": {},
   "outputs": [
    {
     "name": "stdout",
     "output_type": "stream",
     "text": [
      "3\n"
     ]
    },
    {
     "data": {
      "text/plain": [
       "4"
      ]
     },
     "execution_count": 3,
     "metadata": {},
     "output_type": "execute_result"
    }
   ],
   "source": [
    "def max_positive(num_list):\n",
    "  max_num=max(num_list)\n",
    "  print(max_num)\n",
    "  if max_num<=0:\n",
    "    return 1\n",
    "  else:\n",
    "    return max_num+1\n",
    "\n",
    "input_list=[-1,3,-5,0,2,1]\n",
    "max_positive(input_list)"
   ]
  },
  {
   "cell_type": "markdown",
   "id": "7516e85d-01c3-40f1-9fc1-dcbbbe5c9f6d",
   "metadata": {},
   "source": [
    "### interview"
   ]
  },
  {
   "cell_type": "code",
   "execution_count": 4,
   "id": "24a13b75-2d91-4b96-8948-84ea29390757",
   "metadata": {},
   "outputs": [
    {
     "name": "stdout",
     "output_type": "stream",
     "text": [
      "lmpu\n",
      "aet\n",
      "em\n",
      "aet\n",
      "em\n",
      "lmpu\n"
     ]
    },
    {
     "data": {
      "text/plain": [
       "[['lump', 'plum'], ['eat', 'tea'], ['me', 'em']]"
      ]
     },
     "execution_count": 4,
     "metadata": {},
     "output_type": "execute_result"
    }
   ],
   "source": [
    "words = ['lump', 'eat',  'me',  'tea', 'em', 'plum']\n",
    "#[['lump', 'plum'], ['eat', 'tea'], ['me', 'em']]\n",
    "b=[]\n",
    "for i in range(len(words)):\n",
    "    t=\"\".join(sorted(words[i]))\n",
    "    print(t)\n",
    "    for j in range(i+1,len(words)):\n",
    "        m=\"\".join(sorted(words[j]))\n",
    "        if t==m:\n",
    "            b.append([words[i],words[j]])\n",
    "b\n"
   ]
  },
  {
   "cell_type": "code",
   "execution_count": 43,
   "id": "e23078af-7c08-4ff5-8bec-33728fdd28ca",
   "metadata": {},
   "outputs": [
    {
     "data": {
      "text/plain": [
       "{(3, 5, 12),\n",
       " (3, 12, 5),\n",
       " (4, 5, 9),\n",
       " (4, 9, 5),\n",
       " (5, 3, 12),\n",
       " (5, 4, 9),\n",
       " (5, 9, 4),\n",
       " (5, 12, 3),\n",
       " (9, 4, 5),\n",
       " (9, 5, 4),\n",
       " (12, 3, 5),\n",
       " (12, 5, 3)}"
      ]
     },
     "execution_count": 43,
     "metadata": {},
     "output_type": "execute_result"
    }
   ],
   "source": [
    "l = [12,3,27,5,4,9,4]\n",
    "result = 180\n",
    "b=set()\n",
    "for i in l:\n",
    "  for j in l:\n",
    "    for k in l:\n",
    "       if i*j*k == result:\n",
    "          b.add((i,j,k))\n",
    "b\n"
   ]
  },
  {
   "cell_type": "markdown",
   "id": "8f7443c4-c7b8-4f08-b5f0-8263f4a6d3b0",
   "metadata": {},
   "source": [
    "#### given a sentence  for every word remove these suffix [\"ts\",\"ed\",\"ing\"] from end \n",
    "#### if encountered and if a word>8 then keep only the first 8 alphabits"
   ]
  },
  {
   "cell_type": "code",
   "execution_count": 25,
   "id": "9b9866cd-add2-479b-b173-a0f81fb6afb9",
   "metadata": {},
   "outputs": [
    {
     "data": {
      "text/plain": [
       "['le', 'take', 'consecut', 'sea']"
      ]
     },
     "execution_count": 25,
     "metadata": {},
     "output_type": "execute_result"
    }
   ],
   "source": [
    "new = \"lets take consecutive seats\"\n",
    "suffixes = [\"ts\", \"ed\", \"ing\"]\n",
    "result = []\n",
    "\n",
    "words = new.split()\n",
    "for word in words:\n",
    "    if len(word) < 8:\n",
    "        for suffix in suffixes:\n",
    "            if word.endswith(suffix):\n",
    "                cut_length = len(word) - len(suffix)\n",
    "                result.append(word[:cut_length])\n",
    "                break\n",
    "        else:\n",
    "            result.append(word)  \n",
    "    else:\n",
    "        result.append(word[:8]) \n",
    "\n",
    "result\n"
   ]
  },
  {
   "cell_type": "markdown",
   "id": "f17704ad-97ed-4b48-9f1f-659d103e753b",
   "metadata": {},
   "source": [
    "### flatten the list"
   ]
  },
  {
   "cell_type": "code",
   "execution_count": 1,
   "id": "6895f866-012f-430d-ba4e-2bed54939e55",
   "metadata": {},
   "outputs": [
    {
     "data": {
      "text/plain": [
       "[1, 2, 4, 5, 7, 3, 4]"
      ]
     },
     "execution_count": 1,
     "metadata": {},
     "output_type": "execute_result"
    }
   ],
   "source": [
    "b = [1, [2, 4, [5, 7, [3, 4]]]]\n",
    "flatten=[]\n",
    "def flattened(lst):\n",
    "    for i in lst:\n",
    "        if type(i)==list:\n",
    "            flattened(i)\n",
    "        else:\n",
    "            flatten.append(i)\n",
    "    return flatten\n",
    "b = [1, [2, 4, [5, 7, [3, 4]]]]\n",
    "flattened(b)"
   ]
  },
  {
   "cell_type": "markdown",
   "id": "6dbcb0fd-a8a2-4e30-a2d2-524764cebe68",
   "metadata": {},
   "source": [
    "### interview:instant method class method and static method "
   ]
  },
  {
   "cell_type": "code",
   "execution_count": 6,
   "id": "f4a9a609-f6b0-43c4-8d2c-27085afef8c0",
   "metadata": {},
   "outputs": [
    {
     "name": "stdout",
     "output_type": "stream",
     "text": [
      "javed.last@gmail.com\n",
      "this is static method\n",
      "india\n"
     ]
    }
   ],
   "source": [
    "class hello:\n",
    "    domain=\"youtube\"  #------------------>class variable \n",
    "    def __init__(self,first,last):\n",
    "        self.first=first\n",
    "        self.last=last\n",
    "    def info(self): #------------>instant method \n",
    "        return f\"{self.first}.last@{hello.domain}.com\"\n",
    "    @staticmethod  #-------------->staticmethod\n",
    "    def new_domain(cls,newdomain):\n",
    "        cls.domin=newdomain\n",
    "    @staticmethod\n",
    "    def static_demo():    #----------------->staticmethod\n",
    "        return \"this is static method\"  \n",
    "    @property         #-------------------->property decorator \n",
    "    def sample(self):\n",
    "        return \"india\"\n",
    "\n",
    "e=hello(\"javed\",\"abdul\")\n",
    "hello.domain=\"gmail\"\n",
    "print(e.info())\n",
    "print(e.static_demo())\n",
    "print(e.sample)  #when you add property method that will act as an attribute instead of method"
   ]
  },
  {
   "cell_type": "markdown",
   "id": "94a50750-d2d3-4fa5-ac68-0db81943921a",
   "metadata": {},
   "source": [
    "### interview question"
   ]
  },
  {
   "cell_type": "code",
   "execution_count": 3,
   "id": "bc15c31a-be09-434c-9e5d-637164e267ba",
   "metadata": {},
   "outputs": [
    {
     "data": {
      "text/plain": [
       "'sample_18:54:57.csv'"
      ]
     },
     "execution_count": 3,
     "metadata": {},
     "output_type": "execute_result"
    }
   ],
   "source": [
    "import datetime\n",
    "c=datetime.datetime.now()\n",
    "file_name=\"sample\"\n",
    "file_name+\"_\"+c.strftime(\"%H:%M:%S\")+\".csv\""
   ]
  },
  {
   "cell_type": "markdown",
   "id": "7e624b63-a50e-4e02-8a8d-8cce14db010b",
   "metadata": {},
   "source": [
    "### interview concat both string and 3 index with \"X\""
   ]
  },
  {
   "cell_type": "code",
   "execution_count": 6,
   "id": "e43e09ed-0e51-4bc6-bd62-8ffa05ead284",
   "metadata": {},
   "outputs": [
    {
     "name": "stdout",
     "output_type": "stream",
     "text": [
      "sannasad728g15bf\n"
     ]
    },
    {
     "data": {
      "text/plain": [
       "'saXnaXadX28X15Xf'"
      ]
     },
     "execution_count": 6,
     "metadata": {},
     "output_type": "execute_result"
    }
   ],
   "source": [
    "c=\"sannas\"\n",
    "z=\"ad728g15bf\"\n",
    "t =c+z\n",
    "print(t)\n",
    "f=\"\"\n",
    "for i in range(len(t)):\n",
    "    if (i+1)%3==0:\n",
    "        f=f+\"X\"\n",
    "    else:\n",
    "        f=f+t[i]\n",
    "f"
   ]
  },
  {
   "cell_type": "code",
   "execution_count": 19,
   "id": "b9613600-819d-498f-b6d4-9d5703345861",
   "metadata": {},
   "outputs": [
    {
     "name": "stdout",
     "output_type": "stream",
     "text": [
      "[1, 2, 3, 4]\n",
      "10\n"
     ]
    }
   ],
   "source": [
    "def main(fun):\n",
    "    def sub(*args):\n",
    "        print(fun(*args))\n",
    "        a=fun(*args)\n",
    "        print(sum(a))\n",
    "    return sub\n",
    "@main\n",
    "def hello(s):\n",
    "    return s\n",
    "hello([1,2,3,4])"
   ]
  },
  {
   "cell_type": "code",
   "execution_count": null,
   "id": "b1eba54b-0c82-41e0-9d62-5f3ba77a8a08",
   "metadata": {},
   "outputs": [],
   "source": []
  },
  {
   "cell_type": "code",
   "execution_count": null,
   "id": "d780917f-1234-4027-9f96-36df48d4e5e5",
   "metadata": {},
   "outputs": [],
   "source": []
  }
 ],
 "metadata": {
  "kernelspec": {
   "display_name": "Python 3 (ipykernel)",
   "language": "python",
   "name": "python3"
  },
  "language_info": {
   "codemirror_mode": {
    "name": "ipython",
    "version": 3
   },
   "file_extension": ".py",
   "mimetype": "text/x-python",
   "name": "python",
   "nbconvert_exporter": "python",
   "pygments_lexer": "ipython3",
   "version": "3.10.11"
  }
 },
 "nbformat": 4,
 "nbformat_minor": 5
}
